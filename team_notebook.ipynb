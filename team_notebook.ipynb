{
 "cells": [
  {
   "cell_type": "markdown",
   "metadata": {},
   "source": [
    "Please first run:\n",
    "\n",
    "%make install\n",
    "\n",
    "in a terminal in this directory, and configure your runtime (VSCode, datahub, etc) to use the resultant virtual Python environment, or else uncomment the lines in the following cell"
   ]
  },
  {
   "cell_type": "code",
   "execution_count": 15,
   "metadata": {},
   "outputs": [],
   "source": [
    "# pip install -r requirements.txt"
   ]
  },
  {
   "cell_type": "code",
   "execution_count": 16,
   "metadata": {},
   "outputs": [],
   "source": [
    "# API key for Gov; substitute your own!\n",
    "apikey = \"rfaOy1m0PNZUGET08nKJvgbOrtpJaP86d8yt6RYh\""
   ]
  },
  {
   "cell_type": "code",
   "execution_count": 17,
   "metadata": {},
   "outputs": [],
   "source": [
    "import sys\n",
    "sys.path.append('./src')\n",
    "from team_harriette_chick import getPrices\n",
    "import pandas as pd"
   ]
  },
  {
   "cell_type": "code",
   "execution_count": 18,
   "metadata": {},
   "outputs": [],
   "source": [
    "# from eep153_tools.sheets import read_sheets\n",
    "import pandas as pd\n",
    "import pickle\n",
    "\n",
    "DRIs = None\n",
    "with open('data/diet.pickle', 'rb') as fp:\n",
    "    DRIs = pickle.load(fp)\n",
    "\n",
    "# Define *minimums*\n",
    "diet_min = DRIs['diet_minimums'].set_index('Nutrition')\n",
    "\n",
    "diet_max = DRIs['diet_maximums'].set_index('Nutrition')\n"
   ]
  },
  {
   "cell_type": "code",
   "execution_count": 19,
   "metadata": {},
   "outputs": [
    {
     "name": "stdout",
     "output_type": "stream",
     "text": [
      "count: 1 CHEESE CHED WHT SHRED BAG-6/5 LB\n",
      "count: 2 CHEESE PROCESS YEL SLC LVS-6/5 LB\n",
      "count: 3 CHEESE MOZ LM PART SKM SHRD FRZ BOX-30LB\n",
      "count: 4 CHEESE MOZ LM PART SKIM FRZ LVS-8/6 LB\n",
      "count: 5 EGGS WHOLE FRZ CTN-6/5 LB\n",
      "count: 6 EGGS WHOLE LIQ BULK -TANK\n",
      "count: 7 CHICKEN LEGS CHILLED -BULK\n",
      "count: 8 CHICKEN FAJITA STRIPS CTN-30 LB\n",
      "count: 9 TURKEY BREAST DELI FRZ CTN-40 LB\n",
      "count: 10 TURKEY BREAST SMKD DELI FRZ CTN-40 LB\n",
      "count: 11 TURKEY ROASTS FRZ CTN-32-48 LB\n",
      "count: 12 TURKEY HAMS SMKD FRZ CTN-40 LB\n",
      "count: 13 BEEF CAN-24/24 OZ\n",
      "count: 14 BEEF CRUMBLES W/SPP PKG-4/10 LB\n",
      "count: 15 PORK CAN-24/24 OZ\n",
      "count: 16 BEEF COARSE GROUND FRZ CTN-60 LB\n",
      "count: 17 BEEF FINE GROUND FRZ CTN-40 LB\n",
      "count: 18 BEEF PATTY LEAN FRZ CTN-40 LB\n",
      "count: 19 PORK ROAST LEG FRZ CTN-32-40 LB\n",
      "count: 20 PORK HAM WATERAD SLC FRZ PKG-8/5 LB\n",
      "count: 21 PORK PICNIC BNLS FRZ CTN-60 LB\n",
      "count: 22 CATFISH STRIPS BRD OVN RDY PKG-4/10 LB\n",
      "count: 23 APPLE SLICES CAN-6/10\n",
      "count: 24 MIXED FRUIT EX LT CAN-6/10\n",
      "count: 25 APRICOTS DICED PEELED EX LT CAN-6/10\n",
      "count: 26 PEACHES CLING SLICES EX LT CAN-6/10\n",
      "count: 27 PEACHES CLING DICED EX LT  CAN-6/10\n",
      "count: 28 PEARS SLICES EX LT CAN-6/10\n",
      "count: 29 PEARS DICED EX LT CAN-6/10\n",
      "count: 30 PEARS HALVES EX LT CAN-6/10\n",
      "count: 31 PEACHES FREESTONE SLICES FRZ CTN-12/2 LB\n",
      "count: 32 PEACH FREESTONE DICED FRZ CUP-96/4.4 OZ\n",
      "count: 33 BLUEBERRY WILD FRZ CTN-8/3 LB\n",
      "count: 34 STRAWBERRY SLICES FRZ CTN-30 LB\n",
      "count: 35 STRAWBERRY FRZ CUP-96/4.5 OZ\n",
      "count: 36 APPLE SLICES FRZ CTN-30 LB\n",
      "count: 37 APRICOT FRZ CUP-96/4.5 OZ\n",
      "count: 38 ORANGE JUICE SINGLE CTN-70/4 OZ\n",
      "count: 39 RAISINS BOX-144/1.33 OZ\n",
      "count: 40 CHERRIES DRIED PKG-4/4 LB\n",
      "count: 41 BEANS GREEN CAN-6/10\n",
      "count: 42 CORN WHOLE KERNEL(LIQ) CAN-6/10\n",
      "count: 43 PEAS CAN-6/10\n",
      "count: 44 SWEET POTATOES W/ SYRUP CAN-6/10\n",
      "count: 45 TOMATO PASTE CAN-6/10\n",
      "count: 46 TOMATO DICED CAN-6/10\n",
      "count: 47 TOMATO SALSA CAN-6/10\n",
      "count: 48 TOMATO SAUCE CAN-6/10\n",
      "count: 49 SPAGHETTI SAUCE MEATLESS CAN-6/10\n",
      "count: 50 CORN FRZ CTN-30 LB\n",
      "count: 51 PEAS GREEN FRZ CTN-30 LB\n",
      "count: 52 BEANS GREEN FRZ CTN-30 LB\n",
      "count: 53 CARROTS FRZ CTN-30 LB\n",
      "count: 54 POTATOES WEDGE FRZ PKG-6/5 LB\n",
      "count: 55 POTATOES OVENS FRY PKG-6/5 LB\n",
      "count: 56 BEANS BLACK TURTLE CAN-6/10\n",
      "count: 57 BEANS GARBANZO CAN-6/10\n",
      "count: 58 BEANS REFRIED CAN-6/10\n",
      "count: 59 BEANS VEGETARIAN CAN-6/10\n",
      "count: 60 BEANS PINTO CAN-6/10\n",
      "count: 61 BEANS SMALL RED CAN-6/10\n",
      "count: 62 BEANS BLACKEYE CAN-6/10\n",
      "count: 63 BEANS PINK CAN-6/10\n",
      "count: 64 BEANS RED KIDNEY CAN-6/10\n",
      "count: 65 BEANS BABY LIMA CAN-6/10\n"
     ]
    },
    {
     "name": "stdout",
     "output_type": "stream",
     "text": [
      "count: 66 BEANS GREAT NORTHERN CAN-6/10\n",
      "count: 67 BEANS PINTO DRY PKG-12/2 LB\n",
      "count: 68 PEANUT BUTTER SMOOTH JAR-6/5 LB\n",
      "count: 69 FLOUR ALL PURP ENRCH BLCH BAG-8/5 LB\n",
      "count: 70 FLOUR WHOLE WHEAT BAG-50 LB\n",
      "count: 71 FLOUR BAKER HARD WHT BLCH-BULK\n",
      "count: 72 FLOUR BAKER HARD WHT UNBLCH-BULK\n",
      "count: 73 PASTA SPAGHETTI CTN-20 LB\n",
      "count: 74 OIL VEGETABLE BTL-6/1 GAL\n",
      "count: 75 OATS ROLLED TUBE-12/42 OZ\n",
      "count: 76 RICE US#1 LONG GRAIN PARBOILED BAG-25 LB\n",
      "count: 77 RICE BRN US#1 LONG PARBOILED PKG-24/2 LB\n",
      "count: 78 APPLES RED DELICIOUS FRESH CTN-40 LB\n",
      "count: 79 MILK 1% MILKFAT UHT 2640 BOX-27/8 FL OZ\n",
      "count: 80 CHICKEN BONED CAN-12/50 OZ\n",
      "count: 81 FLOUR BREAD-BULK\n",
      "count: 82 SUNFLOWER SEED BUTTER 6-5#'S\n",
      "count: 83 RICE BRN US#1 LONG PARBOILED BAG-25 LB\n",
      "count: 84 K APPLESAUCE CAN-6/10\n",
      "count: 85 K PEACHES CLING CAN-6/10\n",
      "count: 86 K CORN WHOLE KERNEL(LIQ) CAN-6/10\n",
      "count: 87 K BEANS GREAT NORTHERN DRY BAG-25 LB\n",
      "count: 88 K SUNFLOWER SEED BUTTER 6-5#'S\n",
      "count: 89 CHICKEN OVEN ROASTED FRZ 8 PC CTN-30 LB\n",
      "count: 90 K TOMATO SAUCE CAN-6/10\n",
      "count: 91 FRUIT MIX DRIED PKG-5/5 LB\n",
      "count: 92 SPAGHETTI SAUCE MEATLESS POUCH-6/106 OZ\n",
      "count: 93 TOMATO SALSA POUCH-6/106 OZ\n",
      "count: 94 TOMATO SAUCE POUCH-6/106 OZ\n",
      "count: 95 FLOUR WHITE WHOLE WHEAT BLEND BAG-25 LB\n",
      "count: 96 POTATO FOR PROCESS INTO DEHY PRD-BULK\n",
      "count: 97 CHEESE NAT AMER FBD BARREL-500 LB(40800)\n",
      "count: 98 CHEESE MOZ LM PT SKM UNFZ PROC PK(41125)\n",
      "count: 99 CHEESE CHED WHT BLOCK-40 LB (40800)\n",
      "count: 100 BEEF 100% PTY 85/15 FRZ 2.0MMA CTN-40 LB\n",
      "count: 101 APPLESAUCE CUP-96/4.5\n",
      "count: 102 BEANS PINTO DRY TOTE-2000 LB\n",
      "count: 103 PANCAKES WHOLE WHEAT FZN-144 COUNT\n",
      "count: 104 TORTILLA WHOLE WHEAT FZN 8\" CTN-12/24\n",
      "count: 105 CHEESE MOZ LM PT SKM STRING BOX-360/1 OZ\n",
      "count: 106 YOGURT HI PROTEIN VANILLA TUB-6/32 OZ\n",
      "count: 107 YOGURT HI PROTEIN BLUEBERRY CUP-24/4 OZ\n",
      "count: 108 YOGURT HI PROTEIN STRAWBERRY CUP-24/4 OZ\n",
      "count: 109 YOGURT HI PROTEIN VANILLA CUP-24/4 OZ\n",
      "count: 110 SPINACH CHOPPED FRZ IQF CTN-20 LB (1902)\n",
      "count: 111 CHICKEN STRIPS FRZ CTN-30 LB\n",
      "count: 112 BROCCOLI FRZ CTN-30 LB\n",
      "count: 113 CARROTS DICED FRZ CTN-30 LB\n",
      "count: 114 FLOUR HIGH GLUTEN BAG-50 LB\n",
      "count: 115 K BEANS GARBANZO CAN-6/10\n",
      "count: 116 WHOLE GRAIN BLEND MACARONI CTN-20 LB\n",
      "count: 117 WHOLE GRAIN BLEND ROTINI MAC CTN-20 LB\n",
      "count: 118 WHOLE GRAIN BLEND SPAGHETTI CTN-20 LB\n",
      "count: 119 WHOLE GRAIN BLEND PENNE CTN-2/10 LB\n",
      "count: 120 APPLESAUCE UNSWEETENED CAN-6/10\n",
      "count: 121 APPLES GRANNY SMITH FRESH CTN-40 LB\n",
      "count: 122 TURKEY BREAST DELI SLICED FRZ PKG-8/5 LB\n",
      "count: 123 SWEET POTATOES CHUNK FRZ PKG-6/5 LB\n",
      "count: 124 FISH AK PLCK FRZ BULK CTN-49.5 LB\n",
      "count: 125 BLUEBERRY HIGHBUSH FRZ CTN-12/2.5 LB\n",
      "count: 126 BLUEBERRY HIGHBUSH FRZ CTN-30 LB\n",
      "count: 127 K OIL VEGETABLE BTL-6/1 GAL\n",
      "count: 128 ORANGE JUICE SINGLE FRZ CUP-96/4 OZ\n",
      "count: 129 PEANUTS RAW SHELLED-BULK 44000 LB\n",
      "count: 130 BEEF PATTY CKD FRZ 2.0 MMA CTN-40 LB\n",
      "count: 131 SWEET POTATOES CRINKLE FRZ PKG-6/5 LB\n",
      "count: 132 CRANBERRIES DRIED PKG-300/1.16 OZ\n",
      "count: 133 PEPPERS/ONION BLEND FRZ CTN-30 LB\n",
      "count: 134 PORK PULLED CKD PKG-8/5 LB\n",
      "count: 135 PEAS GREEN FRZ CTN-12/2.5 LB\n",
      "count: 136 POTATOES DICED FRZ PKG-6/5 LB\n",
      "count: 137 EGGS WHOLE FRZ CTN-12/2 LB\n",
      "count: 138 STRAWBERRY WHOLE UNSWT IQF CTN-6/5 LB\n",
      "count: 139 FISH AK POLLOCK STICKS BRD FRZ CTN-40 LB\n",
      "count: 140 PEANUT BUTTER SMOOTH PKG-120/1.1 OZ\n",
      "count: 141 FLOUR WHITE WHOLE WHEAT 100% BAG-50 LB\n",
      "count: 142 FLOUR WHITE WHOLE WHEAT 100% BAG-8/5 LB\n",
      "count: 143 MIXED BERRY FRZ CUP-96/4.OZ\n",
      "count: 144 STRAWBERRY SLICES UNSWT IQF CTN-6/5 LB\n",
      "count: 145 CHERRIES SWEET PITTED IQF BAG-12/2.5 LB\n",
      "count: 146 TURKEY BREAST SMKD SLC FRZ PKG-8/5 LB\n",
      "count: 147 TURKEY HAM SMKD SLC FRZ PKG-8/5 LB\n",
      "count: 148 CHICKEN FILLETS UNBRD FRZ CTN-30 LB\n",
      "count: 149 EGG PATTY ROUND FRZ CTN-25 LB\n",
      "count: 150 CARROTS DICED FRZ CTN-12/2 LB\n",
      "count: 151 CORN FRZ CTN-12/2.5 LB\n",
      "count: 152 BEANS GREEN FRZ CTN-12/2 LB\n",
      "count: 153 CHEESE CHED YEL 0.75 OZ SLICE PKG-12 LB\n",
      "count: 154 CHEESE PEPPER JACK SHRED-PKG 4/5 LB\n",
      "count: 155 MIXED VEGETABLES FRZ CTN-6/5LB\n",
      "count: 156 CHICKEN CUT UP FRZ CTN-40 LB\n",
      "count: 157 K CHICKEN CUT UP FRZ CTN-40 LB\n",
      "count: 158 CHERRIES DRIED TART PKG-250/1.36 OZ\n",
      "count: 159 CHICKEN LARGE CHILLED -BULK\n",
      "count: 160 CHICKEN LARGE CHILLED -BULK\n",
      "count: 161 TURKEY CHILLED -BULK\n",
      "Cost of diet for F 9-13 is $1.13 per day.\n",
      "\n",
      "\n",
      "Diet (in 100s of grams or milliliters):\n",
      "EGGS WHOLE LIQ BULK -TANK                   0.658869\n",
      "SWEET POTATOES W/ SYRUP CAN-6/10            0.353313\n",
      "BEANS PINTO DRY PKG-12/2 LB                 1.742213\n",
      "FLOUR WHOLE WHEAT BAG-50 LB                 0.744481\n",
      "OIL VEGETABLE BTL-6/1 GAL                   0.502560\n",
      "FLOUR BREAD-BULK                            0.993389\n",
      "POTATO FOR PROCESS INTO DEHY PRD-BULK       2.324508\n",
      "CHEESE NAT AMER FBD BARREL-500 LB(40800)    0.767315\n",
      "SPINACH CHOPPED FRZ IQF CTN-20 LB (1902)    0.444109\n",
      "dtype: float64\n",
      "\n",
      "\n",
      "With the following nutritional outcomes of interest:\n",
      "                                    Outcome  Recommendation\n",
      "Nutrition                                                  \n",
      "Energy                          2593.867720          1600.0\n",
      "Protein                           89.412352            34.0\n",
      "Fiber, total dietary              22.400001            22.4\n",
      "Folate, DFE                      300.000265           300.0\n",
      "Calcium, Ca                     1300.000009          1300.0\n",
      "Carbohydrate, by difference      165.957114           130.0\n",
      "Iron, Fe                          18.885665             8.0\n",
      "Magnesium, Mg                    556.987678           240.0\n",
      "Niacin                            12.589367            12.0\n",
      "Phosphorus, P                   1953.928383          1250.0\n",
      "Potassium, K                    4500.000219          4500.0\n",
      "Riboflavin                         0.995796             0.9\n",
      "Thiamin                            1.233998             0.9\n",
      "Vitamin A, RAE                   600.000008           600.0\n",
      "Vitamin B-12                       1.800000             1.8\n",
      "Vitamin B-6                        1.195012             1.0\n",
      "Vitamin C, total ascorbic acid    45.000002            45.0\n",
      "Vitamin E (alpha-tocopherol)      11.000000            11.0\n",
      "Vitamin K (phylloquinone)        273.574965            60.0\n",
      "Zinc, Zn                          12.831044             8.0\n",
      "Sodium, Na                      2199.998737          2200.0\n",
      "Energy                          2593.867720          2800.0\n",
      "\n",
      "\n",
      "Constraining nutrients are:\n",
      "['Fiber, total dietary', 'Calcium, Ca', 'Vitamin A, RAE', 'Vitamin B-12', 'Vitamin C, total ascorbic acid', 'Vitamin E (alpha-tocopherol)']\n"
     ]
    },
    {
     "name": "stderr",
     "output_type": "stream",
     "text": [
      "/Users/christophernicholas/src/EEP153/EEP153_Harriette_Chick_Project2/venv/lib/python3.12/site-packages/pandas/core/dtypes/cast.py:1598: UnitStrippedWarning: The unit of the quantity is stripped when downcasting to ndarray.\n",
      "  result[:] = values\n"
     ]
    }
   ],
   "source": [
    "import pandas as pd\n",
    "import fooddatacentral as fdc\n",
    "import warnings\n",
    "import pandas as pd\n",
    "import numpy as np\n",
    "from  scipy.optimize import linprog as lp\n",
    "import numpy as np\n",
    "import warnings\n",
    "\n",
    "bulk_prices_w_lbs = pd.read_csv(\"data/bulk_prices.tsv\", sep='\\t')\n",
    "\n",
    "apikey = \"rfaOy1m0PNZUGET08nKJvgbOrtpJaP86d8yt6RYh\"\n",
    "\n",
    "D = {}\n",
    "count = 0\n",
    "food_names = bulk_prices_w_lbs.Material_Descr.tolist()\n",
    "for food_name in food_names:\n",
    "    try:\n",
    "        fdc_id = bulk_prices_w_lbs.loc[bulk_prices_w_lbs.Material_Descr==food_name,:].FDC_ID\n",
    "        int_fdcid = int(fdc_id[count])\n",
    "        count+=1\n",
    "        D[food_name] = fdc.nutrients(apikey,int_fdcid).Quantity\n",
    "        print(f'count: {count} {food_name}')\n",
    "    except AttributeError:\n",
    "        warnings.warn(\"Couldn't find FDC Code %s for food %s.\" % (food_name,int_fdcid))\n",
    "    except ValueError:\n",
    "        warnings.warn(f\"No code for food {food_name}\")\n",
    "    except Exception as ex:\n",
    "        warnings.warn(f\"something seriously wrong for {food_name}  {ex}\")\n",
    "\n",
    "FoodNutrients = pd.DataFrame(D,dtype=float)\n",
    "\n",
    "FoodNutrients = pd.DataFrame(D,dtype=float)\n",
    "\n",
    "# all items are 1 pound\n",
    "bulk_prices_w_lbs['FDC Quantity'] = bulk_prices_w_lbs[['Quantity','BaseUoM']].T.apply(lambda x : fdc.units(x['Quantity'],x['BaseUoM']))\n",
    "\n",
    "bulk_prices_w_lbs['FDC Price'] = bulk_prices_w_lbs['Average_Price']/bulk_prices_w_lbs['FDC Quantity']\n",
    "\n",
    "bulk_prices_w_lbs.dropna(how='any')\n",
    "\n",
    "# To use minimum price observed\n",
    "Prices = bulk_prices_w_lbs.groupby('Material_Descr',sort=False)['FDC Price'].min()\n",
    "\n",
    "# our target group\n",
    "group = 'F 9-13'\n",
    "# tolerance\n",
    "tol = 1e-6\n",
    "\n",
    "result = getPrices.solve_subsistence_problem(FoodNutrients,Prices,diet_min[group],diet_max[group],tol=tol)\n",
    "\n",
    "print(\"Cost of diet for %s is $%4.2f per day.\\n\" % (group,result.fun))\n",
    "\n",
    "# Put back into nice series\n",
    "diet = result.diet\n",
    "\n",
    "print(\"\\nDiet (in 100s of grams or milliliters):\")\n",
    "print(diet[diet >= tol])  # Drop items with quantities less than precision of calculation.\n",
    "print()\n",
    "\n",
    "tab = pd.DataFrame({\"Outcome\":np.abs(result.A).dot(diet),\"Recommendation\":np.abs(result.b)})\n",
    "print(\"\\nWith the following nutritional outcomes of interest:\")\n",
    "print(tab)\n",
    "print()\n",
    "\n",
    "print(\"\\nConstraining nutrients are:\")\n",
    "excess = tab.diff(axis=1).iloc[:,1]\n",
    "print(excess.loc[np.abs(excess) < tol*100].index.tolist())\n",
    "\n"
   ]
  },
  {
   "cell_type": "markdown",
   "metadata": {},
   "source": [
    "### Look up nutritional information for foods\n",
    "\n"
   ]
  },
  {
   "cell_type": "markdown",
   "metadata": {},
   "source": [
    "## Effects of Price Changes on Subsistence Diet Cost\n",
    "\n"
   ]
  },
  {
   "cell_type": "markdown",
   "metadata": {},
   "source": [
    "As prices change, we should expect the minimum cost diet to also\n",
    "  change.  The code below creates a graph which changes prices away\n",
    "  from the \\`base&rsquo; case one food at a time, and plots changes in total\n",
    "  diet cost.\n",
    "\n"
   ]
  },
  {
   "cell_type": "code",
   "execution_count": 20,
   "metadata": {},
   "outputs": [
    {
     "name": "stderr",
     "output_type": "stream",
     "text": [
      "/var/folders/9r/yl209mt550g4h4t5v79dcyw80000gr/T/ipykernel_15307/2131278476.py:13: FutureWarning:\n",
      "\n",
      "Series.__setitem__ treating keys as positions is deprecated. In a future version, integer keys will always be treated as labels (consistent with DataFrame behavior). To set a value by position, use `ser.iloc[pos] = value`\n",
      "\n",
      "/var/folders/9r/yl209mt550g4h4t5v79dcyw80000gr/T/ipykernel_15307/2131278476.py:13: FutureWarning:\n",
      "\n",
      "Series.__setitem__ treating keys as positions is deprecated. In a future version, integer keys will always be treated as labels (consistent with DataFrame behavior). To set a value by position, use `ser.iloc[pos] = value`\n",
      "\n",
      "/var/folders/9r/yl209mt550g4h4t5v79dcyw80000gr/T/ipykernel_15307/2131278476.py:13: FutureWarning:\n",
      "\n",
      "Series.__setitem__ treating keys as positions is deprecated. In a future version, integer keys will always be treated as labels (consistent with DataFrame behavior). To set a value by position, use `ser.iloc[pos] = value`\n",
      "\n",
      "/var/folders/9r/yl209mt550g4h4t5v79dcyw80000gr/T/ipykernel_15307/2131278476.py:13: FutureWarning:\n",
      "\n",
      "Series.__setitem__ treating keys as positions is deprecated. In a future version, integer keys will always be treated as labels (consistent with DataFrame behavior). To set a value by position, use `ser.iloc[pos] = value`\n",
      "\n",
      "/var/folders/9r/yl209mt550g4h4t5v79dcyw80000gr/T/ipykernel_15307/2131278476.py:13: FutureWarning:\n",
      "\n",
      "Series.__setitem__ treating keys as positions is deprecated. In a future version, integer keys will always be treated as labels (consistent with DataFrame behavior). To set a value by position, use `ser.iloc[pos] = value`\n",
      "\n",
      "/var/folders/9r/yl209mt550g4h4t5v79dcyw80000gr/T/ipykernel_15307/2131278476.py:13: FutureWarning:\n",
      "\n",
      "Series.__setitem__ treating keys as positions is deprecated. In a future version, integer keys will always be treated as labels (consistent with DataFrame behavior). To set a value by position, use `ser.iloc[pos] = value`\n",
      "\n",
      "/var/folders/9r/yl209mt550g4h4t5v79dcyw80000gr/T/ipykernel_15307/2131278476.py:13: FutureWarning:\n",
      "\n",
      "Series.__setitem__ treating keys as positions is deprecated. In a future version, integer keys will always be treated as labels (consistent with DataFrame behavior). To set a value by position, use `ser.iloc[pos] = value`\n",
      "\n",
      "/var/folders/9r/yl209mt550g4h4t5v79dcyw80000gr/T/ipykernel_15307/2131278476.py:13: FutureWarning:\n",
      "\n",
      "Series.__setitem__ treating keys as positions is deprecated. In a future version, integer keys will always be treated as labels (consistent with DataFrame behavior). To set a value by position, use `ser.iloc[pos] = value`\n",
      "\n",
      "/var/folders/9r/yl209mt550g4h4t5v79dcyw80000gr/T/ipykernel_15307/2131278476.py:13: FutureWarning:\n",
      "\n",
      "Series.__setitem__ treating keys as positions is deprecated. In a future version, integer keys will always be treated as labels (consistent with DataFrame behavior). To set a value by position, use `ser.iloc[pos] = value`\n",
      "\n",
      "/var/folders/9r/yl209mt550g4h4t5v79dcyw80000gr/T/ipykernel_15307/2131278476.py:13: FutureWarning:\n",
      "\n",
      "Series.__setitem__ treating keys as positions is deprecated. In a future version, integer keys will always be treated as labels (consistent with DataFrame behavior). To set a value by position, use `ser.iloc[pos] = value`\n",
      "\n",
      "/var/folders/9r/yl209mt550g4h4t5v79dcyw80000gr/T/ipykernel_15307/2131278476.py:13: FutureWarning:\n",
      "\n",
      "Series.__setitem__ treating keys as positions is deprecated. In a future version, integer keys will always be treated as labels (consistent with DataFrame behavior). To set a value by position, use `ser.iloc[pos] = value`\n",
      "\n",
      "/var/folders/9r/yl209mt550g4h4t5v79dcyw80000gr/T/ipykernel_15307/2131278476.py:13: FutureWarning:\n",
      "\n",
      "Series.__setitem__ treating keys as positions is deprecated. In a future version, integer keys will always be treated as labels (consistent with DataFrame behavior). To set a value by position, use `ser.iloc[pos] = value`\n",
      "\n",
      "/var/folders/9r/yl209mt550g4h4t5v79dcyw80000gr/T/ipykernel_15307/2131278476.py:13: FutureWarning:\n",
      "\n",
      "Series.__setitem__ treating keys as positions is deprecated. In a future version, integer keys will always be treated as labels (consistent with DataFrame behavior). To set a value by position, use `ser.iloc[pos] = value`\n",
      "\n",
      "/var/folders/9r/yl209mt550g4h4t5v79dcyw80000gr/T/ipykernel_15307/2131278476.py:13: FutureWarning:\n",
      "\n",
      "Series.__setitem__ treating keys as positions is deprecated. In a future version, integer keys will always be treated as labels (consistent with DataFrame behavior). To set a value by position, use `ser.iloc[pos] = value`\n",
      "\n",
      "/var/folders/9r/yl209mt550g4h4t5v79dcyw80000gr/T/ipykernel_15307/2131278476.py:13: FutureWarning:\n",
      "\n",
      "Series.__setitem__ treating keys as positions is deprecated. In a future version, integer keys will always be treated as labels (consistent with DataFrame behavior). To set a value by position, use `ser.iloc[pos] = value`\n",
      "\n",
      "/var/folders/9r/yl209mt550g4h4t5v79dcyw80000gr/T/ipykernel_15307/2131278476.py:13: FutureWarning:\n",
      "\n",
      "Series.__setitem__ treating keys as positions is deprecated. In a future version, integer keys will always be treated as labels (consistent with DataFrame behavior). To set a value by position, use `ser.iloc[pos] = value`\n",
      "\n",
      "/var/folders/9r/yl209mt550g4h4t5v79dcyw80000gr/T/ipykernel_15307/2131278476.py:13: FutureWarning:\n",
      "\n",
      "Series.__setitem__ treating keys as positions is deprecated. In a future version, integer keys will always be treated as labels (consistent with DataFrame behavior). To set a value by position, use `ser.iloc[pos] = value`\n",
      "\n",
      "/var/folders/9r/yl209mt550g4h4t5v79dcyw80000gr/T/ipykernel_15307/2131278476.py:13: FutureWarning:\n",
      "\n",
      "Series.__setitem__ treating keys as positions is deprecated. In a future version, integer keys will always be treated as labels (consistent with DataFrame behavior). To set a value by position, use `ser.iloc[pos] = value`\n",
      "\n",
      "/var/folders/9r/yl209mt550g4h4t5v79dcyw80000gr/T/ipykernel_15307/2131278476.py:13: FutureWarning:\n",
      "\n",
      "Series.__setitem__ treating keys as positions is deprecated. In a future version, integer keys will always be treated as labels (consistent with DataFrame behavior). To set a value by position, use `ser.iloc[pos] = value`\n",
      "\n",
      "/var/folders/9r/yl209mt550g4h4t5v79dcyw80000gr/T/ipykernel_15307/2131278476.py:13: FutureWarning:\n",
      "\n",
      "Series.__setitem__ treating keys as positions is deprecated. In a future version, integer keys will always be treated as labels (consistent with DataFrame behavior). To set a value by position, use `ser.iloc[pos] = value`\n",
      "\n",
      "/var/folders/9r/yl209mt550g4h4t5v79dcyw80000gr/T/ipykernel_15307/2131278476.py:13: FutureWarning:\n",
      "\n",
      "Series.__setitem__ treating keys as positions is deprecated. In a future version, integer keys will always be treated as labels (consistent with DataFrame behavior). To set a value by position, use `ser.iloc[pos] = value`\n",
      "\n",
      "/var/folders/9r/yl209mt550g4h4t5v79dcyw80000gr/T/ipykernel_15307/2131278476.py:13: FutureWarning:\n",
      "\n",
      "Series.__setitem__ treating keys as positions is deprecated. In a future version, integer keys will always be treated as labels (consistent with DataFrame behavior). To set a value by position, use `ser.iloc[pos] = value`\n",
      "\n",
      "/var/folders/9r/yl209mt550g4h4t5v79dcyw80000gr/T/ipykernel_15307/2131278476.py:13: FutureWarning:\n",
      "\n",
      "Series.__setitem__ treating keys as positions is deprecated. In a future version, integer keys will always be treated as labels (consistent with DataFrame behavior). To set a value by position, use `ser.iloc[pos] = value`\n",
      "\n",
      "/var/folders/9r/yl209mt550g4h4t5v79dcyw80000gr/T/ipykernel_15307/2131278476.py:13: FutureWarning:\n",
      "\n",
      "Series.__setitem__ treating keys as positions is deprecated. In a future version, integer keys will always be treated as labels (consistent with DataFrame behavior). To set a value by position, use `ser.iloc[pos] = value`\n",
      "\n",
      "/var/folders/9r/yl209mt550g4h4t5v79dcyw80000gr/T/ipykernel_15307/2131278476.py:13: FutureWarning:\n",
      "\n",
      "Series.__setitem__ treating keys as positions is deprecated. In a future version, integer keys will always be treated as labels (consistent with DataFrame behavior). To set a value by position, use `ser.iloc[pos] = value`\n",
      "\n",
      "/var/folders/9r/yl209mt550g4h4t5v79dcyw80000gr/T/ipykernel_15307/2131278476.py:13: FutureWarning:\n",
      "\n",
      "Series.__setitem__ treating keys as positions is deprecated. In a future version, integer keys will always be treated as labels (consistent with DataFrame behavior). To set a value by position, use `ser.iloc[pos] = value`\n",
      "\n",
      "/var/folders/9r/yl209mt550g4h4t5v79dcyw80000gr/T/ipykernel_15307/2131278476.py:13: FutureWarning:\n",
      "\n",
      "Series.__setitem__ treating keys as positions is deprecated. In a future version, integer keys will always be treated as labels (consistent with DataFrame behavior). To set a value by position, use `ser.iloc[pos] = value`\n",
      "\n",
      "/var/folders/9r/yl209mt550g4h4t5v79dcyw80000gr/T/ipykernel_15307/2131278476.py:13: FutureWarning:\n",
      "\n",
      "Series.__setitem__ treating keys as positions is deprecated. In a future version, integer keys will always be treated as labels (consistent with DataFrame behavior). To set a value by position, use `ser.iloc[pos] = value`\n",
      "\n",
      "/var/folders/9r/yl209mt550g4h4t5v79dcyw80000gr/T/ipykernel_15307/2131278476.py:13: FutureWarning:\n",
      "\n",
      "Series.__setitem__ treating keys as positions is deprecated. In a future version, integer keys will always be treated as labels (consistent with DataFrame behavior). To set a value by position, use `ser.iloc[pos] = value`\n",
      "\n",
      "/var/folders/9r/yl209mt550g4h4t5v79dcyw80000gr/T/ipykernel_15307/2131278476.py:13: FutureWarning:\n",
      "\n",
      "Series.__setitem__ treating keys as positions is deprecated. In a future version, integer keys will always be treated as labels (consistent with DataFrame behavior). To set a value by position, use `ser.iloc[pos] = value`\n",
      "\n",
      "/var/folders/9r/yl209mt550g4h4t5v79dcyw80000gr/T/ipykernel_15307/2131278476.py:13: FutureWarning:\n",
      "\n",
      "Series.__setitem__ treating keys as positions is deprecated. In a future version, integer keys will always be treated as labels (consistent with DataFrame behavior). To set a value by position, use `ser.iloc[pos] = value`\n",
      "\n",
      "/var/folders/9r/yl209mt550g4h4t5v79dcyw80000gr/T/ipykernel_15307/2131278476.py:13: FutureWarning:\n",
      "\n",
      "Series.__setitem__ treating keys as positions is deprecated. In a future version, integer keys will always be treated as labels (consistent with DataFrame behavior). To set a value by position, use `ser.iloc[pos] = value`\n",
      "\n",
      "/var/folders/9r/yl209mt550g4h4t5v79dcyw80000gr/T/ipykernel_15307/2131278476.py:13: FutureWarning:\n",
      "\n",
      "Series.__setitem__ treating keys as positions is deprecated. In a future version, integer keys will always be treated as labels (consistent with DataFrame behavior). To set a value by position, use `ser.iloc[pos] = value`\n",
      "\n",
      "/var/folders/9r/yl209mt550g4h4t5v79dcyw80000gr/T/ipykernel_15307/2131278476.py:13: FutureWarning:\n",
      "\n",
      "Series.__setitem__ treating keys as positions is deprecated. In a future version, integer keys will always be treated as labels (consistent with DataFrame behavior). To set a value by position, use `ser.iloc[pos] = value`\n",
      "\n",
      "/var/folders/9r/yl209mt550g4h4t5v79dcyw80000gr/T/ipykernel_15307/2131278476.py:13: FutureWarning:\n",
      "\n",
      "Series.__setitem__ treating keys as positions is deprecated. In a future version, integer keys will always be treated as labels (consistent with DataFrame behavior). To set a value by position, use `ser.iloc[pos] = value`\n",
      "\n",
      "/var/folders/9r/yl209mt550g4h4t5v79dcyw80000gr/T/ipykernel_15307/2131278476.py:13: FutureWarning:\n",
      "\n",
      "Series.__setitem__ treating keys as positions is deprecated. In a future version, integer keys will always be treated as labels (consistent with DataFrame behavior). To set a value by position, use `ser.iloc[pos] = value`\n",
      "\n",
      "/var/folders/9r/yl209mt550g4h4t5v79dcyw80000gr/T/ipykernel_15307/2131278476.py:13: FutureWarning:\n",
      "\n",
      "Series.__setitem__ treating keys as positions is deprecated. In a future version, integer keys will always be treated as labels (consistent with DataFrame behavior). To set a value by position, use `ser.iloc[pos] = value`\n",
      "\n",
      "/var/folders/9r/yl209mt550g4h4t5v79dcyw80000gr/T/ipykernel_15307/2131278476.py:13: FutureWarning:\n",
      "\n",
      "Series.__setitem__ treating keys as positions is deprecated. In a future version, integer keys will always be treated as labels (consistent with DataFrame behavior). To set a value by position, use `ser.iloc[pos] = value`\n",
      "\n",
      "/var/folders/9r/yl209mt550g4h4t5v79dcyw80000gr/T/ipykernel_15307/2131278476.py:13: FutureWarning:\n",
      "\n",
      "Series.__setitem__ treating keys as positions is deprecated. In a future version, integer keys will always be treated as labels (consistent with DataFrame behavior). To set a value by position, use `ser.iloc[pos] = value`\n",
      "\n",
      "/var/folders/9r/yl209mt550g4h4t5v79dcyw80000gr/T/ipykernel_15307/2131278476.py:13: FutureWarning:\n",
      "\n",
      "Series.__setitem__ treating keys as positions is deprecated. In a future version, integer keys will always be treated as labels (consistent with DataFrame behavior). To set a value by position, use `ser.iloc[pos] = value`\n",
      "\n",
      "/var/folders/9r/yl209mt550g4h4t5v79dcyw80000gr/T/ipykernel_15307/2131278476.py:13: FutureWarning:\n",
      "\n",
      "Series.__setitem__ treating keys as positions is deprecated. In a future version, integer keys will always be treated as labels (consistent with DataFrame behavior). To set a value by position, use `ser.iloc[pos] = value`\n",
      "\n",
      "/var/folders/9r/yl209mt550g4h4t5v79dcyw80000gr/T/ipykernel_15307/2131278476.py:13: FutureWarning:\n",
      "\n",
      "Series.__setitem__ treating keys as positions is deprecated. In a future version, integer keys will always be treated as labels (consistent with DataFrame behavior). To set a value by position, use `ser.iloc[pos] = value`\n",
      "\n",
      "/var/folders/9r/yl209mt550g4h4t5v79dcyw80000gr/T/ipykernel_15307/2131278476.py:13: FutureWarning:\n",
      "\n",
      "Series.__setitem__ treating keys as positions is deprecated. In a future version, integer keys will always be treated as labels (consistent with DataFrame behavior). To set a value by position, use `ser.iloc[pos] = value`\n",
      "\n",
      "/var/folders/9r/yl209mt550g4h4t5v79dcyw80000gr/T/ipykernel_15307/2131278476.py:13: FutureWarning:\n",
      "\n",
      "Series.__setitem__ treating keys as positions is deprecated. In a future version, integer keys will always be treated as labels (consistent with DataFrame behavior). To set a value by position, use `ser.iloc[pos] = value`\n",
      "\n",
      "/var/folders/9r/yl209mt550g4h4t5v79dcyw80000gr/T/ipykernel_15307/2131278476.py:13: FutureWarning:\n",
      "\n",
      "Series.__setitem__ treating keys as positions is deprecated. In a future version, integer keys will always be treated as labels (consistent with DataFrame behavior). To set a value by position, use `ser.iloc[pos] = value`\n",
      "\n",
      "/var/folders/9r/yl209mt550g4h4t5v79dcyw80000gr/T/ipykernel_15307/2131278476.py:13: FutureWarning:\n",
      "\n",
      "Series.__setitem__ treating keys as positions is deprecated. In a future version, integer keys will always be treated as labels (consistent with DataFrame behavior). To set a value by position, use `ser.iloc[pos] = value`\n",
      "\n",
      "/var/folders/9r/yl209mt550g4h4t5v79dcyw80000gr/T/ipykernel_15307/2131278476.py:13: FutureWarning:\n",
      "\n",
      "Series.__setitem__ treating keys as positions is deprecated. In a future version, integer keys will always be treated as labels (consistent with DataFrame behavior). To set a value by position, use `ser.iloc[pos] = value`\n",
      "\n",
      "/var/folders/9r/yl209mt550g4h4t5v79dcyw80000gr/T/ipykernel_15307/2131278476.py:13: FutureWarning:\n",
      "\n",
      "Series.__setitem__ treating keys as positions is deprecated. In a future version, integer keys will always be treated as labels (consistent with DataFrame behavior). To set a value by position, use `ser.iloc[pos] = value`\n",
      "\n",
      "/var/folders/9r/yl209mt550g4h4t5v79dcyw80000gr/T/ipykernel_15307/2131278476.py:13: FutureWarning:\n",
      "\n",
      "Series.__setitem__ treating keys as positions is deprecated. In a future version, integer keys will always be treated as labels (consistent with DataFrame behavior). To set a value by position, use `ser.iloc[pos] = value`\n",
      "\n",
      "/var/folders/9r/yl209mt550g4h4t5v79dcyw80000gr/T/ipykernel_15307/2131278476.py:13: FutureWarning:\n",
      "\n",
      "Series.__setitem__ treating keys as positions is deprecated. In a future version, integer keys will always be treated as labels (consistent with DataFrame behavior). To set a value by position, use `ser.iloc[pos] = value`\n",
      "\n",
      "/var/folders/9r/yl209mt550g4h4t5v79dcyw80000gr/T/ipykernel_15307/2131278476.py:13: FutureWarning:\n",
      "\n",
      "Series.__setitem__ treating keys as positions is deprecated. In a future version, integer keys will always be treated as labels (consistent with DataFrame behavior). To set a value by position, use `ser.iloc[pos] = value`\n",
      "\n",
      "/var/folders/9r/yl209mt550g4h4t5v79dcyw80000gr/T/ipykernel_15307/2131278476.py:13: FutureWarning:\n",
      "\n",
      "Series.__setitem__ treating keys as positions is deprecated. In a future version, integer keys will always be treated as labels (consistent with DataFrame behavior). To set a value by position, use `ser.iloc[pos] = value`\n",
      "\n",
      "/var/folders/9r/yl209mt550g4h4t5v79dcyw80000gr/T/ipykernel_15307/2131278476.py:13: FutureWarning:\n",
      "\n",
      "Series.__setitem__ treating keys as positions is deprecated. In a future version, integer keys will always be treated as labels (consistent with DataFrame behavior). To set a value by position, use `ser.iloc[pos] = value`\n",
      "\n",
      "/var/folders/9r/yl209mt550g4h4t5v79dcyw80000gr/T/ipykernel_15307/2131278476.py:13: FutureWarning:\n",
      "\n",
      "Series.__setitem__ treating keys as positions is deprecated. In a future version, integer keys will always be treated as labels (consistent with DataFrame behavior). To set a value by position, use `ser.iloc[pos] = value`\n",
      "\n",
      "/var/folders/9r/yl209mt550g4h4t5v79dcyw80000gr/T/ipykernel_15307/2131278476.py:13: FutureWarning:\n",
      "\n",
      "Series.__setitem__ treating keys as positions is deprecated. In a future version, integer keys will always be treated as labels (consistent with DataFrame behavior). To set a value by position, use `ser.iloc[pos] = value`\n",
      "\n",
      "/var/folders/9r/yl209mt550g4h4t5v79dcyw80000gr/T/ipykernel_15307/2131278476.py:13: FutureWarning:\n",
      "\n",
      "Series.__setitem__ treating keys as positions is deprecated. In a future version, integer keys will always be treated as labels (consistent with DataFrame behavior). To set a value by position, use `ser.iloc[pos] = value`\n",
      "\n",
      "/var/folders/9r/yl209mt550g4h4t5v79dcyw80000gr/T/ipykernel_15307/2131278476.py:13: FutureWarning:\n",
      "\n",
      "Series.__setitem__ treating keys as positions is deprecated. In a future version, integer keys will always be treated as labels (consistent with DataFrame behavior). To set a value by position, use `ser.iloc[pos] = value`\n",
      "\n",
      "/var/folders/9r/yl209mt550g4h4t5v79dcyw80000gr/T/ipykernel_15307/2131278476.py:13: FutureWarning:\n",
      "\n",
      "Series.__setitem__ treating keys as positions is deprecated. In a future version, integer keys will always be treated as labels (consistent with DataFrame behavior). To set a value by position, use `ser.iloc[pos] = value`\n",
      "\n",
      "/var/folders/9r/yl209mt550g4h4t5v79dcyw80000gr/T/ipykernel_15307/2131278476.py:13: FutureWarning:\n",
      "\n",
      "Series.__setitem__ treating keys as positions is deprecated. In a future version, integer keys will always be treated as labels (consistent with DataFrame behavior). To set a value by position, use `ser.iloc[pos] = value`\n",
      "\n",
      "/var/folders/9r/yl209mt550g4h4t5v79dcyw80000gr/T/ipykernel_15307/2131278476.py:13: FutureWarning:\n",
      "\n",
      "Series.__setitem__ treating keys as positions is deprecated. In a future version, integer keys will always be treated as labels (consistent with DataFrame behavior). To set a value by position, use `ser.iloc[pos] = value`\n",
      "\n",
      "/var/folders/9r/yl209mt550g4h4t5v79dcyw80000gr/T/ipykernel_15307/2131278476.py:13: FutureWarning:\n",
      "\n",
      "Series.__setitem__ treating keys as positions is deprecated. In a future version, integer keys will always be treated as labels (consistent with DataFrame behavior). To set a value by position, use `ser.iloc[pos] = value`\n",
      "\n",
      "/var/folders/9r/yl209mt550g4h4t5v79dcyw80000gr/T/ipykernel_15307/2131278476.py:13: FutureWarning:\n",
      "\n",
      "Series.__setitem__ treating keys as positions is deprecated. In a future version, integer keys will always be treated as labels (consistent with DataFrame behavior). To set a value by position, use `ser.iloc[pos] = value`\n",
      "\n",
      "/var/folders/9r/yl209mt550g4h4t5v79dcyw80000gr/T/ipykernel_15307/2131278476.py:13: FutureWarning:\n",
      "\n",
      "Series.__setitem__ treating keys as positions is deprecated. In a future version, integer keys will always be treated as labels (consistent with DataFrame behavior). To set a value by position, use `ser.iloc[pos] = value`\n",
      "\n",
      "/var/folders/9r/yl209mt550g4h4t5v79dcyw80000gr/T/ipykernel_15307/2131278476.py:13: FutureWarning:\n",
      "\n",
      "Series.__setitem__ treating keys as positions is deprecated. In a future version, integer keys will always be treated as labels (consistent with DataFrame behavior). To set a value by position, use `ser.iloc[pos] = value`\n",
      "\n",
      "/var/folders/9r/yl209mt550g4h4t5v79dcyw80000gr/T/ipykernel_15307/2131278476.py:13: FutureWarning:\n",
      "\n",
      "Series.__setitem__ treating keys as positions is deprecated. In a future version, integer keys will always be treated as labels (consistent with DataFrame behavior). To set a value by position, use `ser.iloc[pos] = value`\n",
      "\n",
      "/var/folders/9r/yl209mt550g4h4t5v79dcyw80000gr/T/ipykernel_15307/2131278476.py:13: FutureWarning:\n",
      "\n",
      "Series.__setitem__ treating keys as positions is deprecated. In a future version, integer keys will always be treated as labels (consistent with DataFrame behavior). To set a value by position, use `ser.iloc[pos] = value`\n",
      "\n",
      "/var/folders/9r/yl209mt550g4h4t5v79dcyw80000gr/T/ipykernel_15307/2131278476.py:13: FutureWarning:\n",
      "\n",
      "Series.__setitem__ treating keys as positions is deprecated. In a future version, integer keys will always be treated as labels (consistent with DataFrame behavior). To set a value by position, use `ser.iloc[pos] = value`\n",
      "\n",
      "/var/folders/9r/yl209mt550g4h4t5v79dcyw80000gr/T/ipykernel_15307/2131278476.py:13: FutureWarning:\n",
      "\n",
      "Series.__setitem__ treating keys as positions is deprecated. In a future version, integer keys will always be treated as labels (consistent with DataFrame behavior). To set a value by position, use `ser.iloc[pos] = value`\n",
      "\n",
      "/var/folders/9r/yl209mt550g4h4t5v79dcyw80000gr/T/ipykernel_15307/2131278476.py:13: FutureWarning:\n",
      "\n",
      "Series.__setitem__ treating keys as positions is deprecated. In a future version, integer keys will always be treated as labels (consistent with DataFrame behavior). To set a value by position, use `ser.iloc[pos] = value`\n",
      "\n",
      "/var/folders/9r/yl209mt550g4h4t5v79dcyw80000gr/T/ipykernel_15307/2131278476.py:13: FutureWarning:\n",
      "\n",
      "Series.__setitem__ treating keys as positions is deprecated. In a future version, integer keys will always be treated as labels (consistent with DataFrame behavior). To set a value by position, use `ser.iloc[pos] = value`\n",
      "\n",
      "/var/folders/9r/yl209mt550g4h4t5v79dcyw80000gr/T/ipykernel_15307/2131278476.py:13: FutureWarning:\n",
      "\n",
      "Series.__setitem__ treating keys as positions is deprecated. In a future version, integer keys will always be treated as labels (consistent with DataFrame behavior). To set a value by position, use `ser.iloc[pos] = value`\n",
      "\n",
      "/var/folders/9r/yl209mt550g4h4t5v79dcyw80000gr/T/ipykernel_15307/2131278476.py:13: FutureWarning:\n",
      "\n",
      "Series.__setitem__ treating keys as positions is deprecated. In a future version, integer keys will always be treated as labels (consistent with DataFrame behavior). To set a value by position, use `ser.iloc[pos] = value`\n",
      "\n",
      "/var/folders/9r/yl209mt550g4h4t5v79dcyw80000gr/T/ipykernel_15307/2131278476.py:13: FutureWarning:\n",
      "\n",
      "Series.__setitem__ treating keys as positions is deprecated. In a future version, integer keys will always be treated as labels (consistent with DataFrame behavior). To set a value by position, use `ser.iloc[pos] = value`\n",
      "\n",
      "/var/folders/9r/yl209mt550g4h4t5v79dcyw80000gr/T/ipykernel_15307/2131278476.py:13: FutureWarning:\n",
      "\n",
      "Series.__setitem__ treating keys as positions is deprecated. In a future version, integer keys will always be treated as labels (consistent with DataFrame behavior). To set a value by position, use `ser.iloc[pos] = value`\n",
      "\n",
      "/var/folders/9r/yl209mt550g4h4t5v79dcyw80000gr/T/ipykernel_15307/2131278476.py:13: FutureWarning:\n",
      "\n",
      "Series.__setitem__ treating keys as positions is deprecated. In a future version, integer keys will always be treated as labels (consistent with DataFrame behavior). To set a value by position, use `ser.iloc[pos] = value`\n",
      "\n",
      "/var/folders/9r/yl209mt550g4h4t5v79dcyw80000gr/T/ipykernel_15307/2131278476.py:13: FutureWarning:\n",
      "\n",
      "Series.__setitem__ treating keys as positions is deprecated. In a future version, integer keys will always be treated as labels (consistent with DataFrame behavior). To set a value by position, use `ser.iloc[pos] = value`\n",
      "\n",
      "/var/folders/9r/yl209mt550g4h4t5v79dcyw80000gr/T/ipykernel_15307/2131278476.py:13: FutureWarning:\n",
      "\n",
      "Series.__setitem__ treating keys as positions is deprecated. In a future version, integer keys will always be treated as labels (consistent with DataFrame behavior). To set a value by position, use `ser.iloc[pos] = value`\n",
      "\n",
      "/var/folders/9r/yl209mt550g4h4t5v79dcyw80000gr/T/ipykernel_15307/2131278476.py:13: FutureWarning:\n",
      "\n",
      "Series.__setitem__ treating keys as positions is deprecated. In a future version, integer keys will always be treated as labels (consistent with DataFrame behavior). To set a value by position, use `ser.iloc[pos] = value`\n",
      "\n",
      "/var/folders/9r/yl209mt550g4h4t5v79dcyw80000gr/T/ipykernel_15307/2131278476.py:13: FutureWarning:\n",
      "\n",
      "Series.__setitem__ treating keys as positions is deprecated. In a future version, integer keys will always be treated as labels (consistent with DataFrame behavior). To set a value by position, use `ser.iloc[pos] = value`\n",
      "\n",
      "/var/folders/9r/yl209mt550g4h4t5v79dcyw80000gr/T/ipykernel_15307/2131278476.py:13: FutureWarning:\n",
      "\n",
      "Series.__setitem__ treating keys as positions is deprecated. In a future version, integer keys will always be treated as labels (consistent with DataFrame behavior). To set a value by position, use `ser.iloc[pos] = value`\n",
      "\n",
      "/var/folders/9r/yl209mt550g4h4t5v79dcyw80000gr/T/ipykernel_15307/2131278476.py:13: FutureWarning:\n",
      "\n",
      "Series.__setitem__ treating keys as positions is deprecated. In a future version, integer keys will always be treated as labels (consistent with DataFrame behavior). To set a value by position, use `ser.iloc[pos] = value`\n",
      "\n",
      "/var/folders/9r/yl209mt550g4h4t5v79dcyw80000gr/T/ipykernel_15307/2131278476.py:13: FutureWarning:\n",
      "\n",
      "Series.__setitem__ treating keys as positions is deprecated. In a future version, integer keys will always be treated as labels (consistent with DataFrame behavior). To set a value by position, use `ser.iloc[pos] = value`\n",
      "\n",
      "/var/folders/9r/yl209mt550g4h4t5v79dcyw80000gr/T/ipykernel_15307/2131278476.py:13: FutureWarning:\n",
      "\n",
      "Series.__setitem__ treating keys as positions is deprecated. In a future version, integer keys will always be treated as labels (consistent with DataFrame behavior). To set a value by position, use `ser.iloc[pos] = value`\n",
      "\n",
      "/var/folders/9r/yl209mt550g4h4t5v79dcyw80000gr/T/ipykernel_15307/2131278476.py:13: FutureWarning:\n",
      "\n",
      "Series.__setitem__ treating keys as positions is deprecated. In a future version, integer keys will always be treated as labels (consistent with DataFrame behavior). To set a value by position, use `ser.iloc[pos] = value`\n",
      "\n",
      "/var/folders/9r/yl209mt550g4h4t5v79dcyw80000gr/T/ipykernel_15307/2131278476.py:13: FutureWarning:\n",
      "\n",
      "Series.__setitem__ treating keys as positions is deprecated. In a future version, integer keys will always be treated as labels (consistent with DataFrame behavior). To set a value by position, use `ser.iloc[pos] = value`\n",
      "\n",
      "/var/folders/9r/yl209mt550g4h4t5v79dcyw80000gr/T/ipykernel_15307/2131278476.py:13: FutureWarning:\n",
      "\n",
      "Series.__setitem__ treating keys as positions is deprecated. In a future version, integer keys will always be treated as labels (consistent with DataFrame behavior). To set a value by position, use `ser.iloc[pos] = value`\n",
      "\n",
      "/var/folders/9r/yl209mt550g4h4t5v79dcyw80000gr/T/ipykernel_15307/2131278476.py:13: FutureWarning:\n",
      "\n",
      "Series.__setitem__ treating keys as positions is deprecated. In a future version, integer keys will always be treated as labels (consistent with DataFrame behavior). To set a value by position, use `ser.iloc[pos] = value`\n",
      "\n",
      "/var/folders/9r/yl209mt550g4h4t5v79dcyw80000gr/T/ipykernel_15307/2131278476.py:13: FutureWarning:\n",
      "\n",
      "Series.__setitem__ treating keys as positions is deprecated. In a future version, integer keys will always be treated as labels (consistent with DataFrame behavior). To set a value by position, use `ser.iloc[pos] = value`\n",
      "\n",
      "/var/folders/9r/yl209mt550g4h4t5v79dcyw80000gr/T/ipykernel_15307/2131278476.py:13: FutureWarning:\n",
      "\n",
      "Series.__setitem__ treating keys as positions is deprecated. In a future version, integer keys will always be treated as labels (consistent with DataFrame behavior). To set a value by position, use `ser.iloc[pos] = value`\n",
      "\n",
      "/var/folders/9r/yl209mt550g4h4t5v79dcyw80000gr/T/ipykernel_15307/2131278476.py:13: FutureWarning:\n",
      "\n",
      "Series.__setitem__ treating keys as positions is deprecated. In a future version, integer keys will always be treated as labels (consistent with DataFrame behavior). To set a value by position, use `ser.iloc[pos] = value`\n",
      "\n",
      "/var/folders/9r/yl209mt550g4h4t5v79dcyw80000gr/T/ipykernel_15307/2131278476.py:13: FutureWarning:\n",
      "\n",
      "Series.__setitem__ treating keys as positions is deprecated. In a future version, integer keys will always be treated as labels (consistent with DataFrame behavior). To set a value by position, use `ser.iloc[pos] = value`\n",
      "\n",
      "/var/folders/9r/yl209mt550g4h4t5v79dcyw80000gr/T/ipykernel_15307/2131278476.py:13: FutureWarning:\n",
      "\n",
      "Series.__setitem__ treating keys as positions is deprecated. In a future version, integer keys will always be treated as labels (consistent with DataFrame behavior). To set a value by position, use `ser.iloc[pos] = value`\n",
      "\n",
      "/var/folders/9r/yl209mt550g4h4t5v79dcyw80000gr/T/ipykernel_15307/2131278476.py:13: FutureWarning:\n",
      "\n",
      "Series.__setitem__ treating keys as positions is deprecated. In a future version, integer keys will always be treated as labels (consistent with DataFrame behavior). To set a value by position, use `ser.iloc[pos] = value`\n",
      "\n",
      "/var/folders/9r/yl209mt550g4h4t5v79dcyw80000gr/T/ipykernel_15307/2131278476.py:13: FutureWarning:\n",
      "\n",
      "Series.__setitem__ treating keys as positions is deprecated. In a future version, integer keys will always be treated as labels (consistent with DataFrame behavior). To set a value by position, use `ser.iloc[pos] = value`\n",
      "\n",
      "/var/folders/9r/yl209mt550g4h4t5v79dcyw80000gr/T/ipykernel_15307/2131278476.py:13: FutureWarning:\n",
      "\n",
      "Series.__setitem__ treating keys as positions is deprecated. In a future version, integer keys will always be treated as labels (consistent with DataFrame behavior). To set a value by position, use `ser.iloc[pos] = value`\n",
      "\n",
      "/var/folders/9r/yl209mt550g4h4t5v79dcyw80000gr/T/ipykernel_15307/2131278476.py:13: FutureWarning:\n",
      "\n",
      "Series.__setitem__ treating keys as positions is deprecated. In a future version, integer keys will always be treated as labels (consistent with DataFrame behavior). To set a value by position, use `ser.iloc[pos] = value`\n",
      "\n",
      "/var/folders/9r/yl209mt550g4h4t5v79dcyw80000gr/T/ipykernel_15307/2131278476.py:13: FutureWarning:\n",
      "\n",
      "Series.__setitem__ treating keys as positions is deprecated. In a future version, integer keys will always be treated as labels (consistent with DataFrame behavior). To set a value by position, use `ser.iloc[pos] = value`\n",
      "\n",
      "/var/folders/9r/yl209mt550g4h4t5v79dcyw80000gr/T/ipykernel_15307/2131278476.py:13: FutureWarning:\n",
      "\n",
      "Series.__setitem__ treating keys as positions is deprecated. In a future version, integer keys will always be treated as labels (consistent with DataFrame behavior). To set a value by position, use `ser.iloc[pos] = value`\n",
      "\n",
      "/var/folders/9r/yl209mt550g4h4t5v79dcyw80000gr/T/ipykernel_15307/2131278476.py:13: FutureWarning:\n",
      "\n",
      "Series.__setitem__ treating keys as positions is deprecated. In a future version, integer keys will always be treated as labels (consistent with DataFrame behavior). To set a value by position, use `ser.iloc[pos] = value`\n",
      "\n",
      "/var/folders/9r/yl209mt550g4h4t5v79dcyw80000gr/T/ipykernel_15307/2131278476.py:13: FutureWarning:\n",
      "\n",
      "Series.__setitem__ treating keys as positions is deprecated. In a future version, integer keys will always be treated as labels (consistent with DataFrame behavior). To set a value by position, use `ser.iloc[pos] = value`\n",
      "\n",
      "/var/folders/9r/yl209mt550g4h4t5v79dcyw80000gr/T/ipykernel_15307/2131278476.py:13: FutureWarning:\n",
      "\n",
      "Series.__setitem__ treating keys as positions is deprecated. In a future version, integer keys will always be treated as labels (consistent with DataFrame behavior). To set a value by position, use `ser.iloc[pos] = value`\n",
      "\n",
      "/var/folders/9r/yl209mt550g4h4t5v79dcyw80000gr/T/ipykernel_15307/2131278476.py:13: FutureWarning:\n",
      "\n",
      "Series.__setitem__ treating keys as positions is deprecated. In a future version, integer keys will always be treated as labels (consistent with DataFrame behavior). To set a value by position, use `ser.iloc[pos] = value`\n",
      "\n",
      "/var/folders/9r/yl209mt550g4h4t5v79dcyw80000gr/T/ipykernel_15307/2131278476.py:13: FutureWarning:\n",
      "\n",
      "Series.__setitem__ treating keys as positions is deprecated. In a future version, integer keys will always be treated as labels (consistent with DataFrame behavior). To set a value by position, use `ser.iloc[pos] = value`\n",
      "\n",
      "/var/folders/9r/yl209mt550g4h4t5v79dcyw80000gr/T/ipykernel_15307/2131278476.py:13: FutureWarning:\n",
      "\n",
      "Series.__setitem__ treating keys as positions is deprecated. In a future version, integer keys will always be treated as labels (consistent with DataFrame behavior). To set a value by position, use `ser.iloc[pos] = value`\n",
      "\n",
      "/var/folders/9r/yl209mt550g4h4t5v79dcyw80000gr/T/ipykernel_15307/2131278476.py:13: FutureWarning:\n",
      "\n",
      "Series.__setitem__ treating keys as positions is deprecated. In a future version, integer keys will always be treated as labels (consistent with DataFrame behavior). To set a value by position, use `ser.iloc[pos] = value`\n",
      "\n",
      "/var/folders/9r/yl209mt550g4h4t5v79dcyw80000gr/T/ipykernel_15307/2131278476.py:13: FutureWarning:\n",
      "\n",
      "Series.__setitem__ treating keys as positions is deprecated. In a future version, integer keys will always be treated as labels (consistent with DataFrame behavior). To set a value by position, use `ser.iloc[pos] = value`\n",
      "\n",
      "/var/folders/9r/yl209mt550g4h4t5v79dcyw80000gr/T/ipykernel_15307/2131278476.py:13: FutureWarning:\n",
      "\n",
      "Series.__setitem__ treating keys as positions is deprecated. In a future version, integer keys will always be treated as labels (consistent with DataFrame behavior). To set a value by position, use `ser.iloc[pos] = value`\n",
      "\n",
      "/var/folders/9r/yl209mt550g4h4t5v79dcyw80000gr/T/ipykernel_15307/2131278476.py:13: FutureWarning:\n",
      "\n",
      "Series.__setitem__ treating keys as positions is deprecated. In a future version, integer keys will always be treated as labels (consistent with DataFrame behavior). To set a value by position, use `ser.iloc[pos] = value`\n",
      "\n",
      "/var/folders/9r/yl209mt550g4h4t5v79dcyw80000gr/T/ipykernel_15307/2131278476.py:13: FutureWarning:\n",
      "\n",
      "Series.__setitem__ treating keys as positions is deprecated. In a future version, integer keys will always be treated as labels (consistent with DataFrame behavior). To set a value by position, use `ser.iloc[pos] = value`\n",
      "\n",
      "/var/folders/9r/yl209mt550g4h4t5v79dcyw80000gr/T/ipykernel_15307/2131278476.py:13: FutureWarning:\n",
      "\n",
      "Series.__setitem__ treating keys as positions is deprecated. In a future version, integer keys will always be treated as labels (consistent with DataFrame behavior). To set a value by position, use `ser.iloc[pos] = value`\n",
      "\n",
      "/var/folders/9r/yl209mt550g4h4t5v79dcyw80000gr/T/ipykernel_15307/2131278476.py:13: FutureWarning:\n",
      "\n",
      "Series.__setitem__ treating keys as positions is deprecated. In a future version, integer keys will always be treated as labels (consistent with DataFrame behavior). To set a value by position, use `ser.iloc[pos] = value`\n",
      "\n",
      "/var/folders/9r/yl209mt550g4h4t5v79dcyw80000gr/T/ipykernel_15307/2131278476.py:13: FutureWarning:\n",
      "\n",
      "Series.__setitem__ treating keys as positions is deprecated. In a future version, integer keys will always be treated as labels (consistent with DataFrame behavior). To set a value by position, use `ser.iloc[pos] = value`\n",
      "\n",
      "/var/folders/9r/yl209mt550g4h4t5v79dcyw80000gr/T/ipykernel_15307/2131278476.py:13: FutureWarning:\n",
      "\n",
      "Series.__setitem__ treating keys as positions is deprecated. In a future version, integer keys will always be treated as labels (consistent with DataFrame behavior). To set a value by position, use `ser.iloc[pos] = value`\n",
      "\n",
      "/var/folders/9r/yl209mt550g4h4t5v79dcyw80000gr/T/ipykernel_15307/2131278476.py:13: FutureWarning:\n",
      "\n",
      "Series.__setitem__ treating keys as positions is deprecated. In a future version, integer keys will always be treated as labels (consistent with DataFrame behavior). To set a value by position, use `ser.iloc[pos] = value`\n",
      "\n",
      "/var/folders/9r/yl209mt550g4h4t5v79dcyw80000gr/T/ipykernel_15307/2131278476.py:13: FutureWarning:\n",
      "\n",
      "Series.__setitem__ treating keys as positions is deprecated. In a future version, integer keys will always be treated as labels (consistent with DataFrame behavior). To set a value by position, use `ser.iloc[pos] = value`\n",
      "\n",
      "/var/folders/9r/yl209mt550g4h4t5v79dcyw80000gr/T/ipykernel_15307/2131278476.py:13: FutureWarning:\n",
      "\n",
      "Series.__setitem__ treating keys as positions is deprecated. In a future version, integer keys will always be treated as labels (consistent with DataFrame behavior). To set a value by position, use `ser.iloc[pos] = value`\n",
      "\n",
      "/var/folders/9r/yl209mt550g4h4t5v79dcyw80000gr/T/ipykernel_15307/2131278476.py:13: FutureWarning:\n",
      "\n",
      "Series.__setitem__ treating keys as positions is deprecated. In a future version, integer keys will always be treated as labels (consistent with DataFrame behavior). To set a value by position, use `ser.iloc[pos] = value`\n",
      "\n",
      "/var/folders/9r/yl209mt550g4h4t5v79dcyw80000gr/T/ipykernel_15307/2131278476.py:13: FutureWarning:\n",
      "\n",
      "Series.__setitem__ treating keys as positions is deprecated. In a future version, integer keys will always be treated as labels (consistent with DataFrame behavior). To set a value by position, use `ser.iloc[pos] = value`\n",
      "\n",
      "/var/folders/9r/yl209mt550g4h4t5v79dcyw80000gr/T/ipykernel_15307/2131278476.py:13: FutureWarning:\n",
      "\n",
      "Series.__setitem__ treating keys as positions is deprecated. In a future version, integer keys will always be treated as labels (consistent with DataFrame behavior). To set a value by position, use `ser.iloc[pos] = value`\n",
      "\n",
      "/var/folders/9r/yl209mt550g4h4t5v79dcyw80000gr/T/ipykernel_15307/2131278476.py:13: FutureWarning:\n",
      "\n",
      "Series.__setitem__ treating keys as positions is deprecated. In a future version, integer keys will always be treated as labels (consistent with DataFrame behavior). To set a value by position, use `ser.iloc[pos] = value`\n",
      "\n",
      "/var/folders/9r/yl209mt550g4h4t5v79dcyw80000gr/T/ipykernel_15307/2131278476.py:13: FutureWarning:\n",
      "\n",
      "Series.__setitem__ treating keys as positions is deprecated. In a future version, integer keys will always be treated as labels (consistent with DataFrame behavior). To set a value by position, use `ser.iloc[pos] = value`\n",
      "\n",
      "/var/folders/9r/yl209mt550g4h4t5v79dcyw80000gr/T/ipykernel_15307/2131278476.py:13: FutureWarning:\n",
      "\n",
      "Series.__setitem__ treating keys as positions is deprecated. In a future version, integer keys will always be treated as labels (consistent with DataFrame behavior). To set a value by position, use `ser.iloc[pos] = value`\n",
      "\n",
      "/var/folders/9r/yl209mt550g4h4t5v79dcyw80000gr/T/ipykernel_15307/2131278476.py:13: FutureWarning:\n",
      "\n",
      "Series.__setitem__ treating keys as positions is deprecated. In a future version, integer keys will always be treated as labels (consistent with DataFrame behavior). To set a value by position, use `ser.iloc[pos] = value`\n",
      "\n",
      "/var/folders/9r/yl209mt550g4h4t5v79dcyw80000gr/T/ipykernel_15307/2131278476.py:13: FutureWarning:\n",
      "\n",
      "Series.__setitem__ treating keys as positions is deprecated. In a future version, integer keys will always be treated as labels (consistent with DataFrame behavior). To set a value by position, use `ser.iloc[pos] = value`\n",
      "\n",
      "/var/folders/9r/yl209mt550g4h4t5v79dcyw80000gr/T/ipykernel_15307/2131278476.py:13: FutureWarning:\n",
      "\n",
      "Series.__setitem__ treating keys as positions is deprecated. In a future version, integer keys will always be treated as labels (consistent with DataFrame behavior). To set a value by position, use `ser.iloc[pos] = value`\n",
      "\n",
      "/var/folders/9r/yl209mt550g4h4t5v79dcyw80000gr/T/ipykernel_15307/2131278476.py:13: FutureWarning:\n",
      "\n",
      "Series.__setitem__ treating keys as positions is deprecated. In a future version, integer keys will always be treated as labels (consistent with DataFrame behavior). To set a value by position, use `ser.iloc[pos] = value`\n",
      "\n",
      "/var/folders/9r/yl209mt550g4h4t5v79dcyw80000gr/T/ipykernel_15307/2131278476.py:13: FutureWarning:\n",
      "\n",
      "Series.__setitem__ treating keys as positions is deprecated. In a future version, integer keys will always be treated as labels (consistent with DataFrame behavior). To set a value by position, use `ser.iloc[pos] = value`\n",
      "\n",
      "/var/folders/9r/yl209mt550g4h4t5v79dcyw80000gr/T/ipykernel_15307/2131278476.py:13: FutureWarning:\n",
      "\n",
      "Series.__setitem__ treating keys as positions is deprecated. In a future version, integer keys will always be treated as labels (consistent with DataFrame behavior). To set a value by position, use `ser.iloc[pos] = value`\n",
      "\n",
      "/var/folders/9r/yl209mt550g4h4t5v79dcyw80000gr/T/ipykernel_15307/2131278476.py:13: FutureWarning:\n",
      "\n",
      "Series.__setitem__ treating keys as positions is deprecated. In a future version, integer keys will always be treated as labels (consistent with DataFrame behavior). To set a value by position, use `ser.iloc[pos] = value`\n",
      "\n",
      "/var/folders/9r/yl209mt550g4h4t5v79dcyw80000gr/T/ipykernel_15307/2131278476.py:13: FutureWarning:\n",
      "\n",
      "Series.__setitem__ treating keys as positions is deprecated. In a future version, integer keys will always be treated as labels (consistent with DataFrame behavior). To set a value by position, use `ser.iloc[pos] = value`\n",
      "\n",
      "/var/folders/9r/yl209mt550g4h4t5v79dcyw80000gr/T/ipykernel_15307/2131278476.py:13: FutureWarning:\n",
      "\n",
      "Series.__setitem__ treating keys as positions is deprecated. In a future version, integer keys will always be treated as labels (consistent with DataFrame behavior). To set a value by position, use `ser.iloc[pos] = value`\n",
      "\n",
      "/var/folders/9r/yl209mt550g4h4t5v79dcyw80000gr/T/ipykernel_15307/2131278476.py:13: FutureWarning:\n",
      "\n",
      "Series.__setitem__ treating keys as positions is deprecated. In a future version, integer keys will always be treated as labels (consistent with DataFrame behavior). To set a value by position, use `ser.iloc[pos] = value`\n",
      "\n",
      "/var/folders/9r/yl209mt550g4h4t5v79dcyw80000gr/T/ipykernel_15307/2131278476.py:13: FutureWarning:\n",
      "\n",
      "Series.__setitem__ treating keys as positions is deprecated. In a future version, integer keys will always be treated as labels (consistent with DataFrame behavior). To set a value by position, use `ser.iloc[pos] = value`\n",
      "\n",
      "/var/folders/9r/yl209mt550g4h4t5v79dcyw80000gr/T/ipykernel_15307/2131278476.py:13: FutureWarning:\n",
      "\n",
      "Series.__setitem__ treating keys as positions is deprecated. In a future version, integer keys will always be treated as labels (consistent with DataFrame behavior). To set a value by position, use `ser.iloc[pos] = value`\n",
      "\n",
      "/var/folders/9r/yl209mt550g4h4t5v79dcyw80000gr/T/ipykernel_15307/2131278476.py:13: FutureWarning:\n",
      "\n",
      "Series.__setitem__ treating keys as positions is deprecated. In a future version, integer keys will always be treated as labels (consistent with DataFrame behavior). To set a value by position, use `ser.iloc[pos] = value`\n",
      "\n",
      "/var/folders/9r/yl209mt550g4h4t5v79dcyw80000gr/T/ipykernel_15307/2131278476.py:13: FutureWarning:\n",
      "\n",
      "Series.__setitem__ treating keys as positions is deprecated. In a future version, integer keys will always be treated as labels (consistent with DataFrame behavior). To set a value by position, use `ser.iloc[pos] = value`\n",
      "\n",
      "/var/folders/9r/yl209mt550g4h4t5v79dcyw80000gr/T/ipykernel_15307/2131278476.py:13: FutureWarning:\n",
      "\n",
      "Series.__setitem__ treating keys as positions is deprecated. In a future version, integer keys will always be treated as labels (consistent with DataFrame behavior). To set a value by position, use `ser.iloc[pos] = value`\n",
      "\n",
      "/var/folders/9r/yl209mt550g4h4t5v79dcyw80000gr/T/ipykernel_15307/2131278476.py:13: FutureWarning:\n",
      "\n",
      "Series.__setitem__ treating keys as positions is deprecated. In a future version, integer keys will always be treated as labels (consistent with DataFrame behavior). To set a value by position, use `ser.iloc[pos] = value`\n",
      "\n",
      "/var/folders/9r/yl209mt550g4h4t5v79dcyw80000gr/T/ipykernel_15307/2131278476.py:13: FutureWarning:\n",
      "\n",
      "Series.__setitem__ treating keys as positions is deprecated. In a future version, integer keys will always be treated as labels (consistent with DataFrame behavior). To set a value by position, use `ser.iloc[pos] = value`\n",
      "\n",
      "/var/folders/9r/yl209mt550g4h4t5v79dcyw80000gr/T/ipykernel_15307/2131278476.py:13: FutureWarning:\n",
      "\n",
      "Series.__setitem__ treating keys as positions is deprecated. In a future version, integer keys will always be treated as labels (consistent with DataFrame behavior). To set a value by position, use `ser.iloc[pos] = value`\n",
      "\n",
      "/var/folders/9r/yl209mt550g4h4t5v79dcyw80000gr/T/ipykernel_15307/2131278476.py:13: FutureWarning:\n",
      "\n",
      "Series.__setitem__ treating keys as positions is deprecated. In a future version, integer keys will always be treated as labels (consistent with DataFrame behavior). To set a value by position, use `ser.iloc[pos] = value`\n",
      "\n",
      "/var/folders/9r/yl209mt550g4h4t5v79dcyw80000gr/T/ipykernel_15307/2131278476.py:13: FutureWarning:\n",
      "\n",
      "Series.__setitem__ treating keys as positions is deprecated. In a future version, integer keys will always be treated as labels (consistent with DataFrame behavior). To set a value by position, use `ser.iloc[pos] = value`\n",
      "\n",
      "/var/folders/9r/yl209mt550g4h4t5v79dcyw80000gr/T/ipykernel_15307/2131278476.py:13: FutureWarning:\n",
      "\n",
      "Series.__setitem__ treating keys as positions is deprecated. In a future version, integer keys will always be treated as labels (consistent with DataFrame behavior). To set a value by position, use `ser.iloc[pos] = value`\n",
      "\n",
      "/var/folders/9r/yl209mt550g4h4t5v79dcyw80000gr/T/ipykernel_15307/2131278476.py:13: FutureWarning:\n",
      "\n",
      "Series.__setitem__ treating keys as positions is deprecated. In a future version, integer keys will always be treated as labels (consistent with DataFrame behavior). To set a value by position, use `ser.iloc[pos] = value`\n",
      "\n",
      "/var/folders/9r/yl209mt550g4h4t5v79dcyw80000gr/T/ipykernel_15307/2131278476.py:13: FutureWarning:\n",
      "\n",
      "Series.__setitem__ treating keys as positions is deprecated. In a future version, integer keys will always be treated as labels (consistent with DataFrame behavior). To set a value by position, use `ser.iloc[pos] = value`\n",
      "\n",
      "/var/folders/9r/yl209mt550g4h4t5v79dcyw80000gr/T/ipykernel_15307/2131278476.py:13: FutureWarning:\n",
      "\n",
      "Series.__setitem__ treating keys as positions is deprecated. In a future version, integer keys will always be treated as labels (consistent with DataFrame behavior). To set a value by position, use `ser.iloc[pos] = value`\n",
      "\n",
      "/var/folders/9r/yl209mt550g4h4t5v79dcyw80000gr/T/ipykernel_15307/2131278476.py:13: FutureWarning:\n",
      "\n",
      "Series.__setitem__ treating keys as positions is deprecated. In a future version, integer keys will always be treated as labels (consistent with DataFrame behavior). To set a value by position, use `ser.iloc[pos] = value`\n",
      "\n",
      "/var/folders/9r/yl209mt550g4h4t5v79dcyw80000gr/T/ipykernel_15307/2131278476.py:13: FutureWarning:\n",
      "\n",
      "Series.__setitem__ treating keys as positions is deprecated. In a future version, integer keys will always be treated as labels (consistent with DataFrame behavior). To set a value by position, use `ser.iloc[pos] = value`\n",
      "\n",
      "/var/folders/9r/yl209mt550g4h4t5v79dcyw80000gr/T/ipykernel_15307/2131278476.py:13: FutureWarning:\n",
      "\n",
      "Series.__setitem__ treating keys as positions is deprecated. In a future version, integer keys will always be treated as labels (consistent with DataFrame behavior). To set a value by position, use `ser.iloc[pos] = value`\n",
      "\n",
      "/var/folders/9r/yl209mt550g4h4t5v79dcyw80000gr/T/ipykernel_15307/2131278476.py:13: FutureWarning:\n",
      "\n",
      "Series.__setitem__ treating keys as positions is deprecated. In a future version, integer keys will always be treated as labels (consistent with DataFrame behavior). To set a value by position, use `ser.iloc[pos] = value`\n",
      "\n",
      "/var/folders/9r/yl209mt550g4h4t5v79dcyw80000gr/T/ipykernel_15307/2131278476.py:13: FutureWarning:\n",
      "\n",
      "Series.__setitem__ treating keys as positions is deprecated. In a future version, integer keys will always be treated as labels (consistent with DataFrame behavior). To set a value by position, use `ser.iloc[pos] = value`\n",
      "\n",
      "/var/folders/9r/yl209mt550g4h4t5v79dcyw80000gr/T/ipykernel_15307/2131278476.py:13: FutureWarning:\n",
      "\n",
      "Series.__setitem__ treating keys as positions is deprecated. In a future version, integer keys will always be treated as labels (consistent with DataFrame behavior). To set a value by position, use `ser.iloc[pos] = value`\n",
      "\n",
      "/var/folders/9r/yl209mt550g4h4t5v79dcyw80000gr/T/ipykernel_15307/2131278476.py:13: FutureWarning:\n",
      "\n",
      "Series.__setitem__ treating keys as positions is deprecated. In a future version, integer keys will always be treated as labels (consistent with DataFrame behavior). To set a value by position, use `ser.iloc[pos] = value`\n",
      "\n",
      "/var/folders/9r/yl209mt550g4h4t5v79dcyw80000gr/T/ipykernel_15307/2131278476.py:13: FutureWarning:\n",
      "\n",
      "Series.__setitem__ treating keys as positions is deprecated. In a future version, integer keys will always be treated as labels (consistent with DataFrame behavior). To set a value by position, use `ser.iloc[pos] = value`\n",
      "\n",
      "/var/folders/9r/yl209mt550g4h4t5v79dcyw80000gr/T/ipykernel_15307/2131278476.py:13: FutureWarning:\n",
      "\n",
      "Series.__setitem__ treating keys as positions is deprecated. In a future version, integer keys will always be treated as labels (consistent with DataFrame behavior). To set a value by position, use `ser.iloc[pos] = value`\n",
      "\n",
      "/var/folders/9r/yl209mt550g4h4t5v79dcyw80000gr/T/ipykernel_15307/2131278476.py:13: FutureWarning:\n",
      "\n",
      "Series.__setitem__ treating keys as positions is deprecated. In a future version, integer keys will always be treated as labels (consistent with DataFrame behavior). To set a value by position, use `ser.iloc[pos] = value`\n",
      "\n",
      "/var/folders/9r/yl209mt550g4h4t5v79dcyw80000gr/T/ipykernel_15307/2131278476.py:13: FutureWarning:\n",
      "\n",
      "Series.__setitem__ treating keys as positions is deprecated. In a future version, integer keys will always be treated as labels (consistent with DataFrame behavior). To set a value by position, use `ser.iloc[pos] = value`\n",
      "\n",
      "/var/folders/9r/yl209mt550g4h4t5v79dcyw80000gr/T/ipykernel_15307/2131278476.py:13: FutureWarning:\n",
      "\n",
      "Series.__setitem__ treating keys as positions is deprecated. In a future version, integer keys will always be treated as labels (consistent with DataFrame behavior). To set a value by position, use `ser.iloc[pos] = value`\n",
      "\n",
      "/var/folders/9r/yl209mt550g4h4t5v79dcyw80000gr/T/ipykernel_15307/2131278476.py:13: FutureWarning:\n",
      "\n",
      "Series.__setitem__ treating keys as positions is deprecated. In a future version, integer keys will always be treated as labels (consistent with DataFrame behavior). To set a value by position, use `ser.iloc[pos] = value`\n",
      "\n",
      "/var/folders/9r/yl209mt550g4h4t5v79dcyw80000gr/T/ipykernel_15307/2131278476.py:13: FutureWarning:\n",
      "\n",
      "Series.__setitem__ treating keys as positions is deprecated. In a future version, integer keys will always be treated as labels (consistent with DataFrame behavior). To set a value by position, use `ser.iloc[pos] = value`\n",
      "\n",
      "/var/folders/9r/yl209mt550g4h4t5v79dcyw80000gr/T/ipykernel_15307/2131278476.py:13: FutureWarning:\n",
      "\n",
      "Series.__setitem__ treating keys as positions is deprecated. In a future version, integer keys will always be treated as labels (consistent with DataFrame behavior). To set a value by position, use `ser.iloc[pos] = value`\n",
      "\n",
      "/var/folders/9r/yl209mt550g4h4t5v79dcyw80000gr/T/ipykernel_15307/2131278476.py:13: FutureWarning:\n",
      "\n",
      "Series.__setitem__ treating keys as positions is deprecated. In a future version, integer keys will always be treated as labels (consistent with DataFrame behavior). To set a value by position, use `ser.iloc[pos] = value`\n",
      "\n",
      "/var/folders/9r/yl209mt550g4h4t5v79dcyw80000gr/T/ipykernel_15307/2131278476.py:13: FutureWarning:\n",
      "\n",
      "Series.__setitem__ treating keys as positions is deprecated. In a future version, integer keys will always be treated as labels (consistent with DataFrame behavior). To set a value by position, use `ser.iloc[pos] = value`\n",
      "\n",
      "/var/folders/9r/yl209mt550g4h4t5v79dcyw80000gr/T/ipykernel_15307/2131278476.py:13: FutureWarning:\n",
      "\n",
      "Series.__setitem__ treating keys as positions is deprecated. In a future version, integer keys will always be treated as labels (consistent with DataFrame behavior). To set a value by position, use `ser.iloc[pos] = value`\n",
      "\n",
      "/var/folders/9r/yl209mt550g4h4t5v79dcyw80000gr/T/ipykernel_15307/2131278476.py:13: FutureWarning:\n",
      "\n",
      "Series.__setitem__ treating keys as positions is deprecated. In a future version, integer keys will always be treated as labels (consistent with DataFrame behavior). To set a value by position, use `ser.iloc[pos] = value`\n",
      "\n",
      "/var/folders/9r/yl209mt550g4h4t5v79dcyw80000gr/T/ipykernel_15307/2131278476.py:13: FutureWarning:\n",
      "\n",
      "Series.__setitem__ treating keys as positions is deprecated. In a future version, integer keys will always be treated as labels (consistent with DataFrame behavior). To set a value by position, use `ser.iloc[pos] = value`\n",
      "\n",
      "/var/folders/9r/yl209mt550g4h4t5v79dcyw80000gr/T/ipykernel_15307/2131278476.py:13: FutureWarning:\n",
      "\n",
      "Series.__setitem__ treating keys as positions is deprecated. In a future version, integer keys will always be treated as labels (consistent with DataFrame behavior). To set a value by position, use `ser.iloc[pos] = value`\n",
      "\n",
      "/var/folders/9r/yl209mt550g4h4t5v79dcyw80000gr/T/ipykernel_15307/2131278476.py:13: FutureWarning:\n",
      "\n",
      "Series.__setitem__ treating keys as positions is deprecated. In a future version, integer keys will always be treated as labels (consistent with DataFrame behavior). To set a value by position, use `ser.iloc[pos] = value`\n",
      "\n",
      "/var/folders/9r/yl209mt550g4h4t5v79dcyw80000gr/T/ipykernel_15307/2131278476.py:13: FutureWarning:\n",
      "\n",
      "Series.__setitem__ treating keys as positions is deprecated. In a future version, integer keys will always be treated as labels (consistent with DataFrame behavior). To set a value by position, use `ser.iloc[pos] = value`\n",
      "\n",
      "/var/folders/9r/yl209mt550g4h4t5v79dcyw80000gr/T/ipykernel_15307/2131278476.py:13: FutureWarning:\n",
      "\n",
      "Series.__setitem__ treating keys as positions is deprecated. In a future version, integer keys will always be treated as labels (consistent with DataFrame behavior). To set a value by position, use `ser.iloc[pos] = value`\n",
      "\n",
      "/var/folders/9r/yl209mt550g4h4t5v79dcyw80000gr/T/ipykernel_15307/2131278476.py:13: FutureWarning:\n",
      "\n",
      "Series.__setitem__ treating keys as positions is deprecated. In a future version, integer keys will always be treated as labels (consistent with DataFrame behavior). To set a value by position, use `ser.iloc[pos] = value`\n",
      "\n",
      "/var/folders/9r/yl209mt550g4h4t5v79dcyw80000gr/T/ipykernel_15307/2131278476.py:13: FutureWarning:\n",
      "\n",
      "Series.__setitem__ treating keys as positions is deprecated. In a future version, integer keys will always be treated as labels (consistent with DataFrame behavior). To set a value by position, use `ser.iloc[pos] = value`\n",
      "\n",
      "/var/folders/9r/yl209mt550g4h4t5v79dcyw80000gr/T/ipykernel_15307/2131278476.py:13: FutureWarning:\n",
      "\n",
      "Series.__setitem__ treating keys as positions is deprecated. In a future version, integer keys will always be treated as labels (consistent with DataFrame behavior). To set a value by position, use `ser.iloc[pos] = value`\n",
      "\n",
      "/var/folders/9r/yl209mt550g4h4t5v79dcyw80000gr/T/ipykernel_15307/2131278476.py:13: FutureWarning:\n",
      "\n",
      "Series.__setitem__ treating keys as positions is deprecated. In a future version, integer keys will always be treated as labels (consistent with DataFrame behavior). To set a value by position, use `ser.iloc[pos] = value`\n",
      "\n",
      "/var/folders/9r/yl209mt550g4h4t5v79dcyw80000gr/T/ipykernel_15307/2131278476.py:13: FutureWarning:\n",
      "\n",
      "Series.__setitem__ treating keys as positions is deprecated. In a future version, integer keys will always be treated as labels (consistent with DataFrame behavior). To set a value by position, use `ser.iloc[pos] = value`\n",
      "\n",
      "/var/folders/9r/yl209mt550g4h4t5v79dcyw80000gr/T/ipykernel_15307/2131278476.py:13: FutureWarning:\n",
      "\n",
      "Series.__setitem__ treating keys as positions is deprecated. In a future version, integer keys will always be treated as labels (consistent with DataFrame behavior). To set a value by position, use `ser.iloc[pos] = value`\n",
      "\n",
      "/var/folders/9r/yl209mt550g4h4t5v79dcyw80000gr/T/ipykernel_15307/2131278476.py:13: FutureWarning:\n",
      "\n",
      "Series.__setitem__ treating keys as positions is deprecated. In a future version, integer keys will always be treated as labels (consistent with DataFrame behavior). To set a value by position, use `ser.iloc[pos] = value`\n",
      "\n",
      "/var/folders/9r/yl209mt550g4h4t5v79dcyw80000gr/T/ipykernel_15307/2131278476.py:13: FutureWarning:\n",
      "\n",
      "Series.__setitem__ treating keys as positions is deprecated. In a future version, integer keys will always be treated as labels (consistent with DataFrame behavior). To set a value by position, use `ser.iloc[pos] = value`\n",
      "\n",
      "/var/folders/9r/yl209mt550g4h4t5v79dcyw80000gr/T/ipykernel_15307/2131278476.py:13: FutureWarning:\n",
      "\n",
      "Series.__setitem__ treating keys as positions is deprecated. In a future version, integer keys will always be treated as labels (consistent with DataFrame behavior). To set a value by position, use `ser.iloc[pos] = value`\n",
      "\n",
      "/var/folders/9r/yl209mt550g4h4t5v79dcyw80000gr/T/ipykernel_15307/2131278476.py:13: FutureWarning:\n",
      "\n",
      "Series.__setitem__ treating keys as positions is deprecated. In a future version, integer keys will always be treated as labels (consistent with DataFrame behavior). To set a value by position, use `ser.iloc[pos] = value`\n",
      "\n",
      "/var/folders/9r/yl209mt550g4h4t5v79dcyw80000gr/T/ipykernel_15307/2131278476.py:13: FutureWarning:\n",
      "\n",
      "Series.__setitem__ treating keys as positions is deprecated. In a future version, integer keys will always be treated as labels (consistent with DataFrame behavior). To set a value by position, use `ser.iloc[pos] = value`\n",
      "\n",
      "/var/folders/9r/yl209mt550g4h4t5v79dcyw80000gr/T/ipykernel_15307/2131278476.py:13: FutureWarning:\n",
      "\n",
      "Series.__setitem__ treating keys as positions is deprecated. In a future version, integer keys will always be treated as labels (consistent with DataFrame behavior). To set a value by position, use `ser.iloc[pos] = value`\n",
      "\n",
      "/var/folders/9r/yl209mt550g4h4t5v79dcyw80000gr/T/ipykernel_15307/2131278476.py:13: FutureWarning:\n",
      "\n",
      "Series.__setitem__ treating keys as positions is deprecated. In a future version, integer keys will always be treated as labels (consistent with DataFrame behavior). To set a value by position, use `ser.iloc[pos] = value`\n",
      "\n",
      "/var/folders/9r/yl209mt550g4h4t5v79dcyw80000gr/T/ipykernel_15307/2131278476.py:13: FutureWarning:\n",
      "\n",
      "Series.__setitem__ treating keys as positions is deprecated. In a future version, integer keys will always be treated as labels (consistent with DataFrame behavior). To set a value by position, use `ser.iloc[pos] = value`\n",
      "\n",
      "/var/folders/9r/yl209mt550g4h4t5v79dcyw80000gr/T/ipykernel_15307/2131278476.py:13: FutureWarning:\n",
      "\n",
      "Series.__setitem__ treating keys as positions is deprecated. In a future version, integer keys will always be treated as labels (consistent with DataFrame behavior). To set a value by position, use `ser.iloc[pos] = value`\n",
      "\n",
      "/var/folders/9r/yl209mt550g4h4t5v79dcyw80000gr/T/ipykernel_15307/2131278476.py:13: FutureWarning:\n",
      "\n",
      "Series.__setitem__ treating keys as positions is deprecated. In a future version, integer keys will always be treated as labels (consistent with DataFrame behavior). To set a value by position, use `ser.iloc[pos] = value`\n",
      "\n",
      "/var/folders/9r/yl209mt550g4h4t5v79dcyw80000gr/T/ipykernel_15307/2131278476.py:13: FutureWarning:\n",
      "\n",
      "Series.__setitem__ treating keys as positions is deprecated. In a future version, integer keys will always be treated as labels (consistent with DataFrame behavior). To set a value by position, use `ser.iloc[pos] = value`\n",
      "\n",
      "/var/folders/9r/yl209mt550g4h4t5v79dcyw80000gr/T/ipykernel_15307/2131278476.py:13: FutureWarning:\n",
      "\n",
      "Series.__setitem__ treating keys as positions is deprecated. In a future version, integer keys will always be treated as labels (consistent with DataFrame behavior). To set a value by position, use `ser.iloc[pos] = value`\n",
      "\n",
      "/var/folders/9r/yl209mt550g4h4t5v79dcyw80000gr/T/ipykernel_15307/2131278476.py:13: FutureWarning:\n",
      "\n",
      "Series.__setitem__ treating keys as positions is deprecated. In a future version, integer keys will always be treated as labels (consistent with DataFrame behavior). To set a value by position, use `ser.iloc[pos] = value`\n",
      "\n",
      "/var/folders/9r/yl209mt550g4h4t5v79dcyw80000gr/T/ipykernel_15307/2131278476.py:13: FutureWarning:\n",
      "\n",
      "Series.__setitem__ treating keys as positions is deprecated. In a future version, integer keys will always be treated as labels (consistent with DataFrame behavior). To set a value by position, use `ser.iloc[pos] = value`\n",
      "\n",
      "/var/folders/9r/yl209mt550g4h4t5v79dcyw80000gr/T/ipykernel_15307/2131278476.py:13: FutureWarning:\n",
      "\n",
      "Series.__setitem__ treating keys as positions is deprecated. In a future version, integer keys will always be treated as labels (consistent with DataFrame behavior). To set a value by position, use `ser.iloc[pos] = value`\n",
      "\n",
      "/var/folders/9r/yl209mt550g4h4t5v79dcyw80000gr/T/ipykernel_15307/2131278476.py:13: FutureWarning:\n",
      "\n",
      "Series.__setitem__ treating keys as positions is deprecated. In a future version, integer keys will always be treated as labels (consistent with DataFrame behavior). To set a value by position, use `ser.iloc[pos] = value`\n",
      "\n",
      "/var/folders/9r/yl209mt550g4h4t5v79dcyw80000gr/T/ipykernel_15307/2131278476.py:13: FutureWarning:\n",
      "\n",
      "Series.__setitem__ treating keys as positions is deprecated. In a future version, integer keys will always be treated as labels (consistent with DataFrame behavior). To set a value by position, use `ser.iloc[pos] = value`\n",
      "\n",
      "/var/folders/9r/yl209mt550g4h4t5v79dcyw80000gr/T/ipykernel_15307/2131278476.py:13: FutureWarning:\n",
      "\n",
      "Series.__setitem__ treating keys as positions is deprecated. In a future version, integer keys will always be treated as labels (consistent with DataFrame behavior). To set a value by position, use `ser.iloc[pos] = value`\n",
      "\n",
      "/var/folders/9r/yl209mt550g4h4t5v79dcyw80000gr/T/ipykernel_15307/2131278476.py:13: FutureWarning:\n",
      "\n",
      "Series.__setitem__ treating keys as positions is deprecated. In a future version, integer keys will always be treated as labels (consistent with DataFrame behavior). To set a value by position, use `ser.iloc[pos] = value`\n",
      "\n",
      "/var/folders/9r/yl209mt550g4h4t5v79dcyw80000gr/T/ipykernel_15307/2131278476.py:13: FutureWarning:\n",
      "\n",
      "Series.__setitem__ treating keys as positions is deprecated. In a future version, integer keys will always be treated as labels (consistent with DataFrame behavior). To set a value by position, use `ser.iloc[pos] = value`\n",
      "\n",
      "/var/folders/9r/yl209mt550g4h4t5v79dcyw80000gr/T/ipykernel_15307/2131278476.py:13: FutureWarning:\n",
      "\n",
      "Series.__setitem__ treating keys as positions is deprecated. In a future version, integer keys will always be treated as labels (consistent with DataFrame behavior). To set a value by position, use `ser.iloc[pos] = value`\n",
      "\n",
      "/var/folders/9r/yl209mt550g4h4t5v79dcyw80000gr/T/ipykernel_15307/2131278476.py:13: FutureWarning:\n",
      "\n",
      "Series.__setitem__ treating keys as positions is deprecated. In a future version, integer keys will always be treated as labels (consistent with DataFrame behavior). To set a value by position, use `ser.iloc[pos] = value`\n",
      "\n",
      "/var/folders/9r/yl209mt550g4h4t5v79dcyw80000gr/T/ipykernel_15307/2131278476.py:13: FutureWarning:\n",
      "\n",
      "Series.__setitem__ treating keys as positions is deprecated. In a future version, integer keys will always be treated as labels (consistent with DataFrame behavior). To set a value by position, use `ser.iloc[pos] = value`\n",
      "\n",
      "/var/folders/9r/yl209mt550g4h4t5v79dcyw80000gr/T/ipykernel_15307/2131278476.py:13: FutureWarning:\n",
      "\n",
      "Series.__setitem__ treating keys as positions is deprecated. In a future version, integer keys will always be treated as labels (consistent with DataFrame behavior). To set a value by position, use `ser.iloc[pos] = value`\n",
      "\n",
      "/var/folders/9r/yl209mt550g4h4t5v79dcyw80000gr/T/ipykernel_15307/2131278476.py:13: FutureWarning:\n",
      "\n",
      "Series.__setitem__ treating keys as positions is deprecated. In a future version, integer keys will always be treated as labels (consistent with DataFrame behavior). To set a value by position, use `ser.iloc[pos] = value`\n",
      "\n",
      "/var/folders/9r/yl209mt550g4h4t5v79dcyw80000gr/T/ipykernel_15307/2131278476.py:13: FutureWarning:\n",
      "\n",
      "Series.__setitem__ treating keys as positions is deprecated. In a future version, integer keys will always be treated as labels (consistent with DataFrame behavior). To set a value by position, use `ser.iloc[pos] = value`\n",
      "\n",
      "/var/folders/9r/yl209mt550g4h4t5v79dcyw80000gr/T/ipykernel_15307/2131278476.py:13: FutureWarning:\n",
      "\n",
      "Series.__setitem__ treating keys as positions is deprecated. In a future version, integer keys will always be treated as labels (consistent with DataFrame behavior). To set a value by position, use `ser.iloc[pos] = value`\n",
      "\n",
      "/var/folders/9r/yl209mt550g4h4t5v79dcyw80000gr/T/ipykernel_15307/2131278476.py:13: FutureWarning:\n",
      "\n",
      "Series.__setitem__ treating keys as positions is deprecated. In a future version, integer keys will always be treated as labels (consistent with DataFrame behavior). To set a value by position, use `ser.iloc[pos] = value`\n",
      "\n",
      "/var/folders/9r/yl209mt550g4h4t5v79dcyw80000gr/T/ipykernel_15307/2131278476.py:13: FutureWarning:\n",
      "\n",
      "Series.__setitem__ treating keys as positions is deprecated. In a future version, integer keys will always be treated as labels (consistent with DataFrame behavior). To set a value by position, use `ser.iloc[pos] = value`\n",
      "\n",
      "/var/folders/9r/yl209mt550g4h4t5v79dcyw80000gr/T/ipykernel_15307/2131278476.py:13: FutureWarning:\n",
      "\n",
      "Series.__setitem__ treating keys as positions is deprecated. In a future version, integer keys will always be treated as labels (consistent with DataFrame behavior). To set a value by position, use `ser.iloc[pos] = value`\n",
      "\n",
      "/var/folders/9r/yl209mt550g4h4t5v79dcyw80000gr/T/ipykernel_15307/2131278476.py:13: FutureWarning:\n",
      "\n",
      "Series.__setitem__ treating keys as positions is deprecated. In a future version, integer keys will always be treated as labels (consistent with DataFrame behavior). To set a value by position, use `ser.iloc[pos] = value`\n",
      "\n",
      "/var/folders/9r/yl209mt550g4h4t5v79dcyw80000gr/T/ipykernel_15307/2131278476.py:13: FutureWarning:\n",
      "\n",
      "Series.__setitem__ treating keys as positions is deprecated. In a future version, integer keys will always be treated as labels (consistent with DataFrame behavior). To set a value by position, use `ser.iloc[pos] = value`\n",
      "\n",
      "/var/folders/9r/yl209mt550g4h4t5v79dcyw80000gr/T/ipykernel_15307/2131278476.py:13: FutureWarning:\n",
      "\n",
      "Series.__setitem__ treating keys as positions is deprecated. In a future version, integer keys will always be treated as labels (consistent with DataFrame behavior). To set a value by position, use `ser.iloc[pos] = value`\n",
      "\n",
      "/var/folders/9r/yl209mt550g4h4t5v79dcyw80000gr/T/ipykernel_15307/2131278476.py:13: FutureWarning:\n",
      "\n",
      "Series.__setitem__ treating keys as positions is deprecated. In a future version, integer keys will always be treated as labels (consistent with DataFrame behavior). To set a value by position, use `ser.iloc[pos] = value`\n",
      "\n",
      "/var/folders/9r/yl209mt550g4h4t5v79dcyw80000gr/T/ipykernel_15307/2131278476.py:13: FutureWarning:\n",
      "\n",
      "Series.__setitem__ treating keys as positions is deprecated. In a future version, integer keys will always be treated as labels (consistent with DataFrame behavior). To set a value by position, use `ser.iloc[pos] = value`\n",
      "\n",
      "/var/folders/9r/yl209mt550g4h4t5v79dcyw80000gr/T/ipykernel_15307/2131278476.py:13: FutureWarning:\n",
      "\n",
      "Series.__setitem__ treating keys as positions is deprecated. In a future version, integer keys will always be treated as labels (consistent with DataFrame behavior). To set a value by position, use `ser.iloc[pos] = value`\n",
      "\n",
      "/var/folders/9r/yl209mt550g4h4t5v79dcyw80000gr/T/ipykernel_15307/2131278476.py:13: FutureWarning:\n",
      "\n",
      "Series.__setitem__ treating keys as positions is deprecated. In a future version, integer keys will always be treated as labels (consistent with DataFrame behavior). To set a value by position, use `ser.iloc[pos] = value`\n",
      "\n",
      "/var/folders/9r/yl209mt550g4h4t5v79dcyw80000gr/T/ipykernel_15307/2131278476.py:13: FutureWarning:\n",
      "\n",
      "Series.__setitem__ treating keys as positions is deprecated. In a future version, integer keys will always be treated as labels (consistent with DataFrame behavior). To set a value by position, use `ser.iloc[pos] = value`\n",
      "\n",
      "/var/folders/9r/yl209mt550g4h4t5v79dcyw80000gr/T/ipykernel_15307/2131278476.py:13: FutureWarning:\n",
      "\n",
      "Series.__setitem__ treating keys as positions is deprecated. In a future version, integer keys will always be treated as labels (consistent with DataFrame behavior). To set a value by position, use `ser.iloc[pos] = value`\n",
      "\n",
      "/var/folders/9r/yl209mt550g4h4t5v79dcyw80000gr/T/ipykernel_15307/2131278476.py:13: FutureWarning:\n",
      "\n",
      "Series.__setitem__ treating keys as positions is deprecated. In a future version, integer keys will always be treated as labels (consistent with DataFrame behavior). To set a value by position, use `ser.iloc[pos] = value`\n",
      "\n",
      "/var/folders/9r/yl209mt550g4h4t5v79dcyw80000gr/T/ipykernel_15307/2131278476.py:13: FutureWarning:\n",
      "\n",
      "Series.__setitem__ treating keys as positions is deprecated. In a future version, integer keys will always be treated as labels (consistent with DataFrame behavior). To set a value by position, use `ser.iloc[pos] = value`\n",
      "\n",
      "/var/folders/9r/yl209mt550g4h4t5v79dcyw80000gr/T/ipykernel_15307/2131278476.py:13: FutureWarning:\n",
      "\n",
      "Series.__setitem__ treating keys as positions is deprecated. In a future version, integer keys will always be treated as labels (consistent with DataFrame behavior). To set a value by position, use `ser.iloc[pos] = value`\n",
      "\n",
      "/var/folders/9r/yl209mt550g4h4t5v79dcyw80000gr/T/ipykernel_15307/2131278476.py:13: FutureWarning:\n",
      "\n",
      "Series.__setitem__ treating keys as positions is deprecated. In a future version, integer keys will always be treated as labels (consistent with DataFrame behavior). To set a value by position, use `ser.iloc[pos] = value`\n",
      "\n",
      "/var/folders/9r/yl209mt550g4h4t5v79dcyw80000gr/T/ipykernel_15307/2131278476.py:13: FutureWarning:\n",
      "\n",
      "Series.__setitem__ treating keys as positions is deprecated. In a future version, integer keys will always be treated as labels (consistent with DataFrame behavior). To set a value by position, use `ser.iloc[pos] = value`\n",
      "\n",
      "/var/folders/9r/yl209mt550g4h4t5v79dcyw80000gr/T/ipykernel_15307/2131278476.py:13: FutureWarning:\n",
      "\n",
      "Series.__setitem__ treating keys as positions is deprecated. In a future version, integer keys will always be treated as labels (consistent with DataFrame behavior). To set a value by position, use `ser.iloc[pos] = value`\n",
      "\n",
      "/var/folders/9r/yl209mt550g4h4t5v79dcyw80000gr/T/ipykernel_15307/2131278476.py:13: FutureWarning:\n",
      "\n",
      "Series.__setitem__ treating keys as positions is deprecated. In a future version, integer keys will always be treated as labels (consistent with DataFrame behavior). To set a value by position, use `ser.iloc[pos] = value`\n",
      "\n",
      "/var/folders/9r/yl209mt550g4h4t5v79dcyw80000gr/T/ipykernel_15307/2131278476.py:13: FutureWarning:\n",
      "\n",
      "Series.__setitem__ treating keys as positions is deprecated. In a future version, integer keys will always be treated as labels (consistent with DataFrame behavior). To set a value by position, use `ser.iloc[pos] = value`\n",
      "\n",
      "/var/folders/9r/yl209mt550g4h4t5v79dcyw80000gr/T/ipykernel_15307/2131278476.py:13: FutureWarning:\n",
      "\n",
      "Series.__setitem__ treating keys as positions is deprecated. In a future version, integer keys will always be treated as labels (consistent with DataFrame behavior). To set a value by position, use `ser.iloc[pos] = value`\n",
      "\n",
      "/var/folders/9r/yl209mt550g4h4t5v79dcyw80000gr/T/ipykernel_15307/2131278476.py:13: FutureWarning:\n",
      "\n",
      "Series.__setitem__ treating keys as positions is deprecated. In a future version, integer keys will always be treated as labels (consistent with DataFrame behavior). To set a value by position, use `ser.iloc[pos] = value`\n",
      "\n",
      "/var/folders/9r/yl209mt550g4h4t5v79dcyw80000gr/T/ipykernel_15307/2131278476.py:13: FutureWarning:\n",
      "\n",
      "Series.__setitem__ treating keys as positions is deprecated. In a future version, integer keys will always be treated as labels (consistent with DataFrame behavior). To set a value by position, use `ser.iloc[pos] = value`\n",
      "\n",
      "/var/folders/9r/yl209mt550g4h4t5v79dcyw80000gr/T/ipykernel_15307/2131278476.py:13: FutureWarning:\n",
      "\n",
      "Series.__setitem__ treating keys as positions is deprecated. In a future version, integer keys will always be treated as labels (consistent with DataFrame behavior). To set a value by position, use `ser.iloc[pos] = value`\n",
      "\n",
      "/var/folders/9r/yl209mt550g4h4t5v79dcyw80000gr/T/ipykernel_15307/2131278476.py:13: FutureWarning:\n",
      "\n",
      "Series.__setitem__ treating keys as positions is deprecated. In a future version, integer keys will always be treated as labels (consistent with DataFrame behavior). To set a value by position, use `ser.iloc[pos] = value`\n",
      "\n",
      "/var/folders/9r/yl209mt550g4h4t5v79dcyw80000gr/T/ipykernel_15307/2131278476.py:13: FutureWarning:\n",
      "\n",
      "Series.__setitem__ treating keys as positions is deprecated. In a future version, integer keys will always be treated as labels (consistent with DataFrame behavior). To set a value by position, use `ser.iloc[pos] = value`\n",
      "\n",
      "/var/folders/9r/yl209mt550g4h4t5v79dcyw80000gr/T/ipykernel_15307/2131278476.py:13: FutureWarning:\n",
      "\n",
      "Series.__setitem__ treating keys as positions is deprecated. In a future version, integer keys will always be treated as labels (consistent with DataFrame behavior). To set a value by position, use `ser.iloc[pos] = value`\n",
      "\n",
      "/var/folders/9r/yl209mt550g4h4t5v79dcyw80000gr/T/ipykernel_15307/2131278476.py:13: FutureWarning:\n",
      "\n",
      "Series.__setitem__ treating keys as positions is deprecated. In a future version, integer keys will always be treated as labels (consistent with DataFrame behavior). To set a value by position, use `ser.iloc[pos] = value`\n",
      "\n",
      "/var/folders/9r/yl209mt550g4h4t5v79dcyw80000gr/T/ipykernel_15307/2131278476.py:13: FutureWarning:\n",
      "\n",
      "Series.__setitem__ treating keys as positions is deprecated. In a future version, integer keys will always be treated as labels (consistent with DataFrame behavior). To set a value by position, use `ser.iloc[pos] = value`\n",
      "\n",
      "/var/folders/9r/yl209mt550g4h4t5v79dcyw80000gr/T/ipykernel_15307/2131278476.py:13: FutureWarning:\n",
      "\n",
      "Series.__setitem__ treating keys as positions is deprecated. In a future version, integer keys will always be treated as labels (consistent with DataFrame behavior). To set a value by position, use `ser.iloc[pos] = value`\n",
      "\n",
      "/var/folders/9r/yl209mt550g4h4t5v79dcyw80000gr/T/ipykernel_15307/2131278476.py:13: FutureWarning:\n",
      "\n",
      "Series.__setitem__ treating keys as positions is deprecated. In a future version, integer keys will always be treated as labels (consistent with DataFrame behavior). To set a value by position, use `ser.iloc[pos] = value`\n",
      "\n",
      "/var/folders/9r/yl209mt550g4h4t5v79dcyw80000gr/T/ipykernel_15307/2131278476.py:13: FutureWarning:\n",
      "\n",
      "Series.__setitem__ treating keys as positions is deprecated. In a future version, integer keys will always be treated as labels (consistent with DataFrame behavior). To set a value by position, use `ser.iloc[pos] = value`\n",
      "\n",
      "/var/folders/9r/yl209mt550g4h4t5v79dcyw80000gr/T/ipykernel_15307/2131278476.py:13: FutureWarning:\n",
      "\n",
      "Series.__setitem__ treating keys as positions is deprecated. In a future version, integer keys will always be treated as labels (consistent with DataFrame behavior). To set a value by position, use `ser.iloc[pos] = value`\n",
      "\n",
      "/var/folders/9r/yl209mt550g4h4t5v79dcyw80000gr/T/ipykernel_15307/2131278476.py:13: FutureWarning:\n",
      "\n",
      "Series.__setitem__ treating keys as positions is deprecated. In a future version, integer keys will always be treated as labels (consistent with DataFrame behavior). To set a value by position, use `ser.iloc[pos] = value`\n",
      "\n",
      "/var/folders/9r/yl209mt550g4h4t5v79dcyw80000gr/T/ipykernel_15307/2131278476.py:13: FutureWarning:\n",
      "\n",
      "Series.__setitem__ treating keys as positions is deprecated. In a future version, integer keys will always be treated as labels (consistent with DataFrame behavior). To set a value by position, use `ser.iloc[pos] = value`\n",
      "\n",
      "/var/folders/9r/yl209mt550g4h4t5v79dcyw80000gr/T/ipykernel_15307/2131278476.py:13: FutureWarning:\n",
      "\n",
      "Series.__setitem__ treating keys as positions is deprecated. In a future version, integer keys will always be treated as labels (consistent with DataFrame behavior). To set a value by position, use `ser.iloc[pos] = value`\n",
      "\n",
      "/var/folders/9r/yl209mt550g4h4t5v79dcyw80000gr/T/ipykernel_15307/2131278476.py:13: FutureWarning:\n",
      "\n",
      "Series.__setitem__ treating keys as positions is deprecated. In a future version, integer keys will always be treated as labels (consistent with DataFrame behavior). To set a value by position, use `ser.iloc[pos] = value`\n",
      "\n",
      "/var/folders/9r/yl209mt550g4h4t5v79dcyw80000gr/T/ipykernel_15307/2131278476.py:13: FutureWarning:\n",
      "\n",
      "Series.__setitem__ treating keys as positions is deprecated. In a future version, integer keys will always be treated as labels (consistent with DataFrame behavior). To set a value by position, use `ser.iloc[pos] = value`\n",
      "\n",
      "/var/folders/9r/yl209mt550g4h4t5v79dcyw80000gr/T/ipykernel_15307/2131278476.py:13: FutureWarning:\n",
      "\n",
      "Series.__setitem__ treating keys as positions is deprecated. In a future version, integer keys will always be treated as labels (consistent with DataFrame behavior). To set a value by position, use `ser.iloc[pos] = value`\n",
      "\n",
      "/var/folders/9r/yl209mt550g4h4t5v79dcyw80000gr/T/ipykernel_15307/2131278476.py:13: FutureWarning:\n",
      "\n",
      "Series.__setitem__ treating keys as positions is deprecated. In a future version, integer keys will always be treated as labels (consistent with DataFrame behavior). To set a value by position, use `ser.iloc[pos] = value`\n",
      "\n",
      "/var/folders/9r/yl209mt550g4h4t5v79dcyw80000gr/T/ipykernel_15307/2131278476.py:13: FutureWarning:\n",
      "\n",
      "Series.__setitem__ treating keys as positions is deprecated. In a future version, integer keys will always be treated as labels (consistent with DataFrame behavior). To set a value by position, use `ser.iloc[pos] = value`\n",
      "\n",
      "/var/folders/9r/yl209mt550g4h4t5v79dcyw80000gr/T/ipykernel_15307/2131278476.py:13: FutureWarning:\n",
      "\n",
      "Series.__setitem__ treating keys as positions is deprecated. In a future version, integer keys will always be treated as labels (consistent with DataFrame behavior). To set a value by position, use `ser.iloc[pos] = value`\n",
      "\n",
      "/var/folders/9r/yl209mt550g4h4t5v79dcyw80000gr/T/ipykernel_15307/2131278476.py:13: FutureWarning:\n",
      "\n",
      "Series.__setitem__ treating keys as positions is deprecated. In a future version, integer keys will always be treated as labels (consistent with DataFrame behavior). To set a value by position, use `ser.iloc[pos] = value`\n",
      "\n",
      "/var/folders/9r/yl209mt550g4h4t5v79dcyw80000gr/T/ipykernel_15307/2131278476.py:13: FutureWarning:\n",
      "\n",
      "Series.__setitem__ treating keys as positions is deprecated. In a future version, integer keys will always be treated as labels (consistent with DataFrame behavior). To set a value by position, use `ser.iloc[pos] = value`\n",
      "\n",
      "/var/folders/9r/yl209mt550g4h4t5v79dcyw80000gr/T/ipykernel_15307/2131278476.py:13: FutureWarning:\n",
      "\n",
      "Series.__setitem__ treating keys as positions is deprecated. In a future version, integer keys will always be treated as labels (consistent with DataFrame behavior). To set a value by position, use `ser.iloc[pos] = value`\n",
      "\n",
      "/var/folders/9r/yl209mt550g4h4t5v79dcyw80000gr/T/ipykernel_15307/2131278476.py:13: FutureWarning:\n",
      "\n",
      "Series.__setitem__ treating keys as positions is deprecated. In a future version, integer keys will always be treated as labels (consistent with DataFrame behavior). To set a value by position, use `ser.iloc[pos] = value`\n",
      "\n",
      "/var/folders/9r/yl209mt550g4h4t5v79dcyw80000gr/T/ipykernel_15307/2131278476.py:13: FutureWarning:\n",
      "\n",
      "Series.__setitem__ treating keys as positions is deprecated. In a future version, integer keys will always be treated as labels (consistent with DataFrame behavior). To set a value by position, use `ser.iloc[pos] = value`\n",
      "\n",
      "/var/folders/9r/yl209mt550g4h4t5v79dcyw80000gr/T/ipykernel_15307/2131278476.py:13: FutureWarning:\n",
      "\n",
      "Series.__setitem__ treating keys as positions is deprecated. In a future version, integer keys will always be treated as labels (consistent with DataFrame behavior). To set a value by position, use `ser.iloc[pos] = value`\n",
      "\n",
      "/var/folders/9r/yl209mt550g4h4t5v79dcyw80000gr/T/ipykernel_15307/2131278476.py:13: FutureWarning:\n",
      "\n",
      "Series.__setitem__ treating keys as positions is deprecated. In a future version, integer keys will always be treated as labels (consistent with DataFrame behavior). To set a value by position, use `ser.iloc[pos] = value`\n",
      "\n",
      "/var/folders/9r/yl209mt550g4h4t5v79dcyw80000gr/T/ipykernel_15307/2131278476.py:13: FutureWarning:\n",
      "\n",
      "Series.__setitem__ treating keys as positions is deprecated. In a future version, integer keys will always be treated as labels (consistent with DataFrame behavior). To set a value by position, use `ser.iloc[pos] = value`\n",
      "\n",
      "/var/folders/9r/yl209mt550g4h4t5v79dcyw80000gr/T/ipykernel_15307/2131278476.py:13: FutureWarning:\n",
      "\n",
      "Series.__setitem__ treating keys as positions is deprecated. In a future version, integer keys will always be treated as labels (consistent with DataFrame behavior). To set a value by position, use `ser.iloc[pos] = value`\n",
      "\n",
      "/var/folders/9r/yl209mt550g4h4t5v79dcyw80000gr/T/ipykernel_15307/2131278476.py:13: FutureWarning:\n",
      "\n",
      "Series.__setitem__ treating keys as positions is deprecated. In a future version, integer keys will always be treated as labels (consistent with DataFrame behavior). To set a value by position, use `ser.iloc[pos] = value`\n",
      "\n",
      "/var/folders/9r/yl209mt550g4h4t5v79dcyw80000gr/T/ipykernel_15307/2131278476.py:13: FutureWarning:\n",
      "\n",
      "Series.__setitem__ treating keys as positions is deprecated. In a future version, integer keys will always be treated as labels (consistent with DataFrame behavior). To set a value by position, use `ser.iloc[pos] = value`\n",
      "\n",
      "/var/folders/9r/yl209mt550g4h4t5v79dcyw80000gr/T/ipykernel_15307/2131278476.py:13: FutureWarning:\n",
      "\n",
      "Series.__setitem__ treating keys as positions is deprecated. In a future version, integer keys will always be treated as labels (consistent with DataFrame behavior). To set a value by position, use `ser.iloc[pos] = value`\n",
      "\n",
      "/var/folders/9r/yl209mt550g4h4t5v79dcyw80000gr/T/ipykernel_15307/2131278476.py:13: FutureWarning:\n",
      "\n",
      "Series.__setitem__ treating keys as positions is deprecated. In a future version, integer keys will always be treated as labels (consistent with DataFrame behavior). To set a value by position, use `ser.iloc[pos] = value`\n",
      "\n",
      "/var/folders/9r/yl209mt550g4h4t5v79dcyw80000gr/T/ipykernel_15307/2131278476.py:13: FutureWarning:\n",
      "\n",
      "Series.__setitem__ treating keys as positions is deprecated. In a future version, integer keys will always be treated as labels (consistent with DataFrame behavior). To set a value by position, use `ser.iloc[pos] = value`\n",
      "\n",
      "/var/folders/9r/yl209mt550g4h4t5v79dcyw80000gr/T/ipykernel_15307/2131278476.py:13: FutureWarning:\n",
      "\n",
      "Series.__setitem__ treating keys as positions is deprecated. In a future version, integer keys will always be treated as labels (consistent with DataFrame behavior). To set a value by position, use `ser.iloc[pos] = value`\n",
      "\n",
      "/var/folders/9r/yl209mt550g4h4t5v79dcyw80000gr/T/ipykernel_15307/2131278476.py:13: FutureWarning:\n",
      "\n",
      "Series.__setitem__ treating keys as positions is deprecated. In a future version, integer keys will always be treated as labels (consistent with DataFrame behavior). To set a value by position, use `ser.iloc[pos] = value`\n",
      "\n",
      "/var/folders/9r/yl209mt550g4h4t5v79dcyw80000gr/T/ipykernel_15307/2131278476.py:13: FutureWarning:\n",
      "\n",
      "Series.__setitem__ treating keys as positions is deprecated. In a future version, integer keys will always be treated as labels (consistent with DataFrame behavior). To set a value by position, use `ser.iloc[pos] = value`\n",
      "\n",
      "/var/folders/9r/yl209mt550g4h4t5v79dcyw80000gr/T/ipykernel_15307/2131278476.py:13: FutureWarning:\n",
      "\n",
      "Series.__setitem__ treating keys as positions is deprecated. In a future version, integer keys will always be treated as labels (consistent with DataFrame behavior). To set a value by position, use `ser.iloc[pos] = value`\n",
      "\n",
      "/var/folders/9r/yl209mt550g4h4t5v79dcyw80000gr/T/ipykernel_15307/2131278476.py:13: FutureWarning:\n",
      "\n",
      "Series.__setitem__ treating keys as positions is deprecated. In a future version, integer keys will always be treated as labels (consistent with DataFrame behavior). To set a value by position, use `ser.iloc[pos] = value`\n",
      "\n",
      "/var/folders/9r/yl209mt550g4h4t5v79dcyw80000gr/T/ipykernel_15307/2131278476.py:13: FutureWarning:\n",
      "\n",
      "Series.__setitem__ treating keys as positions is deprecated. In a future version, integer keys will always be treated as labels (consistent with DataFrame behavior). To set a value by position, use `ser.iloc[pos] = value`\n",
      "\n",
      "/var/folders/9r/yl209mt550g4h4t5v79dcyw80000gr/T/ipykernel_15307/2131278476.py:13: FutureWarning:\n",
      "\n",
      "Series.__setitem__ treating keys as positions is deprecated. In a future version, integer keys will always be treated as labels (consistent with DataFrame behavior). To set a value by position, use `ser.iloc[pos] = value`\n",
      "\n",
      "/var/folders/9r/yl209mt550g4h4t5v79dcyw80000gr/T/ipykernel_15307/2131278476.py:13: FutureWarning:\n",
      "\n",
      "Series.__setitem__ treating keys as positions is deprecated. In a future version, integer keys will always be treated as labels (consistent with DataFrame behavior). To set a value by position, use `ser.iloc[pos] = value`\n",
      "\n",
      "/var/folders/9r/yl209mt550g4h4t5v79dcyw80000gr/T/ipykernel_15307/2131278476.py:13: FutureWarning:\n",
      "\n",
      "Series.__setitem__ treating keys as positions is deprecated. In a future version, integer keys will always be treated as labels (consistent with DataFrame behavior). To set a value by position, use `ser.iloc[pos] = value`\n",
      "\n",
      "/var/folders/9r/yl209mt550g4h4t5v79dcyw80000gr/T/ipykernel_15307/2131278476.py:13: FutureWarning:\n",
      "\n",
      "Series.__setitem__ treating keys as positions is deprecated. In a future version, integer keys will always be treated as labels (consistent with DataFrame behavior). To set a value by position, use `ser.iloc[pos] = value`\n",
      "\n",
      "/var/folders/9r/yl209mt550g4h4t5v79dcyw80000gr/T/ipykernel_15307/2131278476.py:13: FutureWarning:\n",
      "\n",
      "Series.__setitem__ treating keys as positions is deprecated. In a future version, integer keys will always be treated as labels (consistent with DataFrame behavior). To set a value by position, use `ser.iloc[pos] = value`\n",
      "\n",
      "/var/folders/9r/yl209mt550g4h4t5v79dcyw80000gr/T/ipykernel_15307/2131278476.py:13: FutureWarning:\n",
      "\n",
      "Series.__setitem__ treating keys as positions is deprecated. In a future version, integer keys will always be treated as labels (consistent with DataFrame behavior). To set a value by position, use `ser.iloc[pos] = value`\n",
      "\n",
      "/var/folders/9r/yl209mt550g4h4t5v79dcyw80000gr/T/ipykernel_15307/2131278476.py:13: FutureWarning:\n",
      "\n",
      "Series.__setitem__ treating keys as positions is deprecated. In a future version, integer keys will always be treated as labels (consistent with DataFrame behavior). To set a value by position, use `ser.iloc[pos] = value`\n",
      "\n",
      "/var/folders/9r/yl209mt550g4h4t5v79dcyw80000gr/T/ipykernel_15307/2131278476.py:13: FutureWarning:\n",
      "\n",
      "Series.__setitem__ treating keys as positions is deprecated. In a future version, integer keys will always be treated as labels (consistent with DataFrame behavior). To set a value by position, use `ser.iloc[pos] = value`\n",
      "\n",
      "/var/folders/9r/yl209mt550g4h4t5v79dcyw80000gr/T/ipykernel_15307/2131278476.py:13: FutureWarning:\n",
      "\n",
      "Series.__setitem__ treating keys as positions is deprecated. In a future version, integer keys will always be treated as labels (consistent with DataFrame behavior). To set a value by position, use `ser.iloc[pos] = value`\n",
      "\n",
      "/var/folders/9r/yl209mt550g4h4t5v79dcyw80000gr/T/ipykernel_15307/2131278476.py:13: FutureWarning:\n",
      "\n",
      "Series.__setitem__ treating keys as positions is deprecated. In a future version, integer keys will always be treated as labels (consistent with DataFrame behavior). To set a value by position, use `ser.iloc[pos] = value`\n",
      "\n",
      "/var/folders/9r/yl209mt550g4h4t5v79dcyw80000gr/T/ipykernel_15307/2131278476.py:13: FutureWarning:\n",
      "\n",
      "Series.__setitem__ treating keys as positions is deprecated. In a future version, integer keys will always be treated as labels (consistent with DataFrame behavior). To set a value by position, use `ser.iloc[pos] = value`\n",
      "\n",
      "/var/folders/9r/yl209mt550g4h4t5v79dcyw80000gr/T/ipykernel_15307/2131278476.py:13: FutureWarning:\n",
      "\n",
      "Series.__setitem__ treating keys as positions is deprecated. In a future version, integer keys will always be treated as labels (consistent with DataFrame behavior). To set a value by position, use `ser.iloc[pos] = value`\n",
      "\n",
      "/var/folders/9r/yl209mt550g4h4t5v79dcyw80000gr/T/ipykernel_15307/2131278476.py:13: FutureWarning:\n",
      "\n",
      "Series.__setitem__ treating keys as positions is deprecated. In a future version, integer keys will always be treated as labels (consistent with DataFrame behavior). To set a value by position, use `ser.iloc[pos] = value`\n",
      "\n",
      "/var/folders/9r/yl209mt550g4h4t5v79dcyw80000gr/T/ipykernel_15307/2131278476.py:13: FutureWarning:\n",
      "\n",
      "Series.__setitem__ treating keys as positions is deprecated. In a future version, integer keys will always be treated as labels (consistent with DataFrame behavior). To set a value by position, use `ser.iloc[pos] = value`\n",
      "\n",
      "/var/folders/9r/yl209mt550g4h4t5v79dcyw80000gr/T/ipykernel_15307/2131278476.py:13: FutureWarning:\n",
      "\n",
      "Series.__setitem__ treating keys as positions is deprecated. In a future version, integer keys will always be treated as labels (consistent with DataFrame behavior). To set a value by position, use `ser.iloc[pos] = value`\n",
      "\n",
      "/var/folders/9r/yl209mt550g4h4t5v79dcyw80000gr/T/ipykernel_15307/2131278476.py:13: FutureWarning:\n",
      "\n",
      "Series.__setitem__ treating keys as positions is deprecated. In a future version, integer keys will always be treated as labels (consistent with DataFrame behavior). To set a value by position, use `ser.iloc[pos] = value`\n",
      "\n",
      "/var/folders/9r/yl209mt550g4h4t5v79dcyw80000gr/T/ipykernel_15307/2131278476.py:13: FutureWarning:\n",
      "\n",
      "Series.__setitem__ treating keys as positions is deprecated. In a future version, integer keys will always be treated as labels (consistent with DataFrame behavior). To set a value by position, use `ser.iloc[pos] = value`\n",
      "\n",
      "/var/folders/9r/yl209mt550g4h4t5v79dcyw80000gr/T/ipykernel_15307/2131278476.py:13: FutureWarning:\n",
      "\n",
      "Series.__setitem__ treating keys as positions is deprecated. In a future version, integer keys will always be treated as labels (consistent with DataFrame behavior). To set a value by position, use `ser.iloc[pos] = value`\n",
      "\n",
      "/var/folders/9r/yl209mt550g4h4t5v79dcyw80000gr/T/ipykernel_15307/2131278476.py:13: FutureWarning:\n",
      "\n",
      "Series.__setitem__ treating keys as positions is deprecated. In a future version, integer keys will always be treated as labels (consistent with DataFrame behavior). To set a value by position, use `ser.iloc[pos] = value`\n",
      "\n",
      "/var/folders/9r/yl209mt550g4h4t5v79dcyw80000gr/T/ipykernel_15307/2131278476.py:13: FutureWarning:\n",
      "\n",
      "Series.__setitem__ treating keys as positions is deprecated. In a future version, integer keys will always be treated as labels (consistent with DataFrame behavior). To set a value by position, use `ser.iloc[pos] = value`\n",
      "\n",
      "/var/folders/9r/yl209mt550g4h4t5v79dcyw80000gr/T/ipykernel_15307/2131278476.py:13: FutureWarning:\n",
      "\n",
      "Series.__setitem__ treating keys as positions is deprecated. In a future version, integer keys will always be treated as labels (consistent with DataFrame behavior). To set a value by position, use `ser.iloc[pos] = value`\n",
      "\n",
      "/var/folders/9r/yl209mt550g4h4t5v79dcyw80000gr/T/ipykernel_15307/2131278476.py:13: FutureWarning:\n",
      "\n",
      "Series.__setitem__ treating keys as positions is deprecated. In a future version, integer keys will always be treated as labels (consistent with DataFrame behavior). To set a value by position, use `ser.iloc[pos] = value`\n",
      "\n",
      "/var/folders/9r/yl209mt550g4h4t5v79dcyw80000gr/T/ipykernel_15307/2131278476.py:13: FutureWarning:\n",
      "\n",
      "Series.__setitem__ treating keys as positions is deprecated. In a future version, integer keys will always be treated as labels (consistent with DataFrame behavior). To set a value by position, use `ser.iloc[pos] = value`\n",
      "\n",
      "/var/folders/9r/yl209mt550g4h4t5v79dcyw80000gr/T/ipykernel_15307/2131278476.py:13: FutureWarning:\n",
      "\n",
      "Series.__setitem__ treating keys as positions is deprecated. In a future version, integer keys will always be treated as labels (consistent with DataFrame behavior). To set a value by position, use `ser.iloc[pos] = value`\n",
      "\n",
      "/var/folders/9r/yl209mt550g4h4t5v79dcyw80000gr/T/ipykernel_15307/2131278476.py:13: FutureWarning:\n",
      "\n",
      "Series.__setitem__ treating keys as positions is deprecated. In a future version, integer keys will always be treated as labels (consistent with DataFrame behavior). To set a value by position, use `ser.iloc[pos] = value`\n",
      "\n",
      "/var/folders/9r/yl209mt550g4h4t5v79dcyw80000gr/T/ipykernel_15307/2131278476.py:13: FutureWarning:\n",
      "\n",
      "Series.__setitem__ treating keys as positions is deprecated. In a future version, integer keys will always be treated as labels (consistent with DataFrame behavior). To set a value by position, use `ser.iloc[pos] = value`\n",
      "\n",
      "/var/folders/9r/yl209mt550g4h4t5v79dcyw80000gr/T/ipykernel_15307/2131278476.py:13: FutureWarning:\n",
      "\n",
      "Series.__setitem__ treating keys as positions is deprecated. In a future version, integer keys will always be treated as labels (consistent with DataFrame behavior). To set a value by position, use `ser.iloc[pos] = value`\n",
      "\n",
      "/var/folders/9r/yl209mt550g4h4t5v79dcyw80000gr/T/ipykernel_15307/2131278476.py:13: FutureWarning:\n",
      "\n",
      "Series.__setitem__ treating keys as positions is deprecated. In a future version, integer keys will always be treated as labels (consistent with DataFrame behavior). To set a value by position, use `ser.iloc[pos] = value`\n",
      "\n",
      "/var/folders/9r/yl209mt550g4h4t5v79dcyw80000gr/T/ipykernel_15307/2131278476.py:13: FutureWarning:\n",
      "\n",
      "Series.__setitem__ treating keys as positions is deprecated. In a future version, integer keys will always be treated as labels (consistent with DataFrame behavior). To set a value by position, use `ser.iloc[pos] = value`\n",
      "\n",
      "/var/folders/9r/yl209mt550g4h4t5v79dcyw80000gr/T/ipykernel_15307/2131278476.py:13: FutureWarning:\n",
      "\n",
      "Series.__setitem__ treating keys as positions is deprecated. In a future version, integer keys will always be treated as labels (consistent with DataFrame behavior). To set a value by position, use `ser.iloc[pos] = value`\n",
      "\n",
      "/var/folders/9r/yl209mt550g4h4t5v79dcyw80000gr/T/ipykernel_15307/2131278476.py:13: FutureWarning:\n",
      "\n",
      "Series.__setitem__ treating keys as positions is deprecated. In a future version, integer keys will always be treated as labels (consistent with DataFrame behavior). To set a value by position, use `ser.iloc[pos] = value`\n",
      "\n",
      "/var/folders/9r/yl209mt550g4h4t5v79dcyw80000gr/T/ipykernel_15307/2131278476.py:13: FutureWarning:\n",
      "\n",
      "Series.__setitem__ treating keys as positions is deprecated. In a future version, integer keys will always be treated as labels (consistent with DataFrame behavior). To set a value by position, use `ser.iloc[pos] = value`\n",
      "\n",
      "/var/folders/9r/yl209mt550g4h4t5v79dcyw80000gr/T/ipykernel_15307/2131278476.py:13: FutureWarning:\n",
      "\n",
      "Series.__setitem__ treating keys as positions is deprecated. In a future version, integer keys will always be treated as labels (consistent with DataFrame behavior). To set a value by position, use `ser.iloc[pos] = value`\n",
      "\n",
      "/var/folders/9r/yl209mt550g4h4t5v79dcyw80000gr/T/ipykernel_15307/2131278476.py:13: FutureWarning:\n",
      "\n",
      "Series.__setitem__ treating keys as positions is deprecated. In a future version, integer keys will always be treated as labels (consistent with DataFrame behavior). To set a value by position, use `ser.iloc[pos] = value`\n",
      "\n",
      "/var/folders/9r/yl209mt550g4h4t5v79dcyw80000gr/T/ipykernel_15307/2131278476.py:13: FutureWarning:\n",
      "\n",
      "Series.__setitem__ treating keys as positions is deprecated. In a future version, integer keys will always be treated as labels (consistent with DataFrame behavior). To set a value by position, use `ser.iloc[pos] = value`\n",
      "\n",
      "/var/folders/9r/yl209mt550g4h4t5v79dcyw80000gr/T/ipykernel_15307/2131278476.py:13: FutureWarning:\n",
      "\n",
      "Series.__setitem__ treating keys as positions is deprecated. In a future version, integer keys will always be treated as labels (consistent with DataFrame behavior). To set a value by position, use `ser.iloc[pos] = value`\n",
      "\n",
      "/var/folders/9r/yl209mt550g4h4t5v79dcyw80000gr/T/ipykernel_15307/2131278476.py:13: FutureWarning:\n",
      "\n",
      "Series.__setitem__ treating keys as positions is deprecated. In a future version, integer keys will always be treated as labels (consistent with DataFrame behavior). To set a value by position, use `ser.iloc[pos] = value`\n",
      "\n",
      "/var/folders/9r/yl209mt550g4h4t5v79dcyw80000gr/T/ipykernel_15307/2131278476.py:13: FutureWarning:\n",
      "\n",
      "Series.__setitem__ treating keys as positions is deprecated. In a future version, integer keys will always be treated as labels (consistent with DataFrame behavior). To set a value by position, use `ser.iloc[pos] = value`\n",
      "\n",
      "/var/folders/9r/yl209mt550g4h4t5v79dcyw80000gr/T/ipykernel_15307/2131278476.py:13: FutureWarning:\n",
      "\n",
      "Series.__setitem__ treating keys as positions is deprecated. In a future version, integer keys will always be treated as labels (consistent with DataFrame behavior). To set a value by position, use `ser.iloc[pos] = value`\n",
      "\n",
      "/var/folders/9r/yl209mt550g4h4t5v79dcyw80000gr/T/ipykernel_15307/2131278476.py:13: FutureWarning:\n",
      "\n",
      "Series.__setitem__ treating keys as positions is deprecated. In a future version, integer keys will always be treated as labels (consistent with DataFrame behavior). To set a value by position, use `ser.iloc[pos] = value`\n",
      "\n",
      "/var/folders/9r/yl209mt550g4h4t5v79dcyw80000gr/T/ipykernel_15307/2131278476.py:13: FutureWarning:\n",
      "\n",
      "Series.__setitem__ treating keys as positions is deprecated. In a future version, integer keys will always be treated as labels (consistent with DataFrame behavior). To set a value by position, use `ser.iloc[pos] = value`\n",
      "\n",
      "/var/folders/9r/yl209mt550g4h4t5v79dcyw80000gr/T/ipykernel_15307/2131278476.py:13: FutureWarning:\n",
      "\n",
      "Series.__setitem__ treating keys as positions is deprecated. In a future version, integer keys will always be treated as labels (consistent with DataFrame behavior). To set a value by position, use `ser.iloc[pos] = value`\n",
      "\n",
      "/var/folders/9r/yl209mt550g4h4t5v79dcyw80000gr/T/ipykernel_15307/2131278476.py:13: FutureWarning:\n",
      "\n",
      "Series.__setitem__ treating keys as positions is deprecated. In a future version, integer keys will always be treated as labels (consistent with DataFrame behavior). To set a value by position, use `ser.iloc[pos] = value`\n",
      "\n",
      "/var/folders/9r/yl209mt550g4h4t5v79dcyw80000gr/T/ipykernel_15307/2131278476.py:13: FutureWarning:\n",
      "\n",
      "Series.__setitem__ treating keys as positions is deprecated. In a future version, integer keys will always be treated as labels (consistent with DataFrame behavior). To set a value by position, use `ser.iloc[pos] = value`\n",
      "\n",
      "/var/folders/9r/yl209mt550g4h4t5v79dcyw80000gr/T/ipykernel_15307/2131278476.py:13: FutureWarning:\n",
      "\n",
      "Series.__setitem__ treating keys as positions is deprecated. In a future version, integer keys will always be treated as labels (consistent with DataFrame behavior). To set a value by position, use `ser.iloc[pos] = value`\n",
      "\n",
      "/var/folders/9r/yl209mt550g4h4t5v79dcyw80000gr/T/ipykernel_15307/2131278476.py:13: FutureWarning:\n",
      "\n",
      "Series.__setitem__ treating keys as positions is deprecated. In a future version, integer keys will always be treated as labels (consistent with DataFrame behavior). To set a value by position, use `ser.iloc[pos] = value`\n",
      "\n",
      "/var/folders/9r/yl209mt550g4h4t5v79dcyw80000gr/T/ipykernel_15307/2131278476.py:13: FutureWarning:\n",
      "\n",
      "Series.__setitem__ treating keys as positions is deprecated. In a future version, integer keys will always be treated as labels (consistent with DataFrame behavior). To set a value by position, use `ser.iloc[pos] = value`\n",
      "\n",
      "/var/folders/9r/yl209mt550g4h4t5v79dcyw80000gr/T/ipykernel_15307/2131278476.py:13: FutureWarning:\n",
      "\n",
      "Series.__setitem__ treating keys as positions is deprecated. In a future version, integer keys will always be treated as labels (consistent with DataFrame behavior). To set a value by position, use `ser.iloc[pos] = value`\n",
      "\n",
      "/var/folders/9r/yl209mt550g4h4t5v79dcyw80000gr/T/ipykernel_15307/2131278476.py:13: FutureWarning:\n",
      "\n",
      "Series.__setitem__ treating keys as positions is deprecated. In a future version, integer keys will always be treated as labels (consistent with DataFrame behavior). To set a value by position, use `ser.iloc[pos] = value`\n",
      "\n",
      "/var/folders/9r/yl209mt550g4h4t5v79dcyw80000gr/T/ipykernel_15307/2131278476.py:13: FutureWarning:\n",
      "\n",
      "Series.__setitem__ treating keys as positions is deprecated. In a future version, integer keys will always be treated as labels (consistent with DataFrame behavior). To set a value by position, use `ser.iloc[pos] = value`\n",
      "\n",
      "/var/folders/9r/yl209mt550g4h4t5v79dcyw80000gr/T/ipykernel_15307/2131278476.py:13: FutureWarning:\n",
      "\n",
      "Series.__setitem__ treating keys as positions is deprecated. In a future version, integer keys will always be treated as labels (consistent with DataFrame behavior). To set a value by position, use `ser.iloc[pos] = value`\n",
      "\n",
      "/var/folders/9r/yl209mt550g4h4t5v79dcyw80000gr/T/ipykernel_15307/2131278476.py:13: FutureWarning:\n",
      "\n",
      "Series.__setitem__ treating keys as positions is deprecated. In a future version, integer keys will always be treated as labels (consistent with DataFrame behavior). To set a value by position, use `ser.iloc[pos] = value`\n",
      "\n",
      "/var/folders/9r/yl209mt550g4h4t5v79dcyw80000gr/T/ipykernel_15307/2131278476.py:13: FutureWarning:\n",
      "\n",
      "Series.__setitem__ treating keys as positions is deprecated. In a future version, integer keys will always be treated as labels (consistent with DataFrame behavior). To set a value by position, use `ser.iloc[pos] = value`\n",
      "\n",
      "/var/folders/9r/yl209mt550g4h4t5v79dcyw80000gr/T/ipykernel_15307/2131278476.py:13: FutureWarning:\n",
      "\n",
      "Series.__setitem__ treating keys as positions is deprecated. In a future version, integer keys will always be treated as labels (consistent with DataFrame behavior). To set a value by position, use `ser.iloc[pos] = value`\n",
      "\n",
      "/var/folders/9r/yl209mt550g4h4t5v79dcyw80000gr/T/ipykernel_15307/2131278476.py:13: FutureWarning:\n",
      "\n",
      "Series.__setitem__ treating keys as positions is deprecated. In a future version, integer keys will always be treated as labels (consistent with DataFrame behavior). To set a value by position, use `ser.iloc[pos] = value`\n",
      "\n",
      "/var/folders/9r/yl209mt550g4h4t5v79dcyw80000gr/T/ipykernel_15307/2131278476.py:13: FutureWarning:\n",
      "\n",
      "Series.__setitem__ treating keys as positions is deprecated. In a future version, integer keys will always be treated as labels (consistent with DataFrame behavior). To set a value by position, use `ser.iloc[pos] = value`\n",
      "\n",
      "/var/folders/9r/yl209mt550g4h4t5v79dcyw80000gr/T/ipykernel_15307/2131278476.py:13: FutureWarning:\n",
      "\n",
      "Series.__setitem__ treating keys as positions is deprecated. In a future version, integer keys will always be treated as labels (consistent with DataFrame behavior). To set a value by position, use `ser.iloc[pos] = value`\n",
      "\n",
      "/var/folders/9r/yl209mt550g4h4t5v79dcyw80000gr/T/ipykernel_15307/2131278476.py:13: FutureWarning:\n",
      "\n",
      "Series.__setitem__ treating keys as positions is deprecated. In a future version, integer keys will always be treated as labels (consistent with DataFrame behavior). To set a value by position, use `ser.iloc[pos] = value`\n",
      "\n",
      "/var/folders/9r/yl209mt550g4h4t5v79dcyw80000gr/T/ipykernel_15307/2131278476.py:13: FutureWarning:\n",
      "\n",
      "Series.__setitem__ treating keys as positions is deprecated. In a future version, integer keys will always be treated as labels (consistent with DataFrame behavior). To set a value by position, use `ser.iloc[pos] = value`\n",
      "\n",
      "/var/folders/9r/yl209mt550g4h4t5v79dcyw80000gr/T/ipykernel_15307/2131278476.py:13: FutureWarning:\n",
      "\n",
      "Series.__setitem__ treating keys as positions is deprecated. In a future version, integer keys will always be treated as labels (consistent with DataFrame behavior). To set a value by position, use `ser.iloc[pos] = value`\n",
      "\n",
      "/var/folders/9r/yl209mt550g4h4t5v79dcyw80000gr/T/ipykernel_15307/2131278476.py:13: FutureWarning:\n",
      "\n",
      "Series.__setitem__ treating keys as positions is deprecated. In a future version, integer keys will always be treated as labels (consistent with DataFrame behavior). To set a value by position, use `ser.iloc[pos] = value`\n",
      "\n",
      "/var/folders/9r/yl209mt550g4h4t5v79dcyw80000gr/T/ipykernel_15307/2131278476.py:13: FutureWarning:\n",
      "\n",
      "Series.__setitem__ treating keys as positions is deprecated. In a future version, integer keys will always be treated as labels (consistent with DataFrame behavior). To set a value by position, use `ser.iloc[pos] = value`\n",
      "\n",
      "/var/folders/9r/yl209mt550g4h4t5v79dcyw80000gr/T/ipykernel_15307/2131278476.py:13: FutureWarning:\n",
      "\n",
      "Series.__setitem__ treating keys as positions is deprecated. In a future version, integer keys will always be treated as labels (consistent with DataFrame behavior). To set a value by position, use `ser.iloc[pos] = value`\n",
      "\n",
      "/var/folders/9r/yl209mt550g4h4t5v79dcyw80000gr/T/ipykernel_15307/2131278476.py:13: FutureWarning:\n",
      "\n",
      "Series.__setitem__ treating keys as positions is deprecated. In a future version, integer keys will always be treated as labels (consistent with DataFrame behavior). To set a value by position, use `ser.iloc[pos] = value`\n",
      "\n",
      "/var/folders/9r/yl209mt550g4h4t5v79dcyw80000gr/T/ipykernel_15307/2131278476.py:13: FutureWarning:\n",
      "\n",
      "Series.__setitem__ treating keys as positions is deprecated. In a future version, integer keys will always be treated as labels (consistent with DataFrame behavior). To set a value by position, use `ser.iloc[pos] = value`\n",
      "\n",
      "/var/folders/9r/yl209mt550g4h4t5v79dcyw80000gr/T/ipykernel_15307/2131278476.py:13: FutureWarning:\n",
      "\n",
      "Series.__setitem__ treating keys as positions is deprecated. In a future version, integer keys will always be treated as labels (consistent with DataFrame behavior). To set a value by position, use `ser.iloc[pos] = value`\n",
      "\n",
      "/var/folders/9r/yl209mt550g4h4t5v79dcyw80000gr/T/ipykernel_15307/2131278476.py:13: FutureWarning:\n",
      "\n",
      "Series.__setitem__ treating keys as positions is deprecated. In a future version, integer keys will always be treated as labels (consistent with DataFrame behavior). To set a value by position, use `ser.iloc[pos] = value`\n",
      "\n",
      "/var/folders/9r/yl209mt550g4h4t5v79dcyw80000gr/T/ipykernel_15307/2131278476.py:13: FutureWarning:\n",
      "\n",
      "Series.__setitem__ treating keys as positions is deprecated. In a future version, integer keys will always be treated as labels (consistent with DataFrame behavior). To set a value by position, use `ser.iloc[pos] = value`\n",
      "\n",
      "/var/folders/9r/yl209mt550g4h4t5v79dcyw80000gr/T/ipykernel_15307/2131278476.py:13: FutureWarning:\n",
      "\n",
      "Series.__setitem__ treating keys as positions is deprecated. In a future version, integer keys will always be treated as labels (consistent with DataFrame behavior). To set a value by position, use `ser.iloc[pos] = value`\n",
      "\n",
      "/var/folders/9r/yl209mt550g4h4t5v79dcyw80000gr/T/ipykernel_15307/2131278476.py:13: FutureWarning:\n",
      "\n",
      "Series.__setitem__ treating keys as positions is deprecated. In a future version, integer keys will always be treated as labels (consistent with DataFrame behavior). To set a value by position, use `ser.iloc[pos] = value`\n",
      "\n",
      "/var/folders/9r/yl209mt550g4h4t5v79dcyw80000gr/T/ipykernel_15307/2131278476.py:13: FutureWarning:\n",
      "\n",
      "Series.__setitem__ treating keys as positions is deprecated. In a future version, integer keys will always be treated as labels (consistent with DataFrame behavior). To set a value by position, use `ser.iloc[pos] = value`\n",
      "\n",
      "/var/folders/9r/yl209mt550g4h4t5v79dcyw80000gr/T/ipykernel_15307/2131278476.py:13: FutureWarning:\n",
      "\n",
      "Series.__setitem__ treating keys as positions is deprecated. In a future version, integer keys will always be treated as labels (consistent with DataFrame behavior). To set a value by position, use `ser.iloc[pos] = value`\n",
      "\n",
      "/var/folders/9r/yl209mt550g4h4t5v79dcyw80000gr/T/ipykernel_15307/2131278476.py:13: FutureWarning:\n",
      "\n",
      "Series.__setitem__ treating keys as positions is deprecated. In a future version, integer keys will always be treated as labels (consistent with DataFrame behavior). To set a value by position, use `ser.iloc[pos] = value`\n",
      "\n",
      "/var/folders/9r/yl209mt550g4h4t5v79dcyw80000gr/T/ipykernel_15307/2131278476.py:13: FutureWarning:\n",
      "\n",
      "Series.__setitem__ treating keys as positions is deprecated. In a future version, integer keys will always be treated as labels (consistent with DataFrame behavior). To set a value by position, use `ser.iloc[pos] = value`\n",
      "\n",
      "/var/folders/9r/yl209mt550g4h4t5v79dcyw80000gr/T/ipykernel_15307/2131278476.py:13: FutureWarning:\n",
      "\n",
      "Series.__setitem__ treating keys as positions is deprecated. In a future version, integer keys will always be treated as labels (consistent with DataFrame behavior). To set a value by position, use `ser.iloc[pos] = value`\n",
      "\n",
      "/var/folders/9r/yl209mt550g4h4t5v79dcyw80000gr/T/ipykernel_15307/2131278476.py:13: FutureWarning:\n",
      "\n",
      "Series.__setitem__ treating keys as positions is deprecated. In a future version, integer keys will always be treated as labels (consistent with DataFrame behavior). To set a value by position, use `ser.iloc[pos] = value`\n",
      "\n",
      "/var/folders/9r/yl209mt550g4h4t5v79dcyw80000gr/T/ipykernel_15307/2131278476.py:13: FutureWarning:\n",
      "\n",
      "Series.__setitem__ treating keys as positions is deprecated. In a future version, integer keys will always be treated as labels (consistent with DataFrame behavior). To set a value by position, use `ser.iloc[pos] = value`\n",
      "\n",
      "/var/folders/9r/yl209mt550g4h4t5v79dcyw80000gr/T/ipykernel_15307/2131278476.py:13: FutureWarning:\n",
      "\n",
      "Series.__setitem__ treating keys as positions is deprecated. In a future version, integer keys will always be treated as labels (consistent with DataFrame behavior). To set a value by position, use `ser.iloc[pos] = value`\n",
      "\n",
      "/var/folders/9r/yl209mt550g4h4t5v79dcyw80000gr/T/ipykernel_15307/2131278476.py:13: FutureWarning:\n",
      "\n",
      "Series.__setitem__ treating keys as positions is deprecated. In a future version, integer keys will always be treated as labels (consistent with DataFrame behavior). To set a value by position, use `ser.iloc[pos] = value`\n",
      "\n",
      "/var/folders/9r/yl209mt550g4h4t5v79dcyw80000gr/T/ipykernel_15307/2131278476.py:13: FutureWarning:\n",
      "\n",
      "Series.__setitem__ treating keys as positions is deprecated. In a future version, integer keys will always be treated as labels (consistent with DataFrame behavior). To set a value by position, use `ser.iloc[pos] = value`\n",
      "\n",
      "/var/folders/9r/yl209mt550g4h4t5v79dcyw80000gr/T/ipykernel_15307/2131278476.py:13: FutureWarning:\n",
      "\n",
      "Series.__setitem__ treating keys as positions is deprecated. In a future version, integer keys will always be treated as labels (consistent with DataFrame behavior). To set a value by position, use `ser.iloc[pos] = value`\n",
      "\n",
      "/var/folders/9r/yl209mt550g4h4t5v79dcyw80000gr/T/ipykernel_15307/2131278476.py:13: FutureWarning:\n",
      "\n",
      "Series.__setitem__ treating keys as positions is deprecated. In a future version, integer keys will always be treated as labels (consistent with DataFrame behavior). To set a value by position, use `ser.iloc[pos] = value`\n",
      "\n",
      "/var/folders/9r/yl209mt550g4h4t5v79dcyw80000gr/T/ipykernel_15307/2131278476.py:13: FutureWarning:\n",
      "\n",
      "Series.__setitem__ treating keys as positions is deprecated. In a future version, integer keys will always be treated as labels (consistent with DataFrame behavior). To set a value by position, use `ser.iloc[pos] = value`\n",
      "\n",
      "/var/folders/9r/yl209mt550g4h4t5v79dcyw80000gr/T/ipykernel_15307/2131278476.py:13: FutureWarning:\n",
      "\n",
      "Series.__setitem__ treating keys as positions is deprecated. In a future version, integer keys will always be treated as labels (consistent with DataFrame behavior). To set a value by position, use `ser.iloc[pos] = value`\n",
      "\n",
      "/var/folders/9r/yl209mt550g4h4t5v79dcyw80000gr/T/ipykernel_15307/2131278476.py:13: FutureWarning:\n",
      "\n",
      "Series.__setitem__ treating keys as positions is deprecated. In a future version, integer keys will always be treated as labels (consistent with DataFrame behavior). To set a value by position, use `ser.iloc[pos] = value`\n",
      "\n",
      "/var/folders/9r/yl209mt550g4h4t5v79dcyw80000gr/T/ipykernel_15307/2131278476.py:13: FutureWarning:\n",
      "\n",
      "Series.__setitem__ treating keys as positions is deprecated. In a future version, integer keys will always be treated as labels (consistent with DataFrame behavior). To set a value by position, use `ser.iloc[pos] = value`\n",
      "\n",
      "/var/folders/9r/yl209mt550g4h4t5v79dcyw80000gr/T/ipykernel_15307/2131278476.py:13: FutureWarning:\n",
      "\n",
      "Series.__setitem__ treating keys as positions is deprecated. In a future version, integer keys will always be treated as labels (consistent with DataFrame behavior). To set a value by position, use `ser.iloc[pos] = value`\n",
      "\n",
      "/var/folders/9r/yl209mt550g4h4t5v79dcyw80000gr/T/ipykernel_15307/2131278476.py:13: FutureWarning:\n",
      "\n",
      "Series.__setitem__ treating keys as positions is deprecated. In a future version, integer keys will always be treated as labels (consistent with DataFrame behavior). To set a value by position, use `ser.iloc[pos] = value`\n",
      "\n",
      "/var/folders/9r/yl209mt550g4h4t5v79dcyw80000gr/T/ipykernel_15307/2131278476.py:13: FutureWarning:\n",
      "\n",
      "Series.__setitem__ treating keys as positions is deprecated. In a future version, integer keys will always be treated as labels (consistent with DataFrame behavior). To set a value by position, use `ser.iloc[pos] = value`\n",
      "\n",
      "/var/folders/9r/yl209mt550g4h4t5v79dcyw80000gr/T/ipykernel_15307/2131278476.py:13: FutureWarning:\n",
      "\n",
      "Series.__setitem__ treating keys as positions is deprecated. In a future version, integer keys will always be treated as labels (consistent with DataFrame behavior). To set a value by position, use `ser.iloc[pos] = value`\n",
      "\n",
      "/var/folders/9r/yl209mt550g4h4t5v79dcyw80000gr/T/ipykernel_15307/2131278476.py:13: FutureWarning:\n",
      "\n",
      "Series.__setitem__ treating keys as positions is deprecated. In a future version, integer keys will always be treated as labels (consistent with DataFrame behavior). To set a value by position, use `ser.iloc[pos] = value`\n",
      "\n",
      "/var/folders/9r/yl209mt550g4h4t5v79dcyw80000gr/T/ipykernel_15307/2131278476.py:13: FutureWarning:\n",
      "\n",
      "Series.__setitem__ treating keys as positions is deprecated. In a future version, integer keys will always be treated as labels (consistent with DataFrame behavior). To set a value by position, use `ser.iloc[pos] = value`\n",
      "\n",
      "/var/folders/9r/yl209mt550g4h4t5v79dcyw80000gr/T/ipykernel_15307/2131278476.py:13: FutureWarning:\n",
      "\n",
      "Series.__setitem__ treating keys as positions is deprecated. In a future version, integer keys will always be treated as labels (consistent with DataFrame behavior). To set a value by position, use `ser.iloc[pos] = value`\n",
      "\n",
      "/var/folders/9r/yl209mt550g4h4t5v79dcyw80000gr/T/ipykernel_15307/2131278476.py:13: FutureWarning:\n",
      "\n",
      "Series.__setitem__ treating keys as positions is deprecated. In a future version, integer keys will always be treated as labels (consistent with DataFrame behavior). To set a value by position, use `ser.iloc[pos] = value`\n",
      "\n",
      "/var/folders/9r/yl209mt550g4h4t5v79dcyw80000gr/T/ipykernel_15307/2131278476.py:13: FutureWarning:\n",
      "\n",
      "Series.__setitem__ treating keys as positions is deprecated. In a future version, integer keys will always be treated as labels (consistent with DataFrame behavior). To set a value by position, use `ser.iloc[pos] = value`\n",
      "\n",
      "/var/folders/9r/yl209mt550g4h4t5v79dcyw80000gr/T/ipykernel_15307/2131278476.py:13: FutureWarning:\n",
      "\n",
      "Series.__setitem__ treating keys as positions is deprecated. In a future version, integer keys will always be treated as labels (consistent with DataFrame behavior). To set a value by position, use `ser.iloc[pos] = value`\n",
      "\n",
      "/var/folders/9r/yl209mt550g4h4t5v79dcyw80000gr/T/ipykernel_15307/2131278476.py:13: FutureWarning:\n",
      "\n",
      "Series.__setitem__ treating keys as positions is deprecated. In a future version, integer keys will always be treated as labels (consistent with DataFrame behavior). To set a value by position, use `ser.iloc[pos] = value`\n",
      "\n",
      "/var/folders/9r/yl209mt550g4h4t5v79dcyw80000gr/T/ipykernel_15307/2131278476.py:13: FutureWarning:\n",
      "\n",
      "Series.__setitem__ treating keys as positions is deprecated. In a future version, integer keys will always be treated as labels (consistent with DataFrame behavior). To set a value by position, use `ser.iloc[pos] = value`\n",
      "\n",
      "/var/folders/9r/yl209mt550g4h4t5v79dcyw80000gr/T/ipykernel_15307/2131278476.py:13: FutureWarning:\n",
      "\n",
      "Series.__setitem__ treating keys as positions is deprecated. In a future version, integer keys will always be treated as labels (consistent with DataFrame behavior). To set a value by position, use `ser.iloc[pos] = value`\n",
      "\n",
      "/var/folders/9r/yl209mt550g4h4t5v79dcyw80000gr/T/ipykernel_15307/2131278476.py:13: FutureWarning:\n",
      "\n",
      "Series.__setitem__ treating keys as positions is deprecated. In a future version, integer keys will always be treated as labels (consistent with DataFrame behavior). To set a value by position, use `ser.iloc[pos] = value`\n",
      "\n",
      "/var/folders/9r/yl209mt550g4h4t5v79dcyw80000gr/T/ipykernel_15307/2131278476.py:13: FutureWarning:\n",
      "\n",
      "Series.__setitem__ treating keys as positions is deprecated. In a future version, integer keys will always be treated as labels (consistent with DataFrame behavior). To set a value by position, use `ser.iloc[pos] = value`\n",
      "\n",
      "/var/folders/9r/yl209mt550g4h4t5v79dcyw80000gr/T/ipykernel_15307/2131278476.py:13: FutureWarning:\n",
      "\n",
      "Series.__setitem__ treating keys as positions is deprecated. In a future version, integer keys will always be treated as labels (consistent with DataFrame behavior). To set a value by position, use `ser.iloc[pos] = value`\n",
      "\n",
      "/var/folders/9r/yl209mt550g4h4t5v79dcyw80000gr/T/ipykernel_15307/2131278476.py:13: FutureWarning:\n",
      "\n",
      "Series.__setitem__ treating keys as positions is deprecated. In a future version, integer keys will always be treated as labels (consistent with DataFrame behavior). To set a value by position, use `ser.iloc[pos] = value`\n",
      "\n",
      "/var/folders/9r/yl209mt550g4h4t5v79dcyw80000gr/T/ipykernel_15307/2131278476.py:13: FutureWarning:\n",
      "\n",
      "Series.__setitem__ treating keys as positions is deprecated. In a future version, integer keys will always be treated as labels (consistent with DataFrame behavior). To set a value by position, use `ser.iloc[pos] = value`\n",
      "\n",
      "/var/folders/9r/yl209mt550g4h4t5v79dcyw80000gr/T/ipykernel_15307/2131278476.py:13: FutureWarning:\n",
      "\n",
      "Series.__setitem__ treating keys as positions is deprecated. In a future version, integer keys will always be treated as labels (consistent with DataFrame behavior). To set a value by position, use `ser.iloc[pos] = value`\n",
      "\n",
      "/var/folders/9r/yl209mt550g4h4t5v79dcyw80000gr/T/ipykernel_15307/2131278476.py:13: FutureWarning:\n",
      "\n",
      "Series.__setitem__ treating keys as positions is deprecated. In a future version, integer keys will always be treated as labels (consistent with DataFrame behavior). To set a value by position, use `ser.iloc[pos] = value`\n",
      "\n",
      "/var/folders/9r/yl209mt550g4h4t5v79dcyw80000gr/T/ipykernel_15307/2131278476.py:13: FutureWarning:\n",
      "\n",
      "Series.__setitem__ treating keys as positions is deprecated. In a future version, integer keys will always be treated as labels (consistent with DataFrame behavior). To set a value by position, use `ser.iloc[pos] = value`\n",
      "\n",
      "/var/folders/9r/yl209mt550g4h4t5v79dcyw80000gr/T/ipykernel_15307/2131278476.py:13: FutureWarning:\n",
      "\n",
      "Series.__setitem__ treating keys as positions is deprecated. In a future version, integer keys will always be treated as labels (consistent with DataFrame behavior). To set a value by position, use `ser.iloc[pos] = value`\n",
      "\n",
      "/var/folders/9r/yl209mt550g4h4t5v79dcyw80000gr/T/ipykernel_15307/2131278476.py:13: FutureWarning:\n",
      "\n",
      "Series.__setitem__ treating keys as positions is deprecated. In a future version, integer keys will always be treated as labels (consistent with DataFrame behavior). To set a value by position, use `ser.iloc[pos] = value`\n",
      "\n",
      "/var/folders/9r/yl209mt550g4h4t5v79dcyw80000gr/T/ipykernel_15307/2131278476.py:13: FutureWarning:\n",
      "\n",
      "Series.__setitem__ treating keys as positions is deprecated. In a future version, integer keys will always be treated as labels (consistent with DataFrame behavior). To set a value by position, use `ser.iloc[pos] = value`\n",
      "\n",
      "/var/folders/9r/yl209mt550g4h4t5v79dcyw80000gr/T/ipykernel_15307/2131278476.py:13: FutureWarning:\n",
      "\n",
      "Series.__setitem__ treating keys as positions is deprecated. In a future version, integer keys will always be treated as labels (consistent with DataFrame behavior). To set a value by position, use `ser.iloc[pos] = value`\n",
      "\n",
      "/var/folders/9r/yl209mt550g4h4t5v79dcyw80000gr/T/ipykernel_15307/2131278476.py:13: FutureWarning:\n",
      "\n",
      "Series.__setitem__ treating keys as positions is deprecated. In a future version, integer keys will always be treated as labels (consistent with DataFrame behavior). To set a value by position, use `ser.iloc[pos] = value`\n",
      "\n",
      "/var/folders/9r/yl209mt550g4h4t5v79dcyw80000gr/T/ipykernel_15307/2131278476.py:13: FutureWarning:\n",
      "\n",
      "Series.__setitem__ treating keys as positions is deprecated. In a future version, integer keys will always be treated as labels (consistent with DataFrame behavior). To set a value by position, use `ser.iloc[pos] = value`\n",
      "\n",
      "/var/folders/9r/yl209mt550g4h4t5v79dcyw80000gr/T/ipykernel_15307/2131278476.py:13: FutureWarning:\n",
      "\n",
      "Series.__setitem__ treating keys as positions is deprecated. In a future version, integer keys will always be treated as labels (consistent with DataFrame behavior). To set a value by position, use `ser.iloc[pos] = value`\n",
      "\n",
      "/var/folders/9r/yl209mt550g4h4t5v79dcyw80000gr/T/ipykernel_15307/2131278476.py:13: FutureWarning:\n",
      "\n",
      "Series.__setitem__ treating keys as positions is deprecated. In a future version, integer keys will always be treated as labels (consistent with DataFrame behavior). To set a value by position, use `ser.iloc[pos] = value`\n",
      "\n",
      "/var/folders/9r/yl209mt550g4h4t5v79dcyw80000gr/T/ipykernel_15307/2131278476.py:13: FutureWarning:\n",
      "\n",
      "Series.__setitem__ treating keys as positions is deprecated. In a future version, integer keys will always be treated as labels (consistent with DataFrame behavior). To set a value by position, use `ser.iloc[pos] = value`\n",
      "\n",
      "/var/folders/9r/yl209mt550g4h4t5v79dcyw80000gr/T/ipykernel_15307/2131278476.py:13: FutureWarning:\n",
      "\n",
      "Series.__setitem__ treating keys as positions is deprecated. In a future version, integer keys will always be treated as labels (consistent with DataFrame behavior). To set a value by position, use `ser.iloc[pos] = value`\n",
      "\n",
      "/var/folders/9r/yl209mt550g4h4t5v79dcyw80000gr/T/ipykernel_15307/2131278476.py:13: FutureWarning:\n",
      "\n",
      "Series.__setitem__ treating keys as positions is deprecated. In a future version, integer keys will always be treated as labels (consistent with DataFrame behavior). To set a value by position, use `ser.iloc[pos] = value`\n",
      "\n",
      "/var/folders/9r/yl209mt550g4h4t5v79dcyw80000gr/T/ipykernel_15307/2131278476.py:13: FutureWarning:\n",
      "\n",
      "Series.__setitem__ treating keys as positions is deprecated. In a future version, integer keys will always be treated as labels (consistent with DataFrame behavior). To set a value by position, use `ser.iloc[pos] = value`\n",
      "\n",
      "/var/folders/9r/yl209mt550g4h4t5v79dcyw80000gr/T/ipykernel_15307/2131278476.py:13: FutureWarning:\n",
      "\n",
      "Series.__setitem__ treating keys as positions is deprecated. In a future version, integer keys will always be treated as labels (consistent with DataFrame behavior). To set a value by position, use `ser.iloc[pos] = value`\n",
      "\n",
      "/var/folders/9r/yl209mt550g4h4t5v79dcyw80000gr/T/ipykernel_15307/2131278476.py:13: FutureWarning:\n",
      "\n",
      "Series.__setitem__ treating keys as positions is deprecated. In a future version, integer keys will always be treated as labels (consistent with DataFrame behavior). To set a value by position, use `ser.iloc[pos] = value`\n",
      "\n",
      "/var/folders/9r/yl209mt550g4h4t5v79dcyw80000gr/T/ipykernel_15307/2131278476.py:13: FutureWarning:\n",
      "\n",
      "Series.__setitem__ treating keys as positions is deprecated. In a future version, integer keys will always be treated as labels (consistent with DataFrame behavior). To set a value by position, use `ser.iloc[pos] = value`\n",
      "\n",
      "/var/folders/9r/yl209mt550g4h4t5v79dcyw80000gr/T/ipykernel_15307/2131278476.py:13: FutureWarning:\n",
      "\n",
      "Series.__setitem__ treating keys as positions is deprecated. In a future version, integer keys will always be treated as labels (consistent with DataFrame behavior). To set a value by position, use `ser.iloc[pos] = value`\n",
      "\n",
      "/var/folders/9r/yl209mt550g4h4t5v79dcyw80000gr/T/ipykernel_15307/2131278476.py:13: FutureWarning:\n",
      "\n",
      "Series.__setitem__ treating keys as positions is deprecated. In a future version, integer keys will always be treated as labels (consistent with DataFrame behavior). To set a value by position, use `ser.iloc[pos] = value`\n",
      "\n",
      "/var/folders/9r/yl209mt550g4h4t5v79dcyw80000gr/T/ipykernel_15307/2131278476.py:13: FutureWarning:\n",
      "\n",
      "Series.__setitem__ treating keys as positions is deprecated. In a future version, integer keys will always be treated as labels (consistent with DataFrame behavior). To set a value by position, use `ser.iloc[pos] = value`\n",
      "\n",
      "/var/folders/9r/yl209mt550g4h4t5v79dcyw80000gr/T/ipykernel_15307/2131278476.py:13: FutureWarning:\n",
      "\n",
      "Series.__setitem__ treating keys as positions is deprecated. In a future version, integer keys will always be treated as labels (consistent with DataFrame behavior). To set a value by position, use `ser.iloc[pos] = value`\n",
      "\n",
      "/var/folders/9r/yl209mt550g4h4t5v79dcyw80000gr/T/ipykernel_15307/2131278476.py:13: FutureWarning:\n",
      "\n",
      "Series.__setitem__ treating keys as positions is deprecated. In a future version, integer keys will always be treated as labels (consistent with DataFrame behavior). To set a value by position, use `ser.iloc[pos] = value`\n",
      "\n",
      "/var/folders/9r/yl209mt550g4h4t5v79dcyw80000gr/T/ipykernel_15307/2131278476.py:13: FutureWarning:\n",
      "\n",
      "Series.__setitem__ treating keys as positions is deprecated. In a future version, integer keys will always be treated as labels (consistent with DataFrame behavior). To set a value by position, use `ser.iloc[pos] = value`\n",
      "\n",
      "/var/folders/9r/yl209mt550g4h4t5v79dcyw80000gr/T/ipykernel_15307/2131278476.py:13: FutureWarning:\n",
      "\n",
      "Series.__setitem__ treating keys as positions is deprecated. In a future version, integer keys will always be treated as labels (consistent with DataFrame behavior). To set a value by position, use `ser.iloc[pos] = value`\n",
      "\n",
      "/var/folders/9r/yl209mt550g4h4t5v79dcyw80000gr/T/ipykernel_15307/2131278476.py:13: FutureWarning:\n",
      "\n",
      "Series.__setitem__ treating keys as positions is deprecated. In a future version, integer keys will always be treated as labels (consistent with DataFrame behavior). To set a value by position, use `ser.iloc[pos] = value`\n",
      "\n",
      "/var/folders/9r/yl209mt550g4h4t5v79dcyw80000gr/T/ipykernel_15307/2131278476.py:13: FutureWarning:\n",
      "\n",
      "Series.__setitem__ treating keys as positions is deprecated. In a future version, integer keys will always be treated as labels (consistent with DataFrame behavior). To set a value by position, use `ser.iloc[pos] = value`\n",
      "\n",
      "/var/folders/9r/yl209mt550g4h4t5v79dcyw80000gr/T/ipykernel_15307/2131278476.py:13: FutureWarning:\n",
      "\n",
      "Series.__setitem__ treating keys as positions is deprecated. In a future version, integer keys will always be treated as labels (consistent with DataFrame behavior). To set a value by position, use `ser.iloc[pos] = value`\n",
      "\n",
      "/var/folders/9r/yl209mt550g4h4t5v79dcyw80000gr/T/ipykernel_15307/2131278476.py:13: FutureWarning:\n",
      "\n",
      "Series.__setitem__ treating keys as positions is deprecated. In a future version, integer keys will always be treated as labels (consistent with DataFrame behavior). To set a value by position, use `ser.iloc[pos] = value`\n",
      "\n",
      "/var/folders/9r/yl209mt550g4h4t5v79dcyw80000gr/T/ipykernel_15307/2131278476.py:13: FutureWarning:\n",
      "\n",
      "Series.__setitem__ treating keys as positions is deprecated. In a future version, integer keys will always be treated as labels (consistent with DataFrame behavior). To set a value by position, use `ser.iloc[pos] = value`\n",
      "\n",
      "/var/folders/9r/yl209mt550g4h4t5v79dcyw80000gr/T/ipykernel_15307/2131278476.py:13: FutureWarning:\n",
      "\n",
      "Series.__setitem__ treating keys as positions is deprecated. In a future version, integer keys will always be treated as labels (consistent with DataFrame behavior). To set a value by position, use `ser.iloc[pos] = value`\n",
      "\n",
      "/var/folders/9r/yl209mt550g4h4t5v79dcyw80000gr/T/ipykernel_15307/2131278476.py:13: FutureWarning:\n",
      "\n",
      "Series.__setitem__ treating keys as positions is deprecated. In a future version, integer keys will always be treated as labels (consistent with DataFrame behavior). To set a value by position, use `ser.iloc[pos] = value`\n",
      "\n",
      "/var/folders/9r/yl209mt550g4h4t5v79dcyw80000gr/T/ipykernel_15307/2131278476.py:13: FutureWarning:\n",
      "\n",
      "Series.__setitem__ treating keys as positions is deprecated. In a future version, integer keys will always be treated as labels (consistent with DataFrame behavior). To set a value by position, use `ser.iloc[pos] = value`\n",
      "\n",
      "/var/folders/9r/yl209mt550g4h4t5v79dcyw80000gr/T/ipykernel_15307/2131278476.py:13: FutureWarning:\n",
      "\n",
      "Series.__setitem__ treating keys as positions is deprecated. In a future version, integer keys will always be treated as labels (consistent with DataFrame behavior). To set a value by position, use `ser.iloc[pos] = value`\n",
      "\n",
      "/var/folders/9r/yl209mt550g4h4t5v79dcyw80000gr/T/ipykernel_15307/2131278476.py:13: FutureWarning:\n",
      "\n",
      "Series.__setitem__ treating keys as positions is deprecated. In a future version, integer keys will always be treated as labels (consistent with DataFrame behavior). To set a value by position, use `ser.iloc[pos] = value`\n",
      "\n",
      "/var/folders/9r/yl209mt550g4h4t5v79dcyw80000gr/T/ipykernel_15307/2131278476.py:13: FutureWarning:\n",
      "\n",
      "Series.__setitem__ treating keys as positions is deprecated. In a future version, integer keys will always be treated as labels (consistent with DataFrame behavior). To set a value by position, use `ser.iloc[pos] = value`\n",
      "\n",
      "/var/folders/9r/yl209mt550g4h4t5v79dcyw80000gr/T/ipykernel_15307/2131278476.py:13: FutureWarning:\n",
      "\n",
      "Series.__setitem__ treating keys as positions is deprecated. In a future version, integer keys will always be treated as labels (consistent with DataFrame behavior). To set a value by position, use `ser.iloc[pos] = value`\n",
      "\n",
      "/var/folders/9r/yl209mt550g4h4t5v79dcyw80000gr/T/ipykernel_15307/2131278476.py:13: FutureWarning:\n",
      "\n",
      "Series.__setitem__ treating keys as positions is deprecated. In a future version, integer keys will always be treated as labels (consistent with DataFrame behavior). To set a value by position, use `ser.iloc[pos] = value`\n",
      "\n",
      "/var/folders/9r/yl209mt550g4h4t5v79dcyw80000gr/T/ipykernel_15307/2131278476.py:13: FutureWarning:\n",
      "\n",
      "Series.__setitem__ treating keys as positions is deprecated. In a future version, integer keys will always be treated as labels (consistent with DataFrame behavior). To set a value by position, use `ser.iloc[pos] = value`\n",
      "\n",
      "/var/folders/9r/yl209mt550g4h4t5v79dcyw80000gr/T/ipykernel_15307/2131278476.py:13: FutureWarning:\n",
      "\n",
      "Series.__setitem__ treating keys as positions is deprecated. In a future version, integer keys will always be treated as labels (consistent with DataFrame behavior). To set a value by position, use `ser.iloc[pos] = value`\n",
      "\n",
      "/var/folders/9r/yl209mt550g4h4t5v79dcyw80000gr/T/ipykernel_15307/2131278476.py:13: FutureWarning:\n",
      "\n",
      "Series.__setitem__ treating keys as positions is deprecated. In a future version, integer keys will always be treated as labels (consistent with DataFrame behavior). To set a value by position, use `ser.iloc[pos] = value`\n",
      "\n",
      "/var/folders/9r/yl209mt550g4h4t5v79dcyw80000gr/T/ipykernel_15307/2131278476.py:13: FutureWarning:\n",
      "\n",
      "Series.__setitem__ treating keys as positions is deprecated. In a future version, integer keys will always be treated as labels (consistent with DataFrame behavior). To set a value by position, use `ser.iloc[pos] = value`\n",
      "\n",
      "/var/folders/9r/yl209mt550g4h4t5v79dcyw80000gr/T/ipykernel_15307/2131278476.py:13: FutureWarning:\n",
      "\n",
      "Series.__setitem__ treating keys as positions is deprecated. In a future version, integer keys will always be treated as labels (consistent with DataFrame behavior). To set a value by position, use `ser.iloc[pos] = value`\n",
      "\n",
      "/var/folders/9r/yl209mt550g4h4t5v79dcyw80000gr/T/ipykernel_15307/2131278476.py:13: FutureWarning:\n",
      "\n",
      "Series.__setitem__ treating keys as positions is deprecated. In a future version, integer keys will always be treated as labels (consistent with DataFrame behavior). To set a value by position, use `ser.iloc[pos] = value`\n",
      "\n",
      "/var/folders/9r/yl209mt550g4h4t5v79dcyw80000gr/T/ipykernel_15307/2131278476.py:13: FutureWarning:\n",
      "\n",
      "Series.__setitem__ treating keys as positions is deprecated. In a future version, integer keys will always be treated as labels (consistent with DataFrame behavior). To set a value by position, use `ser.iloc[pos] = value`\n",
      "\n",
      "/var/folders/9r/yl209mt550g4h4t5v79dcyw80000gr/T/ipykernel_15307/2131278476.py:13: FutureWarning:\n",
      "\n",
      "Series.__setitem__ treating keys as positions is deprecated. In a future version, integer keys will always be treated as labels (consistent with DataFrame behavior). To set a value by position, use `ser.iloc[pos] = value`\n",
      "\n",
      "/var/folders/9r/yl209mt550g4h4t5v79dcyw80000gr/T/ipykernel_15307/2131278476.py:13: FutureWarning:\n",
      "\n",
      "Series.__setitem__ treating keys as positions is deprecated. In a future version, integer keys will always be treated as labels (consistent with DataFrame behavior). To set a value by position, use `ser.iloc[pos] = value`\n",
      "\n",
      "/var/folders/9r/yl209mt550g4h4t5v79dcyw80000gr/T/ipykernel_15307/2131278476.py:13: FutureWarning:\n",
      "\n",
      "Series.__setitem__ treating keys as positions is deprecated. In a future version, integer keys will always be treated as labels (consistent with DataFrame behavior). To set a value by position, use `ser.iloc[pos] = value`\n",
      "\n",
      "/var/folders/9r/yl209mt550g4h4t5v79dcyw80000gr/T/ipykernel_15307/2131278476.py:13: FutureWarning:\n",
      "\n",
      "Series.__setitem__ treating keys as positions is deprecated. In a future version, integer keys will always be treated as labels (consistent with DataFrame behavior). To set a value by position, use `ser.iloc[pos] = value`\n",
      "\n",
      "/var/folders/9r/yl209mt550g4h4t5v79dcyw80000gr/T/ipykernel_15307/2131278476.py:13: FutureWarning:\n",
      "\n",
      "Series.__setitem__ treating keys as positions is deprecated. In a future version, integer keys will always be treated as labels (consistent with DataFrame behavior). To set a value by position, use `ser.iloc[pos] = value`\n",
      "\n",
      "/var/folders/9r/yl209mt550g4h4t5v79dcyw80000gr/T/ipykernel_15307/2131278476.py:13: FutureWarning:\n",
      "\n",
      "Series.__setitem__ treating keys as positions is deprecated. In a future version, integer keys will always be treated as labels (consistent with DataFrame behavior). To set a value by position, use `ser.iloc[pos] = value`\n",
      "\n",
      "/var/folders/9r/yl209mt550g4h4t5v79dcyw80000gr/T/ipykernel_15307/2131278476.py:13: FutureWarning:\n",
      "\n",
      "Series.__setitem__ treating keys as positions is deprecated. In a future version, integer keys will always be treated as labels (consistent with DataFrame behavior). To set a value by position, use `ser.iloc[pos] = value`\n",
      "\n",
      "/var/folders/9r/yl209mt550g4h4t5v79dcyw80000gr/T/ipykernel_15307/2131278476.py:13: FutureWarning:\n",
      "\n",
      "Series.__setitem__ treating keys as positions is deprecated. In a future version, integer keys will always be treated as labels (consistent with DataFrame behavior). To set a value by position, use `ser.iloc[pos] = value`\n",
      "\n",
      "/var/folders/9r/yl209mt550g4h4t5v79dcyw80000gr/T/ipykernel_15307/2131278476.py:13: FutureWarning:\n",
      "\n",
      "Series.__setitem__ treating keys as positions is deprecated. In a future version, integer keys will always be treated as labels (consistent with DataFrame behavior). To set a value by position, use `ser.iloc[pos] = value`\n",
      "\n",
      "/var/folders/9r/yl209mt550g4h4t5v79dcyw80000gr/T/ipykernel_15307/2131278476.py:13: FutureWarning:\n",
      "\n",
      "Series.__setitem__ treating keys as positions is deprecated. In a future version, integer keys will always be treated as labels (consistent with DataFrame behavior). To set a value by position, use `ser.iloc[pos] = value`\n",
      "\n",
      "/var/folders/9r/yl209mt550g4h4t5v79dcyw80000gr/T/ipykernel_15307/2131278476.py:13: FutureWarning:\n",
      "\n",
      "Series.__setitem__ treating keys as positions is deprecated. In a future version, integer keys will always be treated as labels (consistent with DataFrame behavior). To set a value by position, use `ser.iloc[pos] = value`\n",
      "\n",
      "/var/folders/9r/yl209mt550g4h4t5v79dcyw80000gr/T/ipykernel_15307/2131278476.py:13: FutureWarning:\n",
      "\n",
      "Series.__setitem__ treating keys as positions is deprecated. In a future version, integer keys will always be treated as labels (consistent with DataFrame behavior). To set a value by position, use `ser.iloc[pos] = value`\n",
      "\n",
      "/var/folders/9r/yl209mt550g4h4t5v79dcyw80000gr/T/ipykernel_15307/2131278476.py:13: FutureWarning:\n",
      "\n",
      "Series.__setitem__ treating keys as positions is deprecated. In a future version, integer keys will always be treated as labels (consistent with DataFrame behavior). To set a value by position, use `ser.iloc[pos] = value`\n",
      "\n",
      "/var/folders/9r/yl209mt550g4h4t5v79dcyw80000gr/T/ipykernel_15307/2131278476.py:13: FutureWarning:\n",
      "\n",
      "Series.__setitem__ treating keys as positions is deprecated. In a future version, integer keys will always be treated as labels (consistent with DataFrame behavior). To set a value by position, use `ser.iloc[pos] = value`\n",
      "\n",
      "/var/folders/9r/yl209mt550g4h4t5v79dcyw80000gr/T/ipykernel_15307/2131278476.py:13: FutureWarning:\n",
      "\n",
      "Series.__setitem__ treating keys as positions is deprecated. In a future version, integer keys will always be treated as labels (consistent with DataFrame behavior). To set a value by position, use `ser.iloc[pos] = value`\n",
      "\n",
      "/var/folders/9r/yl209mt550g4h4t5v79dcyw80000gr/T/ipykernel_15307/2131278476.py:13: FutureWarning:\n",
      "\n",
      "Series.__setitem__ treating keys as positions is deprecated. In a future version, integer keys will always be treated as labels (consistent with DataFrame behavior). To set a value by position, use `ser.iloc[pos] = value`\n",
      "\n",
      "/var/folders/9r/yl209mt550g4h4t5v79dcyw80000gr/T/ipykernel_15307/2131278476.py:13: FutureWarning:\n",
      "\n",
      "Series.__setitem__ treating keys as positions is deprecated. In a future version, integer keys will always be treated as labels (consistent with DataFrame behavior). To set a value by position, use `ser.iloc[pos] = value`\n",
      "\n",
      "/var/folders/9r/yl209mt550g4h4t5v79dcyw80000gr/T/ipykernel_15307/2131278476.py:13: FutureWarning:\n",
      "\n",
      "Series.__setitem__ treating keys as positions is deprecated. In a future version, integer keys will always be treated as labels (consistent with DataFrame behavior). To set a value by position, use `ser.iloc[pos] = value`\n",
      "\n",
      "/var/folders/9r/yl209mt550g4h4t5v79dcyw80000gr/T/ipykernel_15307/2131278476.py:13: FutureWarning:\n",
      "\n",
      "Series.__setitem__ treating keys as positions is deprecated. In a future version, integer keys will always be treated as labels (consistent with DataFrame behavior). To set a value by position, use `ser.iloc[pos] = value`\n",
      "\n",
      "/var/folders/9r/yl209mt550g4h4t5v79dcyw80000gr/T/ipykernel_15307/2131278476.py:13: FutureWarning:\n",
      "\n",
      "Series.__setitem__ treating keys as positions is deprecated. In a future version, integer keys will always be treated as labels (consistent with DataFrame behavior). To set a value by position, use `ser.iloc[pos] = value`\n",
      "\n",
      "/var/folders/9r/yl209mt550g4h4t5v79dcyw80000gr/T/ipykernel_15307/2131278476.py:13: FutureWarning:\n",
      "\n",
      "Series.__setitem__ treating keys as positions is deprecated. In a future version, integer keys will always be treated as labels (consistent with DataFrame behavior). To set a value by position, use `ser.iloc[pos] = value`\n",
      "\n",
      "/var/folders/9r/yl209mt550g4h4t5v79dcyw80000gr/T/ipykernel_15307/2131278476.py:13: FutureWarning:\n",
      "\n",
      "Series.__setitem__ treating keys as positions is deprecated. In a future version, integer keys will always be treated as labels (consistent with DataFrame behavior). To set a value by position, use `ser.iloc[pos] = value`\n",
      "\n",
      "/var/folders/9r/yl209mt550g4h4t5v79dcyw80000gr/T/ipykernel_15307/2131278476.py:13: FutureWarning:\n",
      "\n",
      "Series.__setitem__ treating keys as positions is deprecated. In a future version, integer keys will always be treated as labels (consistent with DataFrame behavior). To set a value by position, use `ser.iloc[pos] = value`\n",
      "\n",
      "/var/folders/9r/yl209mt550g4h4t5v79dcyw80000gr/T/ipykernel_15307/2131278476.py:13: FutureWarning:\n",
      "\n",
      "Series.__setitem__ treating keys as positions is deprecated. In a future version, integer keys will always be treated as labels (consistent with DataFrame behavior). To set a value by position, use `ser.iloc[pos] = value`\n",
      "\n",
      "/var/folders/9r/yl209mt550g4h4t5v79dcyw80000gr/T/ipykernel_15307/2131278476.py:13: FutureWarning:\n",
      "\n",
      "Series.__setitem__ treating keys as positions is deprecated. In a future version, integer keys will always be treated as labels (consistent with DataFrame behavior). To set a value by position, use `ser.iloc[pos] = value`\n",
      "\n",
      "/var/folders/9r/yl209mt550g4h4t5v79dcyw80000gr/T/ipykernel_15307/2131278476.py:13: FutureWarning:\n",
      "\n",
      "Series.__setitem__ treating keys as positions is deprecated. In a future version, integer keys will always be treated as labels (consistent with DataFrame behavior). To set a value by position, use `ser.iloc[pos] = value`\n",
      "\n",
      "/var/folders/9r/yl209mt550g4h4t5v79dcyw80000gr/T/ipykernel_15307/2131278476.py:13: FutureWarning:\n",
      "\n",
      "Series.__setitem__ treating keys as positions is deprecated. In a future version, integer keys will always be treated as labels (consistent with DataFrame behavior). To set a value by position, use `ser.iloc[pos] = value`\n",
      "\n",
      "/var/folders/9r/yl209mt550g4h4t5v79dcyw80000gr/T/ipykernel_15307/2131278476.py:13: FutureWarning:\n",
      "\n",
      "Series.__setitem__ treating keys as positions is deprecated. In a future version, integer keys will always be treated as labels (consistent with DataFrame behavior). To set a value by position, use `ser.iloc[pos] = value`\n",
      "\n",
      "/var/folders/9r/yl209mt550g4h4t5v79dcyw80000gr/T/ipykernel_15307/2131278476.py:13: FutureWarning:\n",
      "\n",
      "Series.__setitem__ treating keys as positions is deprecated. In a future version, integer keys will always be treated as labels (consistent with DataFrame behavior). To set a value by position, use `ser.iloc[pos] = value`\n",
      "\n",
      "/var/folders/9r/yl209mt550g4h4t5v79dcyw80000gr/T/ipykernel_15307/2131278476.py:13: FutureWarning:\n",
      "\n",
      "Series.__setitem__ treating keys as positions is deprecated. In a future version, integer keys will always be treated as labels (consistent with DataFrame behavior). To set a value by position, use `ser.iloc[pos] = value`\n",
      "\n",
      "/var/folders/9r/yl209mt550g4h4t5v79dcyw80000gr/T/ipykernel_15307/2131278476.py:13: FutureWarning:\n",
      "\n",
      "Series.__setitem__ treating keys as positions is deprecated. In a future version, integer keys will always be treated as labels (consistent with DataFrame behavior). To set a value by position, use `ser.iloc[pos] = value`\n",
      "\n",
      "/var/folders/9r/yl209mt550g4h4t5v79dcyw80000gr/T/ipykernel_15307/2131278476.py:13: FutureWarning:\n",
      "\n",
      "Series.__setitem__ treating keys as positions is deprecated. In a future version, integer keys will always be treated as labels (consistent with DataFrame behavior). To set a value by position, use `ser.iloc[pos] = value`\n",
      "\n",
      "/var/folders/9r/yl209mt550g4h4t5v79dcyw80000gr/T/ipykernel_15307/2131278476.py:13: FutureWarning:\n",
      "\n",
      "Series.__setitem__ treating keys as positions is deprecated. In a future version, integer keys will always be treated as labels (consistent with DataFrame behavior). To set a value by position, use `ser.iloc[pos] = value`\n",
      "\n"
     ]
    },
    {
     "ename": "KeyboardInterrupt",
     "evalue": "",
     "output_type": "error",
     "traceback": [
      "\u001b[0;31m---------------------------------------------------------------------------\u001b[0m",
      "\u001b[0;31mKeyboardInterrupt\u001b[0m                         Traceback (most recent call last)",
      "Cell \u001b[0;32mIn[20], line 14\u001b[0m\n\u001b[1;32m     12\u001b[0m     my_p \u001b[38;5;241m=\u001b[39m Prices\u001b[38;5;241m.\u001b[39mcopy()\n\u001b[1;32m     13\u001b[0m     my_p[i] \u001b[38;5;241m=\u001b[39m p\u001b[38;5;241m*\u001b[39ms\n\u001b[0;32m---> 14\u001b[0m     result \u001b[38;5;241m=\u001b[39m \u001b[43mgetPrices\u001b[49m\u001b[38;5;241;43m.\u001b[39;49m\u001b[43msolve_subsistence_problem\u001b[49m\u001b[43m(\u001b[49m\u001b[43mFoodNutrients\u001b[49m\u001b[43m,\u001b[49m\u001b[43mmy_p\u001b[49m\u001b[43m,\u001b[49m\u001b[43mdiet_min\u001b[49m\u001b[43m[\u001b[49m\u001b[43mgroup\u001b[49m\u001b[43m]\u001b[49m\u001b[43m,\u001b[49m\u001b[43mdiet_max\u001b[49m\u001b[43m[\u001b[49m\u001b[43mgroup\u001b[49m\u001b[43m]\u001b[49m\u001b[43m,\u001b[49m\u001b[43mtol\u001b[49m\u001b[38;5;241;43m=\u001b[39;49m\u001b[43mtol\u001b[49m\u001b[43m)\u001b[49m\n\u001b[1;32m     15\u001b[0m     cost[Prices\u001b[38;5;241m.\u001b[39mindex[i]] \u001b[38;5;241m=\u001b[39m np\u001b[38;5;241m.\u001b[39mlog(result\u001b[38;5;241m.\u001b[39mfun\u001b[38;5;241m/\u001b[39mcost0)\n\u001b[1;32m     16\u001b[0m Price_response[np\u001b[38;5;241m.\u001b[39mlog(s)] \u001b[38;5;241m=\u001b[39m cost\n",
      "File \u001b[0;32m~/src/EEP153/EEP153_Harriette_Chick_Project2/src/team_harriette_chick/getPrices.py:75\u001b[0m, in \u001b[0;36msolve_subsistence_problem\u001b[0;34m(FoodNutrients, Prices, dietmin, dietmax, max_weight, tol)\u001b[0m\n\u001b[1;32m     69\u001b[0m     b\u001b[38;5;241m.\u001b[39mloc[\u001b[38;5;124m'\u001b[39m\u001b[38;5;124mHectograms\u001b[39m\u001b[38;5;124m'\u001b[39m] \u001b[38;5;241m=\u001b[39m \u001b[38;5;241m-\u001b[39mmax_weight\n\u001b[1;32m     71\u001b[0m \u001b[38;5;66;03m# Now solve problem!  (Note that the linear program solver we'll use assumes\u001b[39;00m\n\u001b[1;32m     72\u001b[0m \u001b[38;5;66;03m# \"less-than-or-equal\" constraints.  We can switch back and forth by\u001b[39;00m\n\u001b[1;32m     73\u001b[0m \u001b[38;5;66;03m# multiplying $A$ and $b$ by $-1$.)\u001b[39;00m\n\u001b[0;32m---> 75\u001b[0m result \u001b[38;5;241m=\u001b[39m \u001b[43mlp\u001b[49m\u001b[43m(\u001b[49m\u001b[43mp\u001b[49m\u001b[43m,\u001b[49m\u001b[43m \u001b[49m\u001b[38;5;241;43m-\u001b[39;49m\u001b[43mA\u001b[49m\u001b[43m,\u001b[49m\u001b[43m \u001b[49m\u001b[38;5;241;43m-\u001b[39;49m\u001b[43mb\u001b[49m\u001b[43m,\u001b[49m\u001b[43m \u001b[49m\u001b[43mmethod\u001b[49m\u001b[38;5;241;43m=\u001b[39;49m\u001b[38;5;124;43m'\u001b[39;49m\u001b[38;5;124;43minterior-point\u001b[39;49m\u001b[38;5;124;43m'\u001b[39;49m\u001b[43m)\u001b[49m\n\u001b[1;32m     77\u001b[0m result\u001b[38;5;241m.\u001b[39mA \u001b[38;5;241m=\u001b[39m A\n\u001b[1;32m     78\u001b[0m result\u001b[38;5;241m.\u001b[39mb \u001b[38;5;241m=\u001b[39m b\n",
      "File \u001b[0;32m~/src/EEP153/EEP153_Harriette_Chick_Project2/venv/lib/python3.12/site-packages/scipy/optimize/_linprog.py:630\u001b[0m, in \u001b[0;36mlinprog\u001b[0;34m(c, A_ub, b_ub, A_eq, b_eq, bounds, method, callback, options, x0, integrality)\u001b[0m\n\u001b[1;32m    627\u001b[0m     integrality \u001b[38;5;241m=\u001b[39m np\u001b[38;5;241m.\u001b[39mbroadcast_to(integrality, np\u001b[38;5;241m.\u001b[39mshape(c))\n\u001b[1;32m    629\u001b[0m lp \u001b[38;5;241m=\u001b[39m _LPProblem(c, A_ub, b_ub, A_eq, b_eq, bounds, x0, integrality)\n\u001b[0;32m--> 630\u001b[0m lp, solver_options \u001b[38;5;241m=\u001b[39m \u001b[43m_parse_linprog\u001b[49m\u001b[43m(\u001b[49m\u001b[43mlp\u001b[49m\u001b[43m,\u001b[49m\u001b[43m \u001b[49m\u001b[43moptions\u001b[49m\u001b[43m,\u001b[49m\u001b[43m \u001b[49m\u001b[43mmeth\u001b[49m\u001b[43m)\u001b[49m\n\u001b[1;32m    631\u001b[0m tol \u001b[38;5;241m=\u001b[39m solver_options\u001b[38;5;241m.\u001b[39mget(\u001b[38;5;124m'\u001b[39m\u001b[38;5;124mtol\u001b[39m\u001b[38;5;124m'\u001b[39m, \u001b[38;5;241m1e-9\u001b[39m)\n\u001b[1;32m    633\u001b[0m \u001b[38;5;66;03m# Give unmodified problem to HiGHS\u001b[39;00m\n",
      "File \u001b[0;32m~/src/EEP153/EEP153_Harriette_Chick_Project2/venv/lib/python3.12/site-packages/scipy/optimize/_linprog_util.py:1026\u001b[0m, in \u001b[0;36m_parse_linprog\u001b[0;34m(lp, options, meth)\u001b[0m\n\u001b[1;32m   1023\u001b[0m solver_options, A_ub, A_eq \u001b[38;5;241m=\u001b[39m _check_sparse_inputs(solver_options, meth,\n\u001b[1;32m   1024\u001b[0m                                                   lp\u001b[38;5;241m.\u001b[39mA_ub, lp\u001b[38;5;241m.\u001b[39mA_eq)\n\u001b[1;32m   1025\u001b[0m \u001b[38;5;66;03m# Convert lists to numpy arrays, etc...\u001b[39;00m\n\u001b[0;32m-> 1026\u001b[0m lp \u001b[38;5;241m=\u001b[39m \u001b[43m_clean_inputs\u001b[49m\u001b[43m(\u001b[49m\u001b[43mlp\u001b[49m\u001b[38;5;241;43m.\u001b[39;49m\u001b[43m_replace\u001b[49m\u001b[43m(\u001b[49m\u001b[43mA_ub\u001b[49m\u001b[38;5;241;43m=\u001b[39;49m\u001b[43mA_ub\u001b[49m\u001b[43m,\u001b[49m\u001b[43m \u001b[49m\u001b[43mA_eq\u001b[49m\u001b[38;5;241;43m=\u001b[39;49m\u001b[43mA_eq\u001b[49m\u001b[43m)\u001b[49m\u001b[43m)\u001b[49m\n\u001b[1;32m   1027\u001b[0m \u001b[38;5;28;01mreturn\u001b[39;00m lp, solver_options\n",
      "File \u001b[0;32m~/src/EEP153/EEP153_Harriette_Chick_Project2/venv/lib/python3.12/site-packages/scipy/optimize/_linprog_util.py:325\u001b[0m, in \u001b[0;36m_clean_inputs\u001b[0;34m(lp)\u001b[0m\n\u001b[1;32m    319\u001b[0m     \u001b[38;5;28;01mif\u001b[39;00m \u001b[38;5;28mlen\u001b[39m(A_ub\u001b[38;5;241m.\u001b[39mshape) \u001b[38;5;241m!=\u001b[39m \u001b[38;5;241m2\u001b[39m \u001b[38;5;129;01mor\u001b[39;00m A_ub\u001b[38;5;241m.\u001b[39mshape[\u001b[38;5;241m1\u001b[39m] \u001b[38;5;241m!=\u001b[39m n_x:\n\u001b[1;32m    320\u001b[0m         \u001b[38;5;28;01mraise\u001b[39;00m \u001b[38;5;167;01mValueError\u001b[39;00m(\n\u001b[1;32m    321\u001b[0m             \u001b[38;5;124m\"\u001b[39m\u001b[38;5;124mInvalid input for linprog: A_ub must have exactly two \u001b[39m\u001b[38;5;124m\"\u001b[39m\n\u001b[1;32m    322\u001b[0m             \u001b[38;5;124m\"\u001b[39m\u001b[38;5;124mdimensions, and the number of columns in A_ub must be \u001b[39m\u001b[38;5;124m\"\u001b[39m\n\u001b[1;32m    323\u001b[0m             \u001b[38;5;124m\"\u001b[39m\u001b[38;5;124mequal to the size of c\u001b[39m\u001b[38;5;124m\"\u001b[39m)\n\u001b[1;32m    324\u001b[0m     \u001b[38;5;28;01mif\u001b[39;00m (sps\u001b[38;5;241m.\u001b[39missparse(A_ub) \u001b[38;5;129;01mand\u001b[39;00m \u001b[38;5;129;01mnot\u001b[39;00m np\u001b[38;5;241m.\u001b[39misfinite(A_ub\u001b[38;5;241m.\u001b[39mdata)\u001b[38;5;241m.\u001b[39mall()\n\u001b[0;32m--> 325\u001b[0m             \u001b[38;5;129;01mor\u001b[39;00m \u001b[38;5;129;01mnot\u001b[39;00m sps\u001b[38;5;241m.\u001b[39missparse(A_ub) \u001b[38;5;129;01mand\u001b[39;00m \u001b[38;5;129;01mnot\u001b[39;00m \u001b[43mnp\u001b[49m\u001b[38;5;241;43m.\u001b[39;49m\u001b[43misfinite\u001b[49m\u001b[43m(\u001b[49m\u001b[43mA_ub\u001b[49m\u001b[43m)\u001b[49m\u001b[38;5;241;43m.\u001b[39;49m\u001b[43mall\u001b[49m\u001b[43m(\u001b[49m\u001b[43m)\u001b[49m):\n\u001b[1;32m    326\u001b[0m         \u001b[38;5;28;01mraise\u001b[39;00m \u001b[38;5;167;01mValueError\u001b[39;00m(\n\u001b[1;32m    327\u001b[0m             \u001b[38;5;124m\"\u001b[39m\u001b[38;5;124mInvalid input for linprog: A_ub must not contain values \u001b[39m\u001b[38;5;124m\"\u001b[39m\n\u001b[1;32m    328\u001b[0m             \u001b[38;5;124m\"\u001b[39m\u001b[38;5;124minf, nan, or None\u001b[39m\u001b[38;5;124m\"\u001b[39m)\n\u001b[1;32m    330\u001b[0m \u001b[38;5;28;01mtry\u001b[39;00m:\n",
      "File \u001b[0;32m~/src/EEP153/EEP153_Harriette_Chick_Project2/venv/lib/python3.12/site-packages/numpy/core/_methods.py:64\u001b[0m, in \u001b[0;36m_all\u001b[0;34m(a, axis, dtype, out, keepdims, where)\u001b[0m\n\u001b[1;32m     61\u001b[0m \u001b[38;5;28;01mdef\u001b[39;00m \u001b[38;5;21m_all\u001b[39m(a, axis\u001b[38;5;241m=\u001b[39m\u001b[38;5;28;01mNone\u001b[39;00m, dtype\u001b[38;5;241m=\u001b[39m\u001b[38;5;28;01mNone\u001b[39;00m, out\u001b[38;5;241m=\u001b[39m\u001b[38;5;28;01mNone\u001b[39;00m, keepdims\u001b[38;5;241m=\u001b[39m\u001b[38;5;28;01mFalse\u001b[39;00m, \u001b[38;5;241m*\u001b[39m, where\u001b[38;5;241m=\u001b[39m\u001b[38;5;28;01mTrue\u001b[39;00m):\n\u001b[1;32m     62\u001b[0m     \u001b[38;5;66;03m# Parsing keyword arguments is currently fairly slow, so avoid it for now\u001b[39;00m\n\u001b[1;32m     63\u001b[0m     \u001b[38;5;28;01mif\u001b[39;00m where \u001b[38;5;129;01mis\u001b[39;00m \u001b[38;5;28;01mTrue\u001b[39;00m:\n\u001b[0;32m---> 64\u001b[0m         \u001b[38;5;28;01mreturn\u001b[39;00m \u001b[43mumr_all\u001b[49m\u001b[43m(\u001b[49m\u001b[43ma\u001b[49m\u001b[43m,\u001b[49m\u001b[43m \u001b[49m\u001b[43maxis\u001b[49m\u001b[43m,\u001b[49m\u001b[43m \u001b[49m\u001b[43mdtype\u001b[49m\u001b[43m,\u001b[49m\u001b[43m \u001b[49m\u001b[43mout\u001b[49m\u001b[43m,\u001b[49m\u001b[43m \u001b[49m\u001b[43mkeepdims\u001b[49m\u001b[43m)\u001b[49m\n\u001b[1;32m     65\u001b[0m     \u001b[38;5;28;01mreturn\u001b[39;00m umr_all(a, axis, dtype, out, keepdims, where\u001b[38;5;241m=\u001b[39mwhere)\n",
      "\u001b[0;31mKeyboardInterrupt\u001b[0m: "
     ]
    }
   ],
   "source": [
    "import cufflinks as cf\n",
    "cf.go_offline()\n",
    "\n",
    "scale = [.5,.6,.7,.8,.9,1.,1.1,1.2,1.3,1.4,1.5]\n",
    "\n",
    "cost0 = getPrices.solve_subsistence_problem(FoodNutrients,Prices,diet_min[group],diet_max[group],tol=tol).fun\n",
    "\n",
    "Price_response={}\n",
    "for s in scale:\n",
    "    cost = {}\n",
    "    for i,p in enumerate(Prices):\n",
    "        my_p = Prices.copy()\n",
    "        my_p[i] = p*s\n",
    "        result = getPrices.solve_subsistence_problem(FoodNutrients,my_p,diet_min[group],diet_max[group],tol=tol)\n",
    "        cost[Prices.index[i]] = np.log(result.fun/cost0)\n",
    "    Price_response[np.log(s)] = cost\n",
    "\n",
    "Price_response = pd.DataFrame(Price_response).T\n",
    "Price_response.iplot(xTitle='change in log price',yTitle='change in log cost')"
   ]
  },
  {
   "cell_type": "markdown",
   "metadata": {},
   "source": [
    "## Effects of Price Changes on Subsistence Diet Composition\n",
    "\n"
   ]
  },
  {
   "cell_type": "markdown",
   "metadata": {},
   "source": [
    "The code below creates a graph which changes prices just for *one* food,\n",
    "  and traces out the effects of this change on all the foods consumed.\n",
    "\n"
   ]
  },
  {
   "cell_type": "code",
   "execution_count": 21,
   "metadata": {},
   "outputs": [
    {
     "data": {
      "text/html": [
       "        <script type=\"text/javascript\">\n",
       "        window.PlotlyConfig = {MathJaxConfig: 'local'};\n",
       "        if (window.MathJax && window.MathJax.Hub && window.MathJax.Hub.Config) {window.MathJax.Hub.Config({SVG: {font: \"STIX-Web\"}});}\n",
       "        if (typeof require !== 'undefined') {\n",
       "        require.undef(\"plotly\");\n",
       "        requirejs.config({\n",
       "            paths: {\n",
       "                'plotly': ['https://cdn.plot.ly/plotly-2.29.1.min']\n",
       "            }\n",
       "        });\n",
       "        require(['plotly'], function(Plotly) {\n",
       "            window._Plotly = Plotly;\n",
       "        });\n",
       "        }\n",
       "        </script>\n",
       "        "
      ]
     },
     "metadata": {},
     "output_type": "display_data"
    },
    {
     "name": "stderr",
     "output_type": "stream",
     "text": [
      "/Users/christophernicholas/src/EEP153/EEP153_Harriette_Chick_Project2/venv/lib/python3.12/site-packages/pandas/core/dtypes/cast.py:1598: UnitStrippedWarning:\n",
      "\n",
      "The unit of the quantity is stripped when downcasting to ndarray.\n",
      "\n"
     ]
    },
    {
     "data": {
      "application/vnd.plotly.v1+json": {
       "config": {
        "linkText": "Export to plot.ly",
        "plotlyServerURL": "https://plot.ly",
        "showLink": true
       },
       "data": [
        {
         "line": {
          "color": "rgba(255, 153, 51, 1.0)",
          "dash": "solid",
          "shape": "linear",
          "width": 1.3
         },
         "mode": "lines",
         "name": "CHEESE CHED WHT SHRED BAG-6/5 LB",
         "text": "",
         "type": "scatter",
         "x": [
          0.07763578562840463,
          0.11645367844260696,
          0.13974441413112834,
          0.15527157125680927,
          0.17079872838249022,
          0.1863258855081711,
          0.20185304263385206,
          0.21738019975953296,
          0.2329073568852139,
          0.31054314251361853,
          0.6210862850272371
         ],
         "y": [
          0.10079036397590863,
          2.064065882138979e-11,
          4.0611866360213104e-11,
          4.5240120766219445e-8,
          9.136642167488976e-10,
          1.233397327376286e-10,
          1.430663855171653e-9,
          2.0652420573938296e-10,
          8.486270234852096e-9,
          1.5692787551037167e-8,
          8.756460520901274e-8
         ]
        },
        {
         "line": {
          "color": "rgba(55, 128, 191, 1.0)",
          "dash": "solid",
          "shape": "linear",
          "width": 1.3
         },
         "mode": "lines",
         "name": "EGGS WHOLE LIQ BULK -TANK",
         "text": "",
         "type": "scatter",
         "x": [
          0.07763578562840463,
          0.11645367844260696,
          0.13974441413112834,
          0.15527157125680927,
          0.17079872838249022,
          0.1863258855081711,
          0.20185304263385206,
          0.21738019975953296,
          0.2329073568852139,
          0.31054314251361853,
          0.6210862850272371
         ],
         "y": [
          2.9677100970125494,
          1.2833054707452434,
          0.6588686374581233,
          0.6588691443751944,
          0.6588687831366451,
          0.6588686210758803,
          0.6588685647401805,
          0.6137175630681415,
          0.5134634911524465,
          4.723872155965103e-8,
          1.7511338601242487e-8
         ]
        },
        {
         "line": {
          "color": "rgba(50, 171, 96, 1.0)",
          "dash": "solid",
          "shape": "linear",
          "width": 1.3
         },
         "mode": "lines",
         "name": "CHICKEN LEGS CHILLED -BULK",
         "text": "",
         "type": "scatter",
         "x": [
          0.07763578562840463,
          0.11645367844260696,
          0.13974441413112834,
          0.15527157125680927,
          0.17079872838249022,
          0.1863258855081711,
          0.20185304263385206,
          0.21738019975953296,
          0.2329073568852139,
          0.31054314251361853,
          0.6210862850272371
         ],
         "y": [
          2.3050665406724595e-9,
          8.134401364518803e-12,
          3.3995182077591425e-11,
          2.8235768036727776e-8,
          3.2851735684582418e-9,
          1.3911121982134727e-10,
          1.5568171266323604e-9,
          2.309381508708355e-10,
          1.9654916714254954e-8,
          0.4752069360813162,
          0.47520336116235035
         ]
        },
        {
         "line": {
          "color": "rgba(128, 0, 128, 1.0)",
          "dash": "solid",
          "shape": "linear",
          "width": 1.3
         },
         "mode": "lines",
         "name": "APPLE SLICES CAN-6/10",
         "text": "",
         "type": "scatter",
         "x": [
          0.07763578562840463,
          0.11645367844260696,
          0.13974441413112834,
          0.15527157125680927,
          0.17079872838249022,
          0.1863258855081711,
          0.20185304263385206,
          0.21738019975953296,
          0.2329073568852139,
          0.31054314251361853,
          0.6210862850272371
         ],
         "y": [
          0.2336734214100778,
          0.043645699283609056,
          5.9020992972421285e-9,
          3.634436611246089e-7,
          1.4892789476627435e-7,
          3.516730038354441e-11,
          1.3874217533907913e-9,
          1.122513627926359e-10,
          1.214857373782767e-8,
          2.5709313466387904e-8,
          3.035154039396737e-8
         ]
        },
        {
         "line": {
          "color": "rgba(219, 64, 82, 1.0)",
          "dash": "solid",
          "shape": "linear",
          "width": 1.3
         },
         "mode": "lines",
         "name": "SWEET POTATOES W/ SYRUP CAN-6/10",
         "text": "",
         "type": "scatter",
         "x": [
          0.07763578562840463,
          0.11645367844260696,
          0.13974441413112834,
          0.15527157125680927,
          0.17079872838249022,
          0.1863258855081711,
          0.20185304263385206,
          0.21738019975953296,
          0.2329073568852139,
          0.31054314251361853,
          0.6210862850272371
         ],
         "y": [
          5.5452801120247e-8,
          4.427021378150965e-9,
          0.35331467662782967,
          0.35331330523349974,
          0.3533151306156063,
          0.35331465260433026,
          0.35331447163012286,
          0.3340508926256202,
          0.4330138020930089,
          0.0576839532631788,
          0.05768809732535063
         ]
        },
        {
         "line": {
          "color": "rgba(0, 128, 128, 1.0)",
          "dash": "solid",
          "shape": "linear",
          "width": 1.3
         },
         "mode": "lines",
         "name": "BEANS SMALL RED CAN-6/10",
         "text": "",
         "type": "scatter",
         "x": [
          0.07763578562840463,
          0.11645367844260696,
          0.13974441413112834,
          0.15527157125680927,
          0.17079872838249022,
          0.1863258855081711,
          0.20185304263385206,
          0.21738019975953296,
          0.2329073568852139,
          0.31054314251361853,
          0.6210862850272371
         ],
         "y": [
          8.217767294090798e-8,
          1.7872615818209257e-10,
          1.1603145525966042e-9,
          7.098084917031839e-7,
          1.9168428875344232e-7,
          6.01201642832918e-9,
          9.956201271228261e-8,
          1.4083190480378552e-8,
          4.400816950081948e-7,
          0.0000023670432217274094,
          0.000008266755785722008
         ]
        },
        {
         "line": {
          "color": "rgba(255, 255, 51, 1.0)",
          "dash": "solid",
          "shape": "linear",
          "width": 1.3
         },
         "mode": "lines",
         "name": "BEANS PINTO DRY PKG-12/2 LB",
         "text": "",
         "type": "scatter",
         "x": [
          0.07763578562840463,
          0.11645367844260696,
          0.13974441413112834,
          0.15527157125680927,
          0.17079872838249022,
          0.1863258855081711,
          0.20185304263385206,
          0.21738019975953296,
          0.2329073568852139,
          0.31054314251361853,
          0.6210862850272371
         ],
         "y": [
          2.0238767765116115,
          1.8398484695331936,
          1.7422122677153697,
          1.7422125931486485,
          1.742212395838109,
          1.7422122487699165,
          1.7422121593010131,
          1.7395124256660353,
          1.689053674014706,
          1.6877592750814374,
          1.687752377966571
         ]
        },
        {
         "line": {
          "color": "rgba(128, 128, 0, 1.0)",
          "dash": "solid",
          "shape": "linear",
          "width": 1.3
         },
         "mode": "lines",
         "name": "FLOUR WHOLE WHEAT BAG-50 LB",
         "text": "",
         "type": "scatter",
         "x": [
          0.07763578562840463,
          0.11645367844260696,
          0.13974441413112834,
          0.15527157125680927,
          0.17079872838249022,
          0.1863258855081711,
          0.20185304263385206,
          0.21738019975953296,
          0.2329073568852139,
          0.31054314251361853,
          0.6210862850272371
         ],
         "y": [
          0.28552300796096297,
          0.5400268809940838,
          0.7444814395512421,
          0.744481377141122,
          0.7444812161909333,
          0.7444814511789751,
          0.7444814767168066,
          0.7036450110980583,
          0.5942674415747334,
          0.70580158320273,
          0.7057993631509488
         ]
        },
        {
         "line": {
          "color": "rgba(251, 128, 114, 1.0)",
          "dash": "solid",
          "shape": "linear",
          "width": 1.3
         },
         "mode": "lines",
         "name": "FLOUR BAKER HARD WHT BLCH-BULK",
         "text": "",
         "type": "scatter",
         "x": [
          0.07763578562840463,
          0.11645367844260696,
          0.13974441413112834,
          0.15527157125680927,
          0.17079872838249022,
          0.1863258855081711,
          0.20185304263385206,
          0.21738019975953296,
          0.2329073568852139,
          0.31054314251361853,
          0.6210862850272371
         ],
         "y": [
          5.078620954935983e-9,
          1.4424694304631589e-11,
          5.03228022434836e-11,
          4.9844494108052524e-8,
          7.454848806062868e-9,
          5.587248904809806e-10,
          5.776630630597172e-9,
          2.5338804604707507e-10,
          6.180549120927558e-8,
          0.37334600116305416,
          0.37333917907897846
         ]
        },
        {
         "line": {
          "color": "rgba(128, 177, 211, 1.0)",
          "dash": "solid",
          "shape": "linear",
          "width": 1.3
         },
         "mode": "lines",
         "name": "OIL VEGETABLE BTL-6/1 GAL",
         "text": "",
         "type": "scatter",
         "x": [
          0.07763578562840463,
          0.11645367844260696,
          0.13974441413112834,
          0.15527157125680927,
          0.17079872838249022,
          0.1863258855081711,
          0.20185304263385206,
          0.21738019975953296,
          0.2329073568852139,
          0.31054314251361853,
          0.6210862850272371
         ],
         "y": [
          3.14419698716756e-7,
          0.42105825767091426,
          0.5025605958573954,
          0.5025602931552351,
          0.5025606315399274,
          0.5025605927390965,
          0.5025605656601336,
          0.4920781144143083,
          0.19591437829077046,
          0.41345259158875275,
          0.41344838139998863
         ]
        },
        {
         "line": {
          "color": "rgba(128, 177, 211, 0.8999999999999999)",
          "dash": "solid",
          "shape": "linear",
          "width": 1.3
         },
         "mode": "lines",
         "name": "MILK 1% MILKFAT UHT 2640 BOX-27/8 FL OZ",
         "text": "",
         "type": "scatter",
         "x": [
          0.07763578562840463,
          0.11645367844260696,
          0.13974441413112834,
          0.15527157125680927,
          0.17079872838249022,
          0.1863258855081711,
          0.20185304263385206,
          0.21738019975953296,
          0.2329073568852139,
          0.31054314251361853,
          0.6210862850272371
         ],
         "y": [
          7.369807165812433e-9,
          1.1697606475621293e-11,
          4.953509064129796e-11,
          4.6340050764685846e-8,
          4.0947813783828e-9,
          5.098123219543345e-10,
          4.849312123722055e-9,
          1.8485769422981008e-10,
          1.6002429639593934e-8,
          0.0000025397424492323125,
          0.0000037022465004874954
         ]
        },
        {
         "line": {
          "color": "rgba(255, 153, 51, 0.8999999999999999)",
          "dash": "solid",
          "shape": "linear",
          "width": 1.3
         },
         "mode": "lines",
         "name": "FLOUR BREAD-BULK",
         "text": "",
         "type": "scatter",
         "x": [
          0.07763578562840463,
          0.11645367844260696,
          0.13974441413112834,
          0.15527157125680927,
          0.17079872838249022,
          0.1863258855081711,
          0.20185304263385206,
          0.21738019975953296,
          0.2329073568852139,
          0.31054314251361853,
          0.6210862850272371
         ],
         "y": [
          3.3421208713736927,
          2.5706775658391496,
          0.9933890563898712,
          0.9933892061044143,
          0.9933894087755503,
          0.9933890126549786,
          0.9933888281864444,
          0.9141561031156258,
          0.6849795211955664,
          0.05561182854546001,
          0.05561855735598641
         ]
        },
        {
         "line": {
          "color": "rgba(55, 128, 191, 0.8999999999999999)",
          "dash": "solid",
          "shape": "linear",
          "width": 1.3
         },
         "mode": "lines",
         "name": "K SUNFLOWER SEED BUTTER 6-5#'S",
         "text": "",
         "type": "scatter",
         "x": [
          0.07763578562840463,
          0.11645367844260696,
          0.13974441413112834,
          0.15527157125680927,
          0.17079872838249022,
          0.1863258855081711,
          0.20185304263385206,
          0.21738019975953296,
          0.2329073568852139,
          0.31054314251361853,
          0.6210862850272371
         ],
         "y": [
          0.29698750427274007,
          2.059423441463122e-10,
          1.6514282650332224e-10,
          8.795699665586937e-8,
          4.817480620268916e-10,
          1.234371753606185e-9,
          3.471903662857338e-9,
          5.633654157872747e-8,
          0.21744373243658993,
          0.010997352072622367,
          0.011000576260680187
         ]
        },
        {
         "line": {
          "color": "rgba(50, 171, 96, 0.8999999999999999)",
          "dash": "solid",
          "shape": "linear",
          "width": 1.3
         },
         "mode": "lines",
         "name": "POTATO FOR PROCESS INTO DEHY PRD-BULK",
         "text": "",
         "type": "scatter",
         "x": [
          0.07763578562840463,
          0.11645367844260696,
          0.13974441413112834,
          0.15527157125680927,
          0.17079872838249022,
          0.1863258855081711,
          0.20185304263385206,
          0.21738019975953296,
          0.2329073568852139,
          0.31054314251361853,
          0.6210862850272371
         ],
         "y": [
          0.7844654937157315,
          1.0800659296136081,
          2.324515061279143,
          2.3245081466703046,
          2.324514527570264,
          2.3245150773677734,
          2.3245146915061565,
          2.258257762904966,
          2.400882837983475,
          1.3168323896977105,
          1.3168376585909143
         ]
        },
        {
         "line": {
          "color": "rgba(128, 0, 128, 0.8999999999999999)",
          "dash": "solid",
          "shape": "linear",
          "width": 1.3
         },
         "mode": "lines",
         "name": "CHEESE NAT AMER FBD BARREL-500 LB(40800)",
         "text": "",
         "type": "scatter",
         "x": [
          0.07763578562840463,
          0.11645367844260696,
          0.13974441413112834,
          0.15527157125680927,
          0.17079872838249022,
          0.1863258855081711,
          0.20185304263385206,
          0.21738019975953296,
          0.2329073568852139,
          0.31054314251361853,
          0.6210862850272371
         ],
         "y": [
          1.2018160775468133e-8,
          0.33403293862152733,
          0.7673156391647801,
          0.7673151213228459,
          0.7673155260170968,
          0.7673156497350138,
          0.7673156696709678,
          0.7837976142474595,
          0.8450017340051956,
          0.9514702970511524,
          0.9514689549267791
         ]
        },
        {
         "line": {
          "color": "rgba(219, 64, 82, 0.8999999999999999)",
          "dash": "solid",
          "shape": "linear",
          "width": 1.3
         },
         "mode": "lines",
         "name": "BEANS PINTO DRY TOTE-2000 LB",
         "text": "",
         "type": "scatter",
         "x": [
          0.07763578562840463,
          0.11645367844260696,
          0.13974441413112834,
          0.15527157125680927,
          0.17079872838249022,
          0.1863258855081711,
          0.20185304263385206,
          0.21738019975953296,
          0.2329073568852139,
          0.31054314251361853,
          0.6210862850272371
         ],
         "y": [
          1.0124359685205708e-8,
          1.9194856830728622e-11,
          1.0501739513108858e-10,
          6.438639368137302e-8,
          1.5030933635827058e-8,
          4.834184902250748e-10,
          7.31660992472684e-8,
          0.09920723340544875,
          0.1550664014786148,
          0.41519704362748483,
          0.41519825263712906
         ]
        },
        {
         "line": {
          "color": "rgba(0, 128, 128, 0.8999999999999999)",
          "dash": "solid",
          "shape": "linear",
          "width": 1.3
         },
         "mode": "lines",
         "name": "SPINACH CHOPPED FRZ IQF CTN-20 LB (1902)",
         "text": "",
         "type": "scatter",
         "x": [
          0.07763578562840463,
          0.11645367844260696,
          0.13974441413112834,
          0.15527157125680927,
          0.17079872838249022,
          0.1863258855081711,
          0.20185304263385206,
          0.21738019975953296,
          0.2329073568852139,
          0.31054314251361853,
          0.6210862850272371
         ],
         "y": [
          0.12000840349872825,
          0.9616094040875646,
          0.4441076915099967,
          0.44410937472773576,
          0.4441070704824103,
          0.44410772199344173,
          0.44410796258791896,
          0.4812478310655094,
          0.35026421991145706,
          1.0336502211849607,
          1.0336453908302978
         ]
        },
        {
         "line": {
          "color": "rgba(255, 255, 51, 0.8999999999999999)",
          "dash": "solid",
          "shape": "linear",
          "width": 1.3
         },
         "mode": "lines",
         "name": "FISH AK POLLOCK STICKS BRD FRZ CTN-40 LB",
         "text": "",
         "type": "scatter",
         "x": [
          0.07763578562840463,
          0.11645367844260696,
          0.13974441413112834,
          0.15527157125680927,
          0.17079872838249022,
          0.1863258855081711,
          0.20185304263385206,
          0.21738019975953296,
          0.2329073568852139,
          0.31054314251361853,
          0.6210862850272371
         ],
         "y": [
          5.798630783826825e-10,
          1.6774655343486523e-12,
          6.678653533935343e-12,
          5.680498676705248e-9,
          5.112744539305554e-10,
          3.623706627878725e-11,
          3.29662548133937e-10,
          4.706346175021629e-11,
          3.1546446178264825e-9,
          0.025672172628479498,
          0.025672854601642807
         ]
        }
       ],
       "layout": {
        "legend": {
         "bgcolor": "#F5F6F9",
         "font": {
          "color": "#4D5663"
         }
        },
        "paper_bgcolor": "#F5F6F9",
        "plot_bgcolor": "#F5F6F9",
        "template": {
         "data": {
          "bar": [
           {
            "error_x": {
             "color": "#2a3f5f"
            },
            "error_y": {
             "color": "#2a3f5f"
            },
            "marker": {
             "line": {
              "color": "#E5ECF6",
              "width": 0.5
             },
             "pattern": {
              "fillmode": "overlay",
              "size": 10,
              "solidity": 0.2
             }
            },
            "type": "bar"
           }
          ],
          "barpolar": [
           {
            "marker": {
             "line": {
              "color": "#E5ECF6",
              "width": 0.5
             },
             "pattern": {
              "fillmode": "overlay",
              "size": 10,
              "solidity": 0.2
             }
            },
            "type": "barpolar"
           }
          ],
          "carpet": [
           {
            "aaxis": {
             "endlinecolor": "#2a3f5f",
             "gridcolor": "white",
             "linecolor": "white",
             "minorgridcolor": "white",
             "startlinecolor": "#2a3f5f"
            },
            "baxis": {
             "endlinecolor": "#2a3f5f",
             "gridcolor": "white",
             "linecolor": "white",
             "minorgridcolor": "white",
             "startlinecolor": "#2a3f5f"
            },
            "type": "carpet"
           }
          ],
          "choropleth": [
           {
            "colorbar": {
             "outlinewidth": 0,
             "ticks": ""
            },
            "type": "choropleth"
           }
          ],
          "contour": [
           {
            "colorbar": {
             "outlinewidth": 0,
             "ticks": ""
            },
            "colorscale": [
             [
              0,
              "#0d0887"
             ],
             [
              0.1111111111111111,
              "#46039f"
             ],
             [
              0.2222222222222222,
              "#7201a8"
             ],
             [
              0.3333333333333333,
              "#9c179e"
             ],
             [
              0.4444444444444444,
              "#bd3786"
             ],
             [
              0.5555555555555556,
              "#d8576b"
             ],
             [
              0.6666666666666666,
              "#ed7953"
             ],
             [
              0.7777777777777778,
              "#fb9f3a"
             ],
             [
              0.8888888888888888,
              "#fdca26"
             ],
             [
              1,
              "#f0f921"
             ]
            ],
            "type": "contour"
           }
          ],
          "contourcarpet": [
           {
            "colorbar": {
             "outlinewidth": 0,
             "ticks": ""
            },
            "type": "contourcarpet"
           }
          ],
          "heatmap": [
           {
            "colorbar": {
             "outlinewidth": 0,
             "ticks": ""
            },
            "colorscale": [
             [
              0,
              "#0d0887"
             ],
             [
              0.1111111111111111,
              "#46039f"
             ],
             [
              0.2222222222222222,
              "#7201a8"
             ],
             [
              0.3333333333333333,
              "#9c179e"
             ],
             [
              0.4444444444444444,
              "#bd3786"
             ],
             [
              0.5555555555555556,
              "#d8576b"
             ],
             [
              0.6666666666666666,
              "#ed7953"
             ],
             [
              0.7777777777777778,
              "#fb9f3a"
             ],
             [
              0.8888888888888888,
              "#fdca26"
             ],
             [
              1,
              "#f0f921"
             ]
            ],
            "type": "heatmap"
           }
          ],
          "heatmapgl": [
           {
            "colorbar": {
             "outlinewidth": 0,
             "ticks": ""
            },
            "colorscale": [
             [
              0,
              "#0d0887"
             ],
             [
              0.1111111111111111,
              "#46039f"
             ],
             [
              0.2222222222222222,
              "#7201a8"
             ],
             [
              0.3333333333333333,
              "#9c179e"
             ],
             [
              0.4444444444444444,
              "#bd3786"
             ],
             [
              0.5555555555555556,
              "#d8576b"
             ],
             [
              0.6666666666666666,
              "#ed7953"
             ],
             [
              0.7777777777777778,
              "#fb9f3a"
             ],
             [
              0.8888888888888888,
              "#fdca26"
             ],
             [
              1,
              "#f0f921"
             ]
            ],
            "type": "heatmapgl"
           }
          ],
          "histogram": [
           {
            "marker": {
             "pattern": {
              "fillmode": "overlay",
              "size": 10,
              "solidity": 0.2
             }
            },
            "type": "histogram"
           }
          ],
          "histogram2d": [
           {
            "colorbar": {
             "outlinewidth": 0,
             "ticks": ""
            },
            "colorscale": [
             [
              0,
              "#0d0887"
             ],
             [
              0.1111111111111111,
              "#46039f"
             ],
             [
              0.2222222222222222,
              "#7201a8"
             ],
             [
              0.3333333333333333,
              "#9c179e"
             ],
             [
              0.4444444444444444,
              "#bd3786"
             ],
             [
              0.5555555555555556,
              "#d8576b"
             ],
             [
              0.6666666666666666,
              "#ed7953"
             ],
             [
              0.7777777777777778,
              "#fb9f3a"
             ],
             [
              0.8888888888888888,
              "#fdca26"
             ],
             [
              1,
              "#f0f921"
             ]
            ],
            "type": "histogram2d"
           }
          ],
          "histogram2dcontour": [
           {
            "colorbar": {
             "outlinewidth": 0,
             "ticks": ""
            },
            "colorscale": [
             [
              0,
              "#0d0887"
             ],
             [
              0.1111111111111111,
              "#46039f"
             ],
             [
              0.2222222222222222,
              "#7201a8"
             ],
             [
              0.3333333333333333,
              "#9c179e"
             ],
             [
              0.4444444444444444,
              "#bd3786"
             ],
             [
              0.5555555555555556,
              "#d8576b"
             ],
             [
              0.6666666666666666,
              "#ed7953"
             ],
             [
              0.7777777777777778,
              "#fb9f3a"
             ],
             [
              0.8888888888888888,
              "#fdca26"
             ],
             [
              1,
              "#f0f921"
             ]
            ],
            "type": "histogram2dcontour"
           }
          ],
          "mesh3d": [
           {
            "colorbar": {
             "outlinewidth": 0,
             "ticks": ""
            },
            "type": "mesh3d"
           }
          ],
          "parcoords": [
           {
            "line": {
             "colorbar": {
              "outlinewidth": 0,
              "ticks": ""
             }
            },
            "type": "parcoords"
           }
          ],
          "pie": [
           {
            "automargin": true,
            "type": "pie"
           }
          ],
          "scatter": [
           {
            "fillpattern": {
             "fillmode": "overlay",
             "size": 10,
             "solidity": 0.2
            },
            "type": "scatter"
           }
          ],
          "scatter3d": [
           {
            "line": {
             "colorbar": {
              "outlinewidth": 0,
              "ticks": ""
             }
            },
            "marker": {
             "colorbar": {
              "outlinewidth": 0,
              "ticks": ""
             }
            },
            "type": "scatter3d"
           }
          ],
          "scattercarpet": [
           {
            "marker": {
             "colorbar": {
              "outlinewidth": 0,
              "ticks": ""
             }
            },
            "type": "scattercarpet"
           }
          ],
          "scattergeo": [
           {
            "marker": {
             "colorbar": {
              "outlinewidth": 0,
              "ticks": ""
             }
            },
            "type": "scattergeo"
           }
          ],
          "scattergl": [
           {
            "marker": {
             "colorbar": {
              "outlinewidth": 0,
              "ticks": ""
             }
            },
            "type": "scattergl"
           }
          ],
          "scattermapbox": [
           {
            "marker": {
             "colorbar": {
              "outlinewidth": 0,
              "ticks": ""
             }
            },
            "type": "scattermapbox"
           }
          ],
          "scatterpolar": [
           {
            "marker": {
             "colorbar": {
              "outlinewidth": 0,
              "ticks": ""
             }
            },
            "type": "scatterpolar"
           }
          ],
          "scatterpolargl": [
           {
            "marker": {
             "colorbar": {
              "outlinewidth": 0,
              "ticks": ""
             }
            },
            "type": "scatterpolargl"
           }
          ],
          "scatterternary": [
           {
            "marker": {
             "colorbar": {
              "outlinewidth": 0,
              "ticks": ""
             }
            },
            "type": "scatterternary"
           }
          ],
          "surface": [
           {
            "colorbar": {
             "outlinewidth": 0,
             "ticks": ""
            },
            "colorscale": [
             [
              0,
              "#0d0887"
             ],
             [
              0.1111111111111111,
              "#46039f"
             ],
             [
              0.2222222222222222,
              "#7201a8"
             ],
             [
              0.3333333333333333,
              "#9c179e"
             ],
             [
              0.4444444444444444,
              "#bd3786"
             ],
             [
              0.5555555555555556,
              "#d8576b"
             ],
             [
              0.6666666666666666,
              "#ed7953"
             ],
             [
              0.7777777777777778,
              "#fb9f3a"
             ],
             [
              0.8888888888888888,
              "#fdca26"
             ],
             [
              1,
              "#f0f921"
             ]
            ],
            "type": "surface"
           }
          ],
          "table": [
           {
            "cells": {
             "fill": {
              "color": "#EBF0F8"
             },
             "line": {
              "color": "white"
             }
            },
            "header": {
             "fill": {
              "color": "#C8D4E3"
             },
             "line": {
              "color": "white"
             }
            },
            "type": "table"
           }
          ]
         },
         "layout": {
          "annotationdefaults": {
           "arrowcolor": "#2a3f5f",
           "arrowhead": 0,
           "arrowwidth": 1
          },
          "autotypenumbers": "strict",
          "coloraxis": {
           "colorbar": {
            "outlinewidth": 0,
            "ticks": ""
           }
          },
          "colorscale": {
           "diverging": [
            [
             0,
             "#8e0152"
            ],
            [
             0.1,
             "#c51b7d"
            ],
            [
             0.2,
             "#de77ae"
            ],
            [
             0.3,
             "#f1b6da"
            ],
            [
             0.4,
             "#fde0ef"
            ],
            [
             0.5,
             "#f7f7f7"
            ],
            [
             0.6,
             "#e6f5d0"
            ],
            [
             0.7,
             "#b8e186"
            ],
            [
             0.8,
             "#7fbc41"
            ],
            [
             0.9,
             "#4d9221"
            ],
            [
             1,
             "#276419"
            ]
           ],
           "sequential": [
            [
             0,
             "#0d0887"
            ],
            [
             0.1111111111111111,
             "#46039f"
            ],
            [
             0.2222222222222222,
             "#7201a8"
            ],
            [
             0.3333333333333333,
             "#9c179e"
            ],
            [
             0.4444444444444444,
             "#bd3786"
            ],
            [
             0.5555555555555556,
             "#d8576b"
            ],
            [
             0.6666666666666666,
             "#ed7953"
            ],
            [
             0.7777777777777778,
             "#fb9f3a"
            ],
            [
             0.8888888888888888,
             "#fdca26"
            ],
            [
             1,
             "#f0f921"
            ]
           ],
           "sequentialminus": [
            [
             0,
             "#0d0887"
            ],
            [
             0.1111111111111111,
             "#46039f"
            ],
            [
             0.2222222222222222,
             "#7201a8"
            ],
            [
             0.3333333333333333,
             "#9c179e"
            ],
            [
             0.4444444444444444,
             "#bd3786"
            ],
            [
             0.5555555555555556,
             "#d8576b"
            ],
            [
             0.6666666666666666,
             "#ed7953"
            ],
            [
             0.7777777777777778,
             "#fb9f3a"
            ],
            [
             0.8888888888888888,
             "#fdca26"
            ],
            [
             1,
             "#f0f921"
            ]
           ]
          },
          "colorway": [
           "#636efa",
           "#EF553B",
           "#00cc96",
           "#ab63fa",
           "#FFA15A",
           "#19d3f3",
           "#FF6692",
           "#B6E880",
           "#FF97FF",
           "#FECB52"
          ],
          "font": {
           "color": "#2a3f5f"
          },
          "geo": {
           "bgcolor": "white",
           "lakecolor": "white",
           "landcolor": "#E5ECF6",
           "showlakes": true,
           "showland": true,
           "subunitcolor": "white"
          },
          "hoverlabel": {
           "align": "left"
          },
          "hovermode": "closest",
          "mapbox": {
           "style": "light"
          },
          "paper_bgcolor": "white",
          "plot_bgcolor": "#E5ECF6",
          "polar": {
           "angularaxis": {
            "gridcolor": "white",
            "linecolor": "white",
            "ticks": ""
           },
           "bgcolor": "#E5ECF6",
           "radialaxis": {
            "gridcolor": "white",
            "linecolor": "white",
            "ticks": ""
           }
          },
          "scene": {
           "xaxis": {
            "backgroundcolor": "#E5ECF6",
            "gridcolor": "white",
            "gridwidth": 2,
            "linecolor": "white",
            "showbackground": true,
            "ticks": "",
            "zerolinecolor": "white"
           },
           "yaxis": {
            "backgroundcolor": "#E5ECF6",
            "gridcolor": "white",
            "gridwidth": 2,
            "linecolor": "white",
            "showbackground": true,
            "ticks": "",
            "zerolinecolor": "white"
           },
           "zaxis": {
            "backgroundcolor": "#E5ECF6",
            "gridcolor": "white",
            "gridwidth": 2,
            "linecolor": "white",
            "showbackground": true,
            "ticks": "",
            "zerolinecolor": "white"
           }
          },
          "shapedefaults": {
           "line": {
            "color": "#2a3f5f"
           }
          },
          "ternary": {
           "aaxis": {
            "gridcolor": "white",
            "linecolor": "white",
            "ticks": ""
           },
           "baxis": {
            "gridcolor": "white",
            "linecolor": "white",
            "ticks": ""
           },
           "bgcolor": "#E5ECF6",
           "caxis": {
            "gridcolor": "white",
            "linecolor": "white",
            "ticks": ""
           }
          },
          "title": {
           "x": 0.05
          },
          "xaxis": {
           "automargin": true,
           "gridcolor": "white",
           "linecolor": "white",
           "ticks": "",
           "title": {
            "standoff": 15
           },
           "zerolinecolor": "white",
           "zerolinewidth": 2
          },
          "yaxis": {
           "automargin": true,
           "gridcolor": "white",
           "linecolor": "white",
           "ticks": "",
           "title": {
            "standoff": 15
           },
           "zerolinecolor": "white",
           "zerolinewidth": 2
          }
         }
        },
        "title": {
         "font": {
          "color": "#4D5663"
         }
        },
        "xaxis": {
         "gridcolor": "#E1E5ED",
         "showgrid": true,
         "tickfont": {
          "color": "#4D5663"
         },
         "title": {
          "font": {
           "color": "#4D5663"
          },
          "text": "EGGS WHOLE LIQ BULK -TANK Price"
         },
         "zerolinecolor": "#E1E5ED"
        },
        "yaxis": {
         "gridcolor": "#E1E5ED",
         "showgrid": true,
         "tickfont": {
          "color": "#4D5663"
         },
         "title": {
          "font": {
           "color": "#4D5663"
          },
          "text": "Hectograms"
         },
         "zerolinecolor": "#E1E5ED"
        }
       }
      },
      "text/html": [
       "<div>                            <div id=\"8fe4e450-dc88-4af5-968f-5aac96341d86\" class=\"plotly-graph-div\" style=\"height:525px; width:100%;\"></div>            <script type=\"text/javascript\">                require([\"plotly\"], function(Plotly) {                    window.PLOTLYENV=window.PLOTLYENV || {};\n",
       "                    window.PLOTLYENV.BASE_URL='https://plot.ly';                                    if (document.getElementById(\"8fe4e450-dc88-4af5-968f-5aac96341d86\")) {                    Plotly.newPlot(                        \"8fe4e450-dc88-4af5-968f-5aac96341d86\",                        [{\"line\":{\"color\":\"rgba(255, 153, 51, 1.0)\",\"dash\":\"solid\",\"shape\":\"linear\",\"width\":1.3},\"mode\":\"lines\",\"name\":\"CHEESE CHED WHT SHRED BAG-6\\u002f5 LB\",\"text\":\"\",\"x\":[0.07763578562840463,0.11645367844260696,0.13974441413112834,0.15527157125680927,0.17079872838249022,0.1863258855081711,0.20185304263385206,0.21738019975953296,0.2329073568852139,0.31054314251361853,0.6210862850272371],\"y\":[0.10079036397590863,2.064065882138979e-11,4.0611866360213104e-11,4.5240120766219445e-08,9.136642167488976e-10,1.233397327376286e-10,1.430663855171653e-09,2.0652420573938296e-10,8.486270234852096e-09,1.5692787551037167e-08,8.756460520901274e-08],\"type\":\"scatter\"},{\"line\":{\"color\":\"rgba(55, 128, 191, 1.0)\",\"dash\":\"solid\",\"shape\":\"linear\",\"width\":1.3},\"mode\":\"lines\",\"name\":\"EGGS WHOLE LIQ BULK -TANK\",\"text\":\"\",\"x\":[0.07763578562840463,0.11645367844260696,0.13974441413112834,0.15527157125680927,0.17079872838249022,0.1863258855081711,0.20185304263385206,0.21738019975953296,0.2329073568852139,0.31054314251361853,0.6210862850272371],\"y\":[2.9677100970125494,1.2833054707452434,0.6588686374581233,0.6588691443751944,0.6588687831366451,0.6588686210758803,0.6588685647401805,0.6137175630681415,0.5134634911524465,4.723872155965103e-08,1.7511338601242487e-08],\"type\":\"scatter\"},{\"line\":{\"color\":\"rgba(50, 171, 96, 1.0)\",\"dash\":\"solid\",\"shape\":\"linear\",\"width\":1.3},\"mode\":\"lines\",\"name\":\"CHICKEN LEGS CHILLED -BULK\",\"text\":\"\",\"x\":[0.07763578562840463,0.11645367844260696,0.13974441413112834,0.15527157125680927,0.17079872838249022,0.1863258855081711,0.20185304263385206,0.21738019975953296,0.2329073568852139,0.31054314251361853,0.6210862850272371],\"y\":[2.3050665406724595e-09,8.134401364518803e-12,3.3995182077591425e-11,2.8235768036727776e-08,3.2851735684582418e-09,1.3911121982134727e-10,1.5568171266323604e-09,2.309381508708355e-10,1.9654916714254954e-08,0.4752069360813162,0.47520336116235035],\"type\":\"scatter\"},{\"line\":{\"color\":\"rgba(128, 0, 128, 1.0)\",\"dash\":\"solid\",\"shape\":\"linear\",\"width\":1.3},\"mode\":\"lines\",\"name\":\"APPLE SLICES CAN-6\\u002f10\",\"text\":\"\",\"x\":[0.07763578562840463,0.11645367844260696,0.13974441413112834,0.15527157125680927,0.17079872838249022,0.1863258855081711,0.20185304263385206,0.21738019975953296,0.2329073568852139,0.31054314251361853,0.6210862850272371],\"y\":[0.2336734214100778,0.043645699283609056,5.9020992972421285e-09,3.634436611246089e-07,1.4892789476627435e-07,3.516730038354441e-11,1.3874217533907913e-09,1.122513627926359e-10,1.214857373782767e-08,2.5709313466387904e-08,3.035154039396737e-08],\"type\":\"scatter\"},{\"line\":{\"color\":\"rgba(219, 64, 82, 1.0)\",\"dash\":\"solid\",\"shape\":\"linear\",\"width\":1.3},\"mode\":\"lines\",\"name\":\"SWEET POTATOES W\\u002f SYRUP CAN-6\\u002f10\",\"text\":\"\",\"x\":[0.07763578562840463,0.11645367844260696,0.13974441413112834,0.15527157125680927,0.17079872838249022,0.1863258855081711,0.20185304263385206,0.21738019975953296,0.2329073568852139,0.31054314251361853,0.6210862850272371],\"y\":[5.5452801120247e-08,4.427021378150965e-09,0.35331467662782967,0.35331330523349974,0.3533151306156063,0.35331465260433026,0.35331447163012286,0.3340508926256202,0.4330138020930089,0.0576839532631788,0.05768809732535063],\"type\":\"scatter\"},{\"line\":{\"color\":\"rgba(0, 128, 128, 1.0)\",\"dash\":\"solid\",\"shape\":\"linear\",\"width\":1.3},\"mode\":\"lines\",\"name\":\"BEANS SMALL RED CAN-6\\u002f10\",\"text\":\"\",\"x\":[0.07763578562840463,0.11645367844260696,0.13974441413112834,0.15527157125680927,0.17079872838249022,0.1863258855081711,0.20185304263385206,0.21738019975953296,0.2329073568852139,0.31054314251361853,0.6210862850272371],\"y\":[8.217767294090798e-08,1.7872615818209257e-10,1.1603145525966042e-09,7.098084917031839e-07,1.9168428875344232e-07,6.01201642832918e-09,9.956201271228261e-08,1.4083190480378552e-08,4.400816950081948e-07,2.3670432217274094e-06,8.266755785722008e-06],\"type\":\"scatter\"},{\"line\":{\"color\":\"rgba(255, 255, 51, 1.0)\",\"dash\":\"solid\",\"shape\":\"linear\",\"width\":1.3},\"mode\":\"lines\",\"name\":\"BEANS PINTO DRY PKG-12\\u002f2 LB\",\"text\":\"\",\"x\":[0.07763578562840463,0.11645367844260696,0.13974441413112834,0.15527157125680927,0.17079872838249022,0.1863258855081711,0.20185304263385206,0.21738019975953296,0.2329073568852139,0.31054314251361853,0.6210862850272371],\"y\":[2.0238767765116115,1.8398484695331936,1.7422122677153697,1.7422125931486485,1.742212395838109,1.7422122487699165,1.7422121593010131,1.7395124256660353,1.689053674014706,1.6877592750814374,1.687752377966571],\"type\":\"scatter\"},{\"line\":{\"color\":\"rgba(128, 128, 0, 1.0)\",\"dash\":\"solid\",\"shape\":\"linear\",\"width\":1.3},\"mode\":\"lines\",\"name\":\"FLOUR WHOLE WHEAT BAG-50 LB\",\"text\":\"\",\"x\":[0.07763578562840463,0.11645367844260696,0.13974441413112834,0.15527157125680927,0.17079872838249022,0.1863258855081711,0.20185304263385206,0.21738019975953296,0.2329073568852139,0.31054314251361853,0.6210862850272371],\"y\":[0.28552300796096297,0.5400268809940838,0.7444814395512421,0.744481377141122,0.7444812161909333,0.7444814511789751,0.7444814767168066,0.7036450110980583,0.5942674415747334,0.70580158320273,0.7057993631509488],\"type\":\"scatter\"},{\"line\":{\"color\":\"rgba(251, 128, 114, 1.0)\",\"dash\":\"solid\",\"shape\":\"linear\",\"width\":1.3},\"mode\":\"lines\",\"name\":\"FLOUR BAKER HARD WHT BLCH-BULK\",\"text\":\"\",\"x\":[0.07763578562840463,0.11645367844260696,0.13974441413112834,0.15527157125680927,0.17079872838249022,0.1863258855081711,0.20185304263385206,0.21738019975953296,0.2329073568852139,0.31054314251361853,0.6210862850272371],\"y\":[5.078620954935983e-09,1.4424694304631589e-11,5.03228022434836e-11,4.9844494108052524e-08,7.454848806062868e-09,5.587248904809806e-10,5.776630630597172e-09,2.5338804604707507e-10,6.180549120927558e-08,0.37334600116305416,0.37333917907897846],\"type\":\"scatter\"},{\"line\":{\"color\":\"rgba(128, 177, 211, 1.0)\",\"dash\":\"solid\",\"shape\":\"linear\",\"width\":1.3},\"mode\":\"lines\",\"name\":\"OIL VEGETABLE BTL-6\\u002f1 GAL\",\"text\":\"\",\"x\":[0.07763578562840463,0.11645367844260696,0.13974441413112834,0.15527157125680927,0.17079872838249022,0.1863258855081711,0.20185304263385206,0.21738019975953296,0.2329073568852139,0.31054314251361853,0.6210862850272371],\"y\":[3.14419698716756e-07,0.42105825767091426,0.5025605958573954,0.5025602931552351,0.5025606315399274,0.5025605927390965,0.5025605656601336,0.4920781144143083,0.19591437829077046,0.41345259158875275,0.41344838139998863],\"type\":\"scatter\"},{\"line\":{\"color\":\"rgba(128, 177, 211, 0.8999999999999999)\",\"dash\":\"solid\",\"shape\":\"linear\",\"width\":1.3},\"mode\":\"lines\",\"name\":\"MILK 1% MILKFAT UHT 2640 BOX-27\\u002f8 FL OZ\",\"text\":\"\",\"x\":[0.07763578562840463,0.11645367844260696,0.13974441413112834,0.15527157125680927,0.17079872838249022,0.1863258855081711,0.20185304263385206,0.21738019975953296,0.2329073568852139,0.31054314251361853,0.6210862850272371],\"y\":[7.369807165812433e-09,1.1697606475621293e-11,4.953509064129796e-11,4.6340050764685846e-08,4.0947813783828e-09,5.098123219543345e-10,4.849312123722055e-09,1.8485769422981008e-10,1.6002429639593934e-08,2.5397424492323125e-06,3.7022465004874954e-06],\"type\":\"scatter\"},{\"line\":{\"color\":\"rgba(255, 153, 51, 0.8999999999999999)\",\"dash\":\"solid\",\"shape\":\"linear\",\"width\":1.3},\"mode\":\"lines\",\"name\":\"FLOUR BREAD-BULK\",\"text\":\"\",\"x\":[0.07763578562840463,0.11645367844260696,0.13974441413112834,0.15527157125680927,0.17079872838249022,0.1863258855081711,0.20185304263385206,0.21738019975953296,0.2329073568852139,0.31054314251361853,0.6210862850272371],\"y\":[3.3421208713736927,2.5706775658391496,0.9933890563898712,0.9933892061044143,0.9933894087755503,0.9933890126549786,0.9933888281864444,0.9141561031156258,0.6849795211955664,0.05561182854546001,0.05561855735598641],\"type\":\"scatter\"},{\"line\":{\"color\":\"rgba(55, 128, 191, 0.8999999999999999)\",\"dash\":\"solid\",\"shape\":\"linear\",\"width\":1.3},\"mode\":\"lines\",\"name\":\"K SUNFLOWER SEED BUTTER 6-5#'S\",\"text\":\"\",\"x\":[0.07763578562840463,0.11645367844260696,0.13974441413112834,0.15527157125680927,0.17079872838249022,0.1863258855081711,0.20185304263385206,0.21738019975953296,0.2329073568852139,0.31054314251361853,0.6210862850272371],\"y\":[0.29698750427274007,2.059423441463122e-10,1.6514282650332224e-10,8.795699665586937e-08,4.817480620268916e-10,1.234371753606185e-09,3.471903662857338e-09,5.633654157872747e-08,0.21744373243658993,0.010997352072622367,0.011000576260680187],\"type\":\"scatter\"},{\"line\":{\"color\":\"rgba(50, 171, 96, 0.8999999999999999)\",\"dash\":\"solid\",\"shape\":\"linear\",\"width\":1.3},\"mode\":\"lines\",\"name\":\"POTATO FOR PROCESS INTO DEHY PRD-BULK\",\"text\":\"\",\"x\":[0.07763578562840463,0.11645367844260696,0.13974441413112834,0.15527157125680927,0.17079872838249022,0.1863258855081711,0.20185304263385206,0.21738019975953296,0.2329073568852139,0.31054314251361853,0.6210862850272371],\"y\":[0.7844654937157315,1.0800659296136081,2.324515061279143,2.3245081466703046,2.324514527570264,2.3245150773677734,2.3245146915061565,2.258257762904966,2.400882837983475,1.3168323896977105,1.3168376585909143],\"type\":\"scatter\"},{\"line\":{\"color\":\"rgba(128, 0, 128, 0.8999999999999999)\",\"dash\":\"solid\",\"shape\":\"linear\",\"width\":1.3},\"mode\":\"lines\",\"name\":\"CHEESE NAT AMER FBD BARREL-500 LB(40800)\",\"text\":\"\",\"x\":[0.07763578562840463,0.11645367844260696,0.13974441413112834,0.15527157125680927,0.17079872838249022,0.1863258855081711,0.20185304263385206,0.21738019975953296,0.2329073568852139,0.31054314251361853,0.6210862850272371],\"y\":[1.2018160775468133e-08,0.33403293862152733,0.7673156391647801,0.7673151213228459,0.7673155260170968,0.7673156497350138,0.7673156696709678,0.7837976142474595,0.8450017340051956,0.9514702970511524,0.9514689549267791],\"type\":\"scatter\"},{\"line\":{\"color\":\"rgba(219, 64, 82, 0.8999999999999999)\",\"dash\":\"solid\",\"shape\":\"linear\",\"width\":1.3},\"mode\":\"lines\",\"name\":\"BEANS PINTO DRY TOTE-2000 LB\",\"text\":\"\",\"x\":[0.07763578562840463,0.11645367844260696,0.13974441413112834,0.15527157125680927,0.17079872838249022,0.1863258855081711,0.20185304263385206,0.21738019975953296,0.2329073568852139,0.31054314251361853,0.6210862850272371],\"y\":[1.0124359685205708e-08,1.9194856830728622e-11,1.0501739513108858e-10,6.438639368137302e-08,1.5030933635827058e-08,4.834184902250748e-10,7.31660992472684e-08,0.09920723340544875,0.1550664014786148,0.41519704362748483,0.41519825263712906],\"type\":\"scatter\"},{\"line\":{\"color\":\"rgba(0, 128, 128, 0.8999999999999999)\",\"dash\":\"solid\",\"shape\":\"linear\",\"width\":1.3},\"mode\":\"lines\",\"name\":\"SPINACH CHOPPED FRZ IQF CTN-20 LB (1902)\",\"text\":\"\",\"x\":[0.07763578562840463,0.11645367844260696,0.13974441413112834,0.15527157125680927,0.17079872838249022,0.1863258855081711,0.20185304263385206,0.21738019975953296,0.2329073568852139,0.31054314251361853,0.6210862850272371],\"y\":[0.12000840349872825,0.9616094040875646,0.4441076915099967,0.44410937472773576,0.4441070704824103,0.44410772199344173,0.44410796258791896,0.4812478310655094,0.35026421991145706,1.0336502211849607,1.0336453908302978],\"type\":\"scatter\"},{\"line\":{\"color\":\"rgba(255, 255, 51, 0.8999999999999999)\",\"dash\":\"solid\",\"shape\":\"linear\",\"width\":1.3},\"mode\":\"lines\",\"name\":\"FISH AK POLLOCK STICKS BRD FRZ CTN-40 LB\",\"text\":\"\",\"x\":[0.07763578562840463,0.11645367844260696,0.13974441413112834,0.15527157125680927,0.17079872838249022,0.1863258855081711,0.20185304263385206,0.21738019975953296,0.2329073568852139,0.31054314251361853,0.6210862850272371],\"y\":[5.798630783826825e-10,1.6774655343486523e-12,6.678653533935343e-12,5.680498676705248e-09,5.112744539305554e-10,3.623706627878725e-11,3.29662548133937e-10,4.706346175021629e-11,3.1546446178264825e-09,0.025672172628479498,0.025672854601642807],\"type\":\"scatter\"}],                        {\"legend\":{\"bgcolor\":\"#F5F6F9\",\"font\":{\"color\":\"#4D5663\"}},\"paper_bgcolor\":\"#F5F6F9\",\"plot_bgcolor\":\"#F5F6F9\",\"template\":{\"data\":{\"barpolar\":[{\"marker\":{\"line\":{\"color\":\"#E5ECF6\",\"width\":0.5},\"pattern\":{\"fillmode\":\"overlay\",\"size\":10,\"solidity\":0.2}},\"type\":\"barpolar\"}],\"bar\":[{\"error_x\":{\"color\":\"#2a3f5f\"},\"error_y\":{\"color\":\"#2a3f5f\"},\"marker\":{\"line\":{\"color\":\"#E5ECF6\",\"width\":0.5},\"pattern\":{\"fillmode\":\"overlay\",\"size\":10,\"solidity\":0.2}},\"type\":\"bar\"}],\"carpet\":[{\"aaxis\":{\"endlinecolor\":\"#2a3f5f\",\"gridcolor\":\"white\",\"linecolor\":\"white\",\"minorgridcolor\":\"white\",\"startlinecolor\":\"#2a3f5f\"},\"baxis\":{\"endlinecolor\":\"#2a3f5f\",\"gridcolor\":\"white\",\"linecolor\":\"white\",\"minorgridcolor\":\"white\",\"startlinecolor\":\"#2a3f5f\"},\"type\":\"carpet\"}],\"choropleth\":[{\"colorbar\":{\"outlinewidth\":0,\"ticks\":\"\"},\"type\":\"choropleth\"}],\"contourcarpet\":[{\"colorbar\":{\"outlinewidth\":0,\"ticks\":\"\"},\"type\":\"contourcarpet\"}],\"contour\":[{\"colorbar\":{\"outlinewidth\":0,\"ticks\":\"\"},\"colorscale\":[[0.0,\"#0d0887\"],[0.1111111111111111,\"#46039f\"],[0.2222222222222222,\"#7201a8\"],[0.3333333333333333,\"#9c179e\"],[0.4444444444444444,\"#bd3786\"],[0.5555555555555556,\"#d8576b\"],[0.6666666666666666,\"#ed7953\"],[0.7777777777777778,\"#fb9f3a\"],[0.8888888888888888,\"#fdca26\"],[1.0,\"#f0f921\"]],\"type\":\"contour\"}],\"heatmapgl\":[{\"colorbar\":{\"outlinewidth\":0,\"ticks\":\"\"},\"colorscale\":[[0.0,\"#0d0887\"],[0.1111111111111111,\"#46039f\"],[0.2222222222222222,\"#7201a8\"],[0.3333333333333333,\"#9c179e\"],[0.4444444444444444,\"#bd3786\"],[0.5555555555555556,\"#d8576b\"],[0.6666666666666666,\"#ed7953\"],[0.7777777777777778,\"#fb9f3a\"],[0.8888888888888888,\"#fdca26\"],[1.0,\"#f0f921\"]],\"type\":\"heatmapgl\"}],\"heatmap\":[{\"colorbar\":{\"outlinewidth\":0,\"ticks\":\"\"},\"colorscale\":[[0.0,\"#0d0887\"],[0.1111111111111111,\"#46039f\"],[0.2222222222222222,\"#7201a8\"],[0.3333333333333333,\"#9c179e\"],[0.4444444444444444,\"#bd3786\"],[0.5555555555555556,\"#d8576b\"],[0.6666666666666666,\"#ed7953\"],[0.7777777777777778,\"#fb9f3a\"],[0.8888888888888888,\"#fdca26\"],[1.0,\"#f0f921\"]],\"type\":\"heatmap\"}],\"histogram2dcontour\":[{\"colorbar\":{\"outlinewidth\":0,\"ticks\":\"\"},\"colorscale\":[[0.0,\"#0d0887\"],[0.1111111111111111,\"#46039f\"],[0.2222222222222222,\"#7201a8\"],[0.3333333333333333,\"#9c179e\"],[0.4444444444444444,\"#bd3786\"],[0.5555555555555556,\"#d8576b\"],[0.6666666666666666,\"#ed7953\"],[0.7777777777777778,\"#fb9f3a\"],[0.8888888888888888,\"#fdca26\"],[1.0,\"#f0f921\"]],\"type\":\"histogram2dcontour\"}],\"histogram2d\":[{\"colorbar\":{\"outlinewidth\":0,\"ticks\":\"\"},\"colorscale\":[[0.0,\"#0d0887\"],[0.1111111111111111,\"#46039f\"],[0.2222222222222222,\"#7201a8\"],[0.3333333333333333,\"#9c179e\"],[0.4444444444444444,\"#bd3786\"],[0.5555555555555556,\"#d8576b\"],[0.6666666666666666,\"#ed7953\"],[0.7777777777777778,\"#fb9f3a\"],[0.8888888888888888,\"#fdca26\"],[1.0,\"#f0f921\"]],\"type\":\"histogram2d\"}],\"histogram\":[{\"marker\":{\"pattern\":{\"fillmode\":\"overlay\",\"size\":10,\"solidity\":0.2}},\"type\":\"histogram\"}],\"mesh3d\":[{\"colorbar\":{\"outlinewidth\":0,\"ticks\":\"\"},\"type\":\"mesh3d\"}],\"parcoords\":[{\"line\":{\"colorbar\":{\"outlinewidth\":0,\"ticks\":\"\"}},\"type\":\"parcoords\"}],\"pie\":[{\"automargin\":true,\"type\":\"pie\"}],\"scatter3d\":[{\"line\":{\"colorbar\":{\"outlinewidth\":0,\"ticks\":\"\"}},\"marker\":{\"colorbar\":{\"outlinewidth\":0,\"ticks\":\"\"}},\"type\":\"scatter3d\"}],\"scattercarpet\":[{\"marker\":{\"colorbar\":{\"outlinewidth\":0,\"ticks\":\"\"}},\"type\":\"scattercarpet\"}],\"scattergeo\":[{\"marker\":{\"colorbar\":{\"outlinewidth\":0,\"ticks\":\"\"}},\"type\":\"scattergeo\"}],\"scattergl\":[{\"marker\":{\"colorbar\":{\"outlinewidth\":0,\"ticks\":\"\"}},\"type\":\"scattergl\"}],\"scattermapbox\":[{\"marker\":{\"colorbar\":{\"outlinewidth\":0,\"ticks\":\"\"}},\"type\":\"scattermapbox\"}],\"scatterpolargl\":[{\"marker\":{\"colorbar\":{\"outlinewidth\":0,\"ticks\":\"\"}},\"type\":\"scatterpolargl\"}],\"scatterpolar\":[{\"marker\":{\"colorbar\":{\"outlinewidth\":0,\"ticks\":\"\"}},\"type\":\"scatterpolar\"}],\"scatter\":[{\"fillpattern\":{\"fillmode\":\"overlay\",\"size\":10,\"solidity\":0.2},\"type\":\"scatter\"}],\"scatterternary\":[{\"marker\":{\"colorbar\":{\"outlinewidth\":0,\"ticks\":\"\"}},\"type\":\"scatterternary\"}],\"surface\":[{\"colorbar\":{\"outlinewidth\":0,\"ticks\":\"\"},\"colorscale\":[[0.0,\"#0d0887\"],[0.1111111111111111,\"#46039f\"],[0.2222222222222222,\"#7201a8\"],[0.3333333333333333,\"#9c179e\"],[0.4444444444444444,\"#bd3786\"],[0.5555555555555556,\"#d8576b\"],[0.6666666666666666,\"#ed7953\"],[0.7777777777777778,\"#fb9f3a\"],[0.8888888888888888,\"#fdca26\"],[1.0,\"#f0f921\"]],\"type\":\"surface\"}],\"table\":[{\"cells\":{\"fill\":{\"color\":\"#EBF0F8\"},\"line\":{\"color\":\"white\"}},\"header\":{\"fill\":{\"color\":\"#C8D4E3\"},\"line\":{\"color\":\"white\"}},\"type\":\"table\"}]},\"layout\":{\"annotationdefaults\":{\"arrowcolor\":\"#2a3f5f\",\"arrowhead\":0,\"arrowwidth\":1},\"autotypenumbers\":\"strict\",\"coloraxis\":{\"colorbar\":{\"outlinewidth\":0,\"ticks\":\"\"}},\"colorscale\":{\"diverging\":[[0,\"#8e0152\"],[0.1,\"#c51b7d\"],[0.2,\"#de77ae\"],[0.3,\"#f1b6da\"],[0.4,\"#fde0ef\"],[0.5,\"#f7f7f7\"],[0.6,\"#e6f5d0\"],[0.7,\"#b8e186\"],[0.8,\"#7fbc41\"],[0.9,\"#4d9221\"],[1,\"#276419\"]],\"sequential\":[[0.0,\"#0d0887\"],[0.1111111111111111,\"#46039f\"],[0.2222222222222222,\"#7201a8\"],[0.3333333333333333,\"#9c179e\"],[0.4444444444444444,\"#bd3786\"],[0.5555555555555556,\"#d8576b\"],[0.6666666666666666,\"#ed7953\"],[0.7777777777777778,\"#fb9f3a\"],[0.8888888888888888,\"#fdca26\"],[1.0,\"#f0f921\"]],\"sequentialminus\":[[0.0,\"#0d0887\"],[0.1111111111111111,\"#46039f\"],[0.2222222222222222,\"#7201a8\"],[0.3333333333333333,\"#9c179e\"],[0.4444444444444444,\"#bd3786\"],[0.5555555555555556,\"#d8576b\"],[0.6666666666666666,\"#ed7953\"],[0.7777777777777778,\"#fb9f3a\"],[0.8888888888888888,\"#fdca26\"],[1.0,\"#f0f921\"]]},\"colorway\":[\"#636efa\",\"#EF553B\",\"#00cc96\",\"#ab63fa\",\"#FFA15A\",\"#19d3f3\",\"#FF6692\",\"#B6E880\",\"#FF97FF\",\"#FECB52\"],\"font\":{\"color\":\"#2a3f5f\"},\"geo\":{\"bgcolor\":\"white\",\"lakecolor\":\"white\",\"landcolor\":\"#E5ECF6\",\"showlakes\":true,\"showland\":true,\"subunitcolor\":\"white\"},\"hoverlabel\":{\"align\":\"left\"},\"hovermode\":\"closest\",\"mapbox\":{\"style\":\"light\"},\"paper_bgcolor\":\"white\",\"plot_bgcolor\":\"#E5ECF6\",\"polar\":{\"angularaxis\":{\"gridcolor\":\"white\",\"linecolor\":\"white\",\"ticks\":\"\"},\"bgcolor\":\"#E5ECF6\",\"radialaxis\":{\"gridcolor\":\"white\",\"linecolor\":\"white\",\"ticks\":\"\"}},\"scene\":{\"xaxis\":{\"backgroundcolor\":\"#E5ECF6\",\"gridcolor\":\"white\",\"gridwidth\":2,\"linecolor\":\"white\",\"showbackground\":true,\"ticks\":\"\",\"zerolinecolor\":\"white\"},\"yaxis\":{\"backgroundcolor\":\"#E5ECF6\",\"gridcolor\":\"white\",\"gridwidth\":2,\"linecolor\":\"white\",\"showbackground\":true,\"ticks\":\"\",\"zerolinecolor\":\"white\"},\"zaxis\":{\"backgroundcolor\":\"#E5ECF6\",\"gridcolor\":\"white\",\"gridwidth\":2,\"linecolor\":\"white\",\"showbackground\":true,\"ticks\":\"\",\"zerolinecolor\":\"white\"}},\"shapedefaults\":{\"line\":{\"color\":\"#2a3f5f\"}},\"ternary\":{\"aaxis\":{\"gridcolor\":\"white\",\"linecolor\":\"white\",\"ticks\":\"\"},\"baxis\":{\"gridcolor\":\"white\",\"linecolor\":\"white\",\"ticks\":\"\"},\"bgcolor\":\"#E5ECF6\",\"caxis\":{\"gridcolor\":\"white\",\"linecolor\":\"white\",\"ticks\":\"\"}},\"title\":{\"x\":0.05},\"xaxis\":{\"automargin\":true,\"gridcolor\":\"white\",\"linecolor\":\"white\",\"ticks\":\"\",\"title\":{\"standoff\":15},\"zerolinecolor\":\"white\",\"zerolinewidth\":2},\"yaxis\":{\"automargin\":true,\"gridcolor\":\"white\",\"linecolor\":\"white\",\"ticks\":\"\",\"title\":{\"standoff\":15},\"zerolinecolor\":\"white\",\"zerolinewidth\":2}}},\"title\":{\"font\":{\"color\":\"#4D5663\"}},\"xaxis\":{\"gridcolor\":\"#E1E5ED\",\"showgrid\":true,\"tickfont\":{\"color\":\"#4D5663\"},\"title\":{\"font\":{\"color\":\"#4D5663\"},\"text\":\"EGGS WHOLE LIQ BULK -TANK Price\"},\"zerolinecolor\":\"#E1E5ED\"},\"yaxis\":{\"gridcolor\":\"#E1E5ED\",\"showgrid\":true,\"tickfont\":{\"color\":\"#4D5663\"},\"title\":{\"font\":{\"color\":\"#4D5663\"},\"text\":\"Hectograms\"},\"zerolinecolor\":\"#E1E5ED\"}},                        {\"showLink\": true, \"linkText\": \"Export to plot.ly\", \"plotlyServerURL\": \"https://plot.ly\", \"responsive\": true}                    ).then(function(){\n",
       "                            \n",
       "var gd = document.getElementById('8fe4e450-dc88-4af5-968f-5aac96341d86');\n",
       "var x = new MutationObserver(function (mutations, observer) {{\n",
       "        var display = window.getComputedStyle(gd).display;\n",
       "        if (!display || display === 'none') {{\n",
       "            console.log([gd, 'removed!']);\n",
       "            Plotly.purge(gd);\n",
       "            observer.disconnect();\n",
       "        }}\n",
       "}});\n",
       "\n",
       "// Listen for the removal of the full notebook cells\n",
       "var notebookContainer = gd.closest('#notebook-container');\n",
       "if (notebookContainer) {{\n",
       "    x.observe(notebookContainer, {childList: true});\n",
       "}}\n",
       "\n",
       "// Listen for the clearing of the current output cell\n",
       "var outputEl = gd.closest('.output');\n",
       "if (outputEl) {{\n",
       "    x.observe(outputEl, {childList: true});\n",
       "}}\n",
       "\n",
       "                        })                };                });            </script>        </div>"
      ]
     },
     "metadata": {},
     "output_type": "display_data"
    }
   ],
   "source": [
    "import cufflinks as cf\n",
    "cf.go_offline()\n",
    "\n",
    "ReferenceGood = 'EGGS WHOLE LIQ BULK -TANK'\n",
    "\n",
    "scale = [0.5,0.75,0.9,1.,1.1,1.2,1.3,1.4,1.5,2,4]\n",
    "\n",
    "cost0 = getPrices.solve_subsistence_problem(FoodNutrients,Prices,diet_min[group],diet_max[group],tol=tol).fun\n",
    "\n",
    "my_p = Prices.copy()\n",
    "\n",
    "diet = {}\n",
    "for s in scale:\n",
    "\n",
    "    my_p[ReferenceGood] = Prices[ReferenceGood]*s\n",
    "    result = getPrices.solve_subsistence_problem(FoodNutrients,my_p,diet_min[group],diet_max[group],tol=tol)\n",
    "    diet[my_p[ReferenceGood]] = result.diet\n",
    "\n",
    "Diet_response = pd.DataFrame(diet).T\n",
    "Diet_response.index.name = '%s Price' % ReferenceGood\n",
    "\n",
    "Diet_response.reset_index(inplace=True)\n",
    "\n",
    "# Get rid of units for index (cufflinks chokes)\n",
    "Diet_response['%s Price' % ReferenceGood] = Diet_response['%s Price' % ReferenceGood].apply(lambda x: x.magnitude)\n",
    "\n",
    "Diet_response = Diet_response.set_index('%s Price' % ReferenceGood)\n",
    "\n",
    "# Just look at goods consumed in quantities greater than error tolerance\n",
    "Diet_response.loc[:,(Diet_response>tol).sum()>0].iplot(xTitle='%s Price' % ReferenceGood,yTitle='Hectograms')"
   ]
  },
  {
   "cell_type": "markdown",
   "metadata": {},
   "source": [
    "## Effects of Price Changes on Subsistence Diet Nutrition\n",
    "\n"
   ]
  },
  {
   "cell_type": "markdown",
   "metadata": {},
   "source": [
    "The code below creates a graph which uses the food price changes\n",
    "  described above, but maps into nutrients.\n",
    "\n"
   ]
  },
  {
   "cell_type": "code",
   "execution_count": null,
   "metadata": {},
   "outputs": [],
   "source": [
    "# Matrix product maps quantities of food into quantities of nutrients\n",
    "NutrientResponse = Diet_response@FoodNutrients.T\n",
    "\n",
    "# Drop columns of missing nutrients\n",
    "NutrientResponse = NutrientResponse.loc[:,NutrientResponse.count()>0]\n",
    "NutrientResponse.iplot(xTitle='%s Price' % ReferenceGood,yTitle='Nutrients')"
   ]
  },
  {
   "cell_type": "markdown",
   "metadata": {},
   "source": [
    "## Adding Constraint on Total Weight\n",
    "\n"
   ]
  },
  {
   "cell_type": "markdown",
   "metadata": {},
   "source": [
    "At least at some prices the minimum cost subistence diet involves\n",
    "eating unreasonable amounts of food (e.g., 10 kilograms of cabbage per\n",
    "day).  We can easily add an additional constraint of the form\n",
    "$$\n",
    "     \\sum x_i \\leq \\text{max weight}\n",
    "$$\n",
    "to our linear programming problem since it&rsquo;s just another linear\n",
    "inequality, and this may give us more realistic results.\n",
    "\n"
   ]
  },
  {
   "cell_type": "markdown",
   "metadata": {},
   "source": [
    "### Price Changes and Subsistence Diet Composition with Weight Constraint\n",
    "\n"
   ]
  },
  {
   "cell_type": "markdown",
   "metadata": {},
   "source": [
    "Re-do our analysis of changing prices, but with a constraint that\n",
    "  total weight of diet must be less that 12 hectograms (1.2 kg).\n",
    "\n"
   ]
  },
  {
   "cell_type": "code",
   "execution_count": 22,
   "metadata": {},
   "outputs": [
    {
     "name": "stderr",
     "output_type": "stream",
     "text": [
      "/Users/christophernicholas/src/EEP153/EEP153_Harriette_Chick_Project2/venv/lib/python3.12/site-packages/pandas/core/dtypes/cast.py:1598: UnitStrippedWarning:\n",
      "\n",
      "The unit of the quantity is stripped when downcasting to ndarray.\n",
      "\n"
     ]
    },
    {
     "data": {
      "application/vnd.plotly.v1+json": {
       "config": {
        "linkText": "Export to plot.ly",
        "plotlyServerURL": "https://plot.ly",
        "showLink": true
       },
       "data": [
        {
         "line": {
          "color": "rgba(255, 153, 51, 1.0)",
          "dash": "solid",
          "shape": "linear",
          "width": 1.3
         },
         "mode": "lines",
         "name": "CHEESE CHED WHT SHRED BAG-6/5 LB",
         "text": "",
         "type": "scatter",
         "x": [
          0.07763578562840463,
          0.11645367844260696,
          0.13974441413112834,
          0.15527157125680927,
          0.17079872838249022,
          0.1863258855081711,
          0.20185304263385206,
          0.21738019975953296,
          0.2329073568852139,
          0.31054314251361853,
          0.6210862850272371
         ],
         "y": [
          0.1007911078117935,
          1.2035799249374128e-11,
          1.957936661044495e-12,
          1.0398939789752173e-9,
          2.63276471014742e-9,
          5.206392254983126e-9,
          2.4071732332773373e-8,
          4.2364770265756626e-10,
          6.319505092036711e-11,
          3.5268510192867164e-8,
          3.0576278529062415e-10
         ]
        },
        {
         "line": {
          "color": "rgba(55, 128, 191, 1.0)",
          "dash": "solid",
          "shape": "linear",
          "width": 1.3
         },
         "mode": "lines",
         "name": "EGGS WHOLE LIQ BULK -TANK",
         "text": "",
         "type": "scatter",
         "x": [
          0.07763578562840463,
          0.11645367844260696,
          0.13974441413112834,
          0.15527157125680927,
          0.17079872838249022,
          0.1863258855081711,
          0.20185304263385206,
          0.21738019975953296,
          0.2329073568852139,
          0.31054314251361853,
          0.6210862850272371
         ],
         "y": [
          2.967709171498594,
          1.283305470702253,
          0.6588686236316265,
          0.6588686264995425,
          0.6588686022329034,
          0.6588685076629229,
          0.658867523520868,
          0.6137175457979382,
          0.5134635405686858,
          5.523654323093177e-8,
          5.354911000806205e-11
         ]
        },
        {
         "line": {
          "color": "rgba(50, 171, 96, 1.0)",
          "dash": "solid",
          "shape": "linear",
          "width": 1.3
         },
         "mode": "lines",
         "name": "CHICKEN LEGS CHILLED -BULK",
         "text": "",
         "type": "scatter",
         "x": [
          0.07763578562840463,
          0.11645367844260696,
          0.13974441413112834,
          0.15527157125680927,
          0.17079872838249022,
          0.1863258855081711,
          0.20185304263385206,
          0.21738019975953296,
          0.2329073568852139,
          0.31054314251361853,
          0.6210862850272371
         ],
         "y": [
          4.607722536789499e-11,
          4.4133006931306356e-12,
          3.508682750528176e-12,
          6.19051580614412e-10,
          3.747392860302651e-9,
          3.089284971568267e-9,
          2.982130376312485e-8,
          1.2976472029282815e-9,
          1.9280077427729727e-10,
          0.47520503396130503,
          0.47520749095004217
         ]
        },
        {
         "line": {
          "color": "rgba(128, 0, 128, 1.0)",
          "dash": "solid",
          "shape": "linear",
          "width": 1.3
         },
         "mode": "lines",
         "name": "APPLE SLICES CAN-6/10",
         "text": "",
         "type": "scatter",
         "x": [
          0.07763578562840463,
          0.11645367844260696,
          0.13974441413112834,
          0.15527157125680927,
          0.17079872838249022,
          0.1863258855081711,
          0.20185304263385206,
          0.21738019975953296,
          0.2329073568852139,
          0.31054314251361853,
          0.6210862850272371
         ],
         "y": [
          0.2336735614003945,
          0.04364569932861124,
          1.4780968551965302e-11,
          1.5310273241426612e-9,
          4.570294558740928e-8,
          1.4646902965133197e-9,
          1.2631143995466289e-7,
          2.2156470614849836e-9,
          1.0016042459387634e-10,
          8.205527807305832e-9,
          2.934740810880479e-10
         ]
        },
        {
         "line": {
          "color": "rgba(219, 64, 82, 1.0)",
          "dash": "solid",
          "shape": "linear",
          "width": 1.3
         },
         "mode": "lines",
         "name": "SWEET POTATOES W/ SYRUP CAN-6/10",
         "text": "",
         "type": "scatter",
         "x": [
          0.07763578562840463,
          0.11645367844260696,
          0.13974441413112834,
          0.15527157125680927,
          0.17079872838249022,
          0.1863258855081711,
          0.20185304263385206,
          0.21738019975953296,
          0.2329073568852139,
          0.31054314251361853,
          0.6210862850272371
         ],
         "y": [
          6.203267568583454e-10,
          4.79000280275278e-9,
          0.35331465223444103,
          0.35331461297472616,
          0.3533146507676563,
          0.353314522529359,
          0.3533123354017912,
          0.3340509046165732,
          0.4330143424422731,
          0.057686015291658635,
          0.0576829630687108
         ]
        },
        {
         "line": {
          "color": "rgba(0, 128, 128, 1.0)",
          "dash": "solid",
          "shape": "linear",
          "width": 1.3
         },
         "mode": "lines",
         "name": "BEANS SMALL RED CAN-6/10",
         "text": "",
         "type": "scatter",
         "x": [
          0.07763578562840463,
          0.11645367844260696,
          0.13974441413112834,
          0.15527157125680927,
          0.17079872838249022,
          0.1863258855081711,
          0.20185304263385206,
          0.21738019975953296,
          0.2329073568852139,
          0.31054314251361853,
          0.6210862850272371
         ],
         "y": [
          1.4133482752339428e-9,
          1.0047916612511599e-10,
          1.0385657876764546e-10,
          3.645034845336314e-8,
          5.537726172839395e-7,
          1.426433932497627e-7,
          0.0000011544978275220025,
          5.914971321833613e-8,
          8.48051588324806e-9,
          0.0000012843029779910646,
          1.4431670504527547e-8
         ]
        },
        {
         "line": {
          "color": "rgba(255, 255, 51, 1.0)",
          "dash": "solid",
          "shape": "linear",
          "width": 1.3
         },
         "mode": "lines",
         "name": "BEANS PINTO DRY PKG-12/2 LB",
         "text": "",
         "type": "scatter",
         "x": [
          0.07763578562840463,
          0.11645367844260696,
          0.13974441413112834,
          0.15527157125680927,
          0.17079872838249022,
          0.1863258855081711,
          0.20185304263385206,
          0.21738019975953296,
          0.2329073568852139,
          0.31054314251361853,
          0.6210862850272371
         ],
         "y": [
          2.0238741288861504,
          1.8398484697055835,
          1.7422122552640444,
          1.7422122237421027,
          1.7422117654273757,
          1.7422121135771835,
          1.74221125393963,
          1.739512367930495,
          1.6890541100545586,
          1.6877605472559938,
          1.6877620160743456
         ]
        },
        {
         "line": {
          "color": "rgba(128, 128, 0, 1.0)",
          "dash": "solid",
          "shape": "linear",
          "width": 1.3
         },
         "mode": "lines",
         "name": "FLOUR WHOLE WHEAT BAG-50 LB",
         "text": "",
         "type": "scatter",
         "x": [
          0.07763578562840463,
          0.11645367844260696,
          0.13974441413112834,
          0.15527157125680927,
          0.17079872838249022,
          0.1863258855081711,
          0.20185304263385206,
          0.21738019975953296,
          0.2329073568852139,
          0.31054314251361853,
          0.6210862850272371
         ],
         "y": [
          0.28552407783661127,
          0.5400268810211108,
          0.7444814532875986,
          0.7444814513270147,
          0.7444813482055833,
          0.7444813583510066,
          0.7444813170383239,
          0.7036449973492613,
          0.5942671509552029,
          0.7058008158059763,
          0.7058024578608573
         ]
        },
        {
         "line": {
          "color": "rgba(251, 128, 114, 1.0)",
          "dash": "solid",
          "shape": "linear",
          "width": 1.3
         },
         "mode": "lines",
         "name": "FLOUR BAKER HARD WHT BLCH-BULK",
         "text": "",
         "type": "scatter",
         "x": [
          0.07763578562840463,
          0.11645367844260696,
          0.13974441413112834,
          0.15527157125680927,
          0.17079872838249022,
          0.1863258855081711,
          0.20185304263385206,
          0.21738019975953296,
          0.2329073568852139,
          0.31054314251361853,
          0.6210862850272371
         ],
         "y": [
          7.751621256206086e-11,
          8.039696472264666e-12,
          5.715613732496335e-12,
          1.1549776472546816e-9,
          9.02341050850869e-9,
          2.6701005588366144e-9,
          4.7134063752800526e-8,
          7.459256977917938e-10,
          1.3416496087917699e-9,
          0.37334510667609133,
          0.3733470944051637
         ]
        },
        {
         "line": {
          "color": "rgba(128, 177, 211, 1.0)",
          "dash": "solid",
          "shape": "linear",
          "width": 1.3
         },
         "mode": "lines",
         "name": "OIL VEGETABLE BTL-6/1 GAL",
         "text": "",
         "type": "scatter",
         "x": [
          0.07763578562840463,
          0.11645367844260696,
          0.13974441413112834,
          0.15527157125680927,
          0.17079872838249022,
          0.1863258855081711,
          0.20185304263385206,
          0.21738019975953296,
          0.2329073568852139,
          0.31054314251361853,
          0.6210862850272371
         ],
         "y": [
          1.024663817581439e-8,
          0.421058257812333,
          0.5025605944986984,
          0.5025605822750336,
          0.5025605664920989,
          0.5025602228793168,
          0.5025592100408801,
          0.4920780244116576,
          0.1959147270669898,
          0.4134515600960032,
          0.413453517815647
         ]
        },
        {
         "line": {
          "color": "rgba(128, 177, 211, 0.8999999999999999)",
          "dash": "solid",
          "shape": "linear",
          "width": 1.3
         },
         "mode": "lines",
         "name": "FLOUR BREAD-BULK",
         "text": "",
         "type": "scatter",
         "x": [
          0.07763578562840463,
          0.11645367844260696,
          0.13974441413112834,
          0.15527157125680927,
          0.17079872838249022,
          0.1863258855081711,
          0.20185304263385206,
          0.21738019975953296,
          0.2329073568852139,
          0.31054314251361853,
          0.6210862850272371
         ],
         "y": [
          3.3421208431330256,
          2.570677565829337,
          0.9933890188417712,
          0.9933890106775783,
          0.9933889836291958,
          0.9933886044109269,
          0.9933855956753025,
          0.9141560484309851,
          0.6849800069727564,
          0.055613618850177016,
          0.05561077739254731
         ]
        },
        {
         "line": {
          "color": "rgba(255, 153, 51, 0.8999999999999999)",
          "dash": "solid",
          "shape": "linear",
          "width": 1.3
         },
         "mode": "lines",
         "name": "K SUNFLOWER SEED BUTTER 6-5#'S",
         "text": "",
         "type": "scatter",
         "x": [
          0.07763578562840463,
          0.11645367844260696,
          0.13974441413112834,
          0.15527157125680927,
          0.17079872838249022,
          0.1863258855081711,
          0.20185304263385206,
          0.21738019975953296,
          0.2329073568852139,
          0.31054314251361853,
          0.6210862850272371
         ],
         "y": [
          0.29698775876196476,
          1.3603094028366706e-10,
          7.185304592027468e-12,
          5.0048559589752095e-9,
          1.3399873947183501e-8,
          2.5402148973928384e-7,
          7.560318751033103e-7,
          1.230550864595795e-7,
          0.21744349572788035,
          0.010998269597574061,
          0.010996629233791253
         ]
        },
        {
         "line": {
          "color": "rgba(55, 128, 191, 0.8999999999999999)",
          "dash": "solid",
          "shape": "linear",
          "width": 1.3
         },
         "mode": "lines",
         "name": "POTATO FOR PROCESS INTO DEHY PRD-BULK",
         "text": "",
         "type": "scatter",
         "x": [
          0.07763578562840463,
          0.11645367844260696,
          0.13974441413112834,
          0.15527157125680927,
          0.17079872838249022,
          0.1863258855081711,
          0.20185304263385206,
          0.21738019975953296,
          0.2329073568852139,
          0.31054314251361853,
          0.6210862850272371
         ],
         "y": [
          0.7844642419598463,
          1.0800659299020154,
          2.32451507749367,
          2.3245149727143715,
          2.3245147343997927,
          2.324514666595432,
          2.3245087864222236,
          2.2582577607208605,
          2.400883996643691,
          1.3168350723600015,
          1.3168305219146963
         ]
        },
        {
         "line": {
          "color": "rgba(50, 171, 96, 0.8999999999999999)",
          "dash": "solid",
          "shape": "linear",
          "width": 1.3
         },
         "mode": "lines",
         "name": "CHEESE NAT AMER FBD BARREL-500 LB(40800)",
         "text": "",
         "type": "scatter",
         "x": [
          0.07763578562840463,
          0.11645367844260696,
          0.13974441413112834,
          0.15527157125680927,
          0.17079872838249022,
          0.1863258855081711,
          0.20185304263385206,
          0.21738019975953296,
          0.2329073568852139,
          0.31054314251361853,
          0.6210862850272371
         ],
         "y": [
          1.5714240599005183e-10,
          0.3340329386687299,
          0.767315648895694,
          0.7673156427140582,
          0.7673156343993964,
          0.7673156983886797,
          0.7673160879207899,
          0.7837976255744047,
          0.8450016989902556,
          0.9514702249806675,
          0.9514707322329052
         ]
        },
        {
         "line": {
          "color": "rgba(128, 0, 128, 0.8999999999999999)",
          "dash": "solid",
          "shape": "linear",
          "width": 1.3
         },
         "mode": "lines",
         "name": "BEANS PINTO DRY TOTE-2000 LB",
         "text": "",
         "type": "scatter",
         "x": [
          0.07763578562840463,
          0.11645367844260696,
          0.13974441413112834,
          0.15527157125680927,
          0.17079872838249022,
          0.1863258855081711,
          0.20185304263385206,
          0.21738019975953296,
          0.2329073568852139,
          0.31054314251361853,
          0.6210862850272371
         ],
         "y": [
          9.693078692510757e-11,
          1.0246986979568678e-11,
          1.2948369029645156e-11,
          2.0401728577412885e-9,
          6.174949191099198e-8,
          3.1831532155611433e-8,
          0.0000012802685709311914,
          0.09920720928043283,
          0.15506677202793676,
          0.4151963931173896,
          0.4151966791633318
         ]
        },
        {
         "line": {
          "color": "rgba(219, 64, 82, 0.8999999999999999)",
          "dash": "solid",
          "shape": "linear",
          "width": 1.3
         },
         "mode": "lines",
         "name": "SPINACH CHOPPED FRZ IQF CTN-20 LB (1902)",
         "text": "",
         "type": "scatter",
         "x": [
          0.07763578562840463,
          0.11645367844260696,
          0.13974441413112834,
          0.15527157125680927,
          0.17079872838249022,
          0.1863258855081711,
          0.20185304263385206,
          0.21738019975953296,
          0.2329073568852139,
          0.31054314251361853,
          0.6210862850272371
         ],
         "y": [
          0.12000833321520048,
          0.9616094036522457,
          0.444107723191363,
          0.4441077717992815,
          0.44410771899267515,
          0.4441078812271251,
          0.4441108416469755,
          0.4812478082989482,
          0.35026358949215347,
          1.033648008642745,
          1.033651783749559
         ]
        },
        {
         "line": {
          "color": "rgba(0, 128, 128, 0.8999999999999999)",
          "dash": "solid",
          "shape": "linear",
          "width": 1.3
         },
         "mode": "lines",
         "name": "FISH AK POLLOCK STICKS BRD FRZ CTN-40 LB",
         "text": "",
         "type": "scatter",
         "x": [
          0.07763578562840463,
          0.11645367844260696,
          0.13974441413112834,
          0.15527157125680927,
          0.17079872838249022,
          0.1863258855081711,
          0.20185304263385206,
          0.21738019975953296,
          0.2329073568852139,
          0.31054314251361853,
          0.6210862850272371
         ],
         "y": [
          2.112317004119069e-11,
          9.647349933918123e-13,
          5.37751778168726e-13,
          1.4853431306589086e-10,
          8.41497049680095e-10,
          1.3238364008510172e-9,
          6.579946386526779e-9,
          3.5337387388217845e-10,
          3.059380722486486e-11,
          0.025672929066870194,
          0.025672457736851097
         ]
        }
       ],
       "layout": {
        "legend": {
         "bgcolor": "#F5F6F9",
         "font": {
          "color": "#4D5663"
         }
        },
        "paper_bgcolor": "#F5F6F9",
        "plot_bgcolor": "#F5F6F9",
        "template": {
         "data": {
          "bar": [
           {
            "error_x": {
             "color": "#2a3f5f"
            },
            "error_y": {
             "color": "#2a3f5f"
            },
            "marker": {
             "line": {
              "color": "#E5ECF6",
              "width": 0.5
             },
             "pattern": {
              "fillmode": "overlay",
              "size": 10,
              "solidity": 0.2
             }
            },
            "type": "bar"
           }
          ],
          "barpolar": [
           {
            "marker": {
             "line": {
              "color": "#E5ECF6",
              "width": 0.5
             },
             "pattern": {
              "fillmode": "overlay",
              "size": 10,
              "solidity": 0.2
             }
            },
            "type": "barpolar"
           }
          ],
          "carpet": [
           {
            "aaxis": {
             "endlinecolor": "#2a3f5f",
             "gridcolor": "white",
             "linecolor": "white",
             "minorgridcolor": "white",
             "startlinecolor": "#2a3f5f"
            },
            "baxis": {
             "endlinecolor": "#2a3f5f",
             "gridcolor": "white",
             "linecolor": "white",
             "minorgridcolor": "white",
             "startlinecolor": "#2a3f5f"
            },
            "type": "carpet"
           }
          ],
          "choropleth": [
           {
            "colorbar": {
             "outlinewidth": 0,
             "ticks": ""
            },
            "type": "choropleth"
           }
          ],
          "contour": [
           {
            "colorbar": {
             "outlinewidth": 0,
             "ticks": ""
            },
            "colorscale": [
             [
              0,
              "#0d0887"
             ],
             [
              0.1111111111111111,
              "#46039f"
             ],
             [
              0.2222222222222222,
              "#7201a8"
             ],
             [
              0.3333333333333333,
              "#9c179e"
             ],
             [
              0.4444444444444444,
              "#bd3786"
             ],
             [
              0.5555555555555556,
              "#d8576b"
             ],
             [
              0.6666666666666666,
              "#ed7953"
             ],
             [
              0.7777777777777778,
              "#fb9f3a"
             ],
             [
              0.8888888888888888,
              "#fdca26"
             ],
             [
              1,
              "#f0f921"
             ]
            ],
            "type": "contour"
           }
          ],
          "contourcarpet": [
           {
            "colorbar": {
             "outlinewidth": 0,
             "ticks": ""
            },
            "type": "contourcarpet"
           }
          ],
          "heatmap": [
           {
            "colorbar": {
             "outlinewidth": 0,
             "ticks": ""
            },
            "colorscale": [
             [
              0,
              "#0d0887"
             ],
             [
              0.1111111111111111,
              "#46039f"
             ],
             [
              0.2222222222222222,
              "#7201a8"
             ],
             [
              0.3333333333333333,
              "#9c179e"
             ],
             [
              0.4444444444444444,
              "#bd3786"
             ],
             [
              0.5555555555555556,
              "#d8576b"
             ],
             [
              0.6666666666666666,
              "#ed7953"
             ],
             [
              0.7777777777777778,
              "#fb9f3a"
             ],
             [
              0.8888888888888888,
              "#fdca26"
             ],
             [
              1,
              "#f0f921"
             ]
            ],
            "type": "heatmap"
           }
          ],
          "heatmapgl": [
           {
            "colorbar": {
             "outlinewidth": 0,
             "ticks": ""
            },
            "colorscale": [
             [
              0,
              "#0d0887"
             ],
             [
              0.1111111111111111,
              "#46039f"
             ],
             [
              0.2222222222222222,
              "#7201a8"
             ],
             [
              0.3333333333333333,
              "#9c179e"
             ],
             [
              0.4444444444444444,
              "#bd3786"
             ],
             [
              0.5555555555555556,
              "#d8576b"
             ],
             [
              0.6666666666666666,
              "#ed7953"
             ],
             [
              0.7777777777777778,
              "#fb9f3a"
             ],
             [
              0.8888888888888888,
              "#fdca26"
             ],
             [
              1,
              "#f0f921"
             ]
            ],
            "type": "heatmapgl"
           }
          ],
          "histogram": [
           {
            "marker": {
             "pattern": {
              "fillmode": "overlay",
              "size": 10,
              "solidity": 0.2
             }
            },
            "type": "histogram"
           }
          ],
          "histogram2d": [
           {
            "colorbar": {
             "outlinewidth": 0,
             "ticks": ""
            },
            "colorscale": [
             [
              0,
              "#0d0887"
             ],
             [
              0.1111111111111111,
              "#46039f"
             ],
             [
              0.2222222222222222,
              "#7201a8"
             ],
             [
              0.3333333333333333,
              "#9c179e"
             ],
             [
              0.4444444444444444,
              "#bd3786"
             ],
             [
              0.5555555555555556,
              "#d8576b"
             ],
             [
              0.6666666666666666,
              "#ed7953"
             ],
             [
              0.7777777777777778,
              "#fb9f3a"
             ],
             [
              0.8888888888888888,
              "#fdca26"
             ],
             [
              1,
              "#f0f921"
             ]
            ],
            "type": "histogram2d"
           }
          ],
          "histogram2dcontour": [
           {
            "colorbar": {
             "outlinewidth": 0,
             "ticks": ""
            },
            "colorscale": [
             [
              0,
              "#0d0887"
             ],
             [
              0.1111111111111111,
              "#46039f"
             ],
             [
              0.2222222222222222,
              "#7201a8"
             ],
             [
              0.3333333333333333,
              "#9c179e"
             ],
             [
              0.4444444444444444,
              "#bd3786"
             ],
             [
              0.5555555555555556,
              "#d8576b"
             ],
             [
              0.6666666666666666,
              "#ed7953"
             ],
             [
              0.7777777777777778,
              "#fb9f3a"
             ],
             [
              0.8888888888888888,
              "#fdca26"
             ],
             [
              1,
              "#f0f921"
             ]
            ],
            "type": "histogram2dcontour"
           }
          ],
          "mesh3d": [
           {
            "colorbar": {
             "outlinewidth": 0,
             "ticks": ""
            },
            "type": "mesh3d"
           }
          ],
          "parcoords": [
           {
            "line": {
             "colorbar": {
              "outlinewidth": 0,
              "ticks": ""
             }
            },
            "type": "parcoords"
           }
          ],
          "pie": [
           {
            "automargin": true,
            "type": "pie"
           }
          ],
          "scatter": [
           {
            "fillpattern": {
             "fillmode": "overlay",
             "size": 10,
             "solidity": 0.2
            },
            "type": "scatter"
           }
          ],
          "scatter3d": [
           {
            "line": {
             "colorbar": {
              "outlinewidth": 0,
              "ticks": ""
             }
            },
            "marker": {
             "colorbar": {
              "outlinewidth": 0,
              "ticks": ""
             }
            },
            "type": "scatter3d"
           }
          ],
          "scattercarpet": [
           {
            "marker": {
             "colorbar": {
              "outlinewidth": 0,
              "ticks": ""
             }
            },
            "type": "scattercarpet"
           }
          ],
          "scattergeo": [
           {
            "marker": {
             "colorbar": {
              "outlinewidth": 0,
              "ticks": ""
             }
            },
            "type": "scattergeo"
           }
          ],
          "scattergl": [
           {
            "marker": {
             "colorbar": {
              "outlinewidth": 0,
              "ticks": ""
             }
            },
            "type": "scattergl"
           }
          ],
          "scattermapbox": [
           {
            "marker": {
             "colorbar": {
              "outlinewidth": 0,
              "ticks": ""
             }
            },
            "type": "scattermapbox"
           }
          ],
          "scatterpolar": [
           {
            "marker": {
             "colorbar": {
              "outlinewidth": 0,
              "ticks": ""
             }
            },
            "type": "scatterpolar"
           }
          ],
          "scatterpolargl": [
           {
            "marker": {
             "colorbar": {
              "outlinewidth": 0,
              "ticks": ""
             }
            },
            "type": "scatterpolargl"
           }
          ],
          "scatterternary": [
           {
            "marker": {
             "colorbar": {
              "outlinewidth": 0,
              "ticks": ""
             }
            },
            "type": "scatterternary"
           }
          ],
          "surface": [
           {
            "colorbar": {
             "outlinewidth": 0,
             "ticks": ""
            },
            "colorscale": [
             [
              0,
              "#0d0887"
             ],
             [
              0.1111111111111111,
              "#46039f"
             ],
             [
              0.2222222222222222,
              "#7201a8"
             ],
             [
              0.3333333333333333,
              "#9c179e"
             ],
             [
              0.4444444444444444,
              "#bd3786"
             ],
             [
              0.5555555555555556,
              "#d8576b"
             ],
             [
              0.6666666666666666,
              "#ed7953"
             ],
             [
              0.7777777777777778,
              "#fb9f3a"
             ],
             [
              0.8888888888888888,
              "#fdca26"
             ],
             [
              1,
              "#f0f921"
             ]
            ],
            "type": "surface"
           }
          ],
          "table": [
           {
            "cells": {
             "fill": {
              "color": "#EBF0F8"
             },
             "line": {
              "color": "white"
             }
            },
            "header": {
             "fill": {
              "color": "#C8D4E3"
             },
             "line": {
              "color": "white"
             }
            },
            "type": "table"
           }
          ]
         },
         "layout": {
          "annotationdefaults": {
           "arrowcolor": "#2a3f5f",
           "arrowhead": 0,
           "arrowwidth": 1
          },
          "autotypenumbers": "strict",
          "coloraxis": {
           "colorbar": {
            "outlinewidth": 0,
            "ticks": ""
           }
          },
          "colorscale": {
           "diverging": [
            [
             0,
             "#8e0152"
            ],
            [
             0.1,
             "#c51b7d"
            ],
            [
             0.2,
             "#de77ae"
            ],
            [
             0.3,
             "#f1b6da"
            ],
            [
             0.4,
             "#fde0ef"
            ],
            [
             0.5,
             "#f7f7f7"
            ],
            [
             0.6,
             "#e6f5d0"
            ],
            [
             0.7,
             "#b8e186"
            ],
            [
             0.8,
             "#7fbc41"
            ],
            [
             0.9,
             "#4d9221"
            ],
            [
             1,
             "#276419"
            ]
           ],
           "sequential": [
            [
             0,
             "#0d0887"
            ],
            [
             0.1111111111111111,
             "#46039f"
            ],
            [
             0.2222222222222222,
             "#7201a8"
            ],
            [
             0.3333333333333333,
             "#9c179e"
            ],
            [
             0.4444444444444444,
             "#bd3786"
            ],
            [
             0.5555555555555556,
             "#d8576b"
            ],
            [
             0.6666666666666666,
             "#ed7953"
            ],
            [
             0.7777777777777778,
             "#fb9f3a"
            ],
            [
             0.8888888888888888,
             "#fdca26"
            ],
            [
             1,
             "#f0f921"
            ]
           ],
           "sequentialminus": [
            [
             0,
             "#0d0887"
            ],
            [
             0.1111111111111111,
             "#46039f"
            ],
            [
             0.2222222222222222,
             "#7201a8"
            ],
            [
             0.3333333333333333,
             "#9c179e"
            ],
            [
             0.4444444444444444,
             "#bd3786"
            ],
            [
             0.5555555555555556,
             "#d8576b"
            ],
            [
             0.6666666666666666,
             "#ed7953"
            ],
            [
             0.7777777777777778,
             "#fb9f3a"
            ],
            [
             0.8888888888888888,
             "#fdca26"
            ],
            [
             1,
             "#f0f921"
            ]
           ]
          },
          "colorway": [
           "#636efa",
           "#EF553B",
           "#00cc96",
           "#ab63fa",
           "#FFA15A",
           "#19d3f3",
           "#FF6692",
           "#B6E880",
           "#FF97FF",
           "#FECB52"
          ],
          "font": {
           "color": "#2a3f5f"
          },
          "geo": {
           "bgcolor": "white",
           "lakecolor": "white",
           "landcolor": "#E5ECF6",
           "showlakes": true,
           "showland": true,
           "subunitcolor": "white"
          },
          "hoverlabel": {
           "align": "left"
          },
          "hovermode": "closest",
          "mapbox": {
           "style": "light"
          },
          "paper_bgcolor": "white",
          "plot_bgcolor": "#E5ECF6",
          "polar": {
           "angularaxis": {
            "gridcolor": "white",
            "linecolor": "white",
            "ticks": ""
           },
           "bgcolor": "#E5ECF6",
           "radialaxis": {
            "gridcolor": "white",
            "linecolor": "white",
            "ticks": ""
           }
          },
          "scene": {
           "xaxis": {
            "backgroundcolor": "#E5ECF6",
            "gridcolor": "white",
            "gridwidth": 2,
            "linecolor": "white",
            "showbackground": true,
            "ticks": "",
            "zerolinecolor": "white"
           },
           "yaxis": {
            "backgroundcolor": "#E5ECF6",
            "gridcolor": "white",
            "gridwidth": 2,
            "linecolor": "white",
            "showbackground": true,
            "ticks": "",
            "zerolinecolor": "white"
           },
           "zaxis": {
            "backgroundcolor": "#E5ECF6",
            "gridcolor": "white",
            "gridwidth": 2,
            "linecolor": "white",
            "showbackground": true,
            "ticks": "",
            "zerolinecolor": "white"
           }
          },
          "shapedefaults": {
           "line": {
            "color": "#2a3f5f"
           }
          },
          "ternary": {
           "aaxis": {
            "gridcolor": "white",
            "linecolor": "white",
            "ticks": ""
           },
           "baxis": {
            "gridcolor": "white",
            "linecolor": "white",
            "ticks": ""
           },
           "bgcolor": "#E5ECF6",
           "caxis": {
            "gridcolor": "white",
            "linecolor": "white",
            "ticks": ""
           }
          },
          "title": {
           "x": 0.05
          },
          "xaxis": {
           "automargin": true,
           "gridcolor": "white",
           "linecolor": "white",
           "ticks": "",
           "title": {
            "standoff": 15
           },
           "zerolinecolor": "white",
           "zerolinewidth": 2
          },
          "yaxis": {
           "automargin": true,
           "gridcolor": "white",
           "linecolor": "white",
           "ticks": "",
           "title": {
            "standoff": 15
           },
           "zerolinecolor": "white",
           "zerolinewidth": 2
          }
         }
        },
        "title": {
         "font": {
          "color": "#4D5663"
         }
        },
        "xaxis": {
         "gridcolor": "#E1E5ED",
         "showgrid": true,
         "tickfont": {
          "color": "#4D5663"
         },
         "title": {
          "font": {
           "color": "#4D5663"
          },
          "text": "EGGS WHOLE LIQ BULK -TANK Price"
         },
         "zerolinecolor": "#E1E5ED"
        },
        "yaxis": {
         "gridcolor": "#E1E5ED",
         "showgrid": true,
         "tickfont": {
          "color": "#4D5663"
         },
         "title": {
          "font": {
           "color": "#4D5663"
          },
          "text": "Hectograms"
         },
         "zerolinecolor": "#E1E5ED"
        }
       }
      },
      "text/html": [
       "<div>                            <div id=\"9c589783-6e94-4cf5-a5d9-82be32920b16\" class=\"plotly-graph-div\" style=\"height:525px; width:100%;\"></div>            <script type=\"text/javascript\">                require([\"plotly\"], function(Plotly) {                    window.PLOTLYENV=window.PLOTLYENV || {};\n",
       "                    window.PLOTLYENV.BASE_URL='https://plot.ly';                                    if (document.getElementById(\"9c589783-6e94-4cf5-a5d9-82be32920b16\")) {                    Plotly.newPlot(                        \"9c589783-6e94-4cf5-a5d9-82be32920b16\",                        [{\"line\":{\"color\":\"rgba(255, 153, 51, 1.0)\",\"dash\":\"solid\",\"shape\":\"linear\",\"width\":1.3},\"mode\":\"lines\",\"name\":\"CHEESE CHED WHT SHRED BAG-6\\u002f5 LB\",\"text\":\"\",\"x\":[0.07763578562840463,0.11645367844260696,0.13974441413112834,0.15527157125680927,0.17079872838249022,0.1863258855081711,0.20185304263385206,0.21738019975953296,0.2329073568852139,0.31054314251361853,0.6210862850272371],\"y\":[0.1007911078117935,1.2035799249374128e-11,1.957936661044495e-12,1.0398939789752173e-09,2.63276471014742e-09,5.206392254983126e-09,2.4071732332773373e-08,4.2364770265756626e-10,6.319505092036711e-11,3.5268510192867164e-08,3.0576278529062415e-10],\"type\":\"scatter\"},{\"line\":{\"color\":\"rgba(55, 128, 191, 1.0)\",\"dash\":\"solid\",\"shape\":\"linear\",\"width\":1.3},\"mode\":\"lines\",\"name\":\"EGGS WHOLE LIQ BULK -TANK\",\"text\":\"\",\"x\":[0.07763578562840463,0.11645367844260696,0.13974441413112834,0.15527157125680927,0.17079872838249022,0.1863258855081711,0.20185304263385206,0.21738019975953296,0.2329073568852139,0.31054314251361853,0.6210862850272371],\"y\":[2.967709171498594,1.283305470702253,0.6588686236316265,0.6588686264995425,0.6588686022329034,0.6588685076629229,0.658867523520868,0.6137175457979382,0.5134635405686858,5.523654323093177e-08,5.354911000806205e-11],\"type\":\"scatter\"},{\"line\":{\"color\":\"rgba(50, 171, 96, 1.0)\",\"dash\":\"solid\",\"shape\":\"linear\",\"width\":1.3},\"mode\":\"lines\",\"name\":\"CHICKEN LEGS CHILLED -BULK\",\"text\":\"\",\"x\":[0.07763578562840463,0.11645367844260696,0.13974441413112834,0.15527157125680927,0.17079872838249022,0.1863258855081711,0.20185304263385206,0.21738019975953296,0.2329073568852139,0.31054314251361853,0.6210862850272371],\"y\":[4.607722536789499e-11,4.4133006931306356e-12,3.508682750528176e-12,6.19051580614412e-10,3.747392860302651e-09,3.089284971568267e-09,2.982130376312485e-08,1.2976472029282815e-09,1.9280077427729727e-10,0.47520503396130503,0.47520749095004217],\"type\":\"scatter\"},{\"line\":{\"color\":\"rgba(128, 0, 128, 1.0)\",\"dash\":\"solid\",\"shape\":\"linear\",\"width\":1.3},\"mode\":\"lines\",\"name\":\"APPLE SLICES CAN-6\\u002f10\",\"text\":\"\",\"x\":[0.07763578562840463,0.11645367844260696,0.13974441413112834,0.15527157125680927,0.17079872838249022,0.1863258855081711,0.20185304263385206,0.21738019975953296,0.2329073568852139,0.31054314251361853,0.6210862850272371],\"y\":[0.2336735614003945,0.04364569932861124,1.4780968551965302e-11,1.5310273241426612e-09,4.570294558740928e-08,1.4646902965133197e-09,1.2631143995466289e-07,2.2156470614849836e-09,1.0016042459387634e-10,8.205527807305832e-09,2.934740810880479e-10],\"type\":\"scatter\"},{\"line\":{\"color\":\"rgba(219, 64, 82, 1.0)\",\"dash\":\"solid\",\"shape\":\"linear\",\"width\":1.3},\"mode\":\"lines\",\"name\":\"SWEET POTATOES W\\u002f SYRUP CAN-6\\u002f10\",\"text\":\"\",\"x\":[0.07763578562840463,0.11645367844260696,0.13974441413112834,0.15527157125680927,0.17079872838249022,0.1863258855081711,0.20185304263385206,0.21738019975953296,0.2329073568852139,0.31054314251361853,0.6210862850272371],\"y\":[6.203267568583454e-10,4.79000280275278e-09,0.35331465223444103,0.35331461297472616,0.3533146507676563,0.353314522529359,0.3533123354017912,0.3340509046165732,0.4330143424422731,0.057686015291658635,0.0576829630687108],\"type\":\"scatter\"},{\"line\":{\"color\":\"rgba(0, 128, 128, 1.0)\",\"dash\":\"solid\",\"shape\":\"linear\",\"width\":1.3},\"mode\":\"lines\",\"name\":\"BEANS SMALL RED CAN-6\\u002f10\",\"text\":\"\",\"x\":[0.07763578562840463,0.11645367844260696,0.13974441413112834,0.15527157125680927,0.17079872838249022,0.1863258855081711,0.20185304263385206,0.21738019975953296,0.2329073568852139,0.31054314251361853,0.6210862850272371],\"y\":[1.4133482752339428e-09,1.0047916612511599e-10,1.0385657876764546e-10,3.645034845336314e-08,5.537726172839395e-07,1.426433932497627e-07,1.1544978275220025e-06,5.914971321833613e-08,8.48051588324806e-09,1.2843029779910646e-06,1.4431670504527547e-08],\"type\":\"scatter\"},{\"line\":{\"color\":\"rgba(255, 255, 51, 1.0)\",\"dash\":\"solid\",\"shape\":\"linear\",\"width\":1.3},\"mode\":\"lines\",\"name\":\"BEANS PINTO DRY PKG-12\\u002f2 LB\",\"text\":\"\",\"x\":[0.07763578562840463,0.11645367844260696,0.13974441413112834,0.15527157125680927,0.17079872838249022,0.1863258855081711,0.20185304263385206,0.21738019975953296,0.2329073568852139,0.31054314251361853,0.6210862850272371],\"y\":[2.0238741288861504,1.8398484697055835,1.7422122552640444,1.7422122237421027,1.7422117654273757,1.7422121135771835,1.74221125393963,1.739512367930495,1.6890541100545586,1.6877605472559938,1.6877620160743456],\"type\":\"scatter\"},{\"line\":{\"color\":\"rgba(128, 128, 0, 1.0)\",\"dash\":\"solid\",\"shape\":\"linear\",\"width\":1.3},\"mode\":\"lines\",\"name\":\"FLOUR WHOLE WHEAT BAG-50 LB\",\"text\":\"\",\"x\":[0.07763578562840463,0.11645367844260696,0.13974441413112834,0.15527157125680927,0.17079872838249022,0.1863258855081711,0.20185304263385206,0.21738019975953296,0.2329073568852139,0.31054314251361853,0.6210862850272371],\"y\":[0.28552407783661127,0.5400268810211108,0.7444814532875986,0.7444814513270147,0.7444813482055833,0.7444813583510066,0.7444813170383239,0.7036449973492613,0.5942671509552029,0.7058008158059763,0.7058024578608573],\"type\":\"scatter\"},{\"line\":{\"color\":\"rgba(251, 128, 114, 1.0)\",\"dash\":\"solid\",\"shape\":\"linear\",\"width\":1.3},\"mode\":\"lines\",\"name\":\"FLOUR BAKER HARD WHT BLCH-BULK\",\"text\":\"\",\"x\":[0.07763578562840463,0.11645367844260696,0.13974441413112834,0.15527157125680927,0.17079872838249022,0.1863258855081711,0.20185304263385206,0.21738019975953296,0.2329073568852139,0.31054314251361853,0.6210862850272371],\"y\":[7.751621256206086e-11,8.039696472264666e-12,5.715613732496335e-12,1.1549776472546816e-09,9.02341050850869e-09,2.6701005588366144e-09,4.7134063752800526e-08,7.459256977917938e-10,1.3416496087917699e-09,0.37334510667609133,0.3733470944051637],\"type\":\"scatter\"},{\"line\":{\"color\":\"rgba(128, 177, 211, 1.0)\",\"dash\":\"solid\",\"shape\":\"linear\",\"width\":1.3},\"mode\":\"lines\",\"name\":\"OIL VEGETABLE BTL-6\\u002f1 GAL\",\"text\":\"\",\"x\":[0.07763578562840463,0.11645367844260696,0.13974441413112834,0.15527157125680927,0.17079872838249022,0.1863258855081711,0.20185304263385206,0.21738019975953296,0.2329073568852139,0.31054314251361853,0.6210862850272371],\"y\":[1.024663817581439e-08,0.421058257812333,0.5025605944986984,0.5025605822750336,0.5025605664920989,0.5025602228793168,0.5025592100408801,0.4920780244116576,0.1959147270669898,0.4134515600960032,0.413453517815647],\"type\":\"scatter\"},{\"line\":{\"color\":\"rgba(128, 177, 211, 0.8999999999999999)\",\"dash\":\"solid\",\"shape\":\"linear\",\"width\":1.3},\"mode\":\"lines\",\"name\":\"FLOUR BREAD-BULK\",\"text\":\"\",\"x\":[0.07763578562840463,0.11645367844260696,0.13974441413112834,0.15527157125680927,0.17079872838249022,0.1863258855081711,0.20185304263385206,0.21738019975953296,0.2329073568852139,0.31054314251361853,0.6210862850272371],\"y\":[3.3421208431330256,2.570677565829337,0.9933890188417712,0.9933890106775783,0.9933889836291958,0.9933886044109269,0.9933855956753025,0.9141560484309851,0.6849800069727564,0.055613618850177016,0.05561077739254731],\"type\":\"scatter\"},{\"line\":{\"color\":\"rgba(255, 153, 51, 0.8999999999999999)\",\"dash\":\"solid\",\"shape\":\"linear\",\"width\":1.3},\"mode\":\"lines\",\"name\":\"K SUNFLOWER SEED BUTTER 6-5#'S\",\"text\":\"\",\"x\":[0.07763578562840463,0.11645367844260696,0.13974441413112834,0.15527157125680927,0.17079872838249022,0.1863258855081711,0.20185304263385206,0.21738019975953296,0.2329073568852139,0.31054314251361853,0.6210862850272371],\"y\":[0.29698775876196476,1.3603094028366706e-10,7.185304592027468e-12,5.0048559589752095e-09,1.3399873947183501e-08,2.5402148973928384e-07,7.560318751033103e-07,1.230550864595795e-07,0.21744349572788035,0.010998269597574061,0.010996629233791253],\"type\":\"scatter\"},{\"line\":{\"color\":\"rgba(55, 128, 191, 0.8999999999999999)\",\"dash\":\"solid\",\"shape\":\"linear\",\"width\":1.3},\"mode\":\"lines\",\"name\":\"POTATO FOR PROCESS INTO DEHY PRD-BULK\",\"text\":\"\",\"x\":[0.07763578562840463,0.11645367844260696,0.13974441413112834,0.15527157125680927,0.17079872838249022,0.1863258855081711,0.20185304263385206,0.21738019975953296,0.2329073568852139,0.31054314251361853,0.6210862850272371],\"y\":[0.7844642419598463,1.0800659299020154,2.32451507749367,2.3245149727143715,2.3245147343997927,2.324514666595432,2.3245087864222236,2.2582577607208605,2.400883996643691,1.3168350723600015,1.3168305219146963],\"type\":\"scatter\"},{\"line\":{\"color\":\"rgba(50, 171, 96, 0.8999999999999999)\",\"dash\":\"solid\",\"shape\":\"linear\",\"width\":1.3},\"mode\":\"lines\",\"name\":\"CHEESE NAT AMER FBD BARREL-500 LB(40800)\",\"text\":\"\",\"x\":[0.07763578562840463,0.11645367844260696,0.13974441413112834,0.15527157125680927,0.17079872838249022,0.1863258855081711,0.20185304263385206,0.21738019975953296,0.2329073568852139,0.31054314251361853,0.6210862850272371],\"y\":[1.5714240599005183e-10,0.3340329386687299,0.767315648895694,0.7673156427140582,0.7673156343993964,0.7673156983886797,0.7673160879207899,0.7837976255744047,0.8450016989902556,0.9514702249806675,0.9514707322329052],\"type\":\"scatter\"},{\"line\":{\"color\":\"rgba(128, 0, 128, 0.8999999999999999)\",\"dash\":\"solid\",\"shape\":\"linear\",\"width\":1.3},\"mode\":\"lines\",\"name\":\"BEANS PINTO DRY TOTE-2000 LB\",\"text\":\"\",\"x\":[0.07763578562840463,0.11645367844260696,0.13974441413112834,0.15527157125680927,0.17079872838249022,0.1863258855081711,0.20185304263385206,0.21738019975953296,0.2329073568852139,0.31054314251361853,0.6210862850272371],\"y\":[9.693078692510757e-11,1.0246986979568678e-11,1.2948369029645156e-11,2.0401728577412885e-09,6.174949191099198e-08,3.1831532155611433e-08,1.2802685709311914e-06,0.09920720928043283,0.15506677202793676,0.4151963931173896,0.4151966791633318],\"type\":\"scatter\"},{\"line\":{\"color\":\"rgba(219, 64, 82, 0.8999999999999999)\",\"dash\":\"solid\",\"shape\":\"linear\",\"width\":1.3},\"mode\":\"lines\",\"name\":\"SPINACH CHOPPED FRZ IQF CTN-20 LB (1902)\",\"text\":\"\",\"x\":[0.07763578562840463,0.11645367844260696,0.13974441413112834,0.15527157125680927,0.17079872838249022,0.1863258855081711,0.20185304263385206,0.21738019975953296,0.2329073568852139,0.31054314251361853,0.6210862850272371],\"y\":[0.12000833321520048,0.9616094036522457,0.444107723191363,0.4441077717992815,0.44410771899267515,0.4441078812271251,0.4441108416469755,0.4812478082989482,0.35026358949215347,1.033648008642745,1.033651783749559],\"type\":\"scatter\"},{\"line\":{\"color\":\"rgba(0, 128, 128, 0.8999999999999999)\",\"dash\":\"solid\",\"shape\":\"linear\",\"width\":1.3},\"mode\":\"lines\",\"name\":\"FISH AK POLLOCK STICKS BRD FRZ CTN-40 LB\",\"text\":\"\",\"x\":[0.07763578562840463,0.11645367844260696,0.13974441413112834,0.15527157125680927,0.17079872838249022,0.1863258855081711,0.20185304263385206,0.21738019975953296,0.2329073568852139,0.31054314251361853,0.6210862850272371],\"y\":[2.112317004119069e-11,9.647349933918123e-13,5.37751778168726e-13,1.4853431306589086e-10,8.41497049680095e-10,1.3238364008510172e-09,6.579946386526779e-09,3.5337387388217845e-10,3.059380722486486e-11,0.025672929066870194,0.025672457736851097],\"type\":\"scatter\"}],                        {\"legend\":{\"bgcolor\":\"#F5F6F9\",\"font\":{\"color\":\"#4D5663\"}},\"paper_bgcolor\":\"#F5F6F9\",\"plot_bgcolor\":\"#F5F6F9\",\"template\":{\"data\":{\"barpolar\":[{\"marker\":{\"line\":{\"color\":\"#E5ECF6\",\"width\":0.5},\"pattern\":{\"fillmode\":\"overlay\",\"size\":10,\"solidity\":0.2}},\"type\":\"barpolar\"}],\"bar\":[{\"error_x\":{\"color\":\"#2a3f5f\"},\"error_y\":{\"color\":\"#2a3f5f\"},\"marker\":{\"line\":{\"color\":\"#E5ECF6\",\"width\":0.5},\"pattern\":{\"fillmode\":\"overlay\",\"size\":10,\"solidity\":0.2}},\"type\":\"bar\"}],\"carpet\":[{\"aaxis\":{\"endlinecolor\":\"#2a3f5f\",\"gridcolor\":\"white\",\"linecolor\":\"white\",\"minorgridcolor\":\"white\",\"startlinecolor\":\"#2a3f5f\"},\"baxis\":{\"endlinecolor\":\"#2a3f5f\",\"gridcolor\":\"white\",\"linecolor\":\"white\",\"minorgridcolor\":\"white\",\"startlinecolor\":\"#2a3f5f\"},\"type\":\"carpet\"}],\"choropleth\":[{\"colorbar\":{\"outlinewidth\":0,\"ticks\":\"\"},\"type\":\"choropleth\"}],\"contourcarpet\":[{\"colorbar\":{\"outlinewidth\":0,\"ticks\":\"\"},\"type\":\"contourcarpet\"}],\"contour\":[{\"colorbar\":{\"outlinewidth\":0,\"ticks\":\"\"},\"colorscale\":[[0.0,\"#0d0887\"],[0.1111111111111111,\"#46039f\"],[0.2222222222222222,\"#7201a8\"],[0.3333333333333333,\"#9c179e\"],[0.4444444444444444,\"#bd3786\"],[0.5555555555555556,\"#d8576b\"],[0.6666666666666666,\"#ed7953\"],[0.7777777777777778,\"#fb9f3a\"],[0.8888888888888888,\"#fdca26\"],[1.0,\"#f0f921\"]],\"type\":\"contour\"}],\"heatmapgl\":[{\"colorbar\":{\"outlinewidth\":0,\"ticks\":\"\"},\"colorscale\":[[0.0,\"#0d0887\"],[0.1111111111111111,\"#46039f\"],[0.2222222222222222,\"#7201a8\"],[0.3333333333333333,\"#9c179e\"],[0.4444444444444444,\"#bd3786\"],[0.5555555555555556,\"#d8576b\"],[0.6666666666666666,\"#ed7953\"],[0.7777777777777778,\"#fb9f3a\"],[0.8888888888888888,\"#fdca26\"],[1.0,\"#f0f921\"]],\"type\":\"heatmapgl\"}],\"heatmap\":[{\"colorbar\":{\"outlinewidth\":0,\"ticks\":\"\"},\"colorscale\":[[0.0,\"#0d0887\"],[0.1111111111111111,\"#46039f\"],[0.2222222222222222,\"#7201a8\"],[0.3333333333333333,\"#9c179e\"],[0.4444444444444444,\"#bd3786\"],[0.5555555555555556,\"#d8576b\"],[0.6666666666666666,\"#ed7953\"],[0.7777777777777778,\"#fb9f3a\"],[0.8888888888888888,\"#fdca26\"],[1.0,\"#f0f921\"]],\"type\":\"heatmap\"}],\"histogram2dcontour\":[{\"colorbar\":{\"outlinewidth\":0,\"ticks\":\"\"},\"colorscale\":[[0.0,\"#0d0887\"],[0.1111111111111111,\"#46039f\"],[0.2222222222222222,\"#7201a8\"],[0.3333333333333333,\"#9c179e\"],[0.4444444444444444,\"#bd3786\"],[0.5555555555555556,\"#d8576b\"],[0.6666666666666666,\"#ed7953\"],[0.7777777777777778,\"#fb9f3a\"],[0.8888888888888888,\"#fdca26\"],[1.0,\"#f0f921\"]],\"type\":\"histogram2dcontour\"}],\"histogram2d\":[{\"colorbar\":{\"outlinewidth\":0,\"ticks\":\"\"},\"colorscale\":[[0.0,\"#0d0887\"],[0.1111111111111111,\"#46039f\"],[0.2222222222222222,\"#7201a8\"],[0.3333333333333333,\"#9c179e\"],[0.4444444444444444,\"#bd3786\"],[0.5555555555555556,\"#d8576b\"],[0.6666666666666666,\"#ed7953\"],[0.7777777777777778,\"#fb9f3a\"],[0.8888888888888888,\"#fdca26\"],[1.0,\"#f0f921\"]],\"type\":\"histogram2d\"}],\"histogram\":[{\"marker\":{\"pattern\":{\"fillmode\":\"overlay\",\"size\":10,\"solidity\":0.2}},\"type\":\"histogram\"}],\"mesh3d\":[{\"colorbar\":{\"outlinewidth\":0,\"ticks\":\"\"},\"type\":\"mesh3d\"}],\"parcoords\":[{\"line\":{\"colorbar\":{\"outlinewidth\":0,\"ticks\":\"\"}},\"type\":\"parcoords\"}],\"pie\":[{\"automargin\":true,\"type\":\"pie\"}],\"scatter3d\":[{\"line\":{\"colorbar\":{\"outlinewidth\":0,\"ticks\":\"\"}},\"marker\":{\"colorbar\":{\"outlinewidth\":0,\"ticks\":\"\"}},\"type\":\"scatter3d\"}],\"scattercarpet\":[{\"marker\":{\"colorbar\":{\"outlinewidth\":0,\"ticks\":\"\"}},\"type\":\"scattercarpet\"}],\"scattergeo\":[{\"marker\":{\"colorbar\":{\"outlinewidth\":0,\"ticks\":\"\"}},\"type\":\"scattergeo\"}],\"scattergl\":[{\"marker\":{\"colorbar\":{\"outlinewidth\":0,\"ticks\":\"\"}},\"type\":\"scattergl\"}],\"scattermapbox\":[{\"marker\":{\"colorbar\":{\"outlinewidth\":0,\"ticks\":\"\"}},\"type\":\"scattermapbox\"}],\"scatterpolargl\":[{\"marker\":{\"colorbar\":{\"outlinewidth\":0,\"ticks\":\"\"}},\"type\":\"scatterpolargl\"}],\"scatterpolar\":[{\"marker\":{\"colorbar\":{\"outlinewidth\":0,\"ticks\":\"\"}},\"type\":\"scatterpolar\"}],\"scatter\":[{\"fillpattern\":{\"fillmode\":\"overlay\",\"size\":10,\"solidity\":0.2},\"type\":\"scatter\"}],\"scatterternary\":[{\"marker\":{\"colorbar\":{\"outlinewidth\":0,\"ticks\":\"\"}},\"type\":\"scatterternary\"}],\"surface\":[{\"colorbar\":{\"outlinewidth\":0,\"ticks\":\"\"},\"colorscale\":[[0.0,\"#0d0887\"],[0.1111111111111111,\"#46039f\"],[0.2222222222222222,\"#7201a8\"],[0.3333333333333333,\"#9c179e\"],[0.4444444444444444,\"#bd3786\"],[0.5555555555555556,\"#d8576b\"],[0.6666666666666666,\"#ed7953\"],[0.7777777777777778,\"#fb9f3a\"],[0.8888888888888888,\"#fdca26\"],[1.0,\"#f0f921\"]],\"type\":\"surface\"}],\"table\":[{\"cells\":{\"fill\":{\"color\":\"#EBF0F8\"},\"line\":{\"color\":\"white\"}},\"header\":{\"fill\":{\"color\":\"#C8D4E3\"},\"line\":{\"color\":\"white\"}},\"type\":\"table\"}]},\"layout\":{\"annotationdefaults\":{\"arrowcolor\":\"#2a3f5f\",\"arrowhead\":0,\"arrowwidth\":1},\"autotypenumbers\":\"strict\",\"coloraxis\":{\"colorbar\":{\"outlinewidth\":0,\"ticks\":\"\"}},\"colorscale\":{\"diverging\":[[0,\"#8e0152\"],[0.1,\"#c51b7d\"],[0.2,\"#de77ae\"],[0.3,\"#f1b6da\"],[0.4,\"#fde0ef\"],[0.5,\"#f7f7f7\"],[0.6,\"#e6f5d0\"],[0.7,\"#b8e186\"],[0.8,\"#7fbc41\"],[0.9,\"#4d9221\"],[1,\"#276419\"]],\"sequential\":[[0.0,\"#0d0887\"],[0.1111111111111111,\"#46039f\"],[0.2222222222222222,\"#7201a8\"],[0.3333333333333333,\"#9c179e\"],[0.4444444444444444,\"#bd3786\"],[0.5555555555555556,\"#d8576b\"],[0.6666666666666666,\"#ed7953\"],[0.7777777777777778,\"#fb9f3a\"],[0.8888888888888888,\"#fdca26\"],[1.0,\"#f0f921\"]],\"sequentialminus\":[[0.0,\"#0d0887\"],[0.1111111111111111,\"#46039f\"],[0.2222222222222222,\"#7201a8\"],[0.3333333333333333,\"#9c179e\"],[0.4444444444444444,\"#bd3786\"],[0.5555555555555556,\"#d8576b\"],[0.6666666666666666,\"#ed7953\"],[0.7777777777777778,\"#fb9f3a\"],[0.8888888888888888,\"#fdca26\"],[1.0,\"#f0f921\"]]},\"colorway\":[\"#636efa\",\"#EF553B\",\"#00cc96\",\"#ab63fa\",\"#FFA15A\",\"#19d3f3\",\"#FF6692\",\"#B6E880\",\"#FF97FF\",\"#FECB52\"],\"font\":{\"color\":\"#2a3f5f\"},\"geo\":{\"bgcolor\":\"white\",\"lakecolor\":\"white\",\"landcolor\":\"#E5ECF6\",\"showlakes\":true,\"showland\":true,\"subunitcolor\":\"white\"},\"hoverlabel\":{\"align\":\"left\"},\"hovermode\":\"closest\",\"mapbox\":{\"style\":\"light\"},\"paper_bgcolor\":\"white\",\"plot_bgcolor\":\"#E5ECF6\",\"polar\":{\"angularaxis\":{\"gridcolor\":\"white\",\"linecolor\":\"white\",\"ticks\":\"\"},\"bgcolor\":\"#E5ECF6\",\"radialaxis\":{\"gridcolor\":\"white\",\"linecolor\":\"white\",\"ticks\":\"\"}},\"scene\":{\"xaxis\":{\"backgroundcolor\":\"#E5ECF6\",\"gridcolor\":\"white\",\"gridwidth\":2,\"linecolor\":\"white\",\"showbackground\":true,\"ticks\":\"\",\"zerolinecolor\":\"white\"},\"yaxis\":{\"backgroundcolor\":\"#E5ECF6\",\"gridcolor\":\"white\",\"gridwidth\":2,\"linecolor\":\"white\",\"showbackground\":true,\"ticks\":\"\",\"zerolinecolor\":\"white\"},\"zaxis\":{\"backgroundcolor\":\"#E5ECF6\",\"gridcolor\":\"white\",\"gridwidth\":2,\"linecolor\":\"white\",\"showbackground\":true,\"ticks\":\"\",\"zerolinecolor\":\"white\"}},\"shapedefaults\":{\"line\":{\"color\":\"#2a3f5f\"}},\"ternary\":{\"aaxis\":{\"gridcolor\":\"white\",\"linecolor\":\"white\",\"ticks\":\"\"},\"baxis\":{\"gridcolor\":\"white\",\"linecolor\":\"white\",\"ticks\":\"\"},\"bgcolor\":\"#E5ECF6\",\"caxis\":{\"gridcolor\":\"white\",\"linecolor\":\"white\",\"ticks\":\"\"}},\"title\":{\"x\":0.05},\"xaxis\":{\"automargin\":true,\"gridcolor\":\"white\",\"linecolor\":\"white\",\"ticks\":\"\",\"title\":{\"standoff\":15},\"zerolinecolor\":\"white\",\"zerolinewidth\":2},\"yaxis\":{\"automargin\":true,\"gridcolor\":\"white\",\"linecolor\":\"white\",\"ticks\":\"\",\"title\":{\"standoff\":15},\"zerolinecolor\":\"white\",\"zerolinewidth\":2}}},\"title\":{\"font\":{\"color\":\"#4D5663\"}},\"xaxis\":{\"gridcolor\":\"#E1E5ED\",\"showgrid\":true,\"tickfont\":{\"color\":\"#4D5663\"},\"title\":{\"font\":{\"color\":\"#4D5663\"},\"text\":\"EGGS WHOLE LIQ BULK -TANK Price\"},\"zerolinecolor\":\"#E1E5ED\"},\"yaxis\":{\"gridcolor\":\"#E1E5ED\",\"showgrid\":true,\"tickfont\":{\"color\":\"#4D5663\"},\"title\":{\"font\":{\"color\":\"#4D5663\"},\"text\":\"Hectograms\"},\"zerolinecolor\":\"#E1E5ED\"}},                        {\"showLink\": true, \"linkText\": \"Export to plot.ly\", \"plotlyServerURL\": \"https://plot.ly\", \"responsive\": true}                    ).then(function(){\n",
       "                            \n",
       "var gd = document.getElementById('9c589783-6e94-4cf5-a5d9-82be32920b16');\n",
       "var x = new MutationObserver(function (mutations, observer) {{\n",
       "        var display = window.getComputedStyle(gd).display;\n",
       "        if (!display || display === 'none') {{\n",
       "            console.log([gd, 'removed!']);\n",
       "            Plotly.purge(gd);\n",
       "            observer.disconnect();\n",
       "        }}\n",
       "}});\n",
       "\n",
       "// Listen for the removal of the full notebook cells\n",
       "var notebookContainer = gd.closest('#notebook-container');\n",
       "if (notebookContainer) {{\n",
       "    x.observe(notebookContainer, {childList: true});\n",
       "}}\n",
       "\n",
       "// Listen for the clearing of the current output cell\n",
       "var outputEl = gd.closest('.output');\n",
       "if (outputEl) {{\n",
       "    x.observe(outputEl, {childList: true});\n",
       "}}\n",
       "\n",
       "                        })                };                });            </script>        </div>"
      ]
     },
     "metadata": {},
     "output_type": "display_data"
    }
   ],
   "source": [
    "# import cufflinks as cf\n",
    "# cf.go_offline()\n",
    "\n",
    "ReferenceGood = 'EGGS WHOLE LIQ BULK -TANK'\n",
    "\n",
    "scale = [0.5,0.75,0.9,1.,1.1,1.2,1.3,1.4,1.5,2,4]\n",
    "\n",
    "cost0 = getPrices.solve_subsistence_problem(FoodNutrients,Prices,\n",
    "                                  diet_min[group],diet_max[group],max_weight=12,tol=tol).fun\n",
    "\n",
    "my_p = Prices.copy()\n",
    "\n",
    "diet = {}\n",
    "for s in scale:\n",
    "\n",
    "    my_p[ReferenceGood] = Prices[ReferenceGood]*s\n",
    "    result = getPrices.solve_subsistence_problem(FoodNutrients,my_p,\n",
    "                                       diet_min[group],diet_max[group],max_weight=12,tol=tol)\n",
    "    diet[my_p[ReferenceGood]] = result.diet\n",
    "\n",
    "Diet_response = pd.DataFrame(diet).T\n",
    "Diet_response.index.name = '%s Price' % ReferenceGood\n",
    "\n",
    "Diet_response.reset_index(inplace=True)\n",
    "\n",
    "# Get rid of units for index (cufflinks chokes)\n",
    "Diet_response['%s Price' % ReferenceGood] = Diet_response['%s Price' % ReferenceGood].apply(lambda x: x.magnitude)\n",
    "\n",
    "Diet_response = Diet_response.set_index('%s Price' % ReferenceGood)\n",
    "\n",
    "# Just look at goods consumed in quantities greater than error tolerance\n",
    "Diet_response.loc[:,(Diet_response>tol).sum()>0].iplot(xTitle='%s Price' % ReferenceGood,yTitle='Hectograms')"
   ]
  }
 ],
 "metadata": {
  "kernelspec": {
   "display_name": "Python 3 (ipykernel)",
   "language": "python",
   "name": "python3"
  },
  "language_info": {
   "codemirror_mode": {
    "name": "ipython",
    "version": 3
   },
   "file_extension": ".py",
   "mimetype": "text/x-python",
   "name": "python",
   "nbconvert_exporter": "python",
   "pygments_lexer": "ipython3",
   "version": "3.11.6"
  },
  "org": null
 },
 "nbformat": 4,
 "nbformat_minor": 1
}
