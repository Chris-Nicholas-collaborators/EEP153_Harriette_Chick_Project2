{
 "cells": [
  {
   "cell_type": "markdown",
   "metadata": {},
   "source": [
    "Please first run:\n",
    "\n",
    "%make install\n",
    "\n",
    "in a terminal in this directory, and configure your runtime (VSCode, datahub, etc) to use the resultant virtual Python environment, or else uncomment the lines in the following cell"
   ]
  },
  {
   "cell_type": "code",
   "execution_count": 1,
   "metadata": {},
   "outputs": [],
   "source": [
    "# pip install -r requirements.txt"
   ]
  },
  {
   "cell_type": "code",
   "execution_count": 2,
   "metadata": {},
   "outputs": [],
   "source": [
    "# API key for Gov; substitute your own!\n",
    "apikey = \"rfaOy1m0PNZUGET08nKJvgbOrtpJaP86d8yt6RYh\""
   ]
  },
  {
   "cell_type": "code",
   "execution_count": 3,
   "metadata": {},
   "outputs": [],
   "source": [
    "import sys\n",
    "sys.path.append('./src')\n",
    "from team_harriette_chick import getPrices"
   ]
  },
  {
   "cell_type": "code",
   "execution_count": 4,
   "metadata": {},
   "outputs": [
    {
     "name": "stdout",
     "output_type": "stream",
     "text": [
      "Key available for students@eep153.iam.gserviceaccount.com.\n"
     ]
    },
    {
     "name": "stderr",
     "output_type": "stream",
     "text": [
      "/home/cgn/src/.venv/lib/python3.10/site-packages/eep153_tools/sheets.py:150: FutureWarning: errors='ignore' is deprecated and will raise in a future version. Use to_numeric without passing `errors` and catch exceptions explicitly instead\n",
      "  D[w.title]=df.apply(lambda x: pd.to_numeric(x,errors='ignore'))\n"
     ]
    },
    {
     "name": "stdout",
     "output_type": "stream",
     "text": [
      "count: 1 CHEESE CHED WHT SHRED BAG-6/5 LB\n",
      "count: 2 CHEESE PROCESS YEL SLC LVS-6/5 LB\n",
      "count: 3 CHEESE MOZ LM PART SKM SHRD FRZ BOX-30LB\n",
      "count: 4 CHEESE MOZ LM PART SKIM FRZ LVS-8/6 LB\n",
      "count: 5 EGGS WHOLE FRZ CTN-6/5 LB\n",
      "count: 6 EGGS WHOLE LIQ BULK -TANK\n",
      "count: 7 CHICKEN LEGS CHILLED -BULK\n",
      "count: 8 CHICKEN FAJITA STRIPS CTN-30 LB\n",
      "count: 9 TURKEY BREAST DELI FRZ CTN-40 LB\n",
      "count: 10 TURKEY BREAST SMKD DELI FRZ CTN-40 LB\n",
      "count: 11 TURKEY ROASTS FRZ CTN-32-48 LB\n",
      "count: 12 TURKEY HAMS SMKD FRZ CTN-40 LB\n",
      "count: 13 BEEF CAN-24/24 OZ\n",
      "count: 14 BEEF CRUMBLES W/SPP PKG-4/10 LB\n",
      "count: 15 PORK CAN-24/24 OZ\n",
      "count: 16 BEEF COARSE GROUND FRZ CTN-60 LB\n",
      "count: 17 BEEF FINE GROUND FRZ CTN-40 LB\n",
      "count: 18 BEEF PATTY LEAN FRZ CTN-40 LB\n",
      "count: 19 PORK ROAST LEG FRZ CTN-32-40 LB\n",
      "count: 20 PORK HAM WATERAD SLC FRZ PKG-8/5 LB\n",
      "count: 21 PORK PICNIC BNLS FRZ CTN-60 LB\n",
      "count: 22 CATFISH STRIPS BRD OVN RDY PKG-4/10 LB\n",
      "count: 23 APPLE SLICES CAN-6/10\n",
      "count: 24 MIXED FRUIT EX LT CAN-6/10\n",
      "count: 25 APRICOTS DICED PEELED EX LT CAN-6/10\n",
      "count: 26 PEACHES CLING SLICES EX LT CAN-6/10\n",
      "count: 27 PEACHES CLING DICED EX LT  CAN-6/10\n",
      "count: 28 PEARS SLICES EX LT CAN-6/10\n",
      "count: 29 PEARS DICED EX LT CAN-6/10\n",
      "count: 30 PEARS HALVES EX LT CAN-6/10\n",
      "count: 31 PEACHES FREESTONE SLICES FRZ CTN-12/2 LB\n",
      "count: 32 PEACH FREESTONE DICED FRZ CUP-96/4.4 OZ\n",
      "count: 33 BLUEBERRY WILD FRZ CTN-8/3 LB\n",
      "count: 34 STRAWBERRY SLICES FRZ CTN-30 LB\n",
      "count: 35 STRAWBERRY FRZ CUP-96/4.5 OZ\n",
      "count: 36 APPLE SLICES FRZ CTN-30 LB\n",
      "count: 37 APRICOT FRZ CUP-96/4.5 OZ\n",
      "count: 38 ORANGE JUICE SINGLE CTN-70/4 OZ\n",
      "count: 39 RAISINS BOX-144/1.33 OZ\n",
      "count: 40 CHERRIES DRIED PKG-4/4 LB\n",
      "count: 41 BEANS GREEN CAN-6/10\n",
      "count: 42 CORN WHOLE KERNEL(LIQ) CAN-6/10\n",
      "count: 43 PEAS CAN-6/10\n",
      "count: 44 SWEET POTATOES W/ SYRUP CAN-6/10\n",
      "count: 45 TOMATO PASTE CAN-6/10\n",
      "count: 46 TOMATO DICED CAN-6/10\n",
      "count: 47 TOMATO SALSA CAN-6/10\n",
      "count: 48 TOMATO SAUCE CAN-6/10\n",
      "count: 49 SPAGHETTI SAUCE MEATLESS CAN-6/10\n",
      "count: 50 CORN FRZ CTN-30 LB\n",
      "count: 51 PEAS GREEN FRZ CTN-30 LB\n",
      "count: 52 BEANS GREEN FRZ CTN-30 LB\n",
      "count: 53 CARROTS FRZ CTN-30 LB\n",
      "count: 54 POTATOES WEDGE FRZ PKG-6/5 LB\n",
      "count: 55 POTATOES OVENS FRY PKG-6/5 LB\n",
      "count: 56 BEANS BLACK TURTLE CAN-6/10\n",
      "count: 57 BEANS GARBANZO CAN-6/10\n",
      "count: 58 BEANS REFRIED CAN-6/10\n",
      "count: 59 BEANS VEGETARIAN CAN-6/10\n",
      "count: 60 BEANS PINTO CAN-6/10\n",
      "count: 61 BEANS SMALL RED CAN-6/10\n",
      "count: 62 BEANS BLACKEYE CAN-6/10\n",
      "count: 63 BEANS PINK CAN-6/10\n",
      "count: 64 BEANS RED KIDNEY CAN-6/10\n",
      "count: 65 BEANS BABY LIMA CAN-6/10\n",
      "count: 66 BEANS GREAT NORTHERN CAN-6/10\n",
      "count: 67 BEANS PINTO DRY PKG-12/2 LB\n",
      "count: 68 PEANUT BUTTER SMOOTH JAR-6/5 LB\n",
      "count: 69 FLOUR ALL PURP ENRCH BLCH BAG-8/5 LB\n",
      "count: 70 FLOUR WHOLE WHEAT BAG-50 LB\n",
      "count: 71 FLOUR BAKER HARD WHT BLCH-BULK\n",
      "count: 72 FLOUR BAKER HARD WHT UNBLCH-BULK\n",
      "count: 73 PASTA SPAGHETTI CTN-20 LB\n",
      "count: 74 OIL VEGETABLE BTL-6/1 GAL\n",
      "count: 75 OATS ROLLED TUBE-12/42 OZ\n",
      "count: 76 RICE US#1 LONG GRAIN PARBOILED BAG-25 LB\n",
      "count: 77 RICE BRN US#1 LONG PARBOILED PKG-24/2 LB\n",
      "count: 78 APPLES RED DELICIOUS FRESH CTN-40 LB\n",
      "count: 79 MILK 1% MILKFAT UHT 2640 BOX-27/8 FL OZ\n",
      "count: 80 CHICKEN BONED CAN-12/50 OZ\n",
      "count: 81 FLOUR BREAD-BULK\n",
      "count: 82 SUNFLOWER SEED BUTTER 6-5#'S\n",
      "count: 83 RICE BRN US#1 LONG PARBOILED BAG-25 LB\n",
      "count: 84 K APPLESAUCE CAN-6/10\n",
      "count: 85 K PEACHES CLING CAN-6/10\n",
      "count: 86 K CORN WHOLE KERNEL(LIQ) CAN-6/10\n",
      "count: 87 K BEANS GREAT NORTHERN DRY BAG-25 LB\n",
      "count: 88 K SUNFLOWER SEED BUTTER 6-5#'S\n",
      "count: 89 CHICKEN OVEN ROASTED FRZ 8 PC CTN-30 LB\n",
      "count: 90 K TOMATO SAUCE CAN-6/10\n",
      "count: 91 FRUIT MIX DRIED PKG-5/5 LB\n",
      "count: 92 SPAGHETTI SAUCE MEATLESS POUCH-6/106 OZ\n",
      "count: 93 TOMATO SALSA POUCH-6/106 OZ\n",
      "count: 94 TOMATO SAUCE POUCH-6/106 OZ\n",
      "count: 95 FLOUR WHITE WHOLE WHEAT BLEND BAG-25 LB\n",
      "count: 96 POTATO FOR PROCESS INTO DEHY PRD-BULK\n",
      "count: 97 CHEESE NAT AMER FBD BARREL-500 LB(40800)\n",
      "count: 98 CHEESE MOZ LM PT SKM UNFZ PROC PK(41125)\n",
      "count: 99 CHEESE CHED WHT BLOCK-40 LB (40800)\n",
      "count: 100 BEEF 100% PTY 85/15 FRZ 2.0MMA CTN-40 LB\n",
      "count: 101 APPLESAUCE CUP-96/4.5\n",
      "count: 102 BEANS PINTO DRY TOTE-2000 LB\n",
      "count: 103 PANCAKES WHOLE WHEAT FZN-144 COUNT\n",
      "count: 104 TORTILLA WHOLE WHEAT FZN 8\" CTN-12/24\n",
      "count: 105 CHEESE MOZ LM PT SKM STRING BOX-360/1 OZ\n",
      "count: 106 YOGURT HI PROTEIN VANILLA TUB-6/32 OZ\n",
      "count: 107 YOGURT HI PROTEIN BLUEBERRY CUP-24/4 OZ\n",
      "count: 108 YOGURT HI PROTEIN STRAWBERRY CUP-24/4 OZ\n",
      "count: 109 YOGURT HI PROTEIN VANILLA CUP-24/4 OZ\n",
      "count: 110 SPINACH CHOPPED FRZ IQF CTN-20 LB (1902)\n",
      "count: 111 CHICKEN STRIPS FRZ CTN-30 LB\n",
      "count: 112 BROCCOLI FRZ CTN-30 LB\n",
      "count: 113 CARROTS DICED FRZ CTN-30 LB\n",
      "count: 114 FLOUR HIGH GLUTEN BAG-50 LB\n",
      "count: 115 K BEANS GARBANZO CAN-6/10\n",
      "count: 116 WHOLE GRAIN BLEND MACARONI CTN-20 LB\n",
      "count: 117 WHOLE GRAIN BLEND ROTINI MAC CTN-20 LB\n",
      "count: 118 WHOLE GRAIN BLEND SPAGHETTI CTN-20 LB\n",
      "count: 119 WHOLE GRAIN BLEND PENNE CTN-2/10 LB\n",
      "count: 120 APPLESAUCE UNSWEETENED CAN-6/10\n",
      "count: 121 APPLES GRANNY SMITH FRESH CTN-40 LB\n",
      "count: 122 TURKEY BREAST DELI SLICED FRZ PKG-8/5 LB\n",
      "count: 123 SWEET POTATOES CHUNK FRZ PKG-6/5 LB\n",
      "count: 124 FISH AK PLCK FRZ BULK CTN-49.5 LB\n",
      "count: 125 BLUEBERRY HIGHBUSH FRZ CTN-12/2.5 LB\n",
      "count: 126 BLUEBERRY HIGHBUSH FRZ CTN-30 LB\n",
      "count: 127 K OIL VEGETABLE BTL-6/1 GAL\n",
      "count: 128 ORANGE JUICE SINGLE FRZ CUP-96/4 OZ\n",
      "count: 129 PEANUTS RAW SHELLED-BULK 44000 LB\n",
      "count: 130 BEEF PATTY CKD FRZ 2.0 MMA CTN-40 LB\n",
      "count: 131 SWEET POTATOES CRINKLE FRZ PKG-6/5 LB\n",
      "count: 132 CRANBERRIES DRIED PKG-300/1.16 OZ\n",
      "count: 133 PEPPERS/ONION BLEND FRZ CTN-30 LB\n",
      "count: 134 PORK PULLED CKD PKG-8/5 LB\n",
      "count: 135 PEAS GREEN FRZ CTN-12/2.5 LB\n",
      "count: 136 POTATOES DICED FRZ PKG-6/5 LB\n",
      "count: 137 EGGS WHOLE FRZ CTN-12/2 LB\n",
      "count: 138 STRAWBERRY WHOLE UNSWT IQF CTN-6/5 LB\n",
      "count: 139 FISH AK POLLOCK STICKS BRD FRZ CTN-40 LB\n",
      "count: 140 PEANUT BUTTER SMOOTH PKG-120/1.1 OZ\n",
      "count: 141 FLOUR WHITE WHOLE WHEAT 100% BAG-50 LB\n",
      "count: 142 FLOUR WHITE WHOLE WHEAT 100% BAG-8/5 LB\n",
      "count: 143 MIXED BERRY FRZ CUP-96/4.OZ\n",
      "count: 144 STRAWBERRY SLICES UNSWT IQF CTN-6/5 LB\n",
      "count: 145 CHERRIES SWEET PITTED IQF BAG-12/2.5 LB\n",
      "count: 146 TURKEY BREAST SMKD SLC FRZ PKG-8/5 LB\n",
      "count: 147 TURKEY HAM SMKD SLC FRZ PKG-8/5 LB\n",
      "count: 148 CHICKEN FILLETS UNBRD FRZ CTN-30 LB\n",
      "count: 149 EGG PATTY ROUND FRZ CTN-25 LB\n",
      "count: 150 CARROTS DICED FRZ CTN-12/2 LB\n",
      "count: 151 CORN FRZ CTN-12/2.5 LB\n",
      "count: 152 BEANS GREEN FRZ CTN-12/2 LB\n",
      "count: 153 CHEESE CHED YEL 0.75 OZ SLICE PKG-12 LB\n",
      "count: 154 CHEESE PEPPER JACK SHRED-PKG 4/5 LB\n",
      "count: 155 MIXED VEGETABLES FRZ CTN-6/5LB\n",
      "count: 156 CHICKEN CUT UP FRZ CTN-40 LB\n",
      "count: 157 K CHICKEN CUT UP FRZ CTN-40 LB\n",
      "count: 158 CHERRIES DRIED TART PKG-250/1.36 OZ\n",
      "count: 159 CHICKEN LARGE CHILLED -BULK\n",
      "count: 160 CHICKEN LARGE CHILLED -BULK\n",
      "count: 161 TURKEY CHILLED -BULK\n"
     ]
    },
    {
     "name": "stderr",
     "output_type": "stream",
     "text": [
      "/home/cgn/src/.venv/lib/python3.10/site-packages/pandas/core/dtypes/cast.py:1598: UnitStrippedWarning: The unit of the quantity is stripped when downcasting to ndarray.\n",
      "  result[:] = values\n"
     ]
    },
    {
     "name": "stdout",
     "output_type": "stream",
     "text": [
      "Cost of diet for F 9-13 is $1.13 per day.\n",
      "\n",
      "\n",
      "Diet (in 100s of grams or milliliters):\n",
      "EGGS WHOLE LIQ BULK -TANK                   0.658869\n",
      "SWEET POTATOES W/ SYRUP CAN-6/10            0.353313\n",
      "BEANS PINTO DRY PKG-12/2 LB                 1.742213\n",
      "FLOUR WHOLE WHEAT BAG-50 LB                 0.744481\n",
      "OIL VEGETABLE BTL-6/1 GAL                   0.502560\n",
      "FLOUR BREAD-BULK                            0.993389\n",
      "POTATO FOR PROCESS INTO DEHY PRD-BULK       2.324508\n",
      "CHEESE NAT AMER FBD BARREL-500 LB(40800)    0.767315\n",
      "SPINACH CHOPPED FRZ IQF CTN-20 LB (1902)    0.444109\n",
      "dtype: float64\n",
      "\n",
      "\n",
      "With the following nutritional outcomes of interest:\n",
      "                                    Outcome  Recommendation\n",
      "Nutrition                                                  \n",
      "Energy                          2593.867720          1600.0\n",
      "Protein                           89.412352            34.0\n",
      "Fiber, total dietary              22.400001            22.4\n",
      "Folate, DFE                      300.000265           300.0\n",
      "Calcium, Ca                     1300.000009          1300.0\n",
      "Carbohydrate, by difference      165.957114           130.0\n",
      "Iron, Fe                          18.885665             8.0\n",
      "Magnesium, Mg                    556.987678           240.0\n",
      "Niacin                            12.589367            12.0\n",
      "Phosphorus, P                   1953.928383          1250.0\n",
      "Potassium, K                    4500.000219          4500.0\n",
      "Riboflavin                         0.995796             0.9\n",
      "Thiamin                            1.233998             0.9\n",
      "Vitamin A, RAE                   600.000008           600.0\n",
      "Vitamin B-12                       1.800000             1.8\n",
      "Vitamin B-6                        1.195012             1.0\n",
      "Vitamin C, total ascorbic acid    45.000002            45.0\n",
      "Vitamin E (alpha-tocopherol)      11.000000            11.0\n",
      "Vitamin K (phylloquinone)        273.574965            60.0\n",
      "Zinc, Zn                          12.831044             8.0\n",
      "Sodium, Na                      2199.998737          2200.0\n",
      "Energy                          2593.867720          2800.0\n",
      "\n",
      "\n",
      "Constraining nutrients are:\n",
      "['Fiber, total dietary', 'Calcium, Ca', 'Vitamin A, RAE', 'Vitamin B-12', 'Vitamin C, total ascorbic acid', 'Vitamin E (alpha-tocopherol)']\n"
     ]
    }
   ],
   "source": [
    "import pandas as pd\n",
    "import fooddatacentral as fdc\n",
    "import warnings\n",
    "import pandas as pd\n",
    "import numpy as np\n",
    "from eep153_tools.sheets import read_sheets\n",
    "from  scipy.optimize import linprog as lp\n",
    "import numpy as np\n",
    "import warnings\n",
    "\n",
    "bulk_prices_w_lbs = pd.read_csv(\"data/bulk_prices.tsv\", sep='\\t')\n",
    "\n",
    "apikey = \"rfaOy1m0PNZUGET08nKJvgbOrtpJaP86d8yt6RYh\"\n",
    "\n",
    "\n",
    "# get DRIs\n",
    "DRI_url = \"https://docs.google.com/spreadsheets/d/1y95IsQ4HKspPW3HHDtH7QMtlDA66IUsCHJLutVL-MMc/\"\n",
    "DRIs = read_sheets(DRI_url)\n",
    "\n",
    "# Define *minimums*\n",
    "diet_min = DRIs['diet_minimums'].set_index('Nutrition')\n",
    "# Define *maximums*\n",
    "diet_max = DRIs['diet_maximums'].set_index('Nutrition')\n",
    "\n",
    "D = {}\n",
    "count = 0\n",
    "food_names = bulk_prices_w_lbs.Material_Descr.tolist()\n",
    "for food_name in food_names:\n",
    "    try:\n",
    "        fdc_id = bulk_prices_w_lbs.loc[bulk_prices_w_lbs.Material_Descr==food_name,:].FDC_ID\n",
    "        int_fdcid = int(fdc_id[count])\n",
    "        count+=1\n",
    "        D[food_name] = fdc.nutrients(apikey,int_fdcid).Quantity\n",
    "        print(f'count: {count} {food_name}')\n",
    "    except AttributeError:\n",
    "        warnings.warn(\"Couldn't find FDC Code %s for food %s.\" % (food_name,int_fdcid))\n",
    "    except ValueError:\n",
    "        warnings.warn(f\"No code for food {food_name}\")\n",
    "    except Exception as ex:\n",
    "        warnings.warn(f\"something seriously wrong for {food_name}  {ex}\")\n",
    "\n",
    "FoodNutrients = pd.DataFrame(D,dtype=float)\n",
    "\n",
    "FoodNutrients = pd.DataFrame(D,dtype=float)\n",
    "\n",
    "# all items are 1 pound\n",
    "bulk_prices_w_lbs['FDC Quantity'] = bulk_prices_w_lbs[['Quantity','BaseUoM']].T.apply(lambda x : fdc.units(x['Quantity'],x['BaseUoM']))\n",
    "\n",
    "bulk_prices_w_lbs['FDC Price'] = bulk_prices_w_lbs['Average_Price']/bulk_prices_w_lbs['FDC Quantity']\n",
    "\n",
    "bulk_prices_w_lbs.dropna(how='any')\n",
    "\n",
    "# To use minimum price observed\n",
    "Prices = bulk_prices_w_lbs.groupby('Material_Descr',sort=False)['FDC Price'].min()\n",
    "\n",
    "\n",
    "# our target group\n",
    "group = 'F 9-13'\n",
    "# tolerance\n",
    "tol = 1e-6\n",
    "\n",
    "result = getPrices.solve_subsistence_problem(FoodNutrients,Prices,diet_min[group],diet_max[group],tol=tol)\n",
    "\n",
    "print(\"Cost of diet for %s is $%4.2f per day.\\n\" % (group,result.fun))\n",
    "\n",
    "# Put back into nice series\n",
    "diet = result.diet\n",
    "\n",
    "print(\"\\nDiet (in 100s of grams or milliliters):\")\n",
    "print(diet[diet >= tol])  # Drop items with quantities less than precision of calculation.\n",
    "print()\n",
    "\n",
    "tab = pd.DataFrame({\"Outcome\":np.abs(result.A).dot(diet),\"Recommendation\":np.abs(result.b)})\n",
    "print(\"\\nWith the following nutritional outcomes of interest:\")\n",
    "print(tab)\n",
    "print()\n",
    "\n",
    "print(\"\\nConstraining nutrients are:\")\n",
    "excess = tab.diff(axis=1).iloc[:,1]\n",
    "print(excess.loc[np.abs(excess) < tol*100].index.tolist())\n",
    "\n"
   ]
  },
  {
   "cell_type": "markdown",
   "metadata": {},
   "source": [
    "### Look up nutritional information for foods\n",
    "\n"
   ]
  },
  {
   "cell_type": "markdown",
   "metadata": {},
   "source": [
    "## Effects of Price Changes on Subsistence Diet Cost\n",
    "\n"
   ]
  },
  {
   "cell_type": "markdown",
   "metadata": {},
   "source": [
    "As prices change, we should expect the minimum cost diet to also\n",
    "  change.  The code below creates a graph which changes prices away\n",
    "  from the \\`base&rsquo; case one food at a time, and plots changes in total\n",
    "  diet cost.\n",
    "\n"
   ]
  },
  {
   "cell_type": "code",
   "execution_count": null,
   "metadata": {},
   "outputs": [],
   "source": [
    "import cufflinks as cf\n",
    "cf.go_offline()\n",
    "\n",
    "scale = [.5,.6,.7,.8,.9,1.,1.1,1.2,1.3,1.4,1.5]\n",
    "\n",
    "cost0 = getPrices.solve_subsistence_problem(FoodNutrients,Prices,diet_min[group],diet_max[group],tol=tol).fun\n",
    "\n",
    "Price_response={}\n",
    "for s in scale:\n",
    "    cost = {}\n",
    "    for i,p in enumerate(Prices):\n",
    "        my_p = Prices.copy()\n",
    "        my_p[i] = p*s\n",
    "        result = getPrices.solve_subsistence_problem(FoodNutrients,my_p,diet_min[group],diet_max[group],tol=tol)\n",
    "        cost[Prices.index[i]] = np.log(result.fun/cost0)\n",
    "    Price_response[np.log(s)] = cost\n",
    "\n",
    "Price_response = pd.DataFrame(Price_response).T\n",
    "Price_response.iplot(xTitle='change in log price',yTitle='change in log cost')"
   ]
  },
  {
   "cell_type": "markdown",
   "metadata": {},
   "source": [
    "The code below creates a graph which changes prices just for *one* food,\n",
    "  and traces out the effects of this change on all the foods consumed.\n",
    "\n"
   ]
  },
  {
   "cell_type": "code",
   "execution_count": 9,
   "metadata": {},
   "outputs": [
    {
     "name": "stderr",
     "output_type": "stream",
     "text": [
      "/home/cgn/src/.venv/lib/python3.10/site-packages/pandas/core/dtypes/cast.py:1598: UnitStrippedWarning:\n",
      "\n",
      "The unit of the quantity is stripped when downcasting to ndarray.\n",
      "\n"
     ]
    },
    {
     "data": {
      "application/vnd.plotly.v1+json": {
       "config": {
        "linkText": "Export to plot.ly",
        "plotlyServerURL": "https://plot.ly",
        "showLink": true
       },
       "data": [
        {
         "line": {
          "color": "rgba(255, 153, 51, 1.0)",
          "dash": "solid",
          "shape": "linear",
          "width": 1.3
         },
         "mode": "lines",
         "name": "CHEESE CHED WHT SHRED BAG-6/5 LB",
         "text": "",
         "type": "scatter",
         "x": [
          0.07763578562840463,
          0.11645367844260696,
          0.13974441413112834,
          0.15527157125680927,
          0.17079872838249022,
          0.1863258855081711,
          0.20185304263385206,
          0.21738019975953296,
          0.2329073568852139,
          0.31054314251361853,
          0.6210862850272371
         ],
         "y": [
          0.10079036397585017,
          2.0640661212190684e-11,
          4.0611649382998994e-11,
          4.524012047234376e-8,
          9.136627780713926e-10,
          1.233394177152111e-10,
          1.430675569180483e-9,
          2.0652407379906895e-10,
          8.486270361836117e-9,
          1.569248904831955e-8,
          8.756453523946647e-8
         ]
        },
        {
         "line": {
          "color": "rgba(55, 128, 191, 1.0)",
          "dash": "solid",
          "shape": "linear",
          "width": 1.3
         },
         "mode": "lines",
         "name": "EGGS WHOLE LIQ BULK -TANK",
         "text": "",
         "type": "scatter",
         "x": [
          0.07763578562840463,
          0.11645367844260696,
          0.13974441413112834,
          0.15527157125680927,
          0.17079872838249022,
          0.1863258855081711,
          0.20185304263385206,
          0.21738019975953296,
          0.2329073568852139,
          0.31054314251361853,
          0.6210862850272371
         ],
         "y": [
          2.9677100970124854,
          1.2833054707454095,
          0.6588686374578718,
          0.6588691443749732,
          0.6588687831363467,
          0.658868621075894,
          0.6588685647399617,
          0.6137175630682733,
          0.5134634911523988,
          4.723785773463526e-8,
          1.751132449633584e-8
         ]
        },
        {
         "line": {
          "color": "rgba(50, 171, 96, 1.0)",
          "dash": "solid",
          "shape": "linear",
          "width": 1.3
         },
         "mode": "lines",
         "name": "CHICKEN LEGS CHILLED -BULK",
         "text": "",
         "type": "scatter",
         "x": [
          0.07763578562840463,
          0.11645367844260696,
          0.13974441413112834,
          0.15527157125680927,
          0.17079872838249022,
          0.1863258855081711,
          0.20185304263385206,
          0.21738019975953296,
          0.2329073568852139,
          0.31054314251361853,
          0.6210862850272371
         ],
         "y": [
          2.3050676076609484e-9,
          8.134402358713763e-12,
          3.399500999486481e-11,
          2.8235767755664066e-8,
          3.285167735512476e-9,
          1.3911079781970555e-10,
          1.5568299939582886e-9,
          2.3093799417834073e-10,
          1.9654916904841205e-8,
          0.4752069360942582,
          0.4752033611625432
         ]
        },
        {
         "line": {
          "color": "rgba(128, 0, 128, 1.0)",
          "dash": "solid",
          "shape": "linear",
          "width": 1.3
         },
         "mode": "lines",
         "name": "APPLE SLICES CAN-6/10",
         "text": "",
         "type": "scatter",
         "x": [
          0.07763578562840463,
          0.11645367844260696,
          0.13974441413112834,
          0.15527157125680927,
          0.17079872838249022,
          0.1863258855081711,
          0.20185304263385206,
          0.21738019975953296,
          0.2329073568852139,
          0.31054314251361853,
          0.6210862850272371
         ],
         "y": [
          0.23367342140999733,
          0.043645699283592944,
          5.9020761748877205e-9,
          3.634436539320371e-7,
          1.489276097982575e-7,
          3.5167239499032695e-11,
          1.3874314881078685e-9,
          1.1225128903998194e-10,
          1.2148573568399508e-8,
          2.5708868420668127e-8,
          3.0351515787633955e-8
         ]
        },
        {
         "line": {
          "color": "rgba(219, 64, 82, 1.0)",
          "dash": "solid",
          "shape": "linear",
          "width": 1.3
         },
         "mode": "lines",
         "name": "SWEET POTATOES W/ SYRUP CAN-6/10",
         "text": "",
         "type": "scatter",
         "x": [
          0.07763578562840463,
          0.11645367844260696,
          0.13974441413112834,
          0.15527157125680927,
          0.17079872838249022,
          0.1863258855081711,
          0.20185304263385206,
          0.21738019975953296,
          0.2329073568852139,
          0.31054314251361853,
          0.6210862850272371
         ],
         "y": [
          5.5452826236518636e-8,
          4.427021721052344e-9,
          0.35331467662731675,
          0.3533133052310922,
          0.35331513061494124,
          0.35331465260434947,
          0.35331447162878293,
          0.33405089262552956,
          0.43301380209300094,
          0.057683953242936944,
          0.0576880973272561
         ]
        },
        {
         "line": {
          "color": "rgba(0, 128, 128, 1.0)",
          "dash": "solid",
          "shape": "linear",
          "width": 1.3
         },
         "mode": "lines",
         "name": "BEANS SMALL RED CAN-6/10",
         "text": "",
         "type": "scatter",
         "x": [
          0.07763578562840463,
          0.11645367844260696,
          0.13974441413112834,
          0.15527157125680927,
          0.17079872838249022,
          0.1863258855081711,
          0.20185304263385206,
          0.21738019975953296,
          0.2329073568852139,
          0.31054314251361853,
          0.6210862850272371
         ],
         "y": [
          8.21777134078246e-8,
          1.7872618100902056e-10,
          1.1603089587443723e-9,
          7.098084845696052e-7,
          1.9168392303653382e-7,
          6.011992352283342e-9,
          9.956293438120893e-8,
          1.4083178915001452e-8,
          4.400816967127975e-7,
          0.0000023669979541774597,
          0.000008266744576127466
         ]
        },
        {
         "line": {
          "color": "rgba(255, 255, 51, 1.0)",
          "dash": "solid",
          "shape": "linear",
          "width": 1.3
         },
         "mode": "lines",
         "name": "BEANS PINTO DRY PKG-12/2 LB",
         "text": "",
         "type": "scatter",
         "x": [
          0.07763578562840463,
          0.11645367844260696,
          0.13974441413112834,
          0.15527157125680927,
          0.17079872838249022,
          0.1863258855081711,
          0.20185304263385206,
          0.21738019975953296,
          0.2329073568852139,
          0.31054314251361853,
          0.6210862850272371
         ],
         "y": [
          2.0238767765131787,
          1.8398484695330188,
          1.7422122677150647,
          1.7422125931483174,
          1.7422123958378821,
          1.7422122487699194,
          1.7422121593001094,
          1.7395124256660632,
          1.6890536740147715,
          1.6877592751338342,
          1.6877523779800139
         ]
        },
        {
         "line": {
          "color": "rgba(128, 128, 0, 1.0)",
          "dash": "solid",
          "shape": "linear",
          "width": 1.3
         },
         "mode": "lines",
         "name": "FLOUR WHOLE WHEAT BAG-50 LB",
         "text": "",
         "type": "scatter",
         "x": [
          0.07763578562840463,
          0.11645367844260696,
          0.13974441413112834,
          0.15527157125680927,
          0.17079872838249022,
          0.1863258855081711,
          0.20185304263385206,
          0.21738019975953296,
          0.2329073568852139,
          0.31054314251361853,
          0.6210862850272371
         ],
         "y": [
          0.2855230079603665,
          0.5400268809940285,
          0.7444814395516948,
          0.7444813771412818,
          0.7444812161912236,
          0.744481451178994,
          0.744481476717145,
          0.7036450110981852,
          0.5942674415747552,
          0.7058015832193886,
          0.7057993631490935
         ]
        },
        {
         "line": {
          "color": "rgba(251, 128, 114, 1.0)",
          "dash": "solid",
          "shape": "linear",
          "width": 1.3
         },
         "mode": "lines",
         "name": "FLOUR BAKER HARD WHT BLCH-BULK",
         "text": "",
         "type": "scatter",
         "x": [
          0.07763578562840463,
          0.11645367844260696,
          0.13974441413112834,
          0.15527157125680927,
          0.17079872838249022,
          0.1863258855081711,
          0.20185304263385206,
          0.21738019975953296,
          0.2329073568852139,
          0.31054314251361853,
          0.6210862850272371
         ],
         "y": [
          5.078623394691151e-9,
          1.4424696004066007e-11,
          5.0322527173740724e-11,
          4.9844493667263275e-8,
          7.454835613679278e-9,
          5.587230762106981e-10,
          5.77668745193497e-9,
          2.533876374695574e-10,
          6.180549316447854e-8,
          0.3733460011854652,
          0.3733391790811576
         ]
        },
        {
         "line": {
          "color": "rgba(128, 177, 211, 1.0)",
          "dash": "solid",
          "shape": "linear",
          "width": 1.3
         },
         "mode": "lines",
         "name": "OIL VEGETABLE BTL-6/1 GAL",
         "text": "",
         "type": "scatter",
         "x": [
          0.07763578562840463,
          0.11645367844260696,
          0.13974441413112834,
          0.15527157125680927,
          0.17079872838249022,
          0.1863258855081711,
          0.20185304263385206,
          0.21738019975953296,
          0.2329073568852139,
          0.31054314251361853,
          0.6210862850272371
         ],
         "y": [
          3.1441985162962587e-7,
          0.4210582576708988,
          0.5025605958573865,
          0.5025602931551916,
          0.5025606315398821,
          0.5025605927390925,
          0.5025605656599588,
          0.4920781144143724,
          0.1959143782909288,
          0.41345259160808534,
          0.41344838140252116
         ]
        },
        {
         "line": {
          "color": "rgba(128, 177, 211, 0.8999999999999999)",
          "dash": "solid",
          "shape": "linear",
          "width": 1.3
         },
         "mode": "lines",
         "name": "MILK 1% MILKFAT UHT 2640 BOX-27/8 FL OZ",
         "text": "",
         "type": "scatter",
         "x": [
          0.07763578562840463,
          0.11645367844260696,
          0.13974441413112834,
          0.15527157125680927,
          0.17079872838249022,
          0.1863258855081711,
          0.20185304263385206,
          0.21738019975953296,
          0.2329073568852139,
          0.31054314251361853,
          0.6210862850272371
         ],
         "y": [
          7.36981081263101e-9,
          1.1697607871149282e-11,
          4.953483882369939e-11,
          4.63400507509806e-8,
          4.094774585632308e-9,
          5.098106831958579e-10,
          4.849361831402645e-9,
          1.8485759783593497e-10,
          1.6002429887256528e-8,
          0.000002539697406309328,
          0.0000037022421235830804
         ]
        },
        {
         "line": {
          "color": "rgba(255, 153, 51, 0.8999999999999999)",
          "dash": "solid",
          "shape": "linear",
          "width": 1.3
         },
         "mode": "lines",
         "name": "FLOUR BREAD-BULK",
         "text": "",
         "type": "scatter",
         "x": [
          0.07763578562840463,
          0.11645367844260696,
          0.13974441413112834,
          0.15527157125680927,
          0.17079872838249022,
          0.1863258855081711,
          0.20185304263385206,
          0.21738019975953296,
          0.2329073568852139,
          0.31054314251361853,
          0.6210862850272371
         ],
         "y": [
          3.3421208713734383,
          2.5706775658394267,
          0.9933890563894093,
          0.9933892061038305,
          0.9933894087750429,
          0.9933890126550244,
          0.9933888281852977,
          0.9141561031157086,
          0.684979521195617,
          0.05561182852357925,
          0.055618557358777285
         ]
        },
        {
         "line": {
          "color": "rgba(55, 128, 191, 0.8999999999999999)",
          "dash": "solid",
          "shape": "linear",
          "width": 1.3
         },
         "mode": "lines",
         "name": "K SUNFLOWER SEED BUTTER 6-5#'S",
         "text": "",
         "type": "scatter",
         "x": [
          0.07763578562840463,
          0.11645367844260696,
          0.13974441413112834,
          0.15527157125680927,
          0.17079872838249022,
          0.1863258855081711,
          0.20185304263385206,
          0.21738019975953296,
          0.2329073568852139,
          0.31054314251361853,
          0.6210862850272371
         ],
         "y": [
          0.29698750427262516,
          2.059423602221284e-10,
          1.6514200577073624e-10,
          8.795699591543289e-8,
          4.817474013309185e-10,
          1.2343689778800866e-9,
          3.4719217185505735e-9,
          5.633649709939066e-8,
          0.21744373243656273,
          0.010997352057479993,
          0.011000576259198574
         ]
        },
        {
         "line": {
          "color": "rgba(50, 171, 96, 0.8999999999999999)",
          "dash": "solid",
          "shape": "linear",
          "width": 1.3
         },
         "mode": "lines",
         "name": "POTATO FOR PROCESS INTO DEHY PRD-BULK",
         "text": "",
         "type": "scatter",
         "x": [
          0.07763578562840463,
          0.11645367844260696,
          0.13974441413112834,
          0.15527157125680927,
          0.17079872838249022,
          0.1863258855081711,
          0.20185304263385206,
          0.21738019975953296,
          0.2329073568852139,
          0.31054314251361853,
          0.6210862850272371
         ],
         "y": [
          0.7844654937165052,
          1.080065929613262,
          2.3245150612784067,
          2.324508146670499,
          2.3245145275716617,
          2.3245150773678054,
          2.3245146915034214,
          2.258257762904844,
          2.400882837983348,
          1.3168323896604603,
          1.3168376585921437
         ]
        },
        {
         "line": {
          "color": "rgba(128, 0, 128, 0.8999999999999999)",
          "dash": "solid",
          "shape": "linear",
          "width": 1.3
         },
         "mode": "lines",
         "name": "CHEESE NAT AMER FBD BARREL-500 LB(40800)",
         "text": "",
         "type": "scatter",
         "x": [
          0.07763578562840463,
          0.11645367844260696,
          0.13974441413112834,
          0.15527157125680927,
          0.17079872838249022,
          0.1863258855081711,
          0.20185304263385206,
          0.21738019975953296,
          0.2329073568852139,
          0.31054314251361853,
          0.6210862850272371
         ],
         "y": [
          1.2018168397521801e-8,
          0.33403293862137196,
          0.7673156391649164,
          0.7673151213230014,
          0.7673155260173166,
          0.7673156497350028,
          0.7673156696710127,
          0.783797614247451,
          0.8450017340051845,
          0.9514702970592965,
          0.9514689549267114
         ]
        },
        {
         "line": {
          "color": "rgba(219, 64, 82, 0.8999999999999999)",
          "dash": "solid",
          "shape": "linear",
          "width": 1.3
         },
         "mode": "lines",
         "name": "BEANS PINTO DRY TOTE-2000 LB",
         "text": "",
         "type": "scatter",
         "x": [
          0.07763578562840463,
          0.11645367844260696,
          0.13974441413112834,
          0.15527157125680927,
          0.17079872838249022,
          0.1863258855081711,
          0.20185304263385206,
          0.21738019975953296,
          0.2329073568852139,
          0.31054314251361853,
          0.6210862850272371
         ],
         "y": [
          1.0124364621338483e-8,
          1.9194859433118413e-11,
          1.0501686634419345e-10,
          6.438639340489857e-8,
          1.5030907575645527e-8,
          4.834140264540034e-10,
          7.316622470254425e-8,
          0.09920723340529874,
          0.15506640147858478,
          0.4151970436215054,
          0.41519825263306376
         ]
        },
        {
         "line": {
          "color": "rgba(0, 128, 128, 0.8999999999999999)",
          "dash": "solid",
          "shape": "linear",
          "width": 1.3
         },
         "mode": "lines",
         "name": "SPINACH CHOPPED FRZ IQF CTN-20 LB (1902)",
         "text": "",
         "type": "scatter",
         "x": [
          0.07763578562840463,
          0.11645367844260696,
          0.13974441413112834,
          0.15527157125680927,
          0.17079872838249022,
          0.1863258855081711,
          0.20185304263385206,
          0.21738019975953296,
          0.2329073568852139,
          0.31054314251361853,
          0.6210862850272371
         ],
         "y": [
          0.12000840349874889,
          0.9616094040878153,
          0.444107691510678,
          0.4441093747288139,
          0.4441070704832967,
          0.4441077219934265,
          0.4441079625896218,
          0.4812478310656041,
          0.3502642199115298,
          1.0336502212160172,
          1.0336453908295429
         ]
        },
        {
         "line": {
          "color": "rgba(255, 255, 51, 0.8999999999999999)",
          "dash": "solid",
          "shape": "linear",
          "width": 1.3
         },
         "mode": "lines",
         "name": "FISH AK POLLOCK STICKS BRD FRZ CTN-40 LB",
         "text": "",
         "type": "scatter",
         "x": [
          0.07763578562840463,
          0.11645367844260696,
          0.13974441413112834,
          0.15527157125680927,
          0.17079872838249022,
          0.1863258855081711,
          0.20185304263385206,
          0.21738019975953296,
          0.2329073568852139,
          0.31054314251361853,
          0.6210862850272371
         ],
         "y": [
          5.798633499055885e-10,
          1.6774657407471313e-12,
          6.678619444622769e-12,
          5.6804986364019535e-9,
          5.112735805132699e-10,
          3.623695740675818e-11,
          3.2966545949572506e-10,
          4.706343351594809e-11,
          3.1546446590634585e-9,
          0.02567217263307614,
          0.02567285460294171
         ]
        }
       ],
       "layout": {
        "legend": {
         "bgcolor": "#F5F6F9",
         "font": {
          "color": "#4D5663"
         }
        },
        "paper_bgcolor": "#F5F6F9",
        "plot_bgcolor": "#F5F6F9",
        "template": {
         "data": {
          "bar": [
           {
            "error_x": {
             "color": "#2a3f5f"
            },
            "error_y": {
             "color": "#2a3f5f"
            },
            "marker": {
             "line": {
              "color": "#E5ECF6",
              "width": 0.5
             },
             "pattern": {
              "fillmode": "overlay",
              "size": 10,
              "solidity": 0.2
             }
            },
            "type": "bar"
           }
          ],
          "barpolar": [
           {
            "marker": {
             "line": {
              "color": "#E5ECF6",
              "width": 0.5
             },
             "pattern": {
              "fillmode": "overlay",
              "size": 10,
              "solidity": 0.2
             }
            },
            "type": "barpolar"
           }
          ],
          "carpet": [
           {
            "aaxis": {
             "endlinecolor": "#2a3f5f",
             "gridcolor": "white",
             "linecolor": "white",
             "minorgridcolor": "white",
             "startlinecolor": "#2a3f5f"
            },
            "baxis": {
             "endlinecolor": "#2a3f5f",
             "gridcolor": "white",
             "linecolor": "white",
             "minorgridcolor": "white",
             "startlinecolor": "#2a3f5f"
            },
            "type": "carpet"
           }
          ],
          "choropleth": [
           {
            "colorbar": {
             "outlinewidth": 0,
             "ticks": ""
            },
            "type": "choropleth"
           }
          ],
          "contour": [
           {
            "colorbar": {
             "outlinewidth": 0,
             "ticks": ""
            },
            "colorscale": [
             [
              0,
              "#0d0887"
             ],
             [
              0.1111111111111111,
              "#46039f"
             ],
             [
              0.2222222222222222,
              "#7201a8"
             ],
             [
              0.3333333333333333,
              "#9c179e"
             ],
             [
              0.4444444444444444,
              "#bd3786"
             ],
             [
              0.5555555555555556,
              "#d8576b"
             ],
             [
              0.6666666666666666,
              "#ed7953"
             ],
             [
              0.7777777777777778,
              "#fb9f3a"
             ],
             [
              0.8888888888888888,
              "#fdca26"
             ],
             [
              1,
              "#f0f921"
             ]
            ],
            "type": "contour"
           }
          ],
          "contourcarpet": [
           {
            "colorbar": {
             "outlinewidth": 0,
             "ticks": ""
            },
            "type": "contourcarpet"
           }
          ],
          "heatmap": [
           {
            "colorbar": {
             "outlinewidth": 0,
             "ticks": ""
            },
            "colorscale": [
             [
              0,
              "#0d0887"
             ],
             [
              0.1111111111111111,
              "#46039f"
             ],
             [
              0.2222222222222222,
              "#7201a8"
             ],
             [
              0.3333333333333333,
              "#9c179e"
             ],
             [
              0.4444444444444444,
              "#bd3786"
             ],
             [
              0.5555555555555556,
              "#d8576b"
             ],
             [
              0.6666666666666666,
              "#ed7953"
             ],
             [
              0.7777777777777778,
              "#fb9f3a"
             ],
             [
              0.8888888888888888,
              "#fdca26"
             ],
             [
              1,
              "#f0f921"
             ]
            ],
            "type": "heatmap"
           }
          ],
          "heatmapgl": [
           {
            "colorbar": {
             "outlinewidth": 0,
             "ticks": ""
            },
            "colorscale": [
             [
              0,
              "#0d0887"
             ],
             [
              0.1111111111111111,
              "#46039f"
             ],
             [
              0.2222222222222222,
              "#7201a8"
             ],
             [
              0.3333333333333333,
              "#9c179e"
             ],
             [
              0.4444444444444444,
              "#bd3786"
             ],
             [
              0.5555555555555556,
              "#d8576b"
             ],
             [
              0.6666666666666666,
              "#ed7953"
             ],
             [
              0.7777777777777778,
              "#fb9f3a"
             ],
             [
              0.8888888888888888,
              "#fdca26"
             ],
             [
              1,
              "#f0f921"
             ]
            ],
            "type": "heatmapgl"
           }
          ],
          "histogram": [
           {
            "marker": {
             "pattern": {
              "fillmode": "overlay",
              "size": 10,
              "solidity": 0.2
             }
            },
            "type": "histogram"
           }
          ],
          "histogram2d": [
           {
            "colorbar": {
             "outlinewidth": 0,
             "ticks": ""
            },
            "colorscale": [
             [
              0,
              "#0d0887"
             ],
             [
              0.1111111111111111,
              "#46039f"
             ],
             [
              0.2222222222222222,
              "#7201a8"
             ],
             [
              0.3333333333333333,
              "#9c179e"
             ],
             [
              0.4444444444444444,
              "#bd3786"
             ],
             [
              0.5555555555555556,
              "#d8576b"
             ],
             [
              0.6666666666666666,
              "#ed7953"
             ],
             [
              0.7777777777777778,
              "#fb9f3a"
             ],
             [
              0.8888888888888888,
              "#fdca26"
             ],
             [
              1,
              "#f0f921"
             ]
            ],
            "type": "histogram2d"
           }
          ],
          "histogram2dcontour": [
           {
            "colorbar": {
             "outlinewidth": 0,
             "ticks": ""
            },
            "colorscale": [
             [
              0,
              "#0d0887"
             ],
             [
              0.1111111111111111,
              "#46039f"
             ],
             [
              0.2222222222222222,
              "#7201a8"
             ],
             [
              0.3333333333333333,
              "#9c179e"
             ],
             [
              0.4444444444444444,
              "#bd3786"
             ],
             [
              0.5555555555555556,
              "#d8576b"
             ],
             [
              0.6666666666666666,
              "#ed7953"
             ],
             [
              0.7777777777777778,
              "#fb9f3a"
             ],
             [
              0.8888888888888888,
              "#fdca26"
             ],
             [
              1,
              "#f0f921"
             ]
            ],
            "type": "histogram2dcontour"
           }
          ],
          "mesh3d": [
           {
            "colorbar": {
             "outlinewidth": 0,
             "ticks": ""
            },
            "type": "mesh3d"
           }
          ],
          "parcoords": [
           {
            "line": {
             "colorbar": {
              "outlinewidth": 0,
              "ticks": ""
             }
            },
            "type": "parcoords"
           }
          ],
          "pie": [
           {
            "automargin": true,
            "type": "pie"
           }
          ],
          "scatter": [
           {
            "fillpattern": {
             "fillmode": "overlay",
             "size": 10,
             "solidity": 0.2
            },
            "type": "scatter"
           }
          ],
          "scatter3d": [
           {
            "line": {
             "colorbar": {
              "outlinewidth": 0,
              "ticks": ""
             }
            },
            "marker": {
             "colorbar": {
              "outlinewidth": 0,
              "ticks": ""
             }
            },
            "type": "scatter3d"
           }
          ],
          "scattercarpet": [
           {
            "marker": {
             "colorbar": {
              "outlinewidth": 0,
              "ticks": ""
             }
            },
            "type": "scattercarpet"
           }
          ],
          "scattergeo": [
           {
            "marker": {
             "colorbar": {
              "outlinewidth": 0,
              "ticks": ""
             }
            },
            "type": "scattergeo"
           }
          ],
          "scattergl": [
           {
            "marker": {
             "colorbar": {
              "outlinewidth": 0,
              "ticks": ""
             }
            },
            "type": "scattergl"
           }
          ],
          "scattermapbox": [
           {
            "marker": {
             "colorbar": {
              "outlinewidth": 0,
              "ticks": ""
             }
            },
            "type": "scattermapbox"
           }
          ],
          "scatterpolar": [
           {
            "marker": {
             "colorbar": {
              "outlinewidth": 0,
              "ticks": ""
             }
            },
            "type": "scatterpolar"
           }
          ],
          "scatterpolargl": [
           {
            "marker": {
             "colorbar": {
              "outlinewidth": 0,
              "ticks": ""
             }
            },
            "type": "scatterpolargl"
           }
          ],
          "scatterternary": [
           {
            "marker": {
             "colorbar": {
              "outlinewidth": 0,
              "ticks": ""
             }
            },
            "type": "scatterternary"
           }
          ],
          "surface": [
           {
            "colorbar": {
             "outlinewidth": 0,
             "ticks": ""
            },
            "colorscale": [
             [
              0,
              "#0d0887"
             ],
             [
              0.1111111111111111,
              "#46039f"
             ],
             [
              0.2222222222222222,
              "#7201a8"
             ],
             [
              0.3333333333333333,
              "#9c179e"
             ],
             [
              0.4444444444444444,
              "#bd3786"
             ],
             [
              0.5555555555555556,
              "#d8576b"
             ],
             [
              0.6666666666666666,
              "#ed7953"
             ],
             [
              0.7777777777777778,
              "#fb9f3a"
             ],
             [
              0.8888888888888888,
              "#fdca26"
             ],
             [
              1,
              "#f0f921"
             ]
            ],
            "type": "surface"
           }
          ],
          "table": [
           {
            "cells": {
             "fill": {
              "color": "#EBF0F8"
             },
             "line": {
              "color": "white"
             }
            },
            "header": {
             "fill": {
              "color": "#C8D4E3"
             },
             "line": {
              "color": "white"
             }
            },
            "type": "table"
           }
          ]
         },
         "layout": {
          "annotationdefaults": {
           "arrowcolor": "#2a3f5f",
           "arrowhead": 0,
           "arrowwidth": 1
          },
          "autotypenumbers": "strict",
          "coloraxis": {
           "colorbar": {
            "outlinewidth": 0,
            "ticks": ""
           }
          },
          "colorscale": {
           "diverging": [
            [
             0,
             "#8e0152"
            ],
            [
             0.1,
             "#c51b7d"
            ],
            [
             0.2,
             "#de77ae"
            ],
            [
             0.3,
             "#f1b6da"
            ],
            [
             0.4,
             "#fde0ef"
            ],
            [
             0.5,
             "#f7f7f7"
            ],
            [
             0.6,
             "#e6f5d0"
            ],
            [
             0.7,
             "#b8e186"
            ],
            [
             0.8,
             "#7fbc41"
            ],
            [
             0.9,
             "#4d9221"
            ],
            [
             1,
             "#276419"
            ]
           ],
           "sequential": [
            [
             0,
             "#0d0887"
            ],
            [
             0.1111111111111111,
             "#46039f"
            ],
            [
             0.2222222222222222,
             "#7201a8"
            ],
            [
             0.3333333333333333,
             "#9c179e"
            ],
            [
             0.4444444444444444,
             "#bd3786"
            ],
            [
             0.5555555555555556,
             "#d8576b"
            ],
            [
             0.6666666666666666,
             "#ed7953"
            ],
            [
             0.7777777777777778,
             "#fb9f3a"
            ],
            [
             0.8888888888888888,
             "#fdca26"
            ],
            [
             1,
             "#f0f921"
            ]
           ],
           "sequentialminus": [
            [
             0,
             "#0d0887"
            ],
            [
             0.1111111111111111,
             "#46039f"
            ],
            [
             0.2222222222222222,
             "#7201a8"
            ],
            [
             0.3333333333333333,
             "#9c179e"
            ],
            [
             0.4444444444444444,
             "#bd3786"
            ],
            [
             0.5555555555555556,
             "#d8576b"
            ],
            [
             0.6666666666666666,
             "#ed7953"
            ],
            [
             0.7777777777777778,
             "#fb9f3a"
            ],
            [
             0.8888888888888888,
             "#fdca26"
            ],
            [
             1,
             "#f0f921"
            ]
           ]
          },
          "colorway": [
           "#636efa",
           "#EF553B",
           "#00cc96",
           "#ab63fa",
           "#FFA15A",
           "#19d3f3",
           "#FF6692",
           "#B6E880",
           "#FF97FF",
           "#FECB52"
          ],
          "font": {
           "color": "#2a3f5f"
          },
          "geo": {
           "bgcolor": "white",
           "lakecolor": "white",
           "landcolor": "#E5ECF6",
           "showlakes": true,
           "showland": true,
           "subunitcolor": "white"
          },
          "hoverlabel": {
           "align": "left"
          },
          "hovermode": "closest",
          "mapbox": {
           "style": "light"
          },
          "paper_bgcolor": "white",
          "plot_bgcolor": "#E5ECF6",
          "polar": {
           "angularaxis": {
            "gridcolor": "white",
            "linecolor": "white",
            "ticks": ""
           },
           "bgcolor": "#E5ECF6",
           "radialaxis": {
            "gridcolor": "white",
            "linecolor": "white",
            "ticks": ""
           }
          },
          "scene": {
           "xaxis": {
            "backgroundcolor": "#E5ECF6",
            "gridcolor": "white",
            "gridwidth": 2,
            "linecolor": "white",
            "showbackground": true,
            "ticks": "",
            "zerolinecolor": "white"
           },
           "yaxis": {
            "backgroundcolor": "#E5ECF6",
            "gridcolor": "white",
            "gridwidth": 2,
            "linecolor": "white",
            "showbackground": true,
            "ticks": "",
            "zerolinecolor": "white"
           },
           "zaxis": {
            "backgroundcolor": "#E5ECF6",
            "gridcolor": "white",
            "gridwidth": 2,
            "linecolor": "white",
            "showbackground": true,
            "ticks": "",
            "zerolinecolor": "white"
           }
          },
          "shapedefaults": {
           "line": {
            "color": "#2a3f5f"
           }
          },
          "ternary": {
           "aaxis": {
            "gridcolor": "white",
            "linecolor": "white",
            "ticks": ""
           },
           "baxis": {
            "gridcolor": "white",
            "linecolor": "white",
            "ticks": ""
           },
           "bgcolor": "#E5ECF6",
           "caxis": {
            "gridcolor": "white",
            "linecolor": "white",
            "ticks": ""
           }
          },
          "title": {
           "x": 0.05
          },
          "xaxis": {
           "automargin": true,
           "gridcolor": "white",
           "linecolor": "white",
           "ticks": "",
           "title": {
            "standoff": 15
           },
           "zerolinecolor": "white",
           "zerolinewidth": 2
          },
          "yaxis": {
           "automargin": true,
           "gridcolor": "white",
           "linecolor": "white",
           "ticks": "",
           "title": {
            "standoff": 15
           },
           "zerolinecolor": "white",
           "zerolinewidth": 2
          }
         }
        },
        "title": {
         "font": {
          "color": "#4D5663"
         }
        },
        "xaxis": {
         "gridcolor": "#E1E5ED",
         "showgrid": true,
         "tickfont": {
          "color": "#4D5663"
         },
         "title": {
          "font": {
           "color": "#4D5663"
          },
          "text": "EGGS WHOLE LIQ BULK -TANK Price"
         },
         "zerolinecolor": "#E1E5ED"
        },
        "yaxis": {
         "gridcolor": "#E1E5ED",
         "showgrid": true,
         "tickfont": {
          "color": "#4D5663"
         },
         "title": {
          "font": {
           "color": "#4D5663"
          },
          "text": "Hectograms"
         },
         "zerolinecolor": "#E1E5ED"
        }
       }
      },
      "text/html": [
       "<div>                            <div id=\"69016790-a428-4240-a6da-c967afdc42d8\" class=\"plotly-graph-div\" style=\"height:525px; width:100%;\"></div>            <script type=\"text/javascript\">                require([\"plotly\"], function(Plotly) {                    window.PLOTLYENV=window.PLOTLYENV || {};\n",
       "                    window.PLOTLYENV.BASE_URL='https://plot.ly';                                    if (document.getElementById(\"69016790-a428-4240-a6da-c967afdc42d8\")) {                    Plotly.newPlot(                        \"69016790-a428-4240-a6da-c967afdc42d8\",                        [{\"line\":{\"color\":\"rgba(255, 153, 51, 1.0)\",\"dash\":\"solid\",\"shape\":\"linear\",\"width\":1.3},\"mode\":\"lines\",\"name\":\"CHEESE CHED WHT SHRED BAG-6\\u002f5 LB\",\"text\":\"\",\"x\":[0.07763578562840463,0.11645367844260696,0.13974441413112834,0.15527157125680927,0.17079872838249022,0.1863258855081711,0.20185304263385206,0.21738019975953296,0.2329073568852139,0.31054314251361853,0.6210862850272371],\"y\":[0.10079036397585017,2.0640661212190684e-11,4.0611649382998994e-11,4.524012047234376e-08,9.136627780713926e-10,1.233394177152111e-10,1.430675569180483e-09,2.0652407379906895e-10,8.486270361836117e-09,1.569248904831955e-08,8.756453523946647e-08],\"type\":\"scatter\"},{\"line\":{\"color\":\"rgba(55, 128, 191, 1.0)\",\"dash\":\"solid\",\"shape\":\"linear\",\"width\":1.3},\"mode\":\"lines\",\"name\":\"EGGS WHOLE LIQ BULK -TANK\",\"text\":\"\",\"x\":[0.07763578562840463,0.11645367844260696,0.13974441413112834,0.15527157125680927,0.17079872838249022,0.1863258855081711,0.20185304263385206,0.21738019975953296,0.2329073568852139,0.31054314251361853,0.6210862850272371],\"y\":[2.9677100970124854,1.2833054707454095,0.6588686374578718,0.6588691443749732,0.6588687831363467,0.658868621075894,0.6588685647399617,0.6137175630682733,0.5134634911523988,4.723785773463526e-08,1.751132449633584e-08],\"type\":\"scatter\"},{\"line\":{\"color\":\"rgba(50, 171, 96, 1.0)\",\"dash\":\"solid\",\"shape\":\"linear\",\"width\":1.3},\"mode\":\"lines\",\"name\":\"CHICKEN LEGS CHILLED -BULK\",\"text\":\"\",\"x\":[0.07763578562840463,0.11645367844260696,0.13974441413112834,0.15527157125680927,0.17079872838249022,0.1863258855081711,0.20185304263385206,0.21738019975953296,0.2329073568852139,0.31054314251361853,0.6210862850272371],\"y\":[2.3050676076609484e-09,8.134402358713763e-12,3.399500999486481e-11,2.8235767755664066e-08,3.285167735512476e-09,1.3911079781970555e-10,1.5568299939582886e-09,2.3093799417834073e-10,1.9654916904841205e-08,0.4752069360942582,0.4752033611625432],\"type\":\"scatter\"},{\"line\":{\"color\":\"rgba(128, 0, 128, 1.0)\",\"dash\":\"solid\",\"shape\":\"linear\",\"width\":1.3},\"mode\":\"lines\",\"name\":\"APPLE SLICES CAN-6\\u002f10\",\"text\":\"\",\"x\":[0.07763578562840463,0.11645367844260696,0.13974441413112834,0.15527157125680927,0.17079872838249022,0.1863258855081711,0.20185304263385206,0.21738019975953296,0.2329073568852139,0.31054314251361853,0.6210862850272371],\"y\":[0.23367342140999733,0.043645699283592944,5.9020761748877205e-09,3.634436539320371e-07,1.489276097982575e-07,3.5167239499032695e-11,1.3874314881078685e-09,1.1225128903998194e-10,1.2148573568399508e-08,2.5708868420668127e-08,3.0351515787633955e-08],\"type\":\"scatter\"},{\"line\":{\"color\":\"rgba(219, 64, 82, 1.0)\",\"dash\":\"solid\",\"shape\":\"linear\",\"width\":1.3},\"mode\":\"lines\",\"name\":\"SWEET POTATOES W\\u002f SYRUP CAN-6\\u002f10\",\"text\":\"\",\"x\":[0.07763578562840463,0.11645367844260696,0.13974441413112834,0.15527157125680927,0.17079872838249022,0.1863258855081711,0.20185304263385206,0.21738019975953296,0.2329073568852139,0.31054314251361853,0.6210862850272371],\"y\":[5.5452826236518636e-08,4.427021721052344e-09,0.35331467662731675,0.3533133052310922,0.35331513061494124,0.35331465260434947,0.35331447162878293,0.33405089262552956,0.43301380209300094,0.057683953242936944,0.0576880973272561],\"type\":\"scatter\"},{\"line\":{\"color\":\"rgba(0, 128, 128, 1.0)\",\"dash\":\"solid\",\"shape\":\"linear\",\"width\":1.3},\"mode\":\"lines\",\"name\":\"BEANS SMALL RED CAN-6\\u002f10\",\"text\":\"\",\"x\":[0.07763578562840463,0.11645367844260696,0.13974441413112834,0.15527157125680927,0.17079872838249022,0.1863258855081711,0.20185304263385206,0.21738019975953296,0.2329073568852139,0.31054314251361853,0.6210862850272371],\"y\":[8.21777134078246e-08,1.7872618100902056e-10,1.1603089587443723e-09,7.098084845696052e-07,1.9168392303653382e-07,6.011992352283342e-09,9.956293438120893e-08,1.4083178915001452e-08,4.400816967127975e-07,2.3669979541774597e-06,8.266744576127466e-06],\"type\":\"scatter\"},{\"line\":{\"color\":\"rgba(255, 255, 51, 1.0)\",\"dash\":\"solid\",\"shape\":\"linear\",\"width\":1.3},\"mode\":\"lines\",\"name\":\"BEANS PINTO DRY PKG-12\\u002f2 LB\",\"text\":\"\",\"x\":[0.07763578562840463,0.11645367844260696,0.13974441413112834,0.15527157125680927,0.17079872838249022,0.1863258855081711,0.20185304263385206,0.21738019975953296,0.2329073568852139,0.31054314251361853,0.6210862850272371],\"y\":[2.0238767765131787,1.8398484695330188,1.7422122677150647,1.7422125931483174,1.7422123958378821,1.7422122487699194,1.7422121593001094,1.7395124256660632,1.6890536740147715,1.6877592751338342,1.6877523779800139],\"type\":\"scatter\"},{\"line\":{\"color\":\"rgba(128, 128, 0, 1.0)\",\"dash\":\"solid\",\"shape\":\"linear\",\"width\":1.3},\"mode\":\"lines\",\"name\":\"FLOUR WHOLE WHEAT BAG-50 LB\",\"text\":\"\",\"x\":[0.07763578562840463,0.11645367844260696,0.13974441413112834,0.15527157125680927,0.17079872838249022,0.1863258855081711,0.20185304263385206,0.21738019975953296,0.2329073568852139,0.31054314251361853,0.6210862850272371],\"y\":[0.2855230079603665,0.5400268809940285,0.7444814395516948,0.7444813771412818,0.7444812161912236,0.744481451178994,0.744481476717145,0.7036450110981852,0.5942674415747552,0.7058015832193886,0.7057993631490935],\"type\":\"scatter\"},{\"line\":{\"color\":\"rgba(251, 128, 114, 1.0)\",\"dash\":\"solid\",\"shape\":\"linear\",\"width\":1.3},\"mode\":\"lines\",\"name\":\"FLOUR BAKER HARD WHT BLCH-BULK\",\"text\":\"\",\"x\":[0.07763578562840463,0.11645367844260696,0.13974441413112834,0.15527157125680927,0.17079872838249022,0.1863258855081711,0.20185304263385206,0.21738019975953296,0.2329073568852139,0.31054314251361853,0.6210862850272371],\"y\":[5.078623394691151e-09,1.4424696004066007e-11,5.0322527173740724e-11,4.9844493667263275e-08,7.454835613679278e-09,5.587230762106981e-10,5.77668745193497e-09,2.533876374695574e-10,6.180549316447854e-08,0.3733460011854652,0.3733391790811576],\"type\":\"scatter\"},{\"line\":{\"color\":\"rgba(128, 177, 211, 1.0)\",\"dash\":\"solid\",\"shape\":\"linear\",\"width\":1.3},\"mode\":\"lines\",\"name\":\"OIL VEGETABLE BTL-6\\u002f1 GAL\",\"text\":\"\",\"x\":[0.07763578562840463,0.11645367844260696,0.13974441413112834,0.15527157125680927,0.17079872838249022,0.1863258855081711,0.20185304263385206,0.21738019975953296,0.2329073568852139,0.31054314251361853,0.6210862850272371],\"y\":[3.1441985162962587e-07,0.4210582576708988,0.5025605958573865,0.5025602931551916,0.5025606315398821,0.5025605927390925,0.5025605656599588,0.4920781144143724,0.1959143782909288,0.41345259160808534,0.41344838140252116],\"type\":\"scatter\"},{\"line\":{\"color\":\"rgba(128, 177, 211, 0.8999999999999999)\",\"dash\":\"solid\",\"shape\":\"linear\",\"width\":1.3},\"mode\":\"lines\",\"name\":\"MILK 1% MILKFAT UHT 2640 BOX-27\\u002f8 FL OZ\",\"text\":\"\",\"x\":[0.07763578562840463,0.11645367844260696,0.13974441413112834,0.15527157125680927,0.17079872838249022,0.1863258855081711,0.20185304263385206,0.21738019975953296,0.2329073568852139,0.31054314251361853,0.6210862850272371],\"y\":[7.36981081263101e-09,1.1697607871149282e-11,4.953483882369939e-11,4.63400507509806e-08,4.094774585632308e-09,5.098106831958579e-10,4.849361831402645e-09,1.8485759783593497e-10,1.6002429887256528e-08,2.539697406309328e-06,3.7022421235830804e-06],\"type\":\"scatter\"},{\"line\":{\"color\":\"rgba(255, 153, 51, 0.8999999999999999)\",\"dash\":\"solid\",\"shape\":\"linear\",\"width\":1.3},\"mode\":\"lines\",\"name\":\"FLOUR BREAD-BULK\",\"text\":\"\",\"x\":[0.07763578562840463,0.11645367844260696,0.13974441413112834,0.15527157125680927,0.17079872838249022,0.1863258855081711,0.20185304263385206,0.21738019975953296,0.2329073568852139,0.31054314251361853,0.6210862850272371],\"y\":[3.3421208713734383,2.5706775658394267,0.9933890563894093,0.9933892061038305,0.9933894087750429,0.9933890126550244,0.9933888281852977,0.9141561031157086,0.684979521195617,0.05561182852357925,0.055618557358777285],\"type\":\"scatter\"},{\"line\":{\"color\":\"rgba(55, 128, 191, 0.8999999999999999)\",\"dash\":\"solid\",\"shape\":\"linear\",\"width\":1.3},\"mode\":\"lines\",\"name\":\"K SUNFLOWER SEED BUTTER 6-5#'S\",\"text\":\"\",\"x\":[0.07763578562840463,0.11645367844260696,0.13974441413112834,0.15527157125680927,0.17079872838249022,0.1863258855081711,0.20185304263385206,0.21738019975953296,0.2329073568852139,0.31054314251361853,0.6210862850272371],\"y\":[0.29698750427262516,2.059423602221284e-10,1.6514200577073624e-10,8.795699591543289e-08,4.817474013309185e-10,1.2343689778800866e-09,3.4719217185505735e-09,5.633649709939066e-08,0.21744373243656273,0.010997352057479993,0.011000576259198574],\"type\":\"scatter\"},{\"line\":{\"color\":\"rgba(50, 171, 96, 0.8999999999999999)\",\"dash\":\"solid\",\"shape\":\"linear\",\"width\":1.3},\"mode\":\"lines\",\"name\":\"POTATO FOR PROCESS INTO DEHY PRD-BULK\",\"text\":\"\",\"x\":[0.07763578562840463,0.11645367844260696,0.13974441413112834,0.15527157125680927,0.17079872838249022,0.1863258855081711,0.20185304263385206,0.21738019975953296,0.2329073568852139,0.31054314251361853,0.6210862850272371],\"y\":[0.7844654937165052,1.080065929613262,2.3245150612784067,2.324508146670499,2.3245145275716617,2.3245150773678054,2.3245146915034214,2.258257762904844,2.400882837983348,1.3168323896604603,1.3168376585921437],\"type\":\"scatter\"},{\"line\":{\"color\":\"rgba(128, 0, 128, 0.8999999999999999)\",\"dash\":\"solid\",\"shape\":\"linear\",\"width\":1.3},\"mode\":\"lines\",\"name\":\"CHEESE NAT AMER FBD BARREL-500 LB(40800)\",\"text\":\"\",\"x\":[0.07763578562840463,0.11645367844260696,0.13974441413112834,0.15527157125680927,0.17079872838249022,0.1863258855081711,0.20185304263385206,0.21738019975953296,0.2329073568852139,0.31054314251361853,0.6210862850272371],\"y\":[1.2018168397521801e-08,0.33403293862137196,0.7673156391649164,0.7673151213230014,0.7673155260173166,0.7673156497350028,0.7673156696710127,0.783797614247451,0.8450017340051845,0.9514702970592965,0.9514689549267114],\"type\":\"scatter\"},{\"line\":{\"color\":\"rgba(219, 64, 82, 0.8999999999999999)\",\"dash\":\"solid\",\"shape\":\"linear\",\"width\":1.3},\"mode\":\"lines\",\"name\":\"BEANS PINTO DRY TOTE-2000 LB\",\"text\":\"\",\"x\":[0.07763578562840463,0.11645367844260696,0.13974441413112834,0.15527157125680927,0.17079872838249022,0.1863258855081711,0.20185304263385206,0.21738019975953296,0.2329073568852139,0.31054314251361853,0.6210862850272371],\"y\":[1.0124364621338483e-08,1.9194859433118413e-11,1.0501686634419345e-10,6.438639340489857e-08,1.5030907575645527e-08,4.834140264540034e-10,7.316622470254425e-08,0.09920723340529874,0.15506640147858478,0.4151970436215054,0.41519825263306376],\"type\":\"scatter\"},{\"line\":{\"color\":\"rgba(0, 128, 128, 0.8999999999999999)\",\"dash\":\"solid\",\"shape\":\"linear\",\"width\":1.3},\"mode\":\"lines\",\"name\":\"SPINACH CHOPPED FRZ IQF CTN-20 LB (1902)\",\"text\":\"\",\"x\":[0.07763578562840463,0.11645367844260696,0.13974441413112834,0.15527157125680927,0.17079872838249022,0.1863258855081711,0.20185304263385206,0.21738019975953296,0.2329073568852139,0.31054314251361853,0.6210862850272371],\"y\":[0.12000840349874889,0.9616094040878153,0.444107691510678,0.4441093747288139,0.4441070704832967,0.4441077219934265,0.4441079625896218,0.4812478310656041,0.3502642199115298,1.0336502212160172,1.0336453908295429],\"type\":\"scatter\"},{\"line\":{\"color\":\"rgba(255, 255, 51, 0.8999999999999999)\",\"dash\":\"solid\",\"shape\":\"linear\",\"width\":1.3},\"mode\":\"lines\",\"name\":\"FISH AK POLLOCK STICKS BRD FRZ CTN-40 LB\",\"text\":\"\",\"x\":[0.07763578562840463,0.11645367844260696,0.13974441413112834,0.15527157125680927,0.17079872838249022,0.1863258855081711,0.20185304263385206,0.21738019975953296,0.2329073568852139,0.31054314251361853,0.6210862850272371],\"y\":[5.798633499055885e-10,1.6774657407471313e-12,6.678619444622769e-12,5.6804986364019535e-09,5.112735805132699e-10,3.623695740675818e-11,3.2966545949572506e-10,4.706343351594809e-11,3.1546446590634585e-09,0.02567217263307614,0.02567285460294171],\"type\":\"scatter\"}],                        {\"legend\":{\"bgcolor\":\"#F5F6F9\",\"font\":{\"color\":\"#4D5663\"}},\"paper_bgcolor\":\"#F5F6F9\",\"plot_bgcolor\":\"#F5F6F9\",\"template\":{\"data\":{\"barpolar\":[{\"marker\":{\"line\":{\"color\":\"#E5ECF6\",\"width\":0.5},\"pattern\":{\"fillmode\":\"overlay\",\"size\":10,\"solidity\":0.2}},\"type\":\"barpolar\"}],\"bar\":[{\"error_x\":{\"color\":\"#2a3f5f\"},\"error_y\":{\"color\":\"#2a3f5f\"},\"marker\":{\"line\":{\"color\":\"#E5ECF6\",\"width\":0.5},\"pattern\":{\"fillmode\":\"overlay\",\"size\":10,\"solidity\":0.2}},\"type\":\"bar\"}],\"carpet\":[{\"aaxis\":{\"endlinecolor\":\"#2a3f5f\",\"gridcolor\":\"white\",\"linecolor\":\"white\",\"minorgridcolor\":\"white\",\"startlinecolor\":\"#2a3f5f\"},\"baxis\":{\"endlinecolor\":\"#2a3f5f\",\"gridcolor\":\"white\",\"linecolor\":\"white\",\"minorgridcolor\":\"white\",\"startlinecolor\":\"#2a3f5f\"},\"type\":\"carpet\"}],\"choropleth\":[{\"colorbar\":{\"outlinewidth\":0,\"ticks\":\"\"},\"type\":\"choropleth\"}],\"contourcarpet\":[{\"colorbar\":{\"outlinewidth\":0,\"ticks\":\"\"},\"type\":\"contourcarpet\"}],\"contour\":[{\"colorbar\":{\"outlinewidth\":0,\"ticks\":\"\"},\"colorscale\":[[0.0,\"#0d0887\"],[0.1111111111111111,\"#46039f\"],[0.2222222222222222,\"#7201a8\"],[0.3333333333333333,\"#9c179e\"],[0.4444444444444444,\"#bd3786\"],[0.5555555555555556,\"#d8576b\"],[0.6666666666666666,\"#ed7953\"],[0.7777777777777778,\"#fb9f3a\"],[0.8888888888888888,\"#fdca26\"],[1.0,\"#f0f921\"]],\"type\":\"contour\"}],\"heatmapgl\":[{\"colorbar\":{\"outlinewidth\":0,\"ticks\":\"\"},\"colorscale\":[[0.0,\"#0d0887\"],[0.1111111111111111,\"#46039f\"],[0.2222222222222222,\"#7201a8\"],[0.3333333333333333,\"#9c179e\"],[0.4444444444444444,\"#bd3786\"],[0.5555555555555556,\"#d8576b\"],[0.6666666666666666,\"#ed7953\"],[0.7777777777777778,\"#fb9f3a\"],[0.8888888888888888,\"#fdca26\"],[1.0,\"#f0f921\"]],\"type\":\"heatmapgl\"}],\"heatmap\":[{\"colorbar\":{\"outlinewidth\":0,\"ticks\":\"\"},\"colorscale\":[[0.0,\"#0d0887\"],[0.1111111111111111,\"#46039f\"],[0.2222222222222222,\"#7201a8\"],[0.3333333333333333,\"#9c179e\"],[0.4444444444444444,\"#bd3786\"],[0.5555555555555556,\"#d8576b\"],[0.6666666666666666,\"#ed7953\"],[0.7777777777777778,\"#fb9f3a\"],[0.8888888888888888,\"#fdca26\"],[1.0,\"#f0f921\"]],\"type\":\"heatmap\"}],\"histogram2dcontour\":[{\"colorbar\":{\"outlinewidth\":0,\"ticks\":\"\"},\"colorscale\":[[0.0,\"#0d0887\"],[0.1111111111111111,\"#46039f\"],[0.2222222222222222,\"#7201a8\"],[0.3333333333333333,\"#9c179e\"],[0.4444444444444444,\"#bd3786\"],[0.5555555555555556,\"#d8576b\"],[0.6666666666666666,\"#ed7953\"],[0.7777777777777778,\"#fb9f3a\"],[0.8888888888888888,\"#fdca26\"],[1.0,\"#f0f921\"]],\"type\":\"histogram2dcontour\"}],\"histogram2d\":[{\"colorbar\":{\"outlinewidth\":0,\"ticks\":\"\"},\"colorscale\":[[0.0,\"#0d0887\"],[0.1111111111111111,\"#46039f\"],[0.2222222222222222,\"#7201a8\"],[0.3333333333333333,\"#9c179e\"],[0.4444444444444444,\"#bd3786\"],[0.5555555555555556,\"#d8576b\"],[0.6666666666666666,\"#ed7953\"],[0.7777777777777778,\"#fb9f3a\"],[0.8888888888888888,\"#fdca26\"],[1.0,\"#f0f921\"]],\"type\":\"histogram2d\"}],\"histogram\":[{\"marker\":{\"pattern\":{\"fillmode\":\"overlay\",\"size\":10,\"solidity\":0.2}},\"type\":\"histogram\"}],\"mesh3d\":[{\"colorbar\":{\"outlinewidth\":0,\"ticks\":\"\"},\"type\":\"mesh3d\"}],\"parcoords\":[{\"line\":{\"colorbar\":{\"outlinewidth\":0,\"ticks\":\"\"}},\"type\":\"parcoords\"}],\"pie\":[{\"automargin\":true,\"type\":\"pie\"}],\"scatter3d\":[{\"line\":{\"colorbar\":{\"outlinewidth\":0,\"ticks\":\"\"}},\"marker\":{\"colorbar\":{\"outlinewidth\":0,\"ticks\":\"\"}},\"type\":\"scatter3d\"}],\"scattercarpet\":[{\"marker\":{\"colorbar\":{\"outlinewidth\":0,\"ticks\":\"\"}},\"type\":\"scattercarpet\"}],\"scattergeo\":[{\"marker\":{\"colorbar\":{\"outlinewidth\":0,\"ticks\":\"\"}},\"type\":\"scattergeo\"}],\"scattergl\":[{\"marker\":{\"colorbar\":{\"outlinewidth\":0,\"ticks\":\"\"}},\"type\":\"scattergl\"}],\"scattermapbox\":[{\"marker\":{\"colorbar\":{\"outlinewidth\":0,\"ticks\":\"\"}},\"type\":\"scattermapbox\"}],\"scatterpolargl\":[{\"marker\":{\"colorbar\":{\"outlinewidth\":0,\"ticks\":\"\"}},\"type\":\"scatterpolargl\"}],\"scatterpolar\":[{\"marker\":{\"colorbar\":{\"outlinewidth\":0,\"ticks\":\"\"}},\"type\":\"scatterpolar\"}],\"scatter\":[{\"fillpattern\":{\"fillmode\":\"overlay\",\"size\":10,\"solidity\":0.2},\"type\":\"scatter\"}],\"scatterternary\":[{\"marker\":{\"colorbar\":{\"outlinewidth\":0,\"ticks\":\"\"}},\"type\":\"scatterternary\"}],\"surface\":[{\"colorbar\":{\"outlinewidth\":0,\"ticks\":\"\"},\"colorscale\":[[0.0,\"#0d0887\"],[0.1111111111111111,\"#46039f\"],[0.2222222222222222,\"#7201a8\"],[0.3333333333333333,\"#9c179e\"],[0.4444444444444444,\"#bd3786\"],[0.5555555555555556,\"#d8576b\"],[0.6666666666666666,\"#ed7953\"],[0.7777777777777778,\"#fb9f3a\"],[0.8888888888888888,\"#fdca26\"],[1.0,\"#f0f921\"]],\"type\":\"surface\"}],\"table\":[{\"cells\":{\"fill\":{\"color\":\"#EBF0F8\"},\"line\":{\"color\":\"white\"}},\"header\":{\"fill\":{\"color\":\"#C8D4E3\"},\"line\":{\"color\":\"white\"}},\"type\":\"table\"}]},\"layout\":{\"annotationdefaults\":{\"arrowcolor\":\"#2a3f5f\",\"arrowhead\":0,\"arrowwidth\":1},\"autotypenumbers\":\"strict\",\"coloraxis\":{\"colorbar\":{\"outlinewidth\":0,\"ticks\":\"\"}},\"colorscale\":{\"diverging\":[[0,\"#8e0152\"],[0.1,\"#c51b7d\"],[0.2,\"#de77ae\"],[0.3,\"#f1b6da\"],[0.4,\"#fde0ef\"],[0.5,\"#f7f7f7\"],[0.6,\"#e6f5d0\"],[0.7,\"#b8e186\"],[0.8,\"#7fbc41\"],[0.9,\"#4d9221\"],[1,\"#276419\"]],\"sequential\":[[0.0,\"#0d0887\"],[0.1111111111111111,\"#46039f\"],[0.2222222222222222,\"#7201a8\"],[0.3333333333333333,\"#9c179e\"],[0.4444444444444444,\"#bd3786\"],[0.5555555555555556,\"#d8576b\"],[0.6666666666666666,\"#ed7953\"],[0.7777777777777778,\"#fb9f3a\"],[0.8888888888888888,\"#fdca26\"],[1.0,\"#f0f921\"]],\"sequentialminus\":[[0.0,\"#0d0887\"],[0.1111111111111111,\"#46039f\"],[0.2222222222222222,\"#7201a8\"],[0.3333333333333333,\"#9c179e\"],[0.4444444444444444,\"#bd3786\"],[0.5555555555555556,\"#d8576b\"],[0.6666666666666666,\"#ed7953\"],[0.7777777777777778,\"#fb9f3a\"],[0.8888888888888888,\"#fdca26\"],[1.0,\"#f0f921\"]]},\"colorway\":[\"#636efa\",\"#EF553B\",\"#00cc96\",\"#ab63fa\",\"#FFA15A\",\"#19d3f3\",\"#FF6692\",\"#B6E880\",\"#FF97FF\",\"#FECB52\"],\"font\":{\"color\":\"#2a3f5f\"},\"geo\":{\"bgcolor\":\"white\",\"lakecolor\":\"white\",\"landcolor\":\"#E5ECF6\",\"showlakes\":true,\"showland\":true,\"subunitcolor\":\"white\"},\"hoverlabel\":{\"align\":\"left\"},\"hovermode\":\"closest\",\"mapbox\":{\"style\":\"light\"},\"paper_bgcolor\":\"white\",\"plot_bgcolor\":\"#E5ECF6\",\"polar\":{\"angularaxis\":{\"gridcolor\":\"white\",\"linecolor\":\"white\",\"ticks\":\"\"},\"bgcolor\":\"#E5ECF6\",\"radialaxis\":{\"gridcolor\":\"white\",\"linecolor\":\"white\",\"ticks\":\"\"}},\"scene\":{\"xaxis\":{\"backgroundcolor\":\"#E5ECF6\",\"gridcolor\":\"white\",\"gridwidth\":2,\"linecolor\":\"white\",\"showbackground\":true,\"ticks\":\"\",\"zerolinecolor\":\"white\"},\"yaxis\":{\"backgroundcolor\":\"#E5ECF6\",\"gridcolor\":\"white\",\"gridwidth\":2,\"linecolor\":\"white\",\"showbackground\":true,\"ticks\":\"\",\"zerolinecolor\":\"white\"},\"zaxis\":{\"backgroundcolor\":\"#E5ECF6\",\"gridcolor\":\"white\",\"gridwidth\":2,\"linecolor\":\"white\",\"showbackground\":true,\"ticks\":\"\",\"zerolinecolor\":\"white\"}},\"shapedefaults\":{\"line\":{\"color\":\"#2a3f5f\"}},\"ternary\":{\"aaxis\":{\"gridcolor\":\"white\",\"linecolor\":\"white\",\"ticks\":\"\"},\"baxis\":{\"gridcolor\":\"white\",\"linecolor\":\"white\",\"ticks\":\"\"},\"bgcolor\":\"#E5ECF6\",\"caxis\":{\"gridcolor\":\"white\",\"linecolor\":\"white\",\"ticks\":\"\"}},\"title\":{\"x\":0.05},\"xaxis\":{\"automargin\":true,\"gridcolor\":\"white\",\"linecolor\":\"white\",\"ticks\":\"\",\"title\":{\"standoff\":15},\"zerolinecolor\":\"white\",\"zerolinewidth\":2},\"yaxis\":{\"automargin\":true,\"gridcolor\":\"white\",\"linecolor\":\"white\",\"ticks\":\"\",\"title\":{\"standoff\":15},\"zerolinecolor\":\"white\",\"zerolinewidth\":2}}},\"title\":{\"font\":{\"color\":\"#4D5663\"}},\"xaxis\":{\"gridcolor\":\"#E1E5ED\",\"showgrid\":true,\"tickfont\":{\"color\":\"#4D5663\"},\"title\":{\"font\":{\"color\":\"#4D5663\"},\"text\":\"EGGS WHOLE LIQ BULK -TANK Price\"},\"zerolinecolor\":\"#E1E5ED\"},\"yaxis\":{\"gridcolor\":\"#E1E5ED\",\"showgrid\":true,\"tickfont\":{\"color\":\"#4D5663\"},\"title\":{\"font\":{\"color\":\"#4D5663\"},\"text\":\"Hectograms\"},\"zerolinecolor\":\"#E1E5ED\"}},                        {\"showLink\": true, \"linkText\": \"Export to plot.ly\", \"plotlyServerURL\": \"https://plot.ly\", \"responsive\": true}                    ).then(function(){\n",
       "                            \n",
       "var gd = document.getElementById('69016790-a428-4240-a6da-c967afdc42d8');\n",
       "var x = new MutationObserver(function (mutations, observer) {{\n",
       "        var display = window.getComputedStyle(gd).display;\n",
       "        if (!display || display === 'none') {{\n",
       "            console.log([gd, 'removed!']);\n",
       "            Plotly.purge(gd);\n",
       "            observer.disconnect();\n",
       "        }}\n",
       "}});\n",
       "\n",
       "// Listen for the removal of the full notebook cells\n",
       "var notebookContainer = gd.closest('#notebook-container');\n",
       "if (notebookContainer) {{\n",
       "    x.observe(notebookContainer, {childList: true});\n",
       "}}\n",
       "\n",
       "// Listen for the clearing of the current output cell\n",
       "var outputEl = gd.closest('.output');\n",
       "if (outputEl) {{\n",
       "    x.observe(outputEl, {childList: true});\n",
       "}}\n",
       "\n",
       "                        })                };                });            </script>        </div>"
      ]
     },
     "metadata": {},
     "output_type": "display_data"
    }
   ],
   "source": [
    "# import cufflinks as cf\n",
    "# cf.go_offline()\n",
    "\n",
    "ReferenceGood = 'EGGS WHOLE LIQ BULK -TANK'\n",
    "\n",
    "scale = [0.5,0.75,0.9,1.,1.1,1.2,1.3,1.4,1.5,2,4]\n",
    "\n",
    "cost0 = getPrices.solve_subsistence_problem(FoodNutrients,Prices,diet_min[group],diet_max[group],tol=tol).fun\n",
    "\n",
    "my_p = Prices.copy()\n",
    "\n",
    "diet = {}\n",
    "for s in scale:\n",
    "\n",
    "    my_p[ReferenceGood] = Prices[ReferenceGood]*s\n",
    "    result = getPrices.solve_subsistence_problem(FoodNutrients,my_p,diet_min[group],diet_max[group],tol=tol)\n",
    "    diet[my_p[ReferenceGood]] = result.diet\n",
    "\n",
    "Diet_response = pd.DataFrame(diet).T\n",
    "Diet_response.index.name = '%s Price' % ReferenceGood\n",
    "\n",
    "Diet_response.reset_index(inplace=True)\n",
    "\n",
    "# Get rid of units for index (cufflinks chokes)\n",
    "Diet_response['%s Price' % ReferenceGood] = Diet_response['%s Price' % ReferenceGood].apply(lambda x: x.magnitude)\n",
    "\n",
    "Diet_response = Diet_response.set_index('%s Price' % ReferenceGood)\n",
    "\n",
    "# Just look at goods consumed in quantities greater than error tolerance\n",
    "Diet_response.loc[:,(Diet_response>tol).sum()>0].iplot(xTitle='%s Price' % ReferenceGood,yTitle='Hectograms')"
   ]
  },
  {
   "cell_type": "markdown",
   "metadata": {},
   "source": [
    "## Effects of Price Changes on Subsistence Diet Nutrition\n",
    "\n"
   ]
  },
  {
   "cell_type": "markdown",
   "metadata": {},
   "source": [
    "The code below creates a graph which uses the food price changes\n",
    "  described above, but maps into nutrients.\n",
    "\n"
   ]
  },
  {
   "cell_type": "code",
   "execution_count": null,
   "metadata": {},
   "outputs": [],
   "source": [
    "# Matrix product maps quantities of food into quantities of nutrients\n",
    "NutrientResponse = Diet_response@FoodNutrients.T\n",
    "\n",
    "# Drop columns of missing nutrients\n",
    "NutrientResponse = NutrientResponse.loc[:,NutrientResponse.count()>0]\n",
    "NutrientResponse.iplot(xTitle='%s Price' % ReferenceGood,yTitle='Nutrients')"
   ]
  },
  {
   "cell_type": "markdown",
   "metadata": {},
   "source": [
    "## Adding Constraint on Total Weight\n",
    "\n"
   ]
  },
  {
   "cell_type": "markdown",
   "metadata": {},
   "source": [
    "At least at some prices the minimum cost subistence diet involves\n",
    "eating unreasonable amounts of food (e.g., 10 kilograms of cabbage per\n",
    "day).  We can easily add an additional constraint of the form\n",
    "$$\n",
    "     \\sum x_i \\leq \\text{max weight}\n",
    "$$\n",
    "to our linear programming problem since it&rsquo;s just another linear\n",
    "inequality, and this may give us more realistic results.\n",
    "\n"
   ]
  },
  {
   "cell_type": "markdown",
   "metadata": {},
   "source": [
    "### Price Changes and Subsistence Diet Composition with Weight Constraint\n",
    "\n"
   ]
  },
  {
   "cell_type": "markdown",
   "metadata": {},
   "source": [
    "Re-do our analysis of changing prices, but with a constraint that\n",
    "  total weight of diet must be less that 12 hectograms (1.2 kg).\n",
    "\n"
   ]
  },
  {
   "cell_type": "code",
   "execution_count": null,
   "metadata": {},
   "outputs": [
    {
     "ename": "KeyError",
     "evalue": "'Spinach'",
     "output_type": "error",
     "traceback": [
      "\u001b[0;31m---------------------------------------------------------------------------\u001b[0m",
      "\u001b[0;31mKeyError\u001b[0m                                  Traceback (most recent call last)",
      "File \u001b[0;32m~/src/EEP153/EEP153_Harriette_Chick_Project2/venv/lib/python3.12/site-packages/pandas/core/indexes/base.py:3805\u001b[0m, in \u001b[0;36mIndex.get_loc\u001b[0;34m(self, key)\u001b[0m\n\u001b[1;32m   3804\u001b[0m \u001b[38;5;28;01mtry\u001b[39;00m:\n\u001b[0;32m-> 3805\u001b[0m     \u001b[38;5;28;01mreturn\u001b[39;00m \u001b[38;5;28;43mself\u001b[39;49m\u001b[38;5;241;43m.\u001b[39;49m\u001b[43m_engine\u001b[49m\u001b[38;5;241;43m.\u001b[39;49m\u001b[43mget_loc\u001b[49m\u001b[43m(\u001b[49m\u001b[43mcasted_key\u001b[49m\u001b[43m)\u001b[49m\n\u001b[1;32m   3806\u001b[0m \u001b[38;5;28;01mexcept\u001b[39;00m \u001b[38;5;167;01mKeyError\u001b[39;00m \u001b[38;5;28;01mas\u001b[39;00m err:\n",
      "File \u001b[0;32mindex.pyx:167\u001b[0m, in \u001b[0;36mpandas._libs.index.IndexEngine.get_loc\u001b[0;34m()\u001b[0m\n",
      "File \u001b[0;32mindex.pyx:196\u001b[0m, in \u001b[0;36mpandas._libs.index.IndexEngine.get_loc\u001b[0;34m()\u001b[0m\n",
      "File \u001b[0;32mpandas/_libs/hashtable_class_helper.pxi:7081\u001b[0m, in \u001b[0;36mpandas._libs.hashtable.PyObjectHashTable.get_item\u001b[0;34m()\u001b[0m\n",
      "File \u001b[0;32mpandas/_libs/hashtable_class_helper.pxi:7089\u001b[0m, in \u001b[0;36mpandas._libs.hashtable.PyObjectHashTable.get_item\u001b[0;34m()\u001b[0m\n",
      "\u001b[0;31mKeyError\u001b[0m: 'Spinach'",
      "\nThe above exception was the direct cause of the following exception:\n",
      "\u001b[0;31mKeyError\u001b[0m                                  Traceback (most recent call last)",
      "Cell \u001b[0;32mIn[13], line 16\u001b[0m\n\u001b[1;32m     13\u001b[0m diet \u001b[38;5;241m=\u001b[39m {}\n\u001b[1;32m     14\u001b[0m \u001b[38;5;28;01mfor\u001b[39;00m s \u001b[38;5;129;01min\u001b[39;00m scale:\n\u001b[0;32m---> 16\u001b[0m     my_p[ReferenceGood] \u001b[38;5;241m=\u001b[39m \u001b[43mPrices\u001b[49m\u001b[43m[\u001b[49m\u001b[43mReferenceGood\u001b[49m\u001b[43m]\u001b[49m\u001b[38;5;241m*\u001b[39ms\n\u001b[1;32m     17\u001b[0m     result \u001b[38;5;241m=\u001b[39m getPrices\u001b[38;5;241m.\u001b[39msolve_subsistence_problem(FoodNutrients,my_p,\n\u001b[1;32m     18\u001b[0m                                        diet_min[group],diet_max[group],max_weight\u001b[38;5;241m=\u001b[39m\u001b[38;5;241m12\u001b[39m,tol\u001b[38;5;241m=\u001b[39mtol)\n\u001b[1;32m     19\u001b[0m     diet[my_p[ReferenceGood]] \u001b[38;5;241m=\u001b[39m result\u001b[38;5;241m.\u001b[39mdiet\n",
      "File \u001b[0;32m~/src/EEP153/EEP153_Harriette_Chick_Project2/venv/lib/python3.12/site-packages/pandas/core/series.py:1112\u001b[0m, in \u001b[0;36mSeries.__getitem__\u001b[0;34m(self, key)\u001b[0m\n\u001b[1;32m   1109\u001b[0m     \u001b[38;5;28;01mreturn\u001b[39;00m \u001b[38;5;28mself\u001b[39m\u001b[38;5;241m.\u001b[39m_values[key]\n\u001b[1;32m   1111\u001b[0m \u001b[38;5;28;01melif\u001b[39;00m key_is_scalar:\n\u001b[0;32m-> 1112\u001b[0m     \u001b[38;5;28;01mreturn\u001b[39;00m \u001b[38;5;28;43mself\u001b[39;49m\u001b[38;5;241;43m.\u001b[39;49m\u001b[43m_get_value\u001b[49m\u001b[43m(\u001b[49m\u001b[43mkey\u001b[49m\u001b[43m)\u001b[49m\n\u001b[1;32m   1114\u001b[0m \u001b[38;5;66;03m# Convert generator to list before going through hashable part\u001b[39;00m\n\u001b[1;32m   1115\u001b[0m \u001b[38;5;66;03m# (We will iterate through the generator there to check for slices)\u001b[39;00m\n\u001b[1;32m   1116\u001b[0m \u001b[38;5;28;01mif\u001b[39;00m is_iterator(key):\n",
      "File \u001b[0;32m~/src/EEP153/EEP153_Harriette_Chick_Project2/venv/lib/python3.12/site-packages/pandas/core/series.py:1228\u001b[0m, in \u001b[0;36mSeries._get_value\u001b[0;34m(self, label, takeable)\u001b[0m\n\u001b[1;32m   1225\u001b[0m     \u001b[38;5;28;01mreturn\u001b[39;00m \u001b[38;5;28mself\u001b[39m\u001b[38;5;241m.\u001b[39m_values[label]\n\u001b[1;32m   1227\u001b[0m \u001b[38;5;66;03m# Similar to Index.get_value, but we do not fall back to positional\u001b[39;00m\n\u001b[0;32m-> 1228\u001b[0m loc \u001b[38;5;241m=\u001b[39m \u001b[38;5;28;43mself\u001b[39;49m\u001b[38;5;241;43m.\u001b[39;49m\u001b[43mindex\u001b[49m\u001b[38;5;241;43m.\u001b[39;49m\u001b[43mget_loc\u001b[49m\u001b[43m(\u001b[49m\u001b[43mlabel\u001b[49m\u001b[43m)\u001b[49m\n\u001b[1;32m   1230\u001b[0m \u001b[38;5;28;01mif\u001b[39;00m is_integer(loc):\n\u001b[1;32m   1231\u001b[0m     \u001b[38;5;28;01mreturn\u001b[39;00m \u001b[38;5;28mself\u001b[39m\u001b[38;5;241m.\u001b[39m_values[loc]\n",
      "File \u001b[0;32m~/src/EEP153/EEP153_Harriette_Chick_Project2/venv/lib/python3.12/site-packages/pandas/core/indexes/base.py:3812\u001b[0m, in \u001b[0;36mIndex.get_loc\u001b[0;34m(self, key)\u001b[0m\n\u001b[1;32m   3807\u001b[0m     \u001b[38;5;28;01mif\u001b[39;00m \u001b[38;5;28misinstance\u001b[39m(casted_key, \u001b[38;5;28mslice\u001b[39m) \u001b[38;5;129;01mor\u001b[39;00m (\n\u001b[1;32m   3808\u001b[0m         \u001b[38;5;28misinstance\u001b[39m(casted_key, abc\u001b[38;5;241m.\u001b[39mIterable)\n\u001b[1;32m   3809\u001b[0m         \u001b[38;5;129;01mand\u001b[39;00m \u001b[38;5;28many\u001b[39m(\u001b[38;5;28misinstance\u001b[39m(x, \u001b[38;5;28mslice\u001b[39m) \u001b[38;5;28;01mfor\u001b[39;00m x \u001b[38;5;129;01min\u001b[39;00m casted_key)\n\u001b[1;32m   3810\u001b[0m     ):\n\u001b[1;32m   3811\u001b[0m         \u001b[38;5;28;01mraise\u001b[39;00m InvalidIndexError(key)\n\u001b[0;32m-> 3812\u001b[0m     \u001b[38;5;28;01mraise\u001b[39;00m \u001b[38;5;167;01mKeyError\u001b[39;00m(key) \u001b[38;5;28;01mfrom\u001b[39;00m \u001b[38;5;21;01merr\u001b[39;00m\n\u001b[1;32m   3813\u001b[0m \u001b[38;5;28;01mexcept\u001b[39;00m \u001b[38;5;167;01mTypeError\u001b[39;00m:\n\u001b[1;32m   3814\u001b[0m     \u001b[38;5;66;03m# If we have a listlike key, _check_indexing_error will raise\u001b[39;00m\n\u001b[1;32m   3815\u001b[0m     \u001b[38;5;66;03m#  InvalidIndexError. Otherwise we fall through and re-raise\u001b[39;00m\n\u001b[1;32m   3816\u001b[0m     \u001b[38;5;66;03m#  the TypeError.\u001b[39;00m\n\u001b[1;32m   3817\u001b[0m     \u001b[38;5;28mself\u001b[39m\u001b[38;5;241m.\u001b[39m_check_indexing_error(key)\n",
      "\u001b[0;31mKeyError\u001b[0m: 'Spinach'"
     ]
    }
   ],
   "source": [
    "# import cufflinks as cf\n",
    "# cf.go_offline()\n",
    "\n",
    "ReferenceGood = 'EGGS WHOLE LIQ BULK -TANK'\n",
    "\n",
    "scale = [0.5,0.75,0.9,1.,1.1,1.2,1.3,1.4,1.5,2,4]\n",
    "\n",
    "cost0 = getPrices.solve_subsistence_problem(FoodNutrients,Prices,\n",
    "                                  diet_min[group],diet_max[group],max_weight=12,tol=tol).fun\n",
    "\n",
    "my_p = Prices.copy()\n",
    "\n",
    "diet = {}\n",
    "for s in scale:\n",
    "\n",
    "    my_p[ReferenceGood] = Prices[ReferenceGood]*s\n",
    "    result = getPrices.solve_subsistence_problem(FoodNutrients,my_p,\n",
    "                                       diet_min[group],diet_max[group],max_weight=12,tol=tol)\n",
    "    diet[my_p[ReferenceGood]] = result.diet\n",
    "\n",
    "Diet_response = pd.DataFrame(diet).T\n",
    "Diet_response.index.name = '%s Price' % ReferenceGood\n",
    "\n",
    "Diet_response.reset_index(inplace=True)\n",
    "\n",
    "# Get rid of units for index (cufflinks chokes)\n",
    "Diet_response['%s Price' % ReferenceGood] = Diet_response['%s Price' % ReferenceGood].apply(lambda x: x.magnitude)\n",
    "\n",
    "Diet_response = Diet_response.set_index('%s Price' % ReferenceGood)\n",
    "\n",
    "# Just look at goods consumed in quantities greater than error tolerance\n",
    "Diet_response.loc[:,(Diet_response>tol).sum()>0].iplot(xTitle='%s Price' % ReferenceGood,yTitle='Hectograms')"
   ]
  }
 ],
 "metadata": {
  "kernelspec": {
   "display_name": "Python 3 (ipykernel)",
   "language": "python",
   "name": "python3"
  },
  "language_info": {
   "codemirror_mode": {
    "name": "ipython",
    "version": 3
   },
   "file_extension": ".py",
   "mimetype": "text/x-python",
   "name": "python",
   "nbconvert_exporter": "python",
   "pygments_lexer": "ipython3",
   "version": "3.10.12"
  },
  "org": null
 },
 "nbformat": 4,
 "nbformat_minor": 1
}
