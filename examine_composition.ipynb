{
 "cells": [
  {
   "cell_type": "markdown",
   "metadata": {},
   "source": [
    "This file contains the code that outputs the plot examining the effect of changes in the cost of 'liquid eggs' on the composition of the minimum cost diet. This file is referenced in the code of team_notebook. "
   ]
  },
  {
   "cell_type": "code",
   "execution_count": 1,
   "metadata": {},
   "outputs": [
    {
     "ename": "NameError",
     "evalue": "name 'getPrices' is not defined",
     "output_type": "error",
     "traceback": [
      "\u001b[0;31m---------------------------------------------------------------------------\u001b[0m",
      "\u001b[0;31mNameError\u001b[0m                                 Traceback (most recent call last)",
      "Cell \u001b[0;32mIn[1], line 1\u001b[0m\n\u001b[0;32m----> 1\u001b[0m cost0 \u001b[38;5;241m=\u001b[39m \u001b[43mgetPrices\u001b[49m\u001b[38;5;241m.\u001b[39msolve_subsistence_problem(FoodNutrients,Prices,diet_min[group],diet_max[group],tol\u001b[38;5;241m=\u001b[39mtol)\u001b[38;5;241m.\u001b[39mfun\n\u001b[1;32m      3\u001b[0m my_p \u001b[38;5;241m=\u001b[39m Prices\u001b[38;5;241m.\u001b[39mcopy()\n\u001b[1;32m      5\u001b[0m diet \u001b[38;5;241m=\u001b[39m {}\n",
      "\u001b[0;31mNameError\u001b[0m: name 'getPrices' is not defined"
     ]
    }
   ],
   "source": [
    "cost0 = getPrices.solve_subsistence_problem(FoodNutrients,Prices,diet_min[group],diet_max[group],tol=tol).fun\n",
    "\n",
    "my_p = Prices.copy()\n",
    "\n",
    "diet = {}\n",
    "for s in scale:\n",
    "    my_p[ReferenceGood] = Prices[ReferenceGood]*s\n",
    "    result = getPrices.solve_subsistence_problem(FoodNutrients,my_p,diet_min[group],diet_max[group],tol=tol)\n",
    "    diet[my_p[ReferenceGood]] = result.diet\n",
    "\n",
    "Diet_response = pd.DataFrame(diet).T\n",
    "Diet_response.index.name = '%s Price' % ReferenceGood\n",
    "\n",
    "Diet_response.reset_index(inplace=True)\n",
    "\n",
    "# Get rid of units for index (cufflinks chokes)\n",
    "Diet_response['%s Price' % ReferenceGood] = Diet_response['%s Price' % ReferenceGood].apply(lambda x: x.magnitude)\n",
    "\n",
    "Diet_response = Diet_response.set_index('%s Price' % ReferenceGood)\n",
    "\n",
    "# Just look at goods consumed in quantities greater than error tolerance\n",
    "Diet_response.loc[:,(Diet_response>tol).sum()>0].iplot(xTitle='%s Price' % ReferenceGood,yTitle='Hectograms')"
   ]
  }
 ],
 "metadata": {
  "kernelspec": {
   "display_name": "venv",
   "language": "python",
   "name": "python3"
  },
  "language_info": {
   "codemirror_mode": {
    "name": "ipython",
    "version": 3
   },
   "file_extension": ".py",
   "mimetype": "text/x-python",
   "name": "python",
   "nbconvert_exporter": "python",
   "pygments_lexer": "ipython3",
   "version": "3.12.2"
  }
 },
 "nbformat": 4,
 "nbformat_minor": 2
}
